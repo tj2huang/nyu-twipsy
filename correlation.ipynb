{
 "cells": [
  {
   "cell_type": "code",
   "execution_count": 62,
   "metadata": {
    "collapsed": true
   },
   "outputs": [],
   "source": [
    "import matplotlib.pylab as plt\n",
    "import matplotlib as m\n",
    "\n",
    "%matplotlib inline\n",
    "\n",
    "import pandas as pd\n",
    "import numpy as np\n",
    "import pickle as pickle"
   ]
  },
  {
   "cell_type": "code",
   "execution_count": 3,
   "metadata": {
    "collapsed": true
   },
   "outputs": [],
   "source": [
    "df_all = pickle.load(open('pickles/June_labeled_updated_fpl.p', 'rb'))"
   ]
  },
  {
   "cell_type": "code",
   "execution_count": 6,
   "metadata": {
    "collapsed": true
   },
   "outputs": [],
   "source": [
    "def setup(df):\n",
    "    p = 0.75\n",
    "    of_interest = df.predict_fpa > p\n",
    "\n",
    "    df[\"first_person_alcohol\"] = 0\n",
    "    df[\"first_person_alcohol\"][of_interest] = 1\n",
    "    fp_cols = [ 'predict_present', 'predict_future', 'predict_past']\n",
    "    new_fp_cols = [\"casual\", \"looking\", \"reflecting\"]\n",
    "    for new_name, old_name in zip(new_fp_cols, fp_cols):\n",
    "        df[new_name] = df[old_name] >0.6"
   ]
  },
  {
   "cell_type": "code",
   "execution_count": 7,
   "metadata": {
    "collapsed": false
   },
   "outputs": [
    {
     "name": "stderr",
     "output_type": "stream",
     "text": [
      "C:\\Users\\Tom Work\\Anaconda3\\lib\\site-packages\\ipykernel\\__main__.py:6: SettingWithCopyWarning: \n",
      "A value is trying to be set on a copy of a slice from a DataFrame\n",
      "\n",
      "See the caveats in the documentation: http://pandas.pydata.org/pandas-docs/stable/indexing.html#indexing-view-versus-copy\n"
     ]
    }
   ],
   "source": [
    "setup(df_all)"
   ]
  },
  {
   "cell_type": "code",
   "execution_count": 8,
   "metadata": {
    "collapsed": true
   },
   "outputs": [],
   "source": [
    "week1 = df_all['2015-06-01':'2015-06-07']\n",
    "week2 = df_all['2015-06-08':'2015-06-14']\n",
    "week3 = df_all['2015-06-15':'2015-06-21']\n",
    "week4 = df_all['2015-06-22':'2015-06-28']\n",
    "week5 = df_all['2015-06-29':]\n",
    "weeks = [week1, week2, week4]"
   ]
  },
  {
   "cell_type": "code",
   "execution_count": 86,
   "metadata": {
    "collapsed": false
   },
   "outputs": [],
   "source": [
    "temp = pd.DataFrame()\n",
    "fpl = [df_all.casual, df_all.looking, df_all.reflecting]\n",
    "by_hour = list()\n",
    "for df in fpl:\n",
    "    temp = df.groupby([df.index.dayofweek, df.index.hour]).agg(\n",
    "        'mean'\n",
    "    )\n",
    "    by_hour.append(temp)"
   ]
  },
  {
   "cell_type": "code",
   "execution_count": 81,
   "metadata": {
    "collapsed": false
   },
   "outputs": [],
   "source": [
    "def cross_corr(ts1, ts2, lag=0):\n",
    "    return ts1.corr(ts2.shift(lag))"
   ]
  },
  {
   "cell_type": "code",
   "execution_count": 87,
   "metadata": {
    "collapsed": false
   },
   "outputs": [
    {
     "data": {
      "text/plain": [
       "(168,)"
      ]
     },
     "execution_count": 87,
     "metadata": {},
     "output_type": "execute_result"
    }
   ],
   "source": [
    "by_hour[0].shape"
   ]
  },
  {
   "cell_type": "code",
   "execution_count": 88,
   "metadata": {
    "collapsed": false
   },
   "outputs": [],
   "source": [
    "correlogram = [cross_corr(by_hour[0], by_hour[2], lag = i) for i in range(28)]"
   ]
  },
  {
   "cell_type": "code",
   "execution_count": 89,
   "metadata": {
    "collapsed": false
   },
   "outputs": [
    {
     "data": {
      "text/plain": [
       "[0.0033272979431857369,\n",
       " -0.00030799628860753213,\n",
       " 0.0045487444935501577,\n",
       " 0.013908704051362589,\n",
       " 0.062354758147228781,\n",
       " 0.11513747282593749,\n",
       " 0.18735753901246258,\n",
       " 0.23442860180845981,\n",
       " 0.28164930380368897,\n",
       " 0.38115088823079551,\n",
       " 0.44636813037245981,\n",
       " 0.52495690937754558,\n",
       " 0.59851467897017341,\n",
       " 0.67654546772965329,\n",
       " 0.68747454998901691,\n",
       " 0.67125142098435076,\n",
       " 0.59726503643854267,\n",
       " 0.49920190593989222,\n",
       " 0.35670098302778275,\n",
       " 0.23675955357669834,\n",
       " 0.12141835317526314,\n",
       " 0.015324150111422232,\n",
       " -0.070147256142134004,\n",
       " -0.12450179879798315,\n",
       " -0.16775430267852817,\n",
       " -0.2184951014349665,\n",
       " -0.24698590239740983,\n",
       " -0.25048511752817332]"
      ]
     },
     "execution_count": 89,
     "metadata": {},
     "output_type": "execute_result"
    }
   ],
   "source": [
    "correlogram"
   ]
  },
  {
   "cell_type": "code",
   "execution_count": 98,
   "metadata": {
    "collapsed": true
   },
   "outputs": [],
   "source": [
    "def plot_correlogram(ts1, ts2, max_lag):\n",
    "    def cross_corr(ts1, ts2, lag=0): return ts1.corr(ts2.shift(lag))\n",
    "    correlogram = [cross_corr(ts1, ts2, lag = i) for i in range(max_lag)]\n",
    "    plt.plot(range(max_lag), correlogram)\n",
    "    plt.xticks(range(0, 24*7, 24))\n",
    "    plt.grid()"
   ]
  },
  {
   "cell_type": "code",
   "execution_count": 101,
   "metadata": {
    "collapsed": false
   },
   "outputs": [
    {
     "data": {
      "image/png": "[encoded data removed]",
      "text/plain": [
       "<matplotlib.figure.Figure at 0x2e40dda0>"
      ]
     },
     "metadata": {},
     "output_type": "display_data"
    }
   ],
   "source": [
    "plot_correlogram(by_hour[0], by_hour[0], 160)"
   ]
  },
  {
   "cell_type": "code",
   "execution_count": 73,
   "metadata": {
    "collapsed": true
   },
   "outputs": [],
   "source": [
    "from scipy import signal"
   ]
  },
  {
   "cell_type": "code",
   "execution_count": null,
   "metadata": {
    "collapsed": true
   },
   "outputs": [],
   "source": []
  }
 ],
 "metadata": {
  "kernelspec": {
   "display_name": "Python 3",
   "language": "python",
   "name": "python3"
  },
  "language_info": {
   "codemirror_mode": {
    "name": "ipython",
    "version": 3
   },
   "file_extension": ".py",
   "mimetype": "text/x-python",
   "name": "python",
   "nbconvert_exporter": "python",
   "pygments_lexer": "ipython3",
   "version": "3.5.1"
  }
 },
 "nbformat": 4,
 "nbformat_minor": 0
}
