{
 "cells": [
  {
   "cell_type": "markdown",
   "metadata": {},
   "source": [
    "# Classifier Reports"
   ]
  },
  {
   "cell_type": "code",
   "execution_count": 1,
   "metadata": {
    "collapsed": true
   },
   "outputs": [],
   "source": [
    "from classification.dao import ClassifierAccess\n",
    "\n",
    "from pprint import pprint"
   ]
  },
  {
   "cell_type": "code",
   "execution_count": 2,
   "metadata": {
    "collapsed": false
   },
   "outputs": [
    {
     "data": {
      "text/plain": [
       "['alcohol|accuracy:0.8143360752056404|f1:0.8192219679633866|type:LogisticRegression',\n",
       " 'alcohol|accuracy:0.8401880141010576|f1:0.8498896247240618|type:SVC',\n",
       " 'alcohol|accuracy:0.8425381903642774|f1:0.8562231759656651|type:RandomForestClassifier',\n",
       " 'first_person_label|accuracy:0.5637860082304527|f1:0.5574430033343769|type:SVC',\n",
       " 'first_person_label|accuracy:0.5637860082304527|f1:0.5643693591852614|type:LogisticRegression',\n",
       " 'first_person|accuracy:0.6951871657754011|f1:0.8034482758620688|type:RandomForestClassifier',\n",
       " 'first_person|accuracy:0.7005347593582888|f1:0.7751004016064257|type:LogisticRegression',\n",
       " 'first_person|accuracy:0.7032085561497327|f1:0.8062827225130889|type:RandomForestClassifier',\n",
       " 'first_person|accuracy:0.7112299465240641|f1:0.8021978021978021|type:SVC']"
      ]
     },
     "execution_count": 2,
     "metadata": {},
     "output_type": "execute_result"
    }
   ],
   "source": [
    "from __private import fs\n",
    "\n",
    "fs.list()"
   ]
  },
  {
   "cell_type": "markdown",
   "metadata": {},
   "source": [
    "### Classifier Report: Alcohol Classification"
   ]
  },
  {
   "cell_type": "code",
   "execution_count": 4,
   "metadata": {
    "collapsed": false,
    "scrolled": false
   },
   "outputs": [
    {
     "name": "stdout",
     "output_type": "stream",
     "text": [
      "[   {   '_id': ObjectId('564be305472c0b9d54bc94c4'),\n",
      "        'clf': ObjectId('564bdff0472c0b9d54bc8df3'),\n",
      "        'level': 'alcohol',\n",
      "        'name': 'RF_LDA',\n",
      "        'notes': 'added 1300, nov17',\n",
      "        'testing_results': {   'accuracy_score': 0.8425381903642774,\n",
      "                               'f1_score': 0.8562231759656651},\n",
      "        'training_results': {   'accuracy_score': 0.9995850622406639,\n",
      "                                'f1_score': 0.9996048992493086},\n",
      "        'type': 'RandomForestClassifier'},\n",
      "    {   '_id': ObjectId('561599dc472c0b4c484054db'),\n",
      "        'clf': ObjectId('561598f6472c0b4c48404e1d'),\n",
      "        'level': 'alcohol',\n",
      "        'name': 'RF',\n",
      "        'testing_results': {   'accuracy_score': 0.8301337987201861,\n",
      "                               'f1_score': 0.8513238289205702},\n",
      "        'training_results': {   'accuracy_score': 0.9681766055045872,\n",
      "                                'f1_score': 0.9709500130855796},\n",
      "        'type': 'RandomForestClassifier'},\n",
      "    {   '_id': ObjectId('561b5c51472c0b7b7b18e1f5'),\n",
      "        'clf': ObjectId('561b5c4e472c0b7b7b18e1f0'),\n",
      "        'level': 'alcohol',\n",
      "        'name': 'SVC',\n",
      "        'testing_results': {   'accuracy_score': 0.8289703315881326,\n",
      "                               'f1_score': 0.8509127789046653},\n",
      "        'training_results': {   'accuracy_score': 0.944954128440367,\n",
      "                                'f1_score': 0.9505409582689336},\n",
      "        'type': 'SVC'},\n",
      "    {   '_id': ObjectId('564bc195472c0b9c82133fde'),\n",
      "        'clf': ObjectId('564bc176472c0b9c82133f98'),\n",
      "        'level': 'alcohol',\n",
      "        'name': 'SVC_TOPIC',\n",
      "        'notes': 'nov-17, added 1300 more examples',\n",
      "        'testing_results': {   'accuracy_score': 0.8401880141010576,\n",
      "                               'f1_score': 0.8498896247240618},\n",
      "        'training_results': {   'accuracy_score': 0.8632780082987552,\n",
      "                                'f1_score': 0.8734881935112305},\n",
      "        'type': 'SVC'},\n",
      "    {   '_id': ObjectId('561b56e3472c0b7adeda0278'),\n",
      "        'clf': ObjectId('561b56d7472c0b7adeda025f'),\n",
      "        'level': 'alcohol',\n",
      "        'name': 'SVC',\n",
      "        'testing_results': {   'accuracy_score': 0.8237347294938918,\n",
      "                               'f1_score': 0.8478151682571572},\n",
      "        'training_results': {   'accuracy_score': 0.8841743119266054,\n",
      "                                'f1_score': 0.8993020937188435},\n",
      "        'type': 'SVC'},\n",
      "    {   '_id': ObjectId('561b570c472c0b7abb1b4061'),\n",
      "        'clf': ObjectId('561b56f6472c0b7abb1b402a'),\n",
      "        'level': 'alcohol',\n",
      "        'name': 'SVC',\n",
      "        'testing_results': {   'accuracy_score': 0.8144269924374636,\n",
      "                               'f1_score': 0.8344577062791905},\n",
      "        'training_results': {   'accuracy_score': 0.8420298165137615,\n",
      "                                'f1_score': 0.8598321037903841},\n",
      "        'type': 'SVC'},\n",
      "    {   '_id': ObjectId('561b56cd472c0b7afe21c9ee'),\n",
      "        'clf': ObjectId('561b56bf472c0b7afe21c9ea'),\n",
      "        'level': 'alcohol',\n",
      "        'name': 'SVC',\n",
      "        'testing_results': {   'accuracy_score': 0.8010471204188482,\n",
      "                               'f1_score': 0.82389289392379},\n",
      "        'training_results': {   'accuracy_score': 0.8480504587155964,\n",
      "                                'f1_score': 0.8636129696345858},\n",
      "        'type': 'SVC'},\n",
      "    {   '_id': ObjectId('564bb5be472c0b9b57dd372c'),\n",
      "        'clf': ObjectId('564bb5b3472c0b9b57dd3711'),\n",
      "        'level': 'alcohol',\n",
      "        'name': 'LogisticRegression_LDA_NORM',\n",
      "        'notes': 'added 1300 + topics',\n",
      "        'testing_results': {   'accuracy_score': 0.8143360752056404,\n",
      "                               'f1_score': 0.8192219679633866},\n",
      "        'training_results': {   'accuracy_score': 0.999792531120332,\n",
      "                                'f1_score': 0.9998024105907926},\n",
      "        'type': 'LogisticRegression'}]\n"
     ]
    }
   ],
   "source": [
    "pprint(ClassifierAccess.get_reports(level=\"alcohol\"), indent=4)"
   ]
  },
  {
   "cell_type": "markdown",
   "metadata": {},
   "source": [
    "### Classifier Report: First Person Classification"
   ]
  },
  {
   "cell_type": "code",
   "execution_count": 5,
   "metadata": {
    "collapsed": false
   },
   "outputs": [
    {
     "name": "stdout",
     "output_type": "stream",
     "text": [
      "[   {   '_id': ObjectId('564bc3ba472c0b9c82133ff1'),\n",
      "        'clf': ObjectId('564bc3b3472c0b9c82133fdf'),\n",
      "        'level': 'first_person',\n",
      "        'name': 'SVC_TOPIC',\n",
      "        'notes': 'nov-17, added 1300 more examples',\n",
      "        'testing_results': {   'accuracy_score': 0.7112299465240641,\n",
      "                               'f1_score': 0.8021978021978021},\n",
      "        'training_results': {   'accuracy_score': 0.832703213610586,\n",
      "                                'f1_score': 0.8834759710335747},\n",
      "        'type': 'SVC'},\n",
      "    {   '_id': ObjectId('56086674472c0b3d5c557fbe'),\n",
      "        'clf': ObjectId('5608666e472c0b3d5c557fb1'),\n",
      "        'level': 'first_person',\n",
      "        'name': 'SVC',\n",
      "        'notes': 'after adding 500 more examples',\n",
      "        'testing_results': {   'accuracy_score': 0.6947637292464879,\n",
      "                               'f1_score': 0.7941429801894918},\n",
      "        'training_results': {   'accuracy_score': 0.8482367758186398,\n",
      "                                'f1_score': 0.8955353272648461},\n",
      "        'type': 'SVC'},\n",
      "    {   '_id': ObjectId('5640d26a472c0b10be070a1b'),\n",
      "        'clf': ObjectId('5640d25f472c0b10be070a03'),\n",
      "        'level': 'first_person',\n",
      "        'name': 'SVC',\n",
      "        'notes': 'delete',\n",
      "        'testing_results': {   'accuracy_score': 0.6934865900383141,\n",
      "                               'f1_score': 0.7938144329896907},\n",
      "        'training_results': {   'accuracy_score': 0.8602015113350125,\n",
      "                                'f1_score': 0.9034782608695653},\n",
      "        'type': 'SVC'},\n",
      "    {   '_id': ObjectId('5602e8dd472c0b2198555978'),\n",
      "        'clf': ObjectId('5602e893472c0b219855594d'),\n",
      "        'level': 'first_person',\n",
      "        'name': 'SVC',\n",
      "        'notes': 'delete',\n",
      "        'testing_results': {   'accuracy_score': 0.6909323116219668,\n",
      "                               'f1_score': 0.7917383820998279},\n",
      "        'training_results': {   'accuracy_score': 0.8646095717884131,\n",
      "                                'f1_score': 0.9063180827886711},\n",
      "        'type': 'SVC'},\n",
      "    {   '_id': ObjectId('5602c81d472c0b203513ace6'),\n",
      "        'clf': ObjectId('5602c818472c0b203513acda'),\n",
      "        'level': 'first_person',\n",
      "        'name': 'SVC',\n",
      "        'notes': 'delete',\n",
      "        'testing_results': {   'accuracy_score': 0.6743295019157088,\n",
      "                               'f1_score': 0.7822374039282664},\n",
      "        'training_results': {   'accuracy_score': 0.8306045340050378,\n",
      "                                'f1_score': 0.8844005156854318},\n",
      "        'type': 'SVC'},\n",
      "    {   '_id': ObjectId('5602e9de472c0b2197b54f37'),\n",
      "        'clf': ObjectId('5602e7bf472c0b2197b54a07'),\n",
      "        'level': 'first_person',\n",
      "        'name': 'RF',\n",
      "        'testing_results': {   'accuracy_score': 0.665389527458493,\n",
      "                               'f1_score': 0.7816666666666666},\n",
      "        'training_results': {   'accuracy_score': 0.9981108312342569,\n",
      "                                'f1_score': 0.9985721085197526},\n",
      "        'type': 'RandomForestClassifier'},\n",
      "    {   '_id': ObjectId('564bb8a6472c0b9c42fcd70e'),\n",
      "        'clf': ObjectId('564bb8a3472c0b9c42fcd707'),\n",
      "        'level': 'first_person',\n",
      "        'name': 'LogisticRegression_LDA_NORM',\n",
      "        'notes': 'added 1300 + topics',\n",
      "        'testing_results': {   'accuracy_score': 0.6764705882352942,\n",
      "                               'f1_score': 0.7771639042357275},\n",
      "        'training_results': {   'accuracy_score': 0.8350661625708885,\n",
      "                                'f1_score': 0.884932410154962},\n",
      "        'type': 'LogisticRegression'},\n",
      "    {   '_id': ObjectId('5602c590472c0b2034b2cb4c'),\n",
      "        'clf': ObjectId('5602c56f472c0b2034b2caf9'),\n",
      "        'level': 'first_person',\n",
      "        'name': 'RF',\n",
      "        'testing_results': {   'accuracy_score': 0.6807151979565773,\n",
      "                               'f1_score': 0.7743682310469315},\n",
      "        'training_results': {   'accuracy_score': 0.9817380352644837,\n",
      "                                'f1_score': 0.9861575178997614},\n",
      "        'type': 'RandomForestClassifier'},\n",
      "    {   '_id': ObjectId('5640caf8472c0b0fb179a7f7'),\n",
      "        'clf': ObjectId('5640cae9472c0b0fb179a7d2'),\n",
      "        'level': 'first_person',\n",
      "        'name': 'LogisticRegression_LDA_NORM',\n",
      "        'testing_results': {   'accuracy_score': 0.6781609195402298,\n",
      "                               'f1_score': 0.7662337662337662},\n",
      "        'training_results': {'accuracy_score': 1.0, 'f1_score': 1.0},\n",
      "        'type': 'LogisticRegression'},\n",
      "    {   '_id': ObjectId('5602bd55472c0b200d9773b0'),\n",
      "        'clf': ObjectId('5602bd4a472c0b200d977396'),\n",
      "        'level': 'first_person',\n",
      "        'name': 'LogisticRegression',\n",
      "        'testing_results': {   'accuracy_score': 0.6934865900383141,\n",
      "                               'f1_score': 0.7637795275590552},\n",
      "        'training_results': {   'accuracy_score': 0.9880352644836272,\n",
      "                                'f1_score': 0.9908785405664906},\n",
      "        'type': 'LogisticRegression'},\n",
      "    {   '_id': ObjectId('564b9f9e472c0b99ef594b51'),\n",
      "        'clf': ObjectId('564b9f90472c0b99ef594b2e'),\n",
      "        'level': 'first_person',\n",
      "        'name': 'SVC_TOPIC',\n",
      "        'notes': 'nov-17, added 1300 more examples',\n",
      "        'testing_results': {   'accuracy_score': 0.6925133689839572,\n",
      "                               'f1_score': 0.7427293064876958},\n",
      "        'training_results': {   'accuracy_score': 0.8568052930056711,\n",
      "                                'f1_score': 0.884747052111069},\n",
      "        'type': 'SVC'}]\n"
     ]
    }
   ],
   "source": [
    "pprint(ClassifierAccess.get_reports(level=\"first_person\"), indent=4)"
   ]
  },
  {
   "cell_type": "markdown",
   "metadata": {},
   "source": [
    "### Classifier Report: First Person Classification "
   ]
  },
  {
   "cell_type": "code",
   "execution_count": 6,
   "metadata": {
    "collapsed": false
   },
   "outputs": [
    {
     "name": "stdout",
     "output_type": "stream",
     "text": [
      "[   {   '_id': ObjectId('564bb913472c0b9c42fcd71b'),\n",
      "        'clf': ObjectId('564bb90f472c0b9c42fcd70f'),\n",
      "        'level': 'first_person_label',\n",
      "        'name': 'LogisticRegression_LDA_NORM',\n",
      "        'notes': 'added 1300 + topics',\n",
      "        'testing_results': {   'accuracy_score': 0.5637860082304527,\n",
      "                               'f1_score': 0.5643693591852614},\n",
      "        'training_results': {'accuracy_score': 1.0, 'f1_score': 1.0},\n",
      "        'type': 'LogisticRegression'},\n",
      "    {   '_id': ObjectId('564b9c27472c0b9896590562'),\n",
      "        'clf': ObjectId('564b9c24472c0b989659055b'),\n",
      "        'level': 'first_person_label',\n",
      "        'name': 'SVC_TOPIC',\n",
      "        'notes': 'nov-17, added 1300 more examples',\n",
      "        'testing_results': {   'accuracy_score': 0.5637860082304527,\n",
      "                               'f1_score': 0.5574430033343769},\n",
      "        'training_results': {   'accuracy_score': 0.7925764192139738,\n",
      "                                'f1_score': 0.7877260184169399},\n",
      "        'type': 'SVC'},\n",
      "    {   '_id': ObjectId('564b94ae472c0b97f9ba7a87'),\n",
      "        'clf': ObjectId('564b949b472c0b97f9ba7a5f'),\n",
      "        'level': 'first_person_label',\n",
      "        'name': 'LogisticRegression_LDA_NORM',\n",
      "        'testing_results': {   'accuracy_score': 0.5561797752808989,\n",
      "                               'f1_score': 0.5556453840375933},\n",
      "        'training_results': {'accuracy_score': 1.0, 'f1_score': 1.0},\n",
      "        'type': 'LogisticRegression'},\n",
      "    {   '_id': ObjectId('5640cc7f472c0b0fb179a81c'),\n",
      "        'clf': ObjectId('5640cc70472c0b0fb179a7f8'),\n",
      "        'level': 'first_person_label',\n",
      "        'name': 'LogisticRegression_LDA_NORM',\n",
      "        'testing_results': {   'accuracy_score': 0.5633528265107213,\n",
      "                               'f1_score': 0.5525041327947611},\n",
      "        'training_results': {'accuracy_score': 1.0, 'f1_score': 1.0},\n",
      "        'type': 'LogisticRegression'},\n",
      "    {   '_id': ObjectId('5602ccdf472c0b203513acf8'),\n",
      "        'clf': ObjectId('5602ccd0472c0b203513ace7'),\n",
      "        'level': 'first_person_label',\n",
      "        'name': 'SVC',\n",
      "        'notes': 'delete',\n",
      "        'testing_results': {   'accuracy_score': 0.5536062378167641,\n",
      "                               'f1_score': 0.5349297830780407},\n",
      "        'training_results': {   'accuracy_score': 0.775,\n",
      "                                'f1_score': 0.7535046771168127},\n",
      "        'type': 'SVC'},\n",
      "    {   '_id': ObjectId('5602ee07472c0b2197b5519d'),\n",
      "        'clf': ObjectId('5602ed13472c0b2197b54f38'),\n",
      "        'level': 'first_person_label',\n",
      "        'name': 'RF',\n",
      "        'testing_results': {   'accuracy_score': 0.5555555555555556,\n",
      "                               'f1_score': 0.53459052797563},\n",
      "        'training_results': {   'accuracy_score': 0.9009615384615385,\n",
      "                                'f1_score': 0.8807395880253721},\n",
      "        'type': 'RandomForestClassifier'},\n",
      "    {   '_id': ObjectId('5602bd75472c0b200d9773cd'),\n",
      "        'clf': ObjectId('5602bd6a472c0b200d9773b1'),\n",
      "        'level': 'first_person_label',\n",
      "        'name': 'LogisticRegression',\n",
      "        'testing_results': {   'accuracy_score': 0.5321637426900585,\n",
      "                               'f1_score': 0.5265047952844989},\n",
      "        'training_results': {   'accuracy_score': 0.8759615384615385,\n",
      "                                'f1_score': 0.8758732825496015},\n",
      "        'type': 'LogisticRegression'},\n",
      "    {   '_id': ObjectId('564bc4d9472c0b9c8213401c'),\n",
      "        'clf': ObjectId('564bc4c8472c0b9c82133ff2'),\n",
      "        'level': 'first_person_label',\n",
      "        'name': 'SVC_TOPIC',\n",
      "        'notes': 'nov-17, added 1300 more examples',\n",
      "        'testing_results': {   'accuracy_score': 0.5267489711934157,\n",
      "                               'f1_score': 0.5185882915351515},\n",
      "        'training_results': {   'accuracy_score': 0.7438136826783115,\n",
      "                                'f1_score': 0.7442245644202987},\n",
      "        'type': 'SVC'},\n",
      "    {   '_id': ObjectId('5602ebfc472c0b2198555997'),\n",
      "        'clf': ObjectId('5602ebef472c0b2198555979'),\n",
      "        'level': 'first_person_label',\n",
      "        'name': 'SVC',\n",
      "        'notes': 'delete',\n",
      "        'testing_results': {   'accuracy_score': 0.543859649122807,\n",
      "                               'f1_score': 0.5166687798266746},\n",
      "        'training_results': {   'accuracy_score': 0.7211538461538461,\n",
      "                                'f1_score': 0.6944619032444571},\n",
      "        'type': 'SVC'},\n",
      "    {   '_id': ObjectId('5640d558472c0b10be070a26'),\n",
      "        'clf': ObjectId('5640d554472c0b10be070a1c'),\n",
      "        'level': 'first_person_label',\n",
      "        'name': 'SVC',\n",
      "        'notes': 'delete',\n",
      "        'testing_results': {   'accuracy_score': 0.530214424951267,\n",
      "                               'f1_score': 0.5136580488488517},\n",
      "        'training_results': {   'accuracy_score': 0.8903846153846153,\n",
      "                                'f1_score': 0.867899245436163},\n",
      "        'type': 'SVC'},\n",
      "    {   '_id': ObjectId('564b889b472c0b97717f5e76'),\n",
      "        'clf': ObjectId('564b8897472c0b97717f5e4e'),\n",
      "        'level': 'first_person_label',\n",
      "        'name': 'LogisticRegression_LDA_NORM',\n",
      "        'testing_results': {   'accuracy_score': 0.5243445692883895,\n",
      "                               'f1_score': 0.5097329587637333},\n",
      "        'training_results': {'accuracy_score': 1.0, 'f1_score': 1.0},\n",
      "        'type': 'LogisticRegression'},\n",
      "    {   '_id': ObjectId('5602cd64472c0b2034b2ceed'),\n",
      "        'clf': ObjectId('5602cbde472c0b2034b2cb4d'),\n",
      "        'level': 'first_person_label',\n",
      "        'name': 'RF',\n",
      "        'testing_results': {   'accuracy_score': 0.5243664717348928,\n",
      "                               'f1_score': 0.508797109912656},\n",
      "        'training_results': {'accuracy_score': 1.0, 'f1_score': 1.0},\n",
      "        'type': 'RandomForestClassifier'},\n",
      "    {   '_id': ObjectId('56086894472c0b3d5c557fc2'),\n",
      "        'clf': ObjectId('56086893472c0b3d5c557fbf'),\n",
      "        'level': 'first_person_label',\n",
      "        'name': 'SVC',\n",
      "        'notes': 'after adding 500 more examples',\n",
      "        'testing_results': {   'accuracy_score': 0.52046783625731,\n",
      "                               'f1_score': 0.5009187878453114},\n",
      "        'training_results': {   'accuracy_score': 0.7423076923076923,\n",
      "                                'f1_score': 0.7235115611540127},\n",
      "        'type': 'SVC'}]\n"
     ]
    }
   ],
   "source": [
    "pprint(ClassifierAccess.get_reports(level=\"first_person_label\"), indent=4)"
   ]
  },
  {
   "cell_type": "code",
   "execution_count": null,
   "metadata": {
    "collapsed": true
   },
   "outputs": [],
   "source": []
  },
  {
   "cell_type": "code",
   "execution_count": null,
   "metadata": {
    "collapsed": true
   },
   "outputs": [],
   "source": []
  },
  {
   "cell_type": "code",
   "execution_count": null,
   "metadata": {
    "collapsed": true
   },
   "outputs": [],
   "source": []
  },
  {
   "cell_type": "code",
   "execution_count": null,
   "metadata": {
    "collapsed": true
   },
   "outputs": [],
   "source": []
  }
 ],
 "metadata": {
  "kernelspec": {
   "display_name": "Python 3",
   "language": "python",
   "name": "python3"
  },
  "language_info": {
   "codemirror_mode": {
    "name": "ipython",
    "version": 3
   },
   "file_extension": ".py",
   "mimetype": "text/x-python",
   "name": "python",
   "nbconvert_exporter": "python",
   "pygments_lexer": "ipython3",
   "version": "3.5.1"
  }
 },
 "nbformat": 4,
 "nbformat_minor": 0
}
