{
 "cells": [
  {
   "cell_type": "markdown",
   "metadata": {},
   "source": [
    "# Labeling all data"
   ]
  },
  {
   "cell_type": "code",
   "execution_count": 9,
   "metadata": {
    "collapsed": false
   },
   "outputs": [],
   "source": [
    "import pandas as pd\n",
    "import os"
   ]
  },
  {
   "cell_type": "markdown",
   "metadata": {},
   "source": [
    "### Loading and running all classifiers"
   ]
  },
  {
   "cell_type": "code",
   "execution_count": 10,
   "metadata": {
    "collapsed": true
   },
   "outputs": [],
   "source": [
    "from __private import fs"
   ]
  },
  {
   "cell_type": "code",
   "execution_count": 11,
   "metadata": {
    "collapsed": false
   },
   "outputs": [
    {
     "name": "stdout",
     "output_type": "stream",
     "text": [
      "alcohol|accuracy:0.8143360752056404|f1:0.8192219679633866|type:LogisticRegression\n",
      "alcohol|accuracy:0.8401880141010576|f1:0.8498896247240618|type:SVC\n",
      "alcohol|accuracy:0.8425381903642774|f1:0.8562231759656651|type:RandomForestClassifier\n",
      "first_person_label|accuracy:0.5637860082304527|f1:0.5574430033343769|type:SVC\n",
      "first_person_label|accuracy:0.5637860082304527|f1:0.5643693591852614|type:LogisticRegression\n",
      "first_person|accuracy:0.6951871657754011|f1:0.8034482758620688|type:RandomForestClassifier\n",
      "first_person|accuracy:0.7005347593582888|f1:0.7751004016064257|type:LogisticRegression\n",
      "first_person|accuracy:0.7032085561497327|f1:0.8062827225130889|type:RandomForestClassifier\n",
      "first_person|accuracy:0.7112299465240641|f1:0.8021978021978021|type:SVC\n"
     ]
    }
   ],
   "source": [
    "print(*fs.list(), sep=\"\\n\")"
   ]
  },
  {
   "cell_type": "code",
   "execution_count": 12,
   "metadata": {
    "collapsed": true
   },
   "outputs": [],
   "source": [
    "from classification import dao"
   ]
  },
  {
   "cell_type": "code",
   "execution_count": 13,
   "metadata": {
    "collapsed": false
   },
   "outputs": [
    {
     "name": "stdout",
     "output_type": "stream",
     "text": [
      "CPU times: user 476 ms, sys: 260 ms, total: 736 ms\n",
      "Wall time: 16.3 s\n"
     ]
    }
   ],
   "source": [
    "%%time\n",
    "alcohol_classifier = dao.ClassifierAccess.get_byfile(\n",
    "    \"alcohol|accuracy:0.8143360752056404|f1:0.8192219679633866|type:LogisticRegression\"\n",
    ")\n",
    "\n",
    "firstperson_classifier = dao.ClassifierAccess.get_byfile(\n",
    "    \"first_person|accuracy:0.7112299465240641|f1:0.8021978021978021|type:SVC\"\n",
    ")\n",
    "\n",
    "firstpersonlevel_classifier = dao.ClassifierAccess.get_byfile(\n",
    "    \"first_person_label|accuracy:0.5637860082304527|f1:0.5643693591852614|type:LogisticRegression\"\n",
    ")"
   ]
  },
  {
   "cell_type": "code",
   "execution_count": 14,
   "metadata": {
    "collapsed": true
   },
   "outputs": [],
   "source": [
    "from data import DataAccess, LabelGetter"
   ]
  },
  {
   "cell_type": "code",
   "execution_count": 15,
   "metadata": {
    "collapsed": false
   },
   "outputs": [],
   "source": [
    "X = DataAccess.get_as_dataframe()\n",
    "L = LabelGetter(X)"
   ]
  },
  {
   "cell_type": "code",
   "execution_count": 16,
   "metadata": {
    "collapsed": false
   },
   "outputs": [
    {
     "name": "stdout",
     "output_type": "stream",
     "text": [
      "CPU times: user 5.24 s, sys: 1.15 s, total: 6.39 s\n",
      "Wall time: 6.4 s\n"
     ]
    },
    {
     "data": {
      "text/plain": [
       "Pipeline(steps=[('features', FeatureUnion(n_jobs=1,\n",
       "       transformer_list=[('text', Pipeline(steps=[('getter', ItemGetter(key='text')), ('tfidf', TfidfVectorizer(analyzer='word', binary=False, decode_error='strict',\n",
       "        dtype=<class 'numpy.int64'>, encoding='utf-8', input='content',\n",
       "        lowercase=F...one,\n",
       "          solver='liblinear', tol=0.000449897709599141, verbose=0,\n",
       "          warm_start=None))])"
      ]
     },
     "execution_count": 16,
     "metadata": {},
     "output_type": "execute_result"
    }
   ],
   "source": [
    "%%time\n",
    "firstpersonlevel_classifier.fit(*L.get_first_person_label())"
   ]
  },
  {
   "cell_type": "code",
   "execution_count": 17,
   "metadata": {
    "collapsed": false
   },
   "outputs": [
    {
     "name": "stdout",
     "output_type": "stream",
     "text": [
      "CPU times: user 3min 45s, sys: 1.55 s, total: 3min 47s\n",
      "Wall time: 3min 45s\n"
     ]
    },
    {
     "data": {
      "text/plain": [
       "Pipeline(steps=[('features', FeatureUnion(n_jobs=1,\n",
       "       transformer_list=[('text', Pipeline(steps=[('getter', ItemGetter(key='text')), ('tfidf', TfidfVectorizer(analyzer='char', binary=False, decode_error='strict',\n",
       "        dtype=<class 'numpy.int64'>, encoding='utf-8', input='content',\n",
       "        lowercase=F...probability=True,\n",
       "  random_state=None, shrinking=True, tol=0.0008753898561476732,\n",
       "  verbose=False))])"
      ]
     },
     "execution_count": 17,
     "metadata": {},
     "output_type": "execute_result"
    }
   ],
   "source": [
    "%%time\n",
    "firstperson_classifier.fit(*L.get_first_person())"
   ]
  },
  {
   "cell_type": "code",
   "execution_count": 18,
   "metadata": {
    "collapsed": false
   },
   "outputs": [],
   "source": [
    "del X\n",
    "del L"
   ]
  },
  {
   "cell_type": "code",
   "execution_count": 31,
   "metadata": {
    "collapsed": false
   },
   "outputs": [
    {
     "name": "stdout",
     "output_type": "stream",
     "text": [
      "CPU times: user 5 µs, sys: 1 µs, total: 6 µs\n",
      "Wall time: 24.1 µs\n"
     ]
    }
   ],
   "source": [
    "%%time\n",
    "\n",
    "from_path = \"./control_dump/\"\n",
    "to_path = \"./control_dump/predicted/\"\n",
    "\n",
    "def to_predict(x):\n",
    "    i, file = x\n",
    "    print(\"starting \", i)\n",
    "    df = pd.read_csv(open(from_path + file,'rU'), encoding='utf-8', engine='c').dropna()\n",
    "\n",
    "    fn = to_path + \"predicted_\" + file\n",
    "    df.columns = [\"time\", \"id\", \"text\"]\n",
    "    \n",
    "    if not os.path.isfile(fn):\n",
    "        print(\"starting classification\", i)\n",
    "        alcohol_predictions = alcohol_classifier.predict_proba(df[[\"text\"]])[:,1]\n",
    "        df[\"prediction_alcohol_svc\"] = alcohol_predictions\n",
    "\n",
    "        filter_alcohol = df[\"prediction_alcohol_svc\"] > .75\n",
    "        \n",
    "        print(\"first person\")\n",
    "        \n",
    "        df[\"prediction_firstperson_svc\"] = 0\n",
    "        \n",
    "        df.loc[filter_alcohol, \"prediction_firstperson_svc\"] = firstperson_classifier.predict_proba(\n",
    "            df[filter_alcohol][[\"text\"]]\n",
    "        )[:,1]\n",
    "\n",
    "\n",
    "        firstpersonlevel_predictions = firstpersonlevel_classifier.predict_proba(\n",
    "            df[filter_alcohol][[\"text\"]]\n",
    "        )\n",
    "\n",
    "        df_firstpersonlevel_predictions = pd.DataFrame(\n",
    "            firstpersonlevel_predictions, columns=[\n",
    "                \"prediction_firstperson_level_0\", \n",
    "                \"prediction_firstperson_level_2\", \n",
    "                \"prediction_firstperson_level_3\"],\n",
    "            index=df[filter_alcohol].index)\n",
    "\n",
    "        df = df.join(df_firstpersonlevel_predictions).fillna(0)\n",
    "        df[list(range(1,12))].to_csv(fn)\n",
    "        print(i, file)"
   ]
  },
  {
   "cell_type": "code",
   "execution_count": 32,
   "metadata": {
    "collapsed": false
   },
   "outputs": [],
   "source": [
    "from os import listdir\n",
    "from multiprocessing import Pool"
   ]
  }
 ],
 "metadata": {
  "kernelspec": {
   "display_name": "Python 3",
   "language": "python",
   "name": "python3"
  },
  "language_info": {
   "codemirror_mode": {
    "name": "ipython",
    "version": 3
   },
   "file_extension": ".py",
   "mimetype": "text/x-python",
   "name": "python",
   "nbconvert_exporter": "python",
   "pygments_lexer": "ipython3",
   "version": "3.5.1"
  }
 },
 "nbformat": 4,
 "nbformat_minor": 0
}
