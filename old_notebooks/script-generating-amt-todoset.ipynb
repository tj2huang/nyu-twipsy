{
 "cells": [
  {
   "cell_type": "markdown",
   "metadata": {},
   "source": [
    "# Amazon Mechanical Turk\n",
    "\n",
    "The role of this script is to generate the data in a format that we can use to label on Mechanical Turk\n",
    "\n",
    "1. Generate the next batch\n",
    "2. Read the batch and write it to MongoDB"
   ]
  },
  {
   "cell_type": "code",
   "execution_count": 1,
   "metadata": {
    "collapsed": false
   },
   "outputs": [],
   "source": [
    "from data.dao import DataAccess, LabelGetter\n",
    "from data.turk import TurkResults2Label\n",
    "\n",
    "import pandas as pd\n",
    "import datetime\n",
    "import re\n",
    "import pickle\n",
    "import numpy\n",
    "\n",
    "%matplotlib inline"
   ]
  },
  {
   "cell_type": "markdown",
   "metadata": {},
   "source": [
    "Getting the data from DataAccess is so easy!"
   ]
  },
  {
   "cell_type": "code",
   "execution_count": 2,
   "metadata": {
    "collapsed": false
   },
   "outputs": [
    {
     "name": "stdout",
     "output_type": "stream",
     "text": [
      "CPU times: user 1.37 s, sys: 1.4 s, total: 2.76 s\n",
      "Wall time: 11.4 s\n"
     ]
    }
   ],
   "source": [
    "%%time\n",
    "\n",
    "X = DataAccess.get_not_labeled().sort(\"random_number\")\n",
    "X.head(10)"
   ]
  },
  {
   "cell_type": "code",
   "execution_count": 3,
   "metadata": {
    "collapsed": false
   },
   "outputs": [
    {
     "data": {
      "text/html": [
       "<div>\n",
       "<table border=\"1\" class=\"dataframe\">\n",
       "  <thead>\n",
       "    <tr style=\"text-align: right;\">\n",
       "      <th></th>\n",
       "      <th>control</th>\n",
       "      <th>predict</th>\n",
       "      <th>random_number</th>\n",
       "      <th>text</th>\n",
       "    </tr>\n",
       "    <tr>\n",
       "      <th>_id</th>\n",
       "      <th></th>\n",
       "      <th></th>\n",
       "      <th></th>\n",
       "      <th></th>\n",
       "    </tr>\n",
       "  </thead>\n",
       "  <tbody>\n",
       "    <tr>\n",
       "      <th>556e8debd6dfbb3061976b0e</th>\n",
       "      <td>NaN</td>\n",
       "      <td>0.215714</td>\n",
       "      <td>0.004196</td>\n",
       "      <td>My #TeenChoice nominee for #ChoiceMaleWebStar ...</td>\n",
       "    </tr>\n",
       "    <tr>\n",
       "      <th>5575d384d6dfbb66f9dac606</th>\n",
       "      <td>NaN</td>\n",
       "      <td>0.194029</td>\n",
       "      <td>0.004235</td>\n",
       "      <td>#TweetMyJobs #Accounting #Job alert: Senior Ac...</td>\n",
       "    </tr>\n",
       "    <tr>\n",
       "      <th>5572131ed6dfbb33bf90487d</th>\n",
       "      <td>NaN</td>\n",
       "      <td>0.338928</td>\n",
       "      <td>0.004239</td>\n",
       "      <td>Never imagined myself saying this 3 years ago,...</td>\n",
       "    </tr>\n",
       "    <tr>\n",
       "      <th>5572b598d6dfbb719b60fb40</th>\n",
       "      <td>NaN</td>\n",
       "      <td>0.411088</td>\n",
       "      <td>0.004250</td>\n",
       "      <td>Who made me drink &amp;amp; why?</td>\n",
       "    </tr>\n",
       "    <tr>\n",
       "      <th>557849c1d6dfbb56c0b31675</th>\n",
       "      <td>NaN</td>\n",
       "      <td>0.258357</td>\n",
       "      <td>0.004261</td>\n",
       "      <td>.@BilldeBlasio Opposes Linking Tax Credit, Ren...</td>\n",
       "    </tr>\n",
       "  </tbody>\n",
       "</table>\n",
       "</div>"
      ],
      "text/plain": [
       "                          control   predict  random_number  \\\n",
       "_id                                                          \n",
       "556e8debd6dfbb3061976b0e      NaN  0.215714       0.004196   \n",
       "5575d384d6dfbb66f9dac606      NaN  0.194029       0.004235   \n",
       "5572131ed6dfbb33bf90487d      NaN  0.338928       0.004239   \n",
       "5572b598d6dfbb719b60fb40      NaN  0.411088       0.004250   \n",
       "557849c1d6dfbb56c0b31675      NaN  0.258357       0.004261   \n",
       "\n",
       "                                                                       text  \n",
       "_id                                                                          \n",
       "556e8debd6dfbb3061976b0e  My #TeenChoice nominee for #ChoiceMaleWebStar ...  \n",
       "5575d384d6dfbb66f9dac606  #TweetMyJobs #Accounting #Job alert: Senior Ac...  \n",
       "5572131ed6dfbb33bf90487d  Never imagined myself saying this 3 years ago,...  \n",
       "5572b598d6dfbb719b60fb40                       Who made me drink &amp; why?  \n",
       "557849c1d6dfbb56c0b31675  .@BilldeBlasio Opposes Linking Tax Credit, Ren...  "
      ]
     },
     "execution_count": 3,
     "metadata": {},
     "output_type": "execute_result"
    }
   ],
   "source": [
    "X_filter = X[X.control != 1]\n",
    "X_filter.head()"
   ]
  },
  {
   "cell_type": "code",
   "execution_count": 4,
   "metadata": {
    "collapsed": false
   },
   "outputs": [
    {
     "data": {
      "text/html": [
       "<div>\n",
       "<table border=\"1\" class=\"dataframe\">\n",
       "  <thead>\n",
       "    <tr style=\"text-align: right;\">\n",
       "      <th></th>\n",
       "      <th>control</th>\n",
       "      <th>predict</th>\n",
       "      <th>random_number</th>\n",
       "      <th>text</th>\n",
       "    </tr>\n",
       "    <tr>\n",
       "      <th>_id</th>\n",
       "      <th></th>\n",
       "      <th></th>\n",
       "      <th></th>\n",
       "      <th></th>\n",
       "    </tr>\n",
       "  </thead>\n",
       "  <tbody>\n",
       "    <tr>\n",
       "      <th>5584b355d6dfbb636c07fba4</th>\n",
       "      <td>1</td>\n",
       "      <td>NaN</td>\n",
       "      <td>NaN</td>\n",
       "      <td>Now that's a malty hop punch. Great bitterness...</td>\n",
       "    </tr>\n",
       "    <tr>\n",
       "      <th>558ded7dd6dfbb1d49557f3f</th>\n",
       "      <td>1</td>\n",
       "      <td>NaN</td>\n",
       "      <td>NaN</td>\n",
       "      <td>5star Friday continues after a delay.... - Dri...</td>\n",
       "    </tr>\n",
       "    <tr>\n",
       "      <th>557a3d92d6dfbb59f52789b3</th>\n",
       "      <td>1</td>\n",
       "      <td>NaN</td>\n",
       "      <td>NaN</td>\n",
       "      <td>Late check-in, perfect hot as balls day crisp ...</td>\n",
       "    </tr>\n",
       "    <tr>\n",
       "      <th>556ba263d6dfbb336fb8c141</th>\n",
       "      <td>1</td>\n",
       "      <td>NaN</td>\n",
       "      <td>NaN</td>\n",
       "      <td>Drinking a Rams Head IPA by @FoDoBrewing @ Bar...</td>\n",
       "    </tr>\n",
       "    <tr>\n",
       "      <th>556ba2c8d6dfbb336fb8c582</th>\n",
       "      <td>1</td>\n",
       "      <td>NaN</td>\n",
       "      <td>NaN</td>\n",
       "      <td>Drinking a Summerweisse by @BottleLogicBrew at...</td>\n",
       "    </tr>\n",
       "  </tbody>\n",
       "</table>\n",
       "</div>"
      ],
      "text/plain": [
       "                          control  predict  random_number  \\\n",
       "_id                                                         \n",
       "5584b355d6dfbb636c07fba4        1      NaN            NaN   \n",
       "558ded7dd6dfbb1d49557f3f        1      NaN            NaN   \n",
       "557a3d92d6dfbb59f52789b3        1      NaN            NaN   \n",
       "556ba263d6dfbb336fb8c141        1      NaN            NaN   \n",
       "556ba2c8d6dfbb336fb8c582        1      NaN            NaN   \n",
       "\n",
       "                                                                       text  \n",
       "_id                                                                          \n",
       "5584b355d6dfbb636c07fba4  Now that's a malty hop punch. Great bitterness...  \n",
       "558ded7dd6dfbb1d49557f3f  5star Friday continues after a delay.... - Dri...  \n",
       "557a3d92d6dfbb59f52789b3  Late check-in, perfect hot as balls day crisp ...  \n",
       "556ba263d6dfbb336fb8c141  Drinking a Rams Head IPA by @FoDoBrewing @ Bar...  \n",
       "556ba2c8d6dfbb336fb8c582  Drinking a Summerweisse by @BottleLogicBrew at...  "
      ]
     },
     "execution_count": 4,
     "metadata": {},
     "output_type": "execute_result"
    }
   ],
   "source": [
    "X_control = X[X.control == 1]\n",
    "X_control.head()"
   ]
  },
  {
   "cell_type": "code",
   "execution_count": 5,
   "metadata": {
    "collapsed": false
   },
   "outputs": [
    {
     "data": {
      "text/plain": [
       "81122"
      ]
     },
     "execution_count": 5,
     "metadata": {},
     "output_type": "execute_result"
    }
   ],
   "source": [
    "len(X_filter)"
   ]
  },
  {
   "cell_type": "code",
   "execution_count": 6,
   "metadata": {
    "collapsed": false
   },
   "outputs": [
    {
     "data": {
      "text/plain": [
       "483"
      ]
     },
     "execution_count": 6,
     "metadata": {},
     "output_type": "execute_result"
    }
   ],
   "source": [
    "len(X_control)"
   ]
  },
  {
   "cell_type": "markdown",
   "metadata": {},
   "source": [
    "# Preprocessing"
   ]
  },
  {
   "cell_type": "code",
   "execution_count": 7,
   "metadata": {
    "collapsed": true
   },
   "outputs": [],
   "source": [
    "from __private import fs\n",
    "from classification.dao import ClassifierAccess"
   ]
  },
  {
   "cell_type": "code",
   "execution_count": 8,
   "metadata": {
    "collapsed": false
   },
   "outputs": [
    {
     "data": {
      "text/plain": [
       "['alcohol|accuracy:0.8143360752056404|f1:0.8192219679633866|type:LogisticRegression',\n",
       " 'alcohol|accuracy:0.8401880141010576|f1:0.8498896247240618|type:SVC',\n",
       " 'alcohol|accuracy:0.8425381903642774|f1:0.8562231759656651|type:RandomForestClassifier',\n",
       " 'first_person_label|accuracy:0.5637860082304527|f1:0.5574430033343769|type:SVC',\n",
       " 'first_person_label|accuracy:0.5637860082304527|f1:0.5643693591852614|type:LogisticRegression',\n",
       " 'first_person|accuracy:0.6951871657754011|f1:0.8034482758620688|type:RandomForestClassifier',\n",
       " 'first_person|accuracy:0.7005347593582888|f1:0.7751004016064257|type:LogisticRegression',\n",
       " 'first_person|accuracy:0.7032085561497327|f1:0.8062827225130889|type:RandomForestClassifier',\n",
       " 'first_person|accuracy:0.7112299465240641|f1:0.8021978021978021|type:SVC']"
      ]
     },
     "execution_count": 8,
     "metadata": {},
     "output_type": "execute_result"
    }
   ],
   "source": [
    "fs.list()"
   ]
  },
  {
   "cell_type": "code",
   "execution_count": 10,
   "metadata": {
    "collapsed": false
   },
   "outputs": [],
   "source": [
    "alcohol_classifier = ClassifierAccess.get_byfile(\n",
    "    \"alcohol|accuracy:0.8401880141010576|f1:0.8498896247240618|type:SVC\"\n",
    ")\n",
    "\n",
    "firstperson_classifier = ClassifierAccess.get_byfile(\n",
    "    \"first_person|accuracy:0.7112299465240641|f1:0.8021978021978021|type:SVC\"\n",
    ")"
   ]
  },
  {
   "cell_type": "code",
   "execution_count": 11,
   "metadata": {
    "collapsed": false
   },
   "outputs": [],
   "source": [
    "X = X.sample(10000)"
   ]
  },
  {
   "cell_type": "code",
   "execution_count": 12,
   "metadata": {
    "collapsed": false
   },
   "outputs": [
    {
     "name": "stdout",
     "output_type": "stream",
     "text": [
      "CPU times: user 1min 41s, sys: 2.32 s, total: 1min 43s\n",
      "Wall time: 1min 43s\n"
     ]
    }
   ],
   "source": [
    "%%time\n",
    "\n",
    "first_person = firstperson_classifier.predict_proba(X)[:,1]\n",
    "alch_labels = alcohol_classifier.predict_proba(X)[:,1]"
   ]
  },
  {
   "cell_type": "code",
   "execution_count": 13,
   "metadata": {
    "collapsed": false
   },
   "outputs": [],
   "source": [
    "X[\"predicted_fp\"] = first_person\n",
    "X[\"predicted_alc\"] = alch_labels"
   ]
  },
  {
   "cell_type": "code",
   "execution_count": 14,
   "metadata": {
    "collapsed": false
   },
   "outputs": [],
   "source": [
    "X[\"score\"] = (X.predicted_alc * X.predicted_fp)"
   ]
  },
  {
   "cell_type": "code",
   "execution_count": 15,
   "metadata": {
    "collapsed": false,
    "scrolled": false
   },
   "outputs": [
    {
     "data": {
      "text/plain": [
       "<matplotlib.axes.AxesSubplot at 0x17c36e240>"
      ]
     },
     "execution_count": 15,
     "metadata": {},
     "output_type": "execute_result"
    },
    {
     "data": {
      "image/png": "[encoded data removed]",
      "text/plain": [
       "<matplotlib.figure.Figure at 0x10682d198>"
      ]
     },
     "metadata": {},
     "output_type": "display_data"
    }
   ],
   "source": [
    "X.score.plot(kind=\"hist\", bins=30)"
   ]
  },
  {
   "cell_type": "code",
   "execution_count": 16,
   "metadata": {
    "collapsed": false
   },
   "outputs": [],
   "source": [
    "X.random_number = X.text.apply(hash)"
   ]
  },
  {
   "cell_type": "code",
   "execution_count": 17,
   "metadata": {
    "collapsed": false
   },
   "outputs": [
    {
     "data": {
      "text/plain": [
       "10000"
      ]
     },
     "execution_count": 17,
     "metadata": {},
     "output_type": "execute_result"
    }
   ],
   "source": [
    "len(X)"
   ]
  },
  {
   "cell_type": "markdown",
   "metadata": {},
   "source": [
    "# Generating..."
   ]
  },
  {
   "cell_type": "code",
   "execution_count": 18,
   "metadata": {
    "collapsed": false
   },
   "outputs": [],
   "source": [
    "date = str(datetime.date.today())\n",
    "candidate = X.sort(\"random_number\").head(5000)\n",
    "key = candidate.random_number.sum()"
   ]
  },
  {
   "cell_type": "code",
   "execution_count": 19,
   "metadata": {
    "collapsed": false
   },
   "outputs": [],
   "source": [
    "candidate[\"text\"] = candidate.text.str.encode(\"utf-8\")"
   ]
  },
  {
   "cell_type": "code",
   "execution_count": 20,
   "metadata": {
    "collapsed": false
   },
   "outputs": [],
   "source": [
    "candidate[[\"text\", \"random_number\"]].to_csv(\n",
    "    \"../amt/c_amt|{}|{}.csv\".format(date, key),\n",
    ")"
   ]
  },
  {
   "cell_type": "code",
   "execution_count": 21,
   "metadata": {
    "collapsed": false
   },
   "outputs": [
    {
     "name": "stdout",
     "output_type": "stream",
     "text": [
      "Batch_2055156_batch_results.csv\n",
      "Batch_2064123_batch_results.csv\n",
      "Batch_2064125_batch_results.csv\n",
      "Batch_2101169_batch_results.csv\n",
      "Batch_2164917_batch_results.csv\n",
      "Batch_2166655_batch_results.csv\n",
      "Batch_2248153_batch_results.csv\n",
      "amt_2015-08-13_4952308500878643456.csv\n",
      "amt_2015-08-17_2546340314496401664.csv\n",
      "amt_2015-08-20_8806137010034599936.csv\n",
      "amt_2015-09-10_6072541214091395328.csv\n",
      "amt_2015-09-24_-7976654553505407232.csv\n",
      "amt|2015-09-10|6072541214091395328.csv\n",
      "amt|2015-09-24|-7976654553505407232.csv\n",
      "amt|2015-11-16|-6308615403510686754.csv\n",
      "amt|2015-11-16|-81244987503678735.csv\n",
      "amt|2015-11-16|287544318312245760.csv\n",
      "c_amt_2015-11-16_-6269207037782773504.csv\n",
      "c_amt_2015-11-16_7954396760112903981.csv\n",
      "c_amt_2016-01-21_-8087639176019565329_2.csv\n",
      "c_amt_2016-01-21_5520759830824576334.csv\n",
      "c_amt_2016-01-29_7647127386955943697_2000.csv\n",
      "c_amt_2016-01-30_-7432510530338082686.txt\n",
      "c_amt_2016-01-31_0.1315425978524588_rest_of_control.csv\n",
      "c_amt_2016-02-02_-4030591870299663666.csv\n",
      "c_amt_2016-02-02_nan.csv\n",
      "c_amt|2015-11-16|7954396760112903981.csv\n",
      "c_amt|2016-01-21|-8087639176019565329_2.csv\n",
      "c_amt|2016-01-21|5520759830824576334.csv\n",
      "c_amt|2016-01-29|0.06826703878934814_2.csv\n",
      "c_amt|2016-01-29|0.06826703878934814_2000.csv\n",
      "c_amt|2016-01-29|7647127386955943697_2000.csv\n",
      "c_amt|2016-01-30|-7432510530338082686.csv\n",
      "c_amt|2016-01-30|7768381086251638340_3000.csv\n",
      "c_amt|2016-01-31|0.1315425978524588_rest_of_control.csv\n",
      "c_amt|2016-02-02|-4030591870299663666.csv\n",
      "c_amt|2016-02-02|nan.csv\n",
      "c_amt|2016-02-07|953930451323837876.csv\n"
     ]
    }
   ],
   "source": [
    "%%bash\n",
    "\n",
    "ls ../amt/"
   ]
  },
  {
   "cell_type": "code",
   "execution_count": 23,
   "metadata": {
    "collapsed": true
   },
   "outputs": [],
   "source": [
    "%%bash\n",
    "\n",
    "open .. "
   ]
  },
  {
   "cell_type": "markdown",
   "metadata": {},
   "source": [
    "# Parsing to Label"
   ]
  },
  {
   "cell_type": "markdown",
   "metadata": {},
   "source": [
    "#### New Labels\n",
    "\n",
    "Straight from Amazon Mechanical Turk"
   ]
  },
  {
   "cell_type": "code",
   "execution_count": 42,
   "metadata": {
    "collapsed": false
   },
   "outputs": [],
   "source": [
    "df = pd.DataFrame.from_csv(\"/Users/JasonLiu/Downloads/Batch_2260366_batch_results.csv\")\n",
    "df = pd.DataFrame.from_csv(\"/Users/JasonLiu/Downloads/Batch_2253428_batch_results.csv\")"
   ]
  },
  {
   "cell_type": "code",
   "execution_count": 43,
   "metadata": {
    "collapsed": false
   },
   "outputs": [
    {
     "data": {
      "text/plain": [
       "A2AFTOA85C1FM9    677\n",
       "A1T79J0XQXDDGC    562\n",
       "A31O5XYX80XD21    291\n",
       "A3F0M2W5XC5S62    279\n",
       "A771BLWJLMWYY     278\n",
       "ADJ9I7ZBFYFH7     213\n",
       "A22634OVAX2IVC    159\n",
       "A22VLXXVIEJSD1    110\n",
       "A2QQY4S73JO639     90\n",
       "A2J65ZHAJQDKAC     59\n",
       "dtype: int64"
      ]
     },
     "execution_count": 43,
     "metadata": {},
     "output_type": "execute_result"
    }
   ],
   "source": [
    "df.Worker.value_counts().head(10)"
   ]
  },
  {
   "cell_type": "code",
   "execution_count": 50,
   "metadata": {
    "collapsed": false
   },
   "outputs": [
    {
     "data": {
      "text/html": [
       "<div>\n",
       "<table border=\"1\" class=\"dataframe\">\n",
       "  <thead>\n",
       "    <tr style=\"text-align: right;\">\n",
       "      <th></th>\n",
       "      <th>text</th>\n",
       "      <th>Answer</th>\n",
       "    </tr>\n",
       "    <tr>\n",
       "      <th>HITID</th>\n",
       "      <th></th>\n",
       "      <th></th>\n",
       "    </tr>\n",
       "  </thead>\n",
       "  <tbody>\n",
       "    <tr>\n",
       "      <th>3IV1AEQ4DRXOOV3FDDTNBU5QT998JL</th>\n",
       "      <td>b'I want the beach &amp;amp; a fruity drink in my ...</td>\n",
       "      <td>First Person - Alcohol::Looking to drink</td>\n",
       "    </tr>\n",
       "    <tr>\n",
       "      <th>39WSF6KUV25JY7436T7SB0IY36HOEJ</th>\n",
       "      <td>b\"But maybe I'm too drunk to be tweeting my li...</td>\n",
       "      <td>First Person - Alcohol::Heavy Drinking</td>\n",
       "    </tr>\n",
       "    <tr>\n",
       "      <th>33NKDW9FFX2RVIYHBTOT4P9OUY8XC3</th>\n",
       "      <td>b\"Some drunk lady tried to suck on my neck  an...</td>\n",
       "      <td>Alcohol Related::Discussion</td>\n",
       "    </tr>\n",
       "    <tr>\n",
       "      <th>3ZQX1VYFTDP2P6UCTQLSJQMCS3JO8K</th>\n",
       "      <td>b'thank god for wine and Wayward Pines'</td>\n",
       "      <td>Alcohol Related::Discussion</td>\n",
       "    </tr>\n",
       "    <tr>\n",
       "      <th>3ZVPAMTJWNNKFYSA4GEK5Y8FR9GRGC</th>\n",
       "      <td>b'drink a beer // luke bryan'</td>\n",
       "      <td>Alcohol Related::Discussion</td>\n",
       "    </tr>\n",
       "    <tr>\n",
       "      <th>3Q7TKIAPOTU60GN6X6GGD1WJ8PBDLY</th>\n",
       "      <td>b'Told myself I was going to the gym today.. B...</td>\n",
       "      <td>First Person - Alcohol::Looking to drink</td>\n",
       "    </tr>\n",
       "    <tr>\n",
       "      <th>3URJ6VVYUP71657AHNVF2E67QHNO4D</th>\n",
       "      <td>b\"too late 4 food porn.. y'all must be drunk\"</td>\n",
       "      <td>Alcohol Related::Discussion</td>\n",
       "    </tr>\n",
       "    <tr>\n",
       "      <th>3ABAOCJ4R8OKV79W24NFDDI7R9QQMI</th>\n",
       "      <td>b'3 hours left till #TGIF drinking starts. WIL...</td>\n",
       "      <td>Not Alcohol Related</td>\n",
       "    </tr>\n",
       "    <tr>\n",
       "      <th>3W3RSPVVGSBSHIYSJ165N107UP6LUG</th>\n",
       "      <td>b\"I got dressed so drunk so I look like shit b...</td>\n",
       "      <td>First Person - Alcohol::Heavy Drinking</td>\n",
       "    </tr>\n",
       "    <tr>\n",
       "      <th>3NOEP8XAU4MAP77LGYAZOP8VTHNXPH</th>\n",
       "      <td>b'I always regret drinking because i hate the ...</td>\n",
       "      <td>First Person - Alcohol::Reflecting on drinking</td>\n",
       "    </tr>\n",
       "    <tr>\n",
       "      <th>3K3G488TR2SMN0OQA56TWB7L5E05Q7</th>\n",
       "      <td>b'I drank one sip of Gatorade'</td>\n",
       "      <td>Not Alcohol Related</td>\n",
       "    </tr>\n",
       "    <tr>\n",
       "      <th>3U74KRR67M5355MOV9WAVXIUG6ZNTT</th>\n",
       "      <td>b\"Well it's raining.. I'm drunk... Eating hot ...</td>\n",
       "      <td>First Person - Alcohol::Heavy Drinking</td>\n",
       "    </tr>\n",
       "    <tr>\n",
       "      <th>3OREP8RUT2VXZRBL8JSU5J3B9NDGBO</th>\n",
       "      <td>b\"Everybody in my family is against me that I ...</td>\n",
       "      <td>Not Alcohol Related</td>\n",
       "    </tr>\n",
       "    <tr>\n",
       "      <th>301KG0KX9C5HBA609WH1PQC8UHD2H7</th>\n",
       "      <td>b'Currently getting my life \\xf0\\x9f\\x98\\x81\\x...</td>\n",
       "      <td>Not Alcohol Related</td>\n",
       "    </tr>\n",
       "    <tr>\n",
       "      <th>3UUIU9GZC5PZFGGIR90O1GI8PLZT59</th>\n",
       "      <td>b\"Alex's party was just a blast\"</td>\n",
       "      <td>Not Alcohol Related</td>\n",
       "    </tr>\n",
       "    <tr>\n",
       "      <th>372AGES0I4PV1KN0TQEOTK8AUZBXR9</th>\n",
       "      <td>b\"Dying to do something fun that doesn't invol...</td>\n",
       "      <td>Alcohol Related::Discussion</td>\n",
       "    </tr>\n",
       "    <tr>\n",
       "      <th>3NSM4HLQNREBGM7OUXUWUM2C1ANQQ5</th>\n",
       "      <td>b'Sippin on the purple any other drink is nasty'</td>\n",
       "      <td>First Person - Alcohol::Casual Drinking</td>\n",
       "    </tr>\n",
       "    <tr>\n",
       "      <th>3P520RYKCHQEFTV7REQY6C4A8Z65UC</th>\n",
       "      <td>b'Haley and I got some good years coming upon ...</td>\n",
       "      <td>Not Alcohol Related</td>\n",
       "    </tr>\n",
       "    <tr>\n",
       "      <th>3EPG8DX9LKA1NONBASR4W6HB0IE5PG</th>\n",
       "      <td>b\"it's all good that you'd rather hang out wit...</td>\n",
       "      <td>Alcohol Related::Discussion</td>\n",
       "    </tr>\n",
       "    <tr>\n",
       "      <th>3L2OEKSTW9UEJKYEZDUQLHKE6DIY85</th>\n",
       "      <td>b'Fuck it, Finna get back to my beer and talk ...</td>\n",
       "      <td>First Person - Alcohol::Looking to drink</td>\n",
       "    </tr>\n",
       "    <tr>\n",
       "      <th>3NQUW096N6SUXQAPLQBER5DTH4WL9P</th>\n",
       "      <td>b\"I got so drunk last night. I haven't been th...</td>\n",
       "      <td>First Person - Alcohol::Reflecting on drinking</td>\n",
       "    </tr>\n",
       "    <tr>\n",
       "      <th>3T6SSHJUZFULIQVM4HKECIK4JQPIIR</th>\n",
       "      <td>b\"I've been smokin I've been drinkinc\"</td>\n",
       "      <td>First Person - Alcohol::Casual Drinking</td>\n",
       "    </tr>\n",
       "    <tr>\n",
       "      <th>3ZG552ORAMOMTB1KELY54R3H2WO2VX</th>\n",
       "      <td>b'I had all the drinks last night #letyourhair...</td>\n",
       "      <td>First Person - Alcohol::Reflecting on drinking</td>\n",
       "    </tr>\n",
       "    <tr>\n",
       "      <th>3MDKGGG61Q7VYKGWWSATTMW8LGAT6P</th>\n",
       "      <td>b'ackee and curry goat .... and drinks'</td>\n",
       "      <td>Not Alcohol Related</td>\n",
       "    </tr>\n",
       "    <tr>\n",
       "      <th>386T3MLZLNFHMP2TR5JHTPQUU03086</th>\n",
       "      <td>b'New Beer Alert! @mainebeerco Lunch... Good a...</td>\n",
       "      <td>Alcohol Related::Promotional Content</td>\n",
       "    </tr>\n",
       "    <tr>\n",
       "      <th>30EV7DWJTVFRF6FQ6YXS13ON0ISY6J</th>\n",
       "      <td>b'New \\xf0\\x9f\\x94\\xa5 #Trap #Rap Music #THCMG...</td>\n",
       "      <td>Not Alcohol Related</td>\n",
       "    </tr>\n",
       "    <tr>\n",
       "      <th>3EKTG13IZUN94ATJAZFJWRJDH33LMO</th>\n",
       "      <td>b\"I've been drinking the dirtiest of the dirty...</td>\n",
       "      <td>First Person - Alcohol::Heavy Drinking</td>\n",
       "    </tr>\n",
       "    <tr>\n",
       "      <th>3XT3KXP24ZI5P60L2GBPFFUZAZUI6X</th>\n",
       "      <td>b'Someone come over and drink wiff me'</td>\n",
       "      <td>First Person - Alcohol::Looking to drink</td>\n",
       "    </tr>\n",
       "    <tr>\n",
       "      <th>33Q5P9PUSP6G0DYWCBCE1APZ2Y7CZG</th>\n",
       "      <td>b\"Ooops. Apparently I need 2 chk weather repor...</td>\n",
       "      <td>Not Alcohol Related</td>\n",
       "    </tr>\n",
       "    <tr>\n",
       "      <th>3ICOHX7ENCVYVQCK485HLZMG5310E5</th>\n",
       "      <td>b'Beautiful evening for drinks on the trumpchi...</td>\n",
       "      <td>First Person - Alcohol::Casual Drinking</td>\n",
       "    </tr>\n",
       "    <tr>\n",
       "      <th>...</th>\n",
       "      <td>...</td>\n",
       "      <td>...</td>\n",
       "    </tr>\n",
       "    <tr>\n",
       "      <th>3ZXV7Q5FJB8AVW7WBZI7YI9HQTFFCX</th>\n",
       "      <td>b\"So we gotta get kicked out of the party beca...</td>\n",
       "      <td>First Person - Alcohol::Reflecting on drinking</td>\n",
       "    </tr>\n",
       "    <tr>\n",
       "      <th>3I01FDIL6MS0ZU1YN0YBY5XA2PL2DZ</th>\n",
       "      <td>b'Would anyone like to hangout tonight and pos...</td>\n",
       "      <td>First Person - Alcohol::Looking to drink</td>\n",
       "    </tr>\n",
       "    <tr>\n",
       "      <th>38O9DZ0A6271ELMJDDQXSZNIL3Z62C</th>\n",
       "      <td>b'#NBAFinals winner tonight is______. @ZenaLew...</td>\n",
       "      <td>Not Alcohol Related</td>\n",
       "    </tr>\n",
       "    <tr>\n",
       "      <th>37M4O367VJ2V2LQYICZCF2NGVD4M52</th>\n",
       "      <td>b'Man I was trying to get drunk tonight \\xf0\\x...</td>\n",
       "      <td>First Person - Alcohol::Looking to drink</td>\n",
       "    </tr>\n",
       "    <tr>\n",
       "      <th>3E9ZFLPWOYCI8LKH33KFFS7J73UXI7</th>\n",
       "      <td>b\"@TonySimsMMA Watched your last few fights......</td>\n",
       "      <td>Alcohol Related::Discussion</td>\n",
       "    </tr>\n",
       "    <tr>\n",
       "      <th>3SMIWMMK61P8SCARNFD7WCHNSWBUWJ</th>\n",
       "      <td>b'Creepin with my niggas drunk and disrespectf...</td>\n",
       "      <td>First Person - Alcohol::Heavy Drinking</td>\n",
       "    </tr>\n",
       "    <tr>\n",
       "      <th>3IZPORCT1FTYFUNLOMW2QYKG69UHR2</th>\n",
       "      <td>b'Destroying innocent situations with my drink...</td>\n",
       "      <td>First Person - Alcohol::Reflecting on drinking</td>\n",
       "    </tr>\n",
       "    <tr>\n",
       "      <th>3QMELQS6Y5VII534S35YT7VQXVER6B</th>\n",
       "      <td>b'I miss the days of being a pubstomper carrin...</td>\n",
       "      <td>Not Alcohol Related</td>\n",
       "    </tr>\n",
       "    <tr>\n",
       "      <th>3I6NF2WGIGGVABUC791H2X3JZRT5GE</th>\n",
       "      <td>b'feel like buying some beer but rather buy it...</td>\n",
       "      <td>Alcohol Related::Discussion</td>\n",
       "    </tr>\n",
       "    <tr>\n",
       "      <th>38Z7YZ2SB3MYZOJ5HPPNLKBQA08QI4</th>\n",
       "      <td>b'Woke up still drunk'</td>\n",
       "      <td>First Person - Alcohol::Reflecting on drinking</td>\n",
       "    </tr>\n",
       "    <tr>\n",
       "      <th>32TMVRKDGNIYLDKUA66J5SG7BCL84W</th>\n",
       "      <td>b\"Can't a girl just want to party and drink\"</td>\n",
       "      <td>Alcohol Related::Discussion</td>\n",
       "    </tr>\n",
       "    <tr>\n",
       "      <th>304QEQWKZP4K7HP9YM8DQBGU958O0Y</th>\n",
       "      <td>b'Drinkin on a porch. #lovinglife'</td>\n",
       "      <td>Alcohol Related::Discussion</td>\n",
       "    </tr>\n",
       "    <tr>\n",
       "      <th>32L724R85L4DZCIQHCAYLFLG54LPIB</th>\n",
       "      <td>b\"I'm drinking this Hennessey forgetting about...</td>\n",
       "      <td>Alcohol Related::Discussion</td>\n",
       "    </tr>\n",
       "    <tr>\n",
       "      <th>3HRWUH63QUM1K3BYUDECSHCG03E5NL</th>\n",
       "      <td>b'Ya girl wants to go to the beach with her gi...</td>\n",
       "      <td>Alcohol Related::Discussion</td>\n",
       "    </tr>\n",
       "    <tr>\n",
       "      <th>3P888QFVX3E8VAU8FK2S5H7CM97QOZ</th>\n",
       "      <td>b\"I'm naming my daughter Gertrude. No nigga wa...</td>\n",
       "      <td>Not Alcohol Related</td>\n",
       "    </tr>\n",
       "    <tr>\n",
       "      <th>38G0E1M85MPVDNAMX58BAAY9LNAVUB</th>\n",
       "      <td>b'Wat are drinkin these days it seem like ever...</td>\n",
       "      <td>Alcohol Related::Discussion</td>\n",
       "    </tr>\n",
       "    <tr>\n",
       "      <th>3Z56AA6EK4KRLPQCNV9H781GR8FM6I</th>\n",
       "      <td>b'I drink beer way too fast'</td>\n",
       "      <td>First Person - Alcohol::Heavy Drinking</td>\n",
       "    </tr>\n",
       "    <tr>\n",
       "      <th>3VLL1PIENQ8H92VZ2GL5WAJGRCROZQ</th>\n",
       "      <td>b'some drink to remember, some drink to forget.'</td>\n",
       "      <td>Alcohol Related::Discussion</td>\n",
       "    </tr>\n",
       "    <tr>\n",
       "      <th>3D0LPO3EABJH4CLU6UJMI3AELINYO9</th>\n",
       "      <td>b'Bachata and drinks never mix well \\xf0\\x9f\\x...</td>\n",
       "      <td>Alcohol Related::Discussion</td>\n",
       "    </tr>\n",
       "    <tr>\n",
       "      <th>3CO05SML7VPN4UHPQEPHK6LZKST0RK</th>\n",
       "      <td>b\"I can't wear my pjs in public now because I'...</td>\n",
       "      <td>Not Alcohol Related</td>\n",
       "    </tr>\n",
       "    <tr>\n",
       "      <th>3UEBBGULPF86HQOWXQ37SOVNXTLFU6</th>\n",
       "      <td>b'Might get my sister drunk tonight &amp;amp; twea...</td>\n",
       "      <td>Alcohol Related::Discussion</td>\n",
       "    </tr>\n",
       "    <tr>\n",
       "      <th>3AFT28WXLFMVEC6P2CXJWFGQVZQIOO</th>\n",
       "      <td>b\"I'm a little drunk on you and high on summer...</td>\n",
       "      <td>First Person - Alcohol::Casual Drinking</td>\n",
       "    </tr>\n",
       "    <tr>\n",
       "      <th>3A9LA2FRWSYICQ9XXL2UFG647QGHXZ</th>\n",
       "      <td>b\"I'm still on you, I'm still on you. My drink...</td>\n",
       "      <td>First Person - Alcohol::Reflecting on drinking</td>\n",
       "    </tr>\n",
       "    <tr>\n",
       "      <th>3PCPFX4U40AEPXHFGHJ2INYYU8GFQ2</th>\n",
       "      <td>b'Check out my listing in #Marietta #GA http:/...</td>\n",
       "      <td>Not Alcohol Related</td>\n",
       "    </tr>\n",
       "    <tr>\n",
       "      <th>3JMNNNO3B1OZ801P4V31QTMV95Q2W7</th>\n",
       "      <td>b\"See I keep drinking soda and that's what's m...</td>\n",
       "      <td>Not Alcohol Related</td>\n",
       "    </tr>\n",
       "    <tr>\n",
       "      <th>3QD8LUVX4XI6WXP2WJ1LQJ3E2HO5X5</th>\n",
       "      <td>b'The constant struggle of sneezing and spilli...</td>\n",
       "      <td>First Person - Alcohol::Heavy Drinking</td>\n",
       "    </tr>\n",
       "    <tr>\n",
       "      <th>3QREJ3J433HEEMTGPN23HER9SYALKL</th>\n",
       "      <td>b\"This week, I've been drinking lemon and mint...</td>\n",
       "      <td>Alcohol Related::Discussion</td>\n",
       "    </tr>\n",
       "    <tr>\n",
       "      <th>3L7SUC0TTUEW7E4XL6T0Y7RPE5TM0H</th>\n",
       "      <td>b\"I probably shouldn't be drinking while I tri...</td>\n",
       "      <td>First Person - Alcohol::Casual Drinking</td>\n",
       "    </tr>\n",
       "    <tr>\n",
       "      <th>3XBYQ44Z6POTSZV2NANXRGVL9I4TWR</th>\n",
       "      <td>b'I am def not eating day old pizza and drinki...</td>\n",
       "      <td>First Person - Alcohol::Casual Drinking</td>\n",
       "    </tr>\n",
       "    <tr>\n",
       "      <th>3MZ3TAMYTL7YBPY5U4ENQALV6M9IRW</th>\n",
       "      <td>b'maybe I should stop drunk tweeting lol'</td>\n",
       "      <td>First Person - Alcohol::Heavy Drinking</td>\n",
       "    </tr>\n",
       "  </tbody>\n",
       "</table>\n",
       "<p>1761 rows × 2 columns</p>\n",
       "</div>"
      ],
      "text/plain": [
       "                                                                             text  \\\n",
       "HITID                                                                               \n",
       "3IV1AEQ4DRXOOV3FDDTNBU5QT998JL  b'I want the beach &amp; a fruity drink in my ...   \n",
       "39WSF6KUV25JY7436T7SB0IY36HOEJ  b\"But maybe I'm too drunk to be tweeting my li...   \n",
       "33NKDW9FFX2RVIYHBTOT4P9OUY8XC3  b\"Some drunk lady tried to suck on my neck  an...   \n",
       "3ZQX1VYFTDP2P6UCTQLSJQMCS3JO8K            b'thank god for wine and Wayward Pines'   \n",
       "3ZVPAMTJWNNKFYSA4GEK5Y8FR9GRGC                      b'drink a beer // luke bryan'   \n",
       "3Q7TKIAPOTU60GN6X6GGD1WJ8PBDLY  b'Told myself I was going to the gym today.. B...   \n",
       "3URJ6VVYUP71657AHNVF2E67QHNO4D      b\"too late 4 food porn.. y'all must be drunk\"   \n",
       "3ABAOCJ4R8OKV79W24NFDDI7R9QQMI  b'3 hours left till #TGIF drinking starts. WIL...   \n",
       "3W3RSPVVGSBSHIYSJ165N107UP6LUG  b\"I got dressed so drunk so I look like shit b...   \n",
       "3NOEP8XAU4MAP77LGYAZOP8VTHNXPH  b'I always regret drinking because i hate the ...   \n",
       "3K3G488TR2SMN0OQA56TWB7L5E05Q7                     b'I drank one sip of Gatorade'   \n",
       "3U74KRR67M5355MOV9WAVXIUG6ZNTT  b\"Well it's raining.. I'm drunk... Eating hot ...   \n",
       "3OREP8RUT2VXZRBL8JSU5J3B9NDGBO  b\"Everybody in my family is against me that I ...   \n",
       "301KG0KX9C5HBA609WH1PQC8UHD2H7  b'Currently getting my life \\xf0\\x9f\\x98\\x81\\x...   \n",
       "3UUIU9GZC5PZFGGIR90O1GI8PLZT59                   b\"Alex's party was just a blast\"   \n",
       "372AGES0I4PV1KN0TQEOTK8AUZBXR9  b\"Dying to do something fun that doesn't invol...   \n",
       "3NSM4HLQNREBGM7OUXUWUM2C1ANQQ5   b'Sippin on the purple any other drink is nasty'   \n",
       "3P520RYKCHQEFTV7REQY6C4A8Z65UC  b'Haley and I got some good years coming upon ...   \n",
       "3EPG8DX9LKA1NONBASR4W6HB0IE5PG  b\"it's all good that you'd rather hang out wit...   \n",
       "3L2OEKSTW9UEJKYEZDUQLHKE6DIY85  b'Fuck it, Finna get back to my beer and talk ...   \n",
       "3NQUW096N6SUXQAPLQBER5DTH4WL9P  b\"I got so drunk last night. I haven't been th...   \n",
       "3T6SSHJUZFULIQVM4HKECIK4JQPIIR             b\"I've been smokin I've been drinkinc\"   \n",
       "3ZG552ORAMOMTB1KELY54R3H2WO2VX  b'I had all the drinks last night #letyourhair...   \n",
       "3MDKGGG61Q7VYKGWWSATTMW8LGAT6P            b'ackee and curry goat .... and drinks'   \n",
       "386T3MLZLNFHMP2TR5JHTPQUU03086  b'New Beer Alert! @mainebeerco Lunch... Good a...   \n",
       "30EV7DWJTVFRF6FQ6YXS13ON0ISY6J  b'New \\xf0\\x9f\\x94\\xa5 #Trap #Rap Music #THCMG...   \n",
       "3EKTG13IZUN94ATJAZFJWRJDH33LMO  b\"I've been drinking the dirtiest of the dirty...   \n",
       "3XT3KXP24ZI5P60L2GBPFFUZAZUI6X             b'Someone come over and drink wiff me'   \n",
       "33Q5P9PUSP6G0DYWCBCE1APZ2Y7CZG  b\"Ooops. Apparently I need 2 chk weather repor...   \n",
       "3ICOHX7ENCVYVQCK485HLZMG5310E5  b'Beautiful evening for drinks on the trumpchi...   \n",
       "...                                                                           ...   \n",
       "3ZXV7Q5FJB8AVW7WBZI7YI9HQTFFCX  b\"So we gotta get kicked out of the party beca...   \n",
       "3I01FDIL6MS0ZU1YN0YBY5XA2PL2DZ  b'Would anyone like to hangout tonight and pos...   \n",
       "38O9DZ0A6271ELMJDDQXSZNIL3Z62C  b'#NBAFinals winner tonight is______. @ZenaLew...   \n",
       "37M4O367VJ2V2LQYICZCF2NGVD4M52  b'Man I was trying to get drunk tonight \\xf0\\x...   \n",
       "3E9ZFLPWOYCI8LKH33KFFS7J73UXI7  b\"@TonySimsMMA Watched your last few fights......   \n",
       "3SMIWMMK61P8SCARNFD7WCHNSWBUWJ  b'Creepin with my niggas drunk and disrespectf...   \n",
       "3IZPORCT1FTYFUNLOMW2QYKG69UHR2  b'Destroying innocent situations with my drink...   \n",
       "3QMELQS6Y5VII534S35YT7VQXVER6B  b'I miss the days of being a pubstomper carrin...   \n",
       "3I6NF2WGIGGVABUC791H2X3JZRT5GE  b'feel like buying some beer but rather buy it...   \n",
       "38Z7YZ2SB3MYZOJ5HPPNLKBQA08QI4                             b'Woke up still drunk'   \n",
       "32TMVRKDGNIYLDKUA66J5SG7BCL84W       b\"Can't a girl just want to party and drink\"   \n",
       "304QEQWKZP4K7HP9YM8DQBGU958O0Y                 b'Drinkin on a porch. #lovinglife'   \n",
       "32L724R85L4DZCIQHCAYLFLG54LPIB  b\"I'm drinking this Hennessey forgetting about...   \n",
       "3HRWUH63QUM1K3BYUDECSHCG03E5NL  b'Ya girl wants to go to the beach with her gi...   \n",
       "3P888QFVX3E8VAU8FK2S5H7CM97QOZ  b\"I'm naming my daughter Gertrude. No nigga wa...   \n",
       "38G0E1M85MPVDNAMX58BAAY9LNAVUB  b'Wat are drinkin these days it seem like ever...   \n",
       "3Z56AA6EK4KRLPQCNV9H781GR8FM6I                       b'I drink beer way too fast'   \n",
       "3VLL1PIENQ8H92VZ2GL5WAJGRCROZQ   b'some drink to remember, some drink to forget.'   \n",
       "3D0LPO3EABJH4CLU6UJMI3AELINYO9  b'Bachata and drinks never mix well \\xf0\\x9f\\x...   \n",
       "3CO05SML7VPN4UHPQEPHK6LZKST0RK  b\"I can't wear my pjs in public now because I'...   \n",
       "3UEBBGULPF86HQOWXQ37SOVNXTLFU6  b'Might get my sister drunk tonight &amp; twea...   \n",
       "3AFT28WXLFMVEC6P2CXJWFGQVZQIOO  b\"I'm a little drunk on you and high on summer...   \n",
       "3A9LA2FRWSYICQ9XXL2UFG647QGHXZ  b\"I'm still on you, I'm still on you. My drink...   \n",
       "3PCPFX4U40AEPXHFGHJ2INYYU8GFQ2  b'Check out my listing in #Marietta #GA http:/...   \n",
       "3JMNNNO3B1OZ801P4V31QTMV95Q2W7  b\"See I keep drinking soda and that's what's m...   \n",
       "3QD8LUVX4XI6WXP2WJ1LQJ3E2HO5X5  b'The constant struggle of sneezing and spilli...   \n",
       "3QREJ3J433HEEMTGPN23HER9SYALKL  b\"This week, I've been drinking lemon and mint...   \n",
       "3L7SUC0TTUEW7E4XL6T0Y7RPE5TM0H  b\"I probably shouldn't be drinking while I tri...   \n",
       "3XBYQ44Z6POTSZV2NANXRGVL9I4TWR  b'I am def not eating day old pizza and drinki...   \n",
       "3MZ3TAMYTL7YBPY5U4ENQALV6M9IRW          b'maybe I should stop drunk tweeting lol'   \n",
       "\n",
       "                                                                        Answer  \n",
       "HITID                                                                           \n",
       "3IV1AEQ4DRXOOV3FDDTNBU5QT998JL        First Person - Alcohol::Looking to drink  \n",
       "39WSF6KUV25JY7436T7SB0IY36HOEJ          First Person - Alcohol::Heavy Drinking  \n",
       "33NKDW9FFX2RVIYHBTOT4P9OUY8XC3                     Alcohol Related::Discussion  \n",
       "3ZQX1VYFTDP2P6UCTQLSJQMCS3JO8K                     Alcohol Related::Discussion  \n",
       "3ZVPAMTJWNNKFYSA4GEK5Y8FR9GRGC                     Alcohol Related::Discussion  \n",
       "3Q7TKIAPOTU60GN6X6GGD1WJ8PBDLY        First Person - Alcohol::Looking to drink  \n",
       "3URJ6VVYUP71657AHNVF2E67QHNO4D                     Alcohol Related::Discussion  \n",
       "3ABAOCJ4R8OKV79W24NFDDI7R9QQMI                             Not Alcohol Related  \n",
       "3W3RSPVVGSBSHIYSJ165N107UP6LUG          First Person - Alcohol::Heavy Drinking  \n",
       "3NOEP8XAU4MAP77LGYAZOP8VTHNXPH  First Person - Alcohol::Reflecting on drinking  \n",
       "3K3G488TR2SMN0OQA56TWB7L5E05Q7                             Not Alcohol Related  \n",
       "3U74KRR67M5355MOV9WAVXIUG6ZNTT          First Person - Alcohol::Heavy Drinking  \n",
       "3OREP8RUT2VXZRBL8JSU5J3B9NDGBO                             Not Alcohol Related  \n",
       "301KG0KX9C5HBA609WH1PQC8UHD2H7                             Not Alcohol Related  \n",
       "3UUIU9GZC5PZFGGIR90O1GI8PLZT59                             Not Alcohol Related  \n",
       "372AGES0I4PV1KN0TQEOTK8AUZBXR9                     Alcohol Related::Discussion  \n",
       "3NSM4HLQNREBGM7OUXUWUM2C1ANQQ5         First Person - Alcohol::Casual Drinking  \n",
       "3P520RYKCHQEFTV7REQY6C4A8Z65UC                             Not Alcohol Related  \n",
       "3EPG8DX9LKA1NONBASR4W6HB0IE5PG                     Alcohol Related::Discussion  \n",
       "3L2OEKSTW9UEJKYEZDUQLHKE6DIY85        First Person - Alcohol::Looking to drink  \n",
       "3NQUW096N6SUXQAPLQBER5DTH4WL9P  First Person - Alcohol::Reflecting on drinking  \n",
       "3T6SSHJUZFULIQVM4HKECIK4JQPIIR         First Person - Alcohol::Casual Drinking  \n",
       "3ZG552ORAMOMTB1KELY54R3H2WO2VX  First Person - Alcohol::Reflecting on drinking  \n",
       "3MDKGGG61Q7VYKGWWSATTMW8LGAT6P                             Not Alcohol Related  \n",
       "386T3MLZLNFHMP2TR5JHTPQUU03086            Alcohol Related::Promotional Content  \n",
       "30EV7DWJTVFRF6FQ6YXS13ON0ISY6J                             Not Alcohol Related  \n",
       "3EKTG13IZUN94ATJAZFJWRJDH33LMO          First Person - Alcohol::Heavy Drinking  \n",
       "3XT3KXP24ZI5P60L2GBPFFUZAZUI6X        First Person - Alcohol::Looking to drink  \n",
       "33Q5P9PUSP6G0DYWCBCE1APZ2Y7CZG                             Not Alcohol Related  \n",
       "3ICOHX7ENCVYVQCK485HLZMG5310E5         First Person - Alcohol::Casual Drinking  \n",
       "...                                                                        ...  \n",
       "3ZXV7Q5FJB8AVW7WBZI7YI9HQTFFCX  First Person - Alcohol::Reflecting on drinking  \n",
       "3I01FDIL6MS0ZU1YN0YBY5XA2PL2DZ        First Person - Alcohol::Looking to drink  \n",
       "38O9DZ0A6271ELMJDDQXSZNIL3Z62C                             Not Alcohol Related  \n",
       "37M4O367VJ2V2LQYICZCF2NGVD4M52        First Person - Alcohol::Looking to drink  \n",
       "3E9ZFLPWOYCI8LKH33KFFS7J73UXI7                     Alcohol Related::Discussion  \n",
       "3SMIWMMK61P8SCARNFD7WCHNSWBUWJ          First Person - Alcohol::Heavy Drinking  \n",
       "3IZPORCT1FTYFUNLOMW2QYKG69UHR2  First Person - Alcohol::Reflecting on drinking  \n",
       "3QMELQS6Y5VII534S35YT7VQXVER6B                             Not Alcohol Related  \n",
       "3I6NF2WGIGGVABUC791H2X3JZRT5GE                     Alcohol Related::Discussion  \n",
       "38Z7YZ2SB3MYZOJ5HPPNLKBQA08QI4  First Person - Alcohol::Reflecting on drinking  \n",
       "32TMVRKDGNIYLDKUA66J5SG7BCL84W                     Alcohol Related::Discussion  \n",
       "304QEQWKZP4K7HP9YM8DQBGU958O0Y                     Alcohol Related::Discussion  \n",
       "32L724R85L4DZCIQHCAYLFLG54LPIB                     Alcohol Related::Discussion  \n",
       "3HRWUH63QUM1K3BYUDECSHCG03E5NL                     Alcohol Related::Discussion  \n",
       "3P888QFVX3E8VAU8FK2S5H7CM97QOZ                             Not Alcohol Related  \n",
       "38G0E1M85MPVDNAMX58BAAY9LNAVUB                     Alcohol Related::Discussion  \n",
       "3Z56AA6EK4KRLPQCNV9H781GR8FM6I          First Person - Alcohol::Heavy Drinking  \n",
       "3VLL1PIENQ8H92VZ2GL5WAJGRCROZQ                     Alcohol Related::Discussion  \n",
       "3D0LPO3EABJH4CLU6UJMI3AELINYO9                     Alcohol Related::Discussion  \n",
       "3CO05SML7VPN4UHPQEPHK6LZKST0RK                             Not Alcohol Related  \n",
       "3UEBBGULPF86HQOWXQ37SOVNXTLFU6                     Alcohol Related::Discussion  \n",
       "3AFT28WXLFMVEC6P2CXJWFGQVZQIOO         First Person - Alcohol::Casual Drinking  \n",
       "3A9LA2FRWSYICQ9XXL2UFG647QGHXZ  First Person - Alcohol::Reflecting on drinking  \n",
       "3PCPFX4U40AEPXHFGHJ2INYYU8GFQ2                             Not Alcohol Related  \n",
       "3JMNNNO3B1OZ801P4V31QTMV95Q2W7                             Not Alcohol Related  \n",
       "3QD8LUVX4XI6WXP2WJ1LQJ3E2HO5X5          First Person - Alcohol::Heavy Drinking  \n",
       "3QREJ3J433HEEMTGPN23HER9SYALKL                     Alcohol Related::Discussion  \n",
       "3L7SUC0TTUEW7E4XL6T0Y7RPE5TM0H         First Person - Alcohol::Casual Drinking  \n",
       "3XBYQ44Z6POTSZV2NANXRGVL9I4TWR         First Person - Alcohol::Casual Drinking  \n",
       "3MZ3TAMYTL7YBPY5U4ENQALV6M9IRW          First Person - Alcohol::Heavy Drinking  \n",
       "\n",
       "[1761 rows x 2 columns]"
      ]
     },
     "execution_count": 50,
     "metadata": {},
     "output_type": "execute_result"
    }
   ],
   "source": [
    "df[df.Worker != \"A1T79J0XQXDDGC\"][[\"text\", \"Answer\"]]"
   ]
  },
  {
   "cell_type": "code",
   "execution_count": 48,
   "metadata": {
    "collapsed": false
   },
   "outputs": [],
   "source": [
    "df = df[df.Worker != \"A2AFTOA85C1FM9\"]"
   ]
  },
  {
   "cell_type": "code",
   "execution_count": 33,
   "metadata": {
    "collapsed": false
   },
   "outputs": [],
   "source": [
    "df = df[df.Worker != \"A2AFTOA85C1FM9\"]\n",
    "df = df[df.Answer != \"Alcohol Related\"]"
   ]
  },
  {
   "cell_type": "code",
   "execution_count": 34,
   "metadata": {
    "collapsed": false
   },
   "outputs": [
    {
     "data": {
      "text/plain": [
       "4999"
      ]
     },
     "execution_count": 34,
     "metadata": {},
     "output_type": "execute_result"
    }
   ],
   "source": [
    "len(df)"
   ]
  },
  {
   "cell_type": "code",
   "execution_count": 38,
   "metadata": {
    "collapsed": false
   },
   "outputs": [],
   "source": [
    "df = df.set_index(\"_id\")"
   ]
  },
  {
   "cell_type": "code",
   "execution_count": 39,
   "metadata": {
    "collapsed": false
   },
   "outputs": [
    {
     "data": {
      "text/html": [
       "<div>\n",
       "<table border=\"1\" class=\"dataframe\">\n",
       "  <thead>\n",
       "    <tr style=\"text-align: right;\">\n",
       "      <th></th>\n",
       "      <th>text</th>\n",
       "      <th>random_number</th>\n",
       "      <th>Worker</th>\n",
       "      <th>Answer</th>\n",
       "      <th>Date</th>\n",
       "    </tr>\n",
       "    <tr>\n",
       "      <th>_id</th>\n",
       "      <th></th>\n",
       "      <th></th>\n",
       "      <th></th>\n",
       "      <th></th>\n",
       "      <th></th>\n",
       "    </tr>\n",
       "  </thead>\n",
       "  <tbody>\n",
       "    <tr>\n",
       "      <th>558df786d6dfbb2b5aadff61</th>\n",
       "      <td>b'21 to drink, 18 to sleep over'</td>\n",
       "      <td>-3983732479117161297</td>\n",
       "      <td>A3F0M2W5XC5S62</td>\n",
       "      <td>Alcohol Related::Discussion</td>\n",
       "      <td>2016-02-07 23:05:41 UTC</td>\n",
       "    </tr>\n",
       "    <tr>\n",
       "      <th>55851d3ed6dfbb7f571917b7</th>\n",
       "      <td>b'Drunk in bed :)'</td>\n",
       "      <td>-5220278192394077022</td>\n",
       "      <td>A3F0M2W5XC5S62</td>\n",
       "      <td>First Person - Alcohol::Heavy Drinking</td>\n",
       "      <td>2016-02-07 23:06:10 UTC</td>\n",
       "    </tr>\n",
       "    <tr>\n",
       "      <th>55746af4d6dfbb3bdb427042</th>\n",
       "      <td>b\"The bday boi and girl getting it in. @ RIC'S...</td>\n",
       "      <td>-7662040086887814805</td>\n",
       "      <td>A3F0M2W5XC5S62</td>\n",
       "      <td>First Person - Alcohol::Casual Drinking</td>\n",
       "      <td>2016-02-07 23:06:01 UTC</td>\n",
       "    </tr>\n",
       "    <tr>\n",
       "      <th>558dee13d6dfbb1d495585d1</th>\n",
       "      <td>b'Drinking an 60 Minute IPA by @dogfishbeer @ ...</td>\n",
       "      <td>-7050211665376073579</td>\n",
       "      <td>A3F0M2W5XC5S62</td>\n",
       "      <td>First Person - Alcohol::Casual Drinking</td>\n",
       "      <td>2016-02-07 23:05:51 UTC</td>\n",
       "    </tr>\n",
       "    <tr>\n",
       "      <th>5581ece5d6dfbb1537c09c08</th>\n",
       "      <td>b'My friend just got dumped-which sucks for he...</td>\n",
       "      <td>-4939467451569448549</td>\n",
       "      <td>A230VUDYOCRZ4N</td>\n",
       "      <td>Alcohol Related::Discussion</td>\n",
       "      <td>2016-02-07 23:06:14 UTC</td>\n",
       "    </tr>\n",
       "  </tbody>\n",
       "</table>\n",
       "</div>"
      ],
      "text/plain": [
       "                                                                       text  \\\n",
       "_id                                                                           \n",
       "558df786d6dfbb2b5aadff61                   b'21 to drink, 18 to sleep over'   \n",
       "55851d3ed6dfbb7f571917b7                                 b'Drunk in bed :)'   \n",
       "55746af4d6dfbb3bdb427042  b\"The bday boi and girl getting it in. @ RIC'S...   \n",
       "558dee13d6dfbb1d495585d1  b'Drinking an 60 Minute IPA by @dogfishbeer @ ...   \n",
       "5581ece5d6dfbb1537c09c08  b'My friend just got dumped-which sucks for he...   \n",
       "\n",
       "                                random_number          Worker  \\\n",
       "_id                                                             \n",
       "558df786d6dfbb2b5aadff61 -3983732479117161297  A3F0M2W5XC5S62   \n",
       "55851d3ed6dfbb7f571917b7 -5220278192394077022  A3F0M2W5XC5S62   \n",
       "55746af4d6dfbb3bdb427042 -7662040086887814805  A3F0M2W5XC5S62   \n",
       "558dee13d6dfbb1d495585d1 -7050211665376073579  A3F0M2W5XC5S62   \n",
       "5581ece5d6dfbb1537c09c08 -4939467451569448549  A230VUDYOCRZ4N   \n",
       "\n",
       "                                                           Answer  \\\n",
       "_id                                                                 \n",
       "558df786d6dfbb2b5aadff61              Alcohol Related::Discussion   \n",
       "55851d3ed6dfbb7f571917b7   First Person - Alcohol::Heavy Drinking   \n",
       "55746af4d6dfbb3bdb427042  First Person - Alcohol::Casual Drinking   \n",
       "558dee13d6dfbb1d495585d1  First Person - Alcohol::Casual Drinking   \n",
       "5581ece5d6dfbb1537c09c08              Alcohol Related::Discussion   \n",
       "\n",
       "                                             Date  \n",
       "_id                                                \n",
       "558df786d6dfbb2b5aadff61  2016-02-07 23:05:41 UTC  \n",
       "55851d3ed6dfbb7f571917b7  2016-02-07 23:06:10 UTC  \n",
       "55746af4d6dfbb3bdb427042  2016-02-07 23:06:01 UTC  \n",
       "558dee13d6dfbb1d495585d1  2016-02-07 23:05:51 UTC  \n",
       "5581ece5d6dfbb1537c09c08  2016-02-07 23:06:14 UTC  "
      ]
     },
     "execution_count": 39,
     "metadata": {},
     "output_type": "execute_result"
    }
   ],
   "source": [
    "df.head()"
   ]
  },
  {
   "cell_type": "markdown",
   "metadata": {},
   "source": [
    "#### Writing Labels using TurkResults2Label"
   ]
  },
  {
   "cell_type": "code",
   "execution_count": 41,
   "metadata": {
    "collapsed": false
   },
   "outputs": [
    {
     "name": "stdout",
     "output_type": "stream",
     "text": [
      "CPU times: user 5.77 s, sys: 2.98 s, total: 8.76 s\n",
      "Wall time: 8min 54s\n"
     ]
    }
   ],
   "source": [
    "%%time\n",
    "DataAccess.write_labels(df.Answer.apply(TurkResults2Label.parse_to_labels))"
   ]
  },
  {
   "cell_type": "code",
   "execution_count": null,
   "metadata": {
    "collapsed": true
   },
   "outputs": [],
   "source": []
  }
 ],
 "metadata": {
  "kernelspec": {
   "display_name": "Python 3",
   "language": "python",
   "name": "python3"
  },
  "language_info": {
   "codemirror_mode": {
    "name": "ipython",
    "version": 3
   },
   "file_extension": ".py",
   "mimetype": "text/x-python",
   "name": "python",
   "nbconvert_exporter": "python",
   "pygments_lexer": "ipython3",
   "version": "3.5.1"
  }
 },
 "nbformat": 4,
 "nbformat_minor": 0
}
