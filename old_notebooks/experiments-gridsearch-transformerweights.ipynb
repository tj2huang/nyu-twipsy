{
 "cells": [
  {
   "cell_type": "markdown",
   "metadata": {},
   "source": [
    "# GridSearching TransformerWeights"
   ]
  },
  {
   "cell_type": "code",
   "execution_count": 48,
   "metadata": {
    "collapsed": true
   },
   "outputs": [],
   "source": [
    "from pipelines.alcohol import AlcoholPipeline\n",
    "\n",
    "from data.dao import DataAccess, LabelGetter\n",
    "\n",
    "from sklearn.linear_model import LogisticRegression\n",
    "from sklearn.grid_search import RandomizedSearchCV, GridSearchCV, ParameterGrid"
   ]
  },
  {
   "cell_type": "code",
   "execution_count": 68,
   "metadata": {
    "collapsed": true
   },
   "outputs": [],
   "source": [
    "XX = DataAccess.get_as_dataframe()\n",
    "LL = LabelGetter(XX)"
   ]
  },
  {
   "cell_type": "markdown",
   "metadata": {},
   "source": [
    "Create Pipeline!!!"
   ]
  },
  {
   "cell_type": "code",
   "execution_count": 110,
   "metadata": {
    "collapsed": false
   },
   "outputs": [
    {
     "data": {
      "text/plain": [
       "Pipeline(steps=[('exploder', ExplodingRecordJoiner(user=['created_at', 'favourites_count', 'followers_count', 'friends_count', 'statuses_count', 'verified'])), ('features', FeatureUnion(n_jobs=1,\n",
       "       transformer_list=[('time', Pipeline(steps=[('getter', ItemGetter(key='created_at')), ('to_datetimeindex', ...',\n",
       "          penalty='l2', random_state=None, solver='liblinear', tol=0.0001,\n",
       "          verbose=0))])"
      ]
     },
     "execution_count": 110,
     "metadata": {},
     "output_type": "execute_result"
    }
   ],
   "source": [
    "initialized_pipeline = AlcoholPipeline(time_features=[\"hour\", \"dayofweek\"])\n",
    "pipeline = initialized_pipeline.pipeline(LogisticRegression(C=50))\n",
    "pipeline.set_params(**{\n",
    "        'features__text__tfidf__analyzer': 'char',\n",
    "         'features__text__tfidf__lowercase': True,\n",
    "         'features__text__tfidf__max_features': 93000,\n",
    "         'features__text__tfidf__ngram_range': (1, 5),\n",
    "         'features__text__tfidf__norm': 'l2'\n",
    "    })"
   ]
  },
  {
   "cell_type": "markdown",
   "metadata": {},
   "source": [
    "Generate ParamGrid"
   ]
  },
  {
   "cell_type": "code",
   "execution_count": 115,
   "metadata": {
    "collapsed": true
   },
   "outputs": [],
   "source": [
    "weights = list(ParameterGrid(dict(\n",
    "    time=[0,1,3],\n",
    "    text=[1,3],\n",
    "    age=[0,1,3],\n",
    "    user=[0,1,3]\n",
    ")))"
   ]
  },
  {
   "cell_type": "code",
   "execution_count": 116,
   "metadata": {
    "collapsed": true
   },
   "outputs": [],
   "source": [
    "param_grid = {\"features__transformer_weights\": weights}"
   ]
  },
  {
   "cell_type": "code",
   "execution_count": 121,
   "metadata": {
    "collapsed": true
   },
   "outputs": [],
   "source": [
    "clfs = []"
   ]
  },
  {
   "cell_type": "markdown",
   "metadata": {},
   "source": [
    "### Alcohol"
   ]
  },
  {
   "cell_type": "code",
   "execution_count": 122,
   "metadata": {
    "collapsed": false
   },
   "outputs": [
    {
     "name": "stdout",
     "output_type": "stream",
     "text": [
      "Fitting 3 folds for each of 54 candidates, totalling 162 fits\n"
     ]
    },
    {
     "name": "stderr",
     "output_type": "stream",
     "text": [
      "[Parallel(n_jobs=4)]: Done  42 tasks      | elapsed:  1.5min\n",
      "[Parallel(n_jobs=4)]: Done 162 out of 162 | elapsed:  6.2min finished\n"
     ]
    }
   ],
   "source": [
    "X, y = LL.get_alcohol()\n",
    "clfs.append((\"alcohol\",\n",
    "            GridSearchCV(pipeline, param_grid, verbose=1, n_jobs=4, scoring=\"f1\").fit(X, y)\n",
    "            ))"
   ]
  },
  {
   "cell_type": "markdown",
   "metadata": {},
   "source": [
    "### First Person"
   ]
  },
  {
   "cell_type": "code",
   "execution_count": 123,
   "metadata": {
    "collapsed": false
   },
   "outputs": [
    {
     "name": "stdout",
     "output_type": "stream",
     "text": [
      "Fitting 3 folds for each of 54 candidates, totalling 162 fits\n"
     ]
    },
    {
     "name": "stderr",
     "output_type": "stream",
     "text": [
      "[Parallel(n_jobs=4)]: Done  42 tasks      | elapsed:   24.2s\n",
      "[Parallel(n_jobs=4)]: Done 162 out of 162 | elapsed:  1.6min finished\n"
     ]
    }
   ],
   "source": [
    "X, y = LL.get_first_person()\n",
    "clfs.append((\"first_person\",\n",
    "            GridSearchCV(pipeline, param_grid, verbose=1, n_jobs=4, scoring=\"f1\").fit(X, y)\n",
    "            ))"
   ]
  },
  {
   "cell_type": "markdown",
   "metadata": {},
   "source": [
    "### First Person Level"
   ]
  },
  {
   "cell_type": "code",
   "execution_count": 124,
   "metadata": {
    "collapsed": false
   },
   "outputs": [
    {
     "name": "stdout",
     "output_type": "stream",
     "text": [
      "Fitting 3 folds for each of 54 candidates, totalling 162 fits\n"
     ]
    },
    {
     "name": "stderr",
     "output_type": "stream",
     "text": [
      "[Parallel(n_jobs=4)]: Done  42 tasks      | elapsed:   21.0s\n",
      "[Parallel(n_jobs=4)]: Done 162 out of 162 | elapsed:  1.4min finished\n"
     ]
    }
   ],
   "source": [
    "X, y = LL.get_first_person_label()\n",
    "clfs.append((\"first_person_level\",\n",
    "            GridSearchCV(pipeline, param_grid, verbose=1, n_jobs=4, scoring=\"f1_weighted\").fit(X, y)\n",
    "            ))"
   ]
  },
  {
   "cell_type": "code",
   "execution_count": 158,
   "metadata": {
    "collapsed": false
   },
   "outputs": [
    {
     "data": {
      "text/plain": [
       "[mean: 0.81504, std: 0.01546, params: {'features__transformer_weights': {'time': 1, 'user': 3, 'age': 0, 'text': 3}},\n",
       " mean: 0.81513, std: 0.01618, params: {'features__transformer_weights': {'time': 3, 'user': 1, 'age': 0, 'text': 3}},\n",
       " mean: 0.81516, std: 0.01655, params: {'features__transformer_weights': {'time': 3, 'user': 3, 'age': 0, 'text': 3}},\n",
       " mean: 0.81520, std: 0.01448, params: {'features__transformer_weights': {'time': 1, 'user': 1, 'age': 0, 'text': 3}},\n",
       " mean: 0.81529, std: 0.01605, params: {'features__transformer_weights': {'time': 1, 'user': 3, 'age': 3, 'text': 3}},\n",
       " mean: 0.81542, std: 0.01586, params: {'features__transformer_weights': {'time': 1, 'user': 1, 'age': 3, 'text': 3}},\n",
       " mean: 0.81551, std: 0.01500, params: {'features__transformer_weights': {'time': 1, 'user': 1, 'age': 1, 'text': 3}},\n",
       " mean: 0.81551, std: 0.01621, params: {'features__transformer_weights': {'time': 3, 'user': 1, 'age': 3, 'text': 3}},\n",
       " mean: 0.81563, std: 0.01536, params: {'features__transformer_weights': {'time': 3, 'user': 1, 'age': 1, 'text': 3}},\n",
       " mean: 0.81569, std: 0.01565, params: {'features__transformer_weights': {'time': 1, 'user': 3, 'age': 1, 'text': 3}},\n",
       " mean: 0.81576, std: 0.01564, params: {'features__transformer_weights': {'time': 3, 'user': 3, 'age': 1, 'text': 3}},\n",
       " mean: 0.81585, std: 0.01328, params: {'features__transformer_weights': {'time': 3, 'user': 0, 'age': 1, 'text': 3}},\n",
       " mean: 0.81591, std: 0.01690, params: {'features__transformer_weights': {'time': 3, 'user': 3, 'age': 3, 'text': 3}},\n",
       " mean: 0.81634, std: 0.01343, params: {'features__transformer_weights': {'time': 1, 'user': 0, 'age': 1, 'text': 3}},\n",
       " mean: 0.81647, std: 0.01399, params: {'features__transformer_weights': {'time': 1, 'user': 0, 'age': 3, 'text': 3}},\n",
       " mean: 0.81700, std: 0.01344, params: {'features__transformer_weights': {'time': 3, 'user': 0, 'age': 0, 'text': 3}},\n",
       " mean: 0.81700, std: 0.01334, params: {'features__transformer_weights': {'time': 1, 'user': 0, 'age': 0, 'text': 3}},\n",
       " mean: 0.81703, std: 0.01370, params: {'features__transformer_weights': {'time': 3, 'user': 0, 'age': 3, 'text': 3}},\n",
       " mean: 0.81891, std: 0.01564, params: {'features__transformer_weights': {'time': 3, 'user': 0, 'age': 0, 'text': 1}},\n",
       " mean: 0.81900, std: 0.01556, params: {'features__transformer_weights': {'time': 1, 'user': 0, 'age': 0, 'text': 1}},\n",
       " mean: 0.81902, std: 0.01636, params: {'features__transformer_weights': {'time': 3, 'user': 0, 'age': 3, 'text': 1}},\n",
       " mean: 0.81912, std: 0.01683, params: {'features__transformer_weights': {'time': 1, 'user': 0, 'age': 3, 'text': 1}},\n",
       " mean: 0.81919, std: 0.01617, params: {'features__transformer_weights': {'time': 1, 'user': 0, 'age': 1, 'text': 1}},\n",
       " mean: 0.81927, std: 0.01609, params: {'features__transformer_weights': {'time': 3, 'user': 0, 'age': 1, 'text': 1}},\n",
       " mean: 0.81931, std: 0.01751, params: {'features__transformer_weights': {'time': 3, 'user': 1, 'age': 3, 'text': 1}},\n",
       " mean: 0.81950, std: 0.01716, params: {'features__transformer_weights': {'time': 1, 'user': 3, 'age': 1, 'text': 1}},\n",
       " mean: 0.81985, std: 0.01708, params: {'features__transformer_weights': {'time': 1, 'user': 1, 'age': 3, 'text': 1}},\n",
       " mean: 0.81994, std: 0.01697, params: {'features__transformer_weights': {'time': 1, 'user': 1, 'age': 1, 'text': 1}},\n",
       " mean: 0.81999, std: 0.01699, params: {'features__transformer_weights': {'time': 3, 'user': 1, 'age': 0, 'text': 1}},\n",
       " mean: 0.82045, std: 0.01727, params: {'features__transformer_weights': {'time': 3, 'user': 3, 'age': 0, 'text': 1}},\n",
       " mean: 0.82052, std: 0.01658, params: {'features__transformer_weights': {'time': 3, 'user': 3, 'age': 1, 'text': 1}},\n",
       " mean: 0.82059, std: 0.01720, params: {'features__transformer_weights': {'time': 3, 'user': 3, 'age': 3, 'text': 1}},\n",
       " mean: 0.82080, std: 0.01769, params: {'features__transformer_weights': {'time': 3, 'user': 1, 'age': 1, 'text': 1}},\n",
       " mean: 0.82086, std: 0.01622, params: {'features__transformer_weights': {'time': 1, 'user': 1, 'age': 0, 'text': 1}},\n",
       " mean: 0.82107, std: 0.01677, params: {'features__transformer_weights': {'time': 1, 'user': 3, 'age': 3, 'text': 1}},\n",
       " mean: 0.82121, std: 0.01670, params: {'features__transformer_weights': {'time': 1, 'user': 3, 'age': 0, 'text': 1}},\n",
       " mean: 0.82711, std: 0.01365, params: {'features__transformer_weights': {'time': 0, 'user': 1, 'age': 3, 'text': 3}},\n",
       " mean: 0.82783, std: 0.01293, params: {'features__transformer_weights': {'time': 0, 'user': 3, 'age': 3, 'text': 3}},\n",
       " mean: 0.82791, std: 0.01232, params: {'features__transformer_weights': {'time': 0, 'user': 1, 'age': 0, 'text': 3}},\n",
       " mean: 0.82823, std: 0.01242, params: {'features__transformer_weights': {'time': 0, 'user': 3, 'age': 0, 'text': 3}},\n",
       " mean: 0.82835, std: 0.01224, params: {'features__transformer_weights': {'time': 0, 'user': 3, 'age': 1, 'text': 3}},\n",
       " mean: 0.82835, std: 0.01331, params: {'features__transformer_weights': {'time': 0, 'user': 1, 'age': 1, 'text': 3}},\n",
       " mean: 0.82938, std: 0.01072, params: {'features__transformer_weights': {'time': 0, 'user': 0, 'age': 1, 'text': 3}},\n",
       " mean: 0.82950, std: 0.01075, params: {'features__transformer_weights': {'time': 0, 'user': 0, 'age': 0, 'text': 3}},\n",
       " mean: 0.83008, std: 0.01140, params: {'features__transformer_weights': {'time': 0, 'user': 0, 'age': 3, 'text': 3}},\n",
       " mean: 0.83048, std: 0.01356, params: {'features__transformer_weights': {'time': 0, 'user': 3, 'age': 3, 'text': 1}},\n",
       " mean: 0.83053, std: 0.01383, params: {'features__transformer_weights': {'time': 0, 'user': 3, 'age': 1, 'text': 1}},\n",
       " mean: 0.83094, std: 0.01344, params: {'features__transformer_weights': {'time': 0, 'user': 3, 'age': 0, 'text': 1}},\n",
       " mean: 0.83148, std: 0.01273, params: {'features__transformer_weights': {'time': 0, 'user': 1, 'age': 0, 'text': 1}},\n",
       " mean: 0.83193, std: 0.01290, params: {'features__transformer_weights': {'time': 0, 'user': 1, 'age': 1, 'text': 1}},\n",
       " mean: 0.83197, std: 0.01387, params: {'features__transformer_weights': {'time': 0, 'user': 1, 'age': 3, 'text': 1}},\n",
       " mean: 0.83449, std: 0.01182, params: {'features__transformer_weights': {'time': 0, 'user': 0, 'age': 0, 'text': 1}},\n",
       " mean: 0.83456, std: 0.01211, params: {'features__transformer_weights': {'time': 0, 'user': 0, 'age': 3, 'text': 1}},\n",
       " mean: 0.83465, std: 0.01238, params: {'features__transformer_weights': {'time': 0, 'user': 0, 'age': 1, 'text': 1}}]"
      ]
     },
     "execution_count": 158,
     "metadata": {},
     "output_type": "execute_result"
    }
   ],
   "source": [
    "sorted(clfs[0][1].grid_scores_, key=lambda _: _[1])"
   ]
  },
  {
   "cell_type": "code",
   "execution_count": 157,
   "metadata": {
    "collapsed": false
   },
   "outputs": [
    {
     "data": {
      "text/plain": [
       "[mean: 0.65389, std: 0.02195, params: {'features__transformer_weights': {'time': 3, 'user': 3, 'age': 0, 'text': 1}},\n",
       " mean: 0.65426, std: 0.02088, params: {'features__transformer_weights': {'time': 3, 'user': 3, 'age': 3, 'text': 3}},\n",
       " mean: 0.65431, std: 0.02168, params: {'features__transformer_weights': {'time': 3, 'user': 1, 'age': 0, 'text': 1}},\n",
       " mean: 0.65437, std: 0.02162, params: {'features__transformer_weights': {'time': 3, 'user': 1, 'age': 0, 'text': 3}},\n",
       " mean: 0.65475, std: 0.02350, params: {'features__transformer_weights': {'time': 1, 'user': 3, 'age': 0, 'text': 1}},\n",
       " mean: 0.65613, std: 0.02380, params: {'features__transformer_weights': {'time': 1, 'user': 1, 'age': 0, 'text': 1}},\n",
       " mean: 0.65664, std: 0.02242, params: {'features__transformer_weights': {'time': 3, 'user': 3, 'age': 1, 'text': 3}},\n",
       " mean: 0.65715, std: 0.02023, params: {'features__transformer_weights': {'time': 1, 'user': 3, 'age': 3, 'text': 1}},\n",
       " mean: 0.65718, std: 0.02186, params: {'features__transformer_weights': {'time': 1, 'user': 3, 'age': 1, 'text': 1}},\n",
       " mean: 0.65819, std: 0.02025, params: {'features__transformer_weights': {'time': 3, 'user': 3, 'age': 3, 'text': 1}},\n",
       " mean: 0.65826, std: 0.02099, params: {'features__transformer_weights': {'time': 3, 'user': 3, 'age': 0, 'text': 3}},\n",
       " mean: 0.65849, std: 0.02414, params: {'features__transformer_weights': {'time': 3, 'user': 1, 'age': 1, 'text': 1}},\n",
       " mean: 0.65869, std: 0.01559, params: {'features__transformer_weights': {'time': 1, 'user': 1, 'age': 3, 'text': 3}},\n",
       " mean: 0.65895, std: 0.02351, params: {'features__transformer_weights': {'time': 1, 'user': 1, 'age': 1, 'text': 1}},\n",
       " mean: 0.65909, std: 0.02181, params: {'features__transformer_weights': {'time': 3, 'user': 1, 'age': 3, 'text': 3}},\n",
       " mean: 0.65912, std: 0.02111, params: {'features__transformer_weights': {'time': 3, 'user': 3, 'age': 1, 'text': 1}},\n",
       " mean: 0.65913, std: 0.01636, params: {'features__transformer_weights': {'time': 1, 'user': 1, 'age': 1, 'text': 3}},\n",
       " mean: 0.65924, std: 0.01183, params: {'features__transformer_weights': {'time': 1, 'user': 3, 'age': 3, 'text': 3}},\n",
       " mean: 0.65925, std: 0.01359, params: {'features__transformer_weights': {'time': 1, 'user': 3, 'age': 1, 'text': 3}},\n",
       " mean: 0.65950, std: 0.02275, params: {'features__transformer_weights': {'time': 3, 'user': 1, 'age': 3, 'text': 1}},\n",
       " mean: 0.65957, std: 0.01774, params: {'features__transformer_weights': {'time': 1, 'user': 1, 'age': 0, 'text': 3}},\n",
       " mean: 0.66002, std: 0.02258, params: {'features__transformer_weights': {'time': 3, 'user': 1, 'age': 1, 'text': 3}},\n",
       " mean: 0.66022, std: 0.01015, params: {'features__transformer_weights': {'time': 1, 'user': 0, 'age': 3, 'text': 3}},\n",
       " mean: 0.66083, std: 0.02479, params: {'features__transformer_weights': {'time': 1, 'user': 1, 'age': 3, 'text': 1}},\n",
       " mean: 0.66122, std: 0.00874, params: {'features__transformer_weights': {'time': 1, 'user': 0, 'age': 1, 'text': 3}},\n",
       " mean: 0.66204, std: 0.01319, params: {'features__transformer_weights': {'time': 3, 'user': 0, 'age': 1, 'text': 1}},\n",
       " mean: 0.66211, std: 0.01017, params: {'features__transformer_weights': {'time': 3, 'user': 0, 'age': 1, 'text': 3}},\n",
       " mean: 0.66217, std: 0.01345, params: {'features__transformer_weights': {'time': 1, 'user': 3, 'age': 0, 'text': 3}},\n",
       " mean: 0.66259, std: 0.00955, params: {'features__transformer_weights': {'time': 3, 'user': 0, 'age': 3, 'text': 3}},\n",
       " mean: 0.66260, std: 0.01467, params: {'features__transformer_weights': {'time': 3, 'user': 0, 'age': 0, 'text': 3}},\n",
       " mean: 0.66301, std: 0.01274, params: {'features__transformer_weights': {'time': 3, 'user': 0, 'age': 3, 'text': 1}},\n",
       " mean: 0.66392, std: 0.02522, params: {'features__transformer_weights': {'time': 0, 'user': 1, 'age': 3, 'text': 3}},\n",
       " mean: 0.66420, std: 0.00758, params: {'features__transformer_weights': {'time': 1, 'user': 0, 'age': 0, 'text': 3}},\n",
       " mean: 0.66576, std: 0.02853, params: {'features__transformer_weights': {'time': 0, 'user': 1, 'age': 0, 'text': 3}},\n",
       " mean: 0.66586, std: 0.02408, params: {'features__transformer_weights': {'time': 0, 'user': 1, 'age': 1, 'text': 3}},\n",
       " mean: 0.66649, std: 0.01043, params: {'features__transformer_weights': {'time': 3, 'user': 0, 'age': 0, 'text': 1}},\n",
       " mean: 0.66665, std: 0.03004, params: {'features__transformer_weights': {'time': 0, 'user': 3, 'age': 0, 'text': 3}},\n",
       " mean: 0.66724, std: 0.02518, params: {'features__transformer_weights': {'time': 0, 'user': 3, 'age': 3, 'text': 3}},\n",
       " mean: 0.66733, std: 0.02365, params: {'features__transformer_weights': {'time': 0, 'user': 3, 'age': 1, 'text': 3}},\n",
       " mean: 0.66776, std: 0.01280, params: {'features__transformer_weights': {'time': 1, 'user': 0, 'age': 3, 'text': 1}},\n",
       " mean: 0.66832, std: 0.00987, params: {'features__transformer_weights': {'time': 1, 'user': 0, 'age': 1, 'text': 1}},\n",
       " mean: 0.66921, std: 0.01487, params: {'features__transformer_weights': {'time': 1, 'user': 0, 'age': 0, 'text': 1}},\n",
       " mean: 0.67044, std: 0.03385, params: {'features__transformer_weights': {'time': 0, 'user': 0, 'age': 3, 'text': 3}},\n",
       " mean: 0.67099, std: 0.03514, params: {'features__transformer_weights': {'time': 0, 'user': 0, 'age': 0, 'text': 3}},\n",
       " mean: 0.67292, std: 0.02326, params: {'features__transformer_weights': {'time': 0, 'user': 1, 'age': 3, 'text': 1}},\n",
       " mean: 0.67372, std: 0.02538, params: {'features__transformer_weights': {'time': 0, 'user': 3, 'age': 1, 'text': 1}},\n",
       " mean: 0.67383, std: 0.02359, params: {'features__transformer_weights': {'time': 0, 'user': 1, 'age': 1, 'text': 1}},\n",
       " mean: 0.67424, std: 0.02400, params: {'features__transformer_weights': {'time': 0, 'user': 1, 'age': 0, 'text': 1}},\n",
       " mean: 0.67461, std: 0.02621, params: {'features__transformer_weights': {'time': 0, 'user': 3, 'age': 3, 'text': 1}},\n",
       " mean: 0.67471, std: 0.02418, params: {'features__transformer_weights': {'time': 0, 'user': 3, 'age': 0, 'text': 1}},\n",
       " mean: 0.67512, std: 0.03575, params: {'features__transformer_weights': {'time': 0, 'user': 0, 'age': 1, 'text': 3}},\n",
       " mean: 0.67931, std: 0.03452, params: {'features__transformer_weights': {'time': 0, 'user': 0, 'age': 0, 'text': 1}},\n",
       " mean: 0.68128, std: 0.03139, params: {'features__transformer_weights': {'time': 0, 'user': 0, 'age': 1, 'text': 1}},\n",
       " mean: 0.68135, std: 0.03185, params: {'features__transformer_weights': {'time': 0, 'user': 0, 'age': 3, 'text': 1}}]"
      ]
     },
     "execution_count": 157,
     "metadata": {},
     "output_type": "execute_result"
    }
   ],
   "source": [
    "sorted(clfs[1][1].grid_scores_, key=lambda _: _[1])"
   ]
  },
  {
   "cell_type": "code",
   "execution_count": 156,
   "metadata": {
    "collapsed": false
   },
   "outputs": [
    {
     "data": {
      "text/plain": [
       "[mean: 0.39950, std: 0.04315, params: {'features__transformer_weights': {'time': 1, 'user': 3, 'age': 0, 'text': 1}},\n",
       " mean: 0.39970, std: 0.04349, params: {'features__transformer_weights': {'time': 3, 'user': 3, 'age': 0, 'text': 1}},\n",
       " mean: 0.40129, std: 0.02910, params: {'features__transformer_weights': {'time': 3, 'user': 1, 'age': 1, 'text': 1}},\n",
       " mean: 0.40132, std: 0.02914, params: {'features__transformer_weights': {'time': 3, 'user': 1, 'age': 3, 'text': 1}},\n",
       " mean: 0.40258, std: 0.03143, params: {'features__transformer_weights': {'time': 3, 'user': 3, 'age': 1, 'text': 1}},\n",
       " mean: 0.40390, std: 0.03071, params: {'features__transformer_weights': {'time': 3, 'user': 3, 'age': 3, 'text': 1}},\n",
       " mean: 0.40459, std: 0.03272, params: {'features__transformer_weights': {'time': 3, 'user': 1, 'age': 0, 'text': 1}},\n",
       " mean: 0.40667, std: 0.03932, params: {'features__transformer_weights': {'time': 1, 'user': 3, 'age': 3, 'text': 1}},\n",
       " mean: 0.40864, std: 0.03596, params: {'features__transformer_weights': {'time': 1, 'user': 1, 'age': 0, 'text': 1}},\n",
       " mean: 0.41036, std: 0.04407, params: {'features__transformer_weights': {'time': 3, 'user': 3, 'age': 0, 'text': 3}},\n",
       " mean: 0.41172, std: 0.03826, params: {'features__transformer_weights': {'time': 1, 'user': 3, 'age': 1, 'text': 1}},\n",
       " mean: 0.41534, std: 0.04597, params: {'features__transformer_weights': {'time': 3, 'user': 1, 'age': 0, 'text': 3}},\n",
       " mean: 0.41594, std: 0.03339, params: {'features__transformer_weights': {'time': 1, 'user': 1, 'age': 3, 'text': 3}},\n",
       " mean: 0.41669, std: 0.04302, params: {'features__transformer_weights': {'time': 3, 'user': 3, 'age': 1, 'text': 3}},\n",
       " mean: 0.41695, std: 0.03167, params: {'features__transformer_weights': {'time': 1, 'user': 1, 'age': 1, 'text': 3}},\n",
       " mean: 0.41709, std: 0.04135, params: {'features__transformer_weights': {'time': 3, 'user': 1, 'age': 3, 'text': 3}},\n",
       " mean: 0.41743, std: 0.02758, params: {'features__transformer_weights': {'time': 3, 'user': 0, 'age': 3, 'text': 1}},\n",
       " mean: 0.41788, std: 0.03835, params: {'features__transformer_weights': {'time': 1, 'user': 1, 'age': 1, 'text': 1}},\n",
       " mean: 0.41827, std: 0.04195, params: {'features__transformer_weights': {'time': 3, 'user': 3, 'age': 3, 'text': 3}},\n",
       " mean: 0.41914, std: 0.02947, params: {'features__transformer_weights': {'time': 3, 'user': 0, 'age': 1, 'text': 1}},\n",
       " mean: 0.41917, std: 0.03699, params: {'features__transformer_weights': {'time': 3, 'user': 0, 'age': 1, 'text': 3}},\n",
       " mean: 0.41933, std: 0.02856, params: {'features__transformer_weights': {'time': 1, 'user': 3, 'age': 0, 'text': 3}},\n",
       " mean: 0.41944, std: 0.03789, params: {'features__transformer_weights': {'time': 1, 'user': 1, 'age': 3, 'text': 1}},\n",
       " mean: 0.41985, std: 0.04183, params: {'features__transformer_weights': {'time': 3, 'user': 1, 'age': 1, 'text': 3}},\n",
       " mean: 0.41994, std: 0.03678, params: {'features__transformer_weights': {'time': 3, 'user': 0, 'age': 0, 'text': 3}},\n",
       " mean: 0.42038, std: 0.02875, params: {'features__transformer_weights': {'time': 1, 'user': 0, 'age': 1, 'text': 1}},\n",
       " mean: 0.42038, std: 0.02875, params: {'features__transformer_weights': {'time': 1, 'user': 0, 'age': 3, 'text': 1}},\n",
       " mean: 0.42118, std: 0.02850, params: {'features__transformer_weights': {'time': 1, 'user': 1, 'age': 0, 'text': 3}},\n",
       " mean: 0.42186, std: 0.03511, params: {'features__transformer_weights': {'time': 3, 'user': 0, 'age': 3, 'text': 3}},\n",
       " mean: 0.42385, std: 0.03464, params: {'features__transformer_weights': {'time': 1, 'user': 3, 'age': 1, 'text': 3}},\n",
       " mean: 0.42394, std: 0.03477, params: {'features__transformer_weights': {'time': 1, 'user': 3, 'age': 3, 'text': 3}},\n",
       " mean: 0.42515, std: 0.04476, params: {'features__transformer_weights': {'time': 1, 'user': 0, 'age': 0, 'text': 1}},\n",
       " mean: 0.43025, std: 0.03370, params: {'features__transformer_weights': {'time': 3, 'user': 0, 'age': 0, 'text': 1}},\n",
       " mean: 0.43113, std: 0.02036, params: {'features__transformer_weights': {'time': 1, 'user': 0, 'age': 3, 'text': 3}},\n",
       " mean: 0.43124, std: 0.03369, params: {'features__transformer_weights': {'time': 0, 'user': 3, 'age': 1, 'text': 1}},\n",
       " mean: 0.43133, std: 0.03380, params: {'features__transformer_weights': {'time': 0, 'user': 3, 'age': 3, 'text': 1}},\n",
       " mean: 0.43139, std: 0.02414, params: {'features__transformer_weights': {'time': 1, 'user': 0, 'age': 1, 'text': 3}},\n",
       " mean: 0.43164, std: 0.03245, params: {'features__transformer_weights': {'time': 0, 'user': 3, 'age': 0, 'text': 1}},\n",
       " mean: 0.43365, std: 0.03012, params: {'features__transformer_weights': {'time': 1, 'user': 0, 'age': 0, 'text': 3}},\n",
       " mean: 0.43384, std: 0.03343, params: {'features__transformer_weights': {'time': 0, 'user': 1, 'age': 3, 'text': 1}},\n",
       " mean: 0.43393, std: 0.03353, params: {'features__transformer_weights': {'time': 0, 'user': 1, 'age': 1, 'text': 1}},\n",
       " mean: 0.43694, std: 0.04292, params: {'features__transformer_weights': {'time': 0, 'user': 1, 'age': 0, 'text': 3}},\n",
       " mean: 0.43697, std: 0.03001, params: {'features__transformer_weights': {'time': 0, 'user': 1, 'age': 0, 'text': 1}},\n",
       " mean: 0.43865, std: 0.03386, params: {'features__transformer_weights': {'time': 0, 'user': 0, 'age': 0, 'text': 1}},\n",
       " mean: 0.44029, std: 0.02997, params: {'features__transformer_weights': {'time': 0, 'user': 0, 'age': 1, 'text': 3}},\n",
       " mean: 0.44192, std: 0.02837, params: {'features__transformer_weights': {'time': 0, 'user': 0, 'age': 3, 'text': 3}},\n",
       " mean: 0.44305, std: 0.04072, params: {'features__transformer_weights': {'time': 0, 'user': 3, 'age': 0, 'text': 3}},\n",
       " mean: 0.44374, std: 0.02496, params: {'features__transformer_weights': {'time': 0, 'user': 0, 'age': 1, 'text': 1}},\n",
       " mean: 0.44403, std: 0.03920, params: {'features__transformer_weights': {'time': 0, 'user': 1, 'age': 3, 'text': 3}},\n",
       " mean: 0.44469, std: 0.02626, params: {'features__transformer_weights': {'time': 0, 'user': 0, 'age': 3, 'text': 1}},\n",
       " mean: 0.44525, std: 0.03901, params: {'features__transformer_weights': {'time': 0, 'user': 3, 'age': 3, 'text': 3}},\n",
       " mean: 0.44530, std: 0.04076, params: {'features__transformer_weights': {'time': 0, 'user': 1, 'age': 1, 'text': 3}},\n",
       " mean: 0.44793, std: 0.03726, params: {'features__transformer_weights': {'time': 0, 'user': 3, 'age': 1, 'text': 3}},\n",
       " mean: 0.44965, std: 0.03046, params: {'features__transformer_weights': {'time': 0, 'user': 0, 'age': 0, 'text': 3}}]"
      ]
     },
     "execution_count": 156,
     "metadata": {},
     "output_type": "execute_result"
    }
   ],
   "source": [
    "sorted(clfs[2][1].grid_scores_, key=lambda _: _[1])"
   ]
  },
  {
   "cell_type": "code",
   "execution_count": null,
   "metadata": {
    "collapsed": true
   },
   "outputs": [],
   "source": []
  }
 ],
 "metadata": {
  "kernelspec": {
   "display_name": "Python 3",
   "language": "python",
   "name": "python3"
  },
  "language_info": {
   "codemirror_mode": {
    "name": "ipython",
    "version": 3
   },
   "file_extension": ".py",
   "mimetype": "text/x-python",
   "name": "python",
   "nbconvert_exporter": "python",
   "pygments_lexer": "ipython3",
   "version": "3.5.1"
  }
 },
 "nbformat": 4,
 "nbformat_minor": 0
}
