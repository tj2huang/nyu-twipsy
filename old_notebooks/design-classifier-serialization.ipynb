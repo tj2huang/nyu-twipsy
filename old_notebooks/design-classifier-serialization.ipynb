{
 "cells": [
  {
   "cell_type": "markdown",
   "metadata": {},
   "source": [
    "# Writing Classifiers into MongoDB\n",
    "\n",
    "Basically writing to disk is inefficient and by writing to disk we have do queries we couldn't do before.\n",
    "First I'll write some boilerplate code to generate a trained classifier"
   ]
  },
  {
   "cell_type": "code",
   "execution_count": 1,
   "metadata": {
    "collapsed": false
   },
   "outputs": [],
   "source": [
    "from dao import DataAccess, LabelGetter\n",
    "from config import dbc\n",
    "\n",
    "from pipelines.alcohol import AlcoholPipeline\n",
    "\n",
    "from sklearn.cross_validation import train_test_split\n",
    "from sklearn.linear_model import LogisticRegression\n",
    "\n",
    "%matplotlib inline"
   ]
  },
  {
   "cell_type": "markdown",
   "metadata": {},
   "source": [
    "Generate data and split"
   ]
  },
  {
   "cell_type": "code",
   "execution_count": 2,
   "metadata": {
    "collapsed": false
   },
   "outputs": [],
   "source": [
    "X = DataAccess.get_as_dataframe(explode=False)\n",
    "ll = LabelGetter(X)"
   ]
  },
  {
   "cell_type": "code",
   "execution_count": 77,
   "metadata": {
    "collapsed": true
   },
   "outputs": [],
   "source": [
    "X, y = ll.get_first_person_label()\n",
    "X_train, X_test, y_train, y_test = train_test_split(\n",
    "        X, y, test_size=0.33, random_state=23)"
   ]
  },
  {
   "cell_type": "markdown",
   "metadata": {},
   "source": [
    "Generate classifier and fit"
   ]
  },
  {
   "cell_type": "code",
   "execution_count": 78,
   "metadata": {
    "collapsed": false
   },
   "outputs": [],
   "source": [
    "clf = AlcoholPipeline(global_features=[\"text\"]).pipeline(LogisticRegression())"
   ]
  },
  {
   "cell_type": "code",
   "execution_count": 79,
   "metadata": {
    "collapsed": false
   },
   "outputs": [
    {
     "data": {
      "text/plain": [
       "Pipeline(steps=[('exploder', ExplodingRecordJoiner(user=['created_at', 'favourites_count', 'followers_count', 'friends_count', 'statuses_count', 'verified'])), ('features', FeatureUnion(n_jobs=1,\n",
       "       transformer_list=[('text', Pipeline(steps=[('getter', ItemGetter(key='text')), ('tfidf', TfidfVectorizer(a...',\n",
       "          penalty='l2', random_state=None, solver='liblinear', tol=0.0001,\n",
       "          verbose=0))])"
      ]
     },
     "execution_count": 79,
     "metadata": {},
     "output_type": "execute_result"
    }
   ],
   "source": [
    "clf.fit(X_train, y_train)"
   ]
  },
  {
   "cell_type": "markdown",
   "metadata": {},
   "source": [
    "# Serialization"
   ]
  },
  {
   "cell_type": "code",
   "execution_count": 80,
   "metadata": {
    "collapsed": true
   },
   "outputs": [],
   "source": [
    "__author__ = 'JasonLiu'\n",
    "\n",
    "from datetime import datetime\n",
    "from pickle import dumps\n",
    "\n",
    "from sklearn.metrics import accuracy_score, f1_score, confusion_matrix, classification_report, roc_curve, auc\n",
    "from sklearn.preprocessing import label_binarize\n",
    "\n",
    "import matplotlib.pyplot as plt\n",
    "\n",
    "from config import dbc\n",
    "\n",
    "\n",
    "class ClassificationReporting:\n",
    "    metrics = [accuracy_score, f1_score, confusion_matrix, classification_report]\n",
    "\n",
    "    def __init__(self, clf, X_train, X_test, y_train, y_test, n_classes):\n",
    "        \"\"\"\n",
    "\n",
    "        :param clf:\n",
    "        :param X_train:\n",
    "        :param X_test:\n",
    "        :param y_train:\n",
    "        :param y_test:\n",
    "        :param n_classes:\n",
    "        :return:\n",
    "        \"\"\"\n",
    "        self.clf = clf\n",
    "        self.X_train = X_train\n",
    "        self.X_test = X_test\n",
    "        self.y_train = y_train\n",
    "        self.y_test = y_test\n",
    "\n",
    "        self.n_classes = n_classes\n",
    "\n",
    "        self.report = {}\n",
    "\n",
    "    def serialize_classifier(self):\n",
    "        self.report[\"type\"] = type(self.clf.named_steps[\"clf\"]).__name__\n",
    "        self.report[\"clf\"] = dumps(self.clf)\n",
    "\n",
    "    def set_name(self, name):\n",
    "        \"\"\"\n",
    "\n",
    "        :param name:\n",
    "        :return:\n",
    "        \"\"\"\n",
    "        self.report[\"name\"] = name\n",
    "        return self\n",
    "\n",
    "    def set_level(self, level):\n",
    "        \"\"\"\n",
    "\n",
    "        :param level:\n",
    "        :return:\n",
    "        \"\"\"\n",
    "        self.report[\"level\"] = level\n",
    "        return self\n",
    "\n",
    "    def set_notes(self, notes):\n",
    "        \"\"\"\n",
    "\n",
    "        :param notes:\n",
    "        :return:\n",
    "        \"\"\"\n",
    "        self.report[\"notes\"] = notes\n",
    "        return self\n",
    "\n",
    "    def set_params(self, attr_name, attr):\n",
    "        \"\"\"\n",
    "\n",
    "        :param attr_name:\n",
    "        :param attr:\n",
    "        :return:\n",
    "        \"\"\"\n",
    "        self.report[attr_name] = attr\n",
    "        return self\n",
    "\n",
    "    def set_datetime(self):\n",
    "        \"\"\"\n",
    "\n",
    "        :return:\n",
    "        \"\"\"\n",
    "        self.report[\"created_at\"] = str(datetime.today())\n",
    "        return self\n",
    "\n",
    "    def compute_metrics(self, prefix, X, y):\n",
    "        \"\"\"\n",
    "\n",
    "        :param prefix:\n",
    "        :param X:\n",
    "        :param y:\n",
    "        :return:\n",
    "        \"\"\"\n",
    "        y_predict = self.clf.predict(X)\n",
    "        results = {}\n",
    "        # simple metrics\n",
    "        for metric in self.metrics:\n",
    "            kwargs = {}\n",
    "            if metric == f1_score:\n",
    "                kwargs[\"average\"] = \"weighted\"\n",
    "            result = metric(y_true=y, y_pred=y_predict, **kwargs)\n",
    "            results[metric.__name__] = result.tolist() if hasattr(result, \"tolist\") else result\n",
    "        self.report[prefix] = results\n",
    "\n",
    "    def compute_rocauc(self):\n",
    "        \"\"\"\n",
    "\n",
    "        :return:\n",
    "        \"\"\"\n",
    "        # Binarize the output\n",
    "        y_test = label_binarize(self.y_test, classes=list(range(self.n_classes)))\n",
    "\n",
    "        # Compute ROC curve and ROC area for each class\n",
    "        y_score = self.clf.predict_proba(self.X_test)\n",
    "        fpr = dict()\n",
    "        tpr = dict()\n",
    "        roc_auc = dict()\n",
    "        for i in range(self.n_classes):\n",
    "            fpr[i], tpr[i], _ = roc_curve(y_test[:, i], y_score[:, i])\n",
    "            roc_auc[i] = auc(fpr[i], tpr[i])\n",
    "\n",
    "        # Compute micro-average ROC curve and ROC area\n",
    "        fpr[\"micro\"], tpr[\"micro\"], _ = roc_curve(y_test.ravel(), y_score.ravel())\n",
    "        roc_auc[\"micro\"] = auc(fpr[\"micro\"], tpr[\"micro\"])\n",
    "\n",
    "        self.report[\"roc_auc\"] = dict(\n",
    "            fpr={str(k):v.tolist() for k,v in fpr.items()}, \n",
    "            tpr={str(k):v.tolist() for k,v in tpr.items()},\n",
    "            roc_auc={str(k):v.tolist() for k,v in roc_auc.items()}\n",
    "        )\n",
    "\n",
    "    def create_report(self, output=False, show_roc=False):\n",
    "        \"\"\"\n",
    "\n",
    "        :param output:\n",
    "        :param show_roc:\n",
    "        :return:\n",
    "        \"\"\"\n",
    "        self.compute_rocauc()\n",
    "        self.compute_metrics(\"training_results\", self.X_train, self.y_train)\n",
    "        self.compute_metrics(\"testing_results\", self.X_test, self.y_test)\n",
    "        self.serialize_classifier()\n",
    "\n",
    "        if output:\n",
    "            self.print()\n",
    "\n",
    "        if show_roc:\n",
    "            self.show()\n",
    "\n",
    "        return self.report\n",
    "\n",
    "    def print(self):\n",
    "        \"\"\"\n",
    "\n",
    "        :return:\n",
    "        \"\"\"\n",
    "        print(\"Training Results\")\n",
    "        print(\"~~~~~~~~~~~~~~~~\")\n",
    "        for k, v in self.report[\"training_results\"].items():\n",
    "            print(k, v, \"\\n\", sep=\"\\n\")\n",
    "        print()\n",
    "        print()\n",
    "        print(\"Testing Results Results\")\n",
    "        print(\"~~~~~~~~~~~~~~~~~~~~~~~\")\n",
    "        for k, v in self.report[\"testing_results\"].items():\n",
    "            print(k, v, \"\\n\", sep=\"\\n\")\n",
    "        print()\n",
    "        print()\n",
    "\n",
    "    def show(self):\n",
    "        \"\"\"\n",
    "\n",
    "        :return:\n",
    "        \"\"\"\n",
    "        fpr = self.report[\"roc_auc\"][\"fpr\"]\n",
    "        tpr = self.report[\"roc_auc\"][\"tpr\"]\n",
    "        roc_auc = self.report[\"roc_auc\"][\"roc_auc\"]\n",
    "\n",
    "        plt.figure()\n",
    "        plt.plot(fpr[\"micro\"], tpr[\"micro\"], label='micro-average ROC curve (area = {0:0.2f})'.format(roc_auc[\"micro\"]))\n",
    "\n",
    "        for i in range(self.n_classes):\n",
    "            i = str(i)\n",
    "            plt.plot(fpr[i], tpr[i], label='ROC curve of class {0} (area = {1:0.2f})'.format(i, roc_auc[i]))\n",
    "\n",
    "        plt.plot([0, 1], [0, 1], 'k--')\n",
    "        plt.xlim([0.0, 1.0])\n",
    "        plt.ylim([0.0, 1.05])\n",
    "        plt.xlabel('False Positive Rate')\n",
    "        plt.ylabel('True Positive Rate')\n",
    "        plt.title('Receiver operating characteristic for {}'.format(self.report.get(\"name\", \"Classifier\")))\n",
    "        plt.legend(loc=\"lower right\")\n",
    "        plt.show()"
   ]
  },
  {
   "cell_type": "code",
   "execution_count": 81,
   "metadata": {
    "collapsed": false
   },
   "outputs": [],
   "source": [
    "reporting = ClassificationReporting(clf, X_train, X_test, y_train, y_test, 4)"
   ]
  },
  {
   "cell_type": "code",
   "execution_count": 82,
   "metadata": {
    "collapsed": false
   },
   "outputs": [
    {
     "name": "stdout",
     "output_type": "stream",
     "text": [
      "Training Results\n",
      "~~~~~~~~~~~~~~~~\n",
      "accuracy_score\n",
      "0.744343891402715\n",
      "\n",
      "\n",
      "f1_score\n",
      "0.7134575424272982\n",
      "\n",
      "\n",
      "confusion_matrix\n",
      "[[51, 38, 4, 0], [0, 180, 0, 0], [1, 21, 89, 0], [0, 43, 6, 9]]\n",
      "\n",
      "\n",
      "classification_report\n",
      "             precision    recall  f1-score   support\n",
      "\n",
      "          0       0.98      0.55      0.70        93\n",
      "          1       0.64      1.00      0.78       180\n",
      "          2       0.90      0.80      0.85       111\n",
      "          3       1.00      0.16      0.27        58\n",
      "\n",
      "avg / total       0.82      0.74      0.71       442\n",
      "\n",
      "\n",
      "\n",
      "\n",
      "\n",
      "Testing Results Results\n",
      "~~~~~~~~~~~~~~~~~~~~~~~\n",
      "accuracy_score\n",
      "0.4840182648401826\n",
      "\n",
      "\n",
      "f1_score\n",
      "0.436799501867995\n",
      "\n",
      "\n",
      "confusion_matrix\n",
      "[[21, 38, 6, 0], [2, 70, 9, 0], [2, 37, 15, 0], [1, 14, 4, 0]]\n",
      "\n",
      "\n",
      "classification_report\n",
      "             precision    recall  f1-score   support\n",
      "\n",
      "          0       0.81      0.32      0.46        65\n",
      "          1       0.44      0.86      0.58        81\n",
      "          2       0.44      0.28      0.34        54\n",
      "          3       0.00      0.00      0.00        19\n",
      "\n",
      "avg / total       0.51      0.48      0.44       219\n",
      "\n",
      "\n",
      "\n",
      "\n",
      "\n"
     ]
    },
    {
     "data": {
      "image/png": "[encoded data removed]",
      "text/plain": [
       "<matplotlib.figure.Figure at 0x109149f28>"
      ]
     },
     "metadata": {},
     "output_type": "display_data"
    }
   ],
   "source": [
    "report = reporting\\\n",
    " .set_name(\"Test Classifier\")\\\n",
    " .set_level(\"first_person\")\\\n",
    " .create_report(1,1)"
   ]
  },
  {
   "cell_type": "markdown",
   "metadata": {},
   "source": [
    "# Writing"
   ]
  },
  {
   "cell_type": "code",
   "execution_count": 83,
   "metadata": {
    "collapsed": false
   },
   "outputs": [
    {
     "data": {
      "text/plain": [
       "<pymongo.results.InsertOneResult at 0x10f824b40>"
      ]
     },
     "execution_count": 83,
     "metadata": {},
     "output_type": "execute_result"
    }
   ],
   "source": [
    "dbc.insert_one(report)"
   ]
  }
 ],
 "metadata": {
  "kernelspec": {
   "display_name": "Python 3",
   "language": "python",
   "name": "python3"
  },
  "language_info": {
   "codemirror_mode": {
    "name": "ipython",
    "version": 3
   },
   "file_extension": ".py",
   "mimetype": "text/x-python",
   "name": "python",
   "nbconvert_exporter": "python",
   "pygments_lexer": "ipython3",
   "version": "3.5.1"
  }
 },
 "nbformat": 4,
 "nbformat_minor": 0
}
