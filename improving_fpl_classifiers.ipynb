{
 "cells": [
  {
   "cell_type": "markdown",
   "metadata": {},
   "source": [
    "We have 4000 double labeled tweets so need to figure out what to do with them."
   ]
  },
  {
   "cell_type": "markdown",
   "metadata": {},
   "source": [
    "# Preprocessing"
   ]
  },
  {
   "cell_type": "code",
   "execution_count": 2,
   "metadata": {
    "collapsed": true
   },
   "outputs": [],
   "source": [
    "import pickle\n",
    "\n",
    "import datetime\n",
    "import pandas as pd\n",
    "\n",
    "from data.dao import DataAccess, LabelGetter\n",
    "from data.turk import TurkResults2Label"
   ]
  },
  {
   "cell_type": "code",
   "execution_count": 3,
   "metadata": {
    "collapsed": false
   },
   "outputs": [],
   "source": [
    "results1 = pd.DataFrame.from_csv(\"C:/Users/Tom Work/Downloads/Batch_2417713_batch_results.csv\")"
   ]
  },
  {
   "cell_type": "code",
   "execution_count": 4,
   "metadata": {
    "collapsed": true
   },
   "outputs": [],
   "source": [
    "results2 = pd.DataFrame.from_csv(\"C:/Users/Tom Work/Downloads/Batch_2419972_batch_results.csv\")"
   ]
  },
  {
   "cell_type": "code",
   "execution_count": 5,
   "metadata": {
    "collapsed": false
   },
   "outputs": [],
   "source": [
    "results = pd.concat([results1, results2])\n",
    "# results.index = results._id"
   ]
  },
  {
   "cell_type": "code",
   "execution_count": 6,
   "metadata": {
    "collapsed": false,
    "scrolled": true
   },
   "outputs": [
    {
     "data": {
      "text/plain": [
       "A2QLSHXNCHBRN4    418\n",
       "A312KFQ78WB3A4    317\n",
       "AKATCXM6HXIU7     301\n",
       "AG0X3PQK2FWQJ     266\n",
       "A2YAYHZYI7M3HD    230\n",
       "AM7FYVGVOEP66     218\n",
       "A2W2ZEI7WUASOW    216\n",
       "A3HSMUPSPOKD0M    167\n",
       "AS9E0S6DBSWH7     139\n",
       "A2OAZPREKF6PQR    138\n",
       "Name: Worker, dtype: int64"
      ]
     },
     "execution_count": 6,
     "metadata": {},
     "output_type": "execute_result"
    }
   ],
   "source": [
    "results.Worker.value_counts().head(10)"
   ]
  },
  {
   "cell_type": "code",
   "execution_count": 7,
   "metadata": {
    "collapsed": false,
    "scrolled": true
   },
   "outputs": [
    {
     "data": {
      "text/html": [
       "<div>\n",
       "<table border=\"1\" class=\"dataframe\">\n",
       "  <thead>\n",
       "    <tr style=\"text-align: right;\">\n",
       "      <th></th>\n",
       "      <th>text</th>\n",
       "      <th>Answer</th>\n",
       "    </tr>\n",
       "    <tr>\n",
       "      <th>HITID</th>\n",
       "      <th></th>\n",
       "      <th></th>\n",
       "    </tr>\n",
       "  </thead>\n",
       "  <tbody>\n",
       "    <tr>\n",
       "      <th>362E9TQF2HA7MZPRETKBR67PBBQIGX</th>\n",
       "      <td>b\"I completely underestimated gin. I woke up t...</td>\n",
       "      <td>First Person - Alcohol::Reflecting on drinking</td>\n",
       "    </tr>\n",
       "    <tr>\n",
       "      <th>3K8CQCU3KELVXMQIQE1LIHPUR4LWND</th>\n",
       "      <td>b'@RanFanNation @blakeshelton @buckeye_fest RI...</td>\n",
       "      <td>Alcohol Related::Discussion</td>\n",
       "    </tr>\n",
       "    <tr>\n",
       "      <th>3MWOYZD5WV8NSDHGZSAB1NC8OWBNO5</th>\n",
       "      <td>b'Drunk Mode knows me so well http://t.co/5oAo...</td>\n",
       "      <td>First Person - Alcohol::Reflecting on drinking</td>\n",
       "    </tr>\n",
       "    <tr>\n",
       "      <th>3FI30CQHVK3V2YMFW6J8TSQNMDFB63</th>\n",
       "      <td>b\"Just worked 40 hours this week, where's the ...</td>\n",
       "      <td>First Person - Alcohol::Looking to drink</td>\n",
       "    </tr>\n",
       "    <tr>\n",
       "      <th>3H1C3QRA013IPI70GOY1G0OILQSCE9</th>\n",
       "      <td>b'i wanna get drunk so bad'</td>\n",
       "      <td>First Person - Alcohol::Looking to drink</td>\n",
       "    </tr>\n",
       "    <tr>\n",
       "      <th>3ZXV7Q5FJB8AVW7WBZI7YI9IXXJCFF</th>\n",
       "      <td>b'Like basically I drank a whole bottle of fir...</td>\n",
       "      <td>First Person - Alcohol::Reflecting on drinking</td>\n",
       "    </tr>\n",
       "    <tr>\n",
       "      <th>3WRKFXQBOBR78QAR8Z6HY6ETG7GIYV</th>\n",
       "      <td>b'Bloody Mary, full of vodka, blessed are you ...</td>\n",
       "      <td>First Person - Alcohol::Heavy Drinking</td>\n",
       "    </tr>\n",
       "    <tr>\n",
       "      <th>3R5OYNIC2CT38QY1BO92ZMNQNP4PTC</th>\n",
       "      <td>b'Why did I get this drunk at 6 pm I blame @fi...</td>\n",
       "      <td>First Person - Alcohol::Heavy Drinking</td>\n",
       "    </tr>\n",
       "    <tr>\n",
       "      <th>3XU9MCX6VOWU04K351TV3UEFOUH2RR</th>\n",
       "      <td>b\"We're gonna have to get you a couple coupes ...</td>\n",
       "      <td>First Person - Alcohol::Looking to drink</td>\n",
       "    </tr>\n",
       "    <tr>\n",
       "      <th>371Q3BEXDHTW7UNS9X2EGFTIVZMSZO</th>\n",
       "      <td>b'the day I can drink w.o getting sick will be...</td>\n",
       "      <td>First Person - Alcohol::Looking to drink</td>\n",
       "    </tr>\n",
       "  </tbody>\n",
       "</table>\n",
       "</div>"
      ],
      "text/plain": [
       "                                                                             text  \\\n",
       "HITID                                                                               \n",
       "362E9TQF2HA7MZPRETKBR67PBBQIGX  b\"I completely underestimated gin. I woke up t...   \n",
       "3K8CQCU3KELVXMQIQE1LIHPUR4LWND  b'@RanFanNation @blakeshelton @buckeye_fest RI...   \n",
       "3MWOYZD5WV8NSDHGZSAB1NC8OWBNO5  b'Drunk Mode knows me so well http://t.co/5oAo...   \n",
       "3FI30CQHVK3V2YMFW6J8TSQNMDFB63  b\"Just worked 40 hours this week, where's the ...   \n",
       "3H1C3QRA013IPI70GOY1G0OILQSCE9                        b'i wanna get drunk so bad'   \n",
       "3ZXV7Q5FJB8AVW7WBZI7YI9IXXJCFF  b'Like basically I drank a whole bottle of fir...   \n",
       "3WRKFXQBOBR78QAR8Z6HY6ETG7GIYV  b'Bloody Mary, full of vodka, blessed are you ...   \n",
       "3R5OYNIC2CT38QY1BO92ZMNQNP4PTC  b'Why did I get this drunk at 6 pm I blame @fi...   \n",
       "3XU9MCX6VOWU04K351TV3UEFOUH2RR  b\"We're gonna have to get you a couple coupes ...   \n",
       "371Q3BEXDHTW7UNS9X2EGFTIVZMSZO  b'the day I can drink w.o getting sick will be...   \n",
       "\n",
       "                                                                        Answer  \n",
       "HITID                                                                           \n",
       "362E9TQF2HA7MZPRETKBR67PBBQIGX  First Person - Alcohol::Reflecting on drinking  \n",
       "3K8CQCU3KELVXMQIQE1LIHPUR4LWND                     Alcohol Related::Discussion  \n",
       "3MWOYZD5WV8NSDHGZSAB1NC8OWBNO5  First Person - Alcohol::Reflecting on drinking  \n",
       "3FI30CQHVK3V2YMFW6J8TSQNMDFB63        First Person - Alcohol::Looking to drink  \n",
       "3H1C3QRA013IPI70GOY1G0OILQSCE9        First Person - Alcohol::Looking to drink  \n",
       "3ZXV7Q5FJB8AVW7WBZI7YI9IXXJCFF  First Person - Alcohol::Reflecting on drinking  \n",
       "3WRKFXQBOBR78QAR8Z6HY6ETG7GIYV          First Person - Alcohol::Heavy Drinking  \n",
       "3R5OYNIC2CT38QY1BO92ZMNQNP4PTC          First Person - Alcohol::Heavy Drinking  \n",
       "3XU9MCX6VOWU04K351TV3UEFOUH2RR        First Person - Alcohol::Looking to drink  \n",
       "371Q3BEXDHTW7UNS9X2EGFTIVZMSZO        First Person - Alcohol::Looking to drink  "
      ]
     },
     "execution_count": 7,
     "metadata": {},
     "output_type": "execute_result"
    }
   ],
   "source": [
    "results[results.Worker == 'A2QLSHXNCHBRN4'][['text', 'Answer']].sample(10)"
   ]
  },
  {
   "cell_type": "code",
   "execution_count": 8,
   "metadata": {
    "collapsed": false
   },
   "outputs": [],
   "source": [
    "results.index = results._id\n",
    "labels = results.Answer.apply(TurkResults2Label.parse_to_labels)"
   ]
  },
  {
   "cell_type": "code",
   "execution_count": 9,
   "metadata": {
    "collapsed": false
   },
   "outputs": [
    {
     "data": {
      "text/plain": [
       "(4000,)"
      ]
     },
     "execution_count": 9,
     "metadata": {},
     "output_type": "execute_result"
    }
   ],
   "source": [
    "labels.shape"
   ]
  },
  {
   "cell_type": "code",
   "execution_count": 10,
   "metadata": {
    "collapsed": false
   },
   "outputs": [],
   "source": [
    "X = DataAccess.get_as_dataframe()\n",
    "L = LabelGetter(X)\n",
    "X_fpl, y = L.get_first_person_label()"
   ]
  },
  {
   "cell_type": "code",
   "execution_count": 11,
   "metadata": {
    "collapsed": false
   },
   "outputs": [
    {
     "name": "stderr",
     "output_type": "stream",
     "text": [
      "C:\\Users\\Tom Work\\Anaconda3\\lib\\site-packages\\ipykernel\\__main__.py:1: SettingWithCopyWarning: \n",
      "A value is trying to be set on a copy of a slice from a DataFrame.\n",
      "Try using .loc[row_indexer,col_indexer] = value instead\n",
      "\n",
      "See the caveats in the documentation: http://pandas.pydata.org/pandas-docs/stable/indexing.html#indexing-view-versus-copy\n",
      "  if __name__ == '__main__':\n"
     ]
    }
   ],
   "source": [
    "X_fpl['new_labels'] = labels"
   ]
  },
  {
   "cell_type": "code",
   "execution_count": 12,
   "metadata": {
    "collapsed": false
   },
   "outputs": [],
   "source": [
    "double_labeled = X_fpl.dropna(subset = ['new_labels'])"
   ]
  },
  {
   "cell_type": "code",
   "execution_count": 13,
   "metadata": {
    "collapsed": false,
    "scrolled": true
   },
   "outputs": [
    {
     "data": {
      "text/html": [
       "<div>\n",
       "<table border=\"1\" class=\"dataframe\">\n",
       "  <thead>\n",
       "    <tr style=\"text-align: right;\">\n",
       "      <th></th>\n",
       "      <th>created_at</th>\n",
       "      <th>labels</th>\n",
       "      <th>predict</th>\n",
       "      <th>text</th>\n",
       "      <th>user</th>\n",
       "      <th>user.created_at</th>\n",
       "      <th>user.favourites_count</th>\n",
       "      <th>user.followers_count</th>\n",
       "      <th>user.friends_count</th>\n",
       "      <th>user.statuses_count</th>\n",
       "      <th>user.verified</th>\n",
       "      <th>new_labels</th>\n",
       "    </tr>\n",
       "    <tr>\n",
       "      <th>_id</th>\n",
       "      <th></th>\n",
       "      <th></th>\n",
       "      <th></th>\n",
       "      <th></th>\n",
       "      <th></th>\n",
       "      <th></th>\n",
       "      <th></th>\n",
       "      <th></th>\n",
       "      <th></th>\n",
       "      <th></th>\n",
       "      <th></th>\n",
       "      <th></th>\n",
       "    </tr>\n",
       "  </thead>\n",
       "  <tbody>\n",
       "    <tr>\n",
       "      <th>55737fdfd6dfbb130f3847f9</th>\n",
       "      <td>Sat Jun 06 23:19:34 +0000 2015</td>\n",
       "      <td>{'alcohol': 1, 'first_person_level': 2, 'first...</td>\n",
       "      <td>0.710995</td>\n",
       "      <td>Could've been me all those nights we spent dri...</td>\n",
       "      <td>{'friends_count': 60, 'statuses_count': 2900, ...</td>\n",
       "      <td>Mon Sep 29 07:22:42 +0000 2014</td>\n",
       "      <td>2255</td>\n",
       "      <td>105</td>\n",
       "      <td>60</td>\n",
       "      <td>2900</td>\n",
       "      <td>False</td>\n",
       "      <td>{'alcohol': 1, 'first_person_level': 2, 'first...</td>\n",
       "    </tr>\n",
       "    <tr>\n",
       "      <th>55901c90d6dfbb1a867fc01f</th>\n",
       "      <td>Sun Jun 28 16:10:59 +0000 2015</td>\n",
       "      <td>{'first_person_level': 2, 'alcohol': 1, 'first...</td>\n",
       "      <td>0.651991</td>\n",
       "      <td>How i sleep drunk http://t.co/0nCb6KBQMU</td>\n",
       "      <td>{'friends_count': 480, 'statuses_count': 20378...</td>\n",
       "      <td>Mon Apr 22 21:06:27 +0000 2013</td>\n",
       "      <td>11140</td>\n",
       "      <td>646</td>\n",
       "      <td>480</td>\n",
       "      <td>20378</td>\n",
       "      <td>False</td>\n",
       "      <td>{'alcohol': 1, 'first_person_level': 0, 'first...</td>\n",
       "    </tr>\n",
       "    <tr>\n",
       "      <th>55875c97d6dfbb29597df3f1</th>\n",
       "      <td>Mon Jun 22 00:53:44 +0000 2015</td>\n",
       "      <td>{'alcohol': 1, 'first_person_level': 1, 'first...</td>\n",
       "      <td>0.518161</td>\n",
       "      <td>Beer and boats. @ O'Neals' Boat Basin Cafe htt...</td>\n",
       "      <td>{'friends_count': 336, 'statuses_count': 4491,...</td>\n",
       "      <td>Thu May 05 00:54:28 +0000 2011</td>\n",
       "      <td>288</td>\n",
       "      <td>297</td>\n",
       "      <td>336</td>\n",
       "      <td>4491</td>\n",
       "      <td>False</td>\n",
       "      <td>{'alcohol': 1, 'alcohol_related': 1, 'first_pe...</td>\n",
       "    </tr>\n",
       "    <tr>\n",
       "      <th>5575eb34d6dfbb7f2f464981</th>\n",
       "      <td>Mon Jun 08 19:22:03 +0000 2015</td>\n",
       "      <td>{'first_person_level': 1, 'alcohol': 1, 'first...</td>\n",
       "      <td>0.519634</td>\n",
       "      <td>gotta start getting ready for poker...that mea...</td>\n",
       "      <td>{'friends_count': 351, 'statuses_count': 7849,...</td>\n",
       "      <td>Thu Nov 24 04:11:45 +0000 2011</td>\n",
       "      <td>20</td>\n",
       "      <td>289</td>\n",
       "      <td>351</td>\n",
       "      <td>7849</td>\n",
       "      <td>False</td>\n",
       "      <td>{'alcohol': 0}</td>\n",
       "    </tr>\n",
       "    <tr>\n",
       "      <th>558a0a6dd6dfbb216fdca85b</th>\n",
       "      <td>Wed Jun 24 01:39:59 +0000 2015</td>\n",
       "      <td>{'first_person_level': 1, 'alcohol': 1, 'first...</td>\n",
       "      <td>0.588534</td>\n",
       "      <td>95% of me is about ready to sign up to sing vi...</td>\n",
       "      <td>{'friends_count': 560, 'statuses_count': 20247...</td>\n",
       "      <td>Wed Jan 04 21:51:20 +0000 2012</td>\n",
       "      <td>12206</td>\n",
       "      <td>1135</td>\n",
       "      <td>560</td>\n",
       "      <td>20247</td>\n",
       "      <td>False</td>\n",
       "      <td>{'alcohol': 1, 'first_person_level': 1, 'first...</td>\n",
       "    </tr>\n",
       "  </tbody>\n",
       "</table>\n",
       "</div>"
      ],
      "text/plain": [
       "                                              created_at  \\\n",
       "_id                                                        \n",
       "55737fdfd6dfbb130f3847f9  Sat Jun 06 23:19:34 +0000 2015   \n",
       "55901c90d6dfbb1a867fc01f  Sun Jun 28 16:10:59 +0000 2015   \n",
       "55875c97d6dfbb29597df3f1  Mon Jun 22 00:53:44 +0000 2015   \n",
       "5575eb34d6dfbb7f2f464981  Mon Jun 08 19:22:03 +0000 2015   \n",
       "558a0a6dd6dfbb216fdca85b  Wed Jun 24 01:39:59 +0000 2015   \n",
       "\n",
       "                                                                     labels  \\\n",
       "_id                                                                           \n",
       "55737fdfd6dfbb130f3847f9  {'alcohol': 1, 'first_person_level': 2, 'first...   \n",
       "55901c90d6dfbb1a867fc01f  {'first_person_level': 2, 'alcohol': 1, 'first...   \n",
       "55875c97d6dfbb29597df3f1  {'alcohol': 1, 'first_person_level': 1, 'first...   \n",
       "5575eb34d6dfbb7f2f464981  {'first_person_level': 1, 'alcohol': 1, 'first...   \n",
       "558a0a6dd6dfbb216fdca85b  {'first_person_level': 1, 'alcohol': 1, 'first...   \n",
       "\n",
       "                           predict  \\\n",
       "_id                                  \n",
       "55737fdfd6dfbb130f3847f9  0.710995   \n",
       "55901c90d6dfbb1a867fc01f  0.651991   \n",
       "55875c97d6dfbb29597df3f1  0.518161   \n",
       "5575eb34d6dfbb7f2f464981  0.519634   \n",
       "558a0a6dd6dfbb216fdca85b  0.588534   \n",
       "\n",
       "                                                                       text  \\\n",
       "_id                                                                           \n",
       "55737fdfd6dfbb130f3847f9  Could've been me all those nights we spent dri...   \n",
       "55901c90d6dfbb1a867fc01f           How i sleep drunk http://t.co/0nCb6KBQMU   \n",
       "55875c97d6dfbb29597df3f1  Beer and boats. @ O'Neals' Boat Basin Cafe htt...   \n",
       "5575eb34d6dfbb7f2f464981  gotta start getting ready for poker...that mea...   \n",
       "558a0a6dd6dfbb216fdca85b  95% of me is about ready to sign up to sing vi...   \n",
       "\n",
       "                                                                       user  \\\n",
       "_id                                                                           \n",
       "55737fdfd6dfbb130f3847f9  {'friends_count': 60, 'statuses_count': 2900, ...   \n",
       "55901c90d6dfbb1a867fc01f  {'friends_count': 480, 'statuses_count': 20378...   \n",
       "55875c97d6dfbb29597df3f1  {'friends_count': 336, 'statuses_count': 4491,...   \n",
       "5575eb34d6dfbb7f2f464981  {'friends_count': 351, 'statuses_count': 7849,...   \n",
       "558a0a6dd6dfbb216fdca85b  {'friends_count': 560, 'statuses_count': 20247...   \n",
       "\n",
       "                                         user.created_at  \\\n",
       "_id                                                        \n",
       "55737fdfd6dfbb130f3847f9  Mon Sep 29 07:22:42 +0000 2014   \n",
       "55901c90d6dfbb1a867fc01f  Mon Apr 22 21:06:27 +0000 2013   \n",
       "55875c97d6dfbb29597df3f1  Thu May 05 00:54:28 +0000 2011   \n",
       "5575eb34d6dfbb7f2f464981  Thu Nov 24 04:11:45 +0000 2011   \n",
       "558a0a6dd6dfbb216fdca85b  Wed Jan 04 21:51:20 +0000 2012   \n",
       "\n",
       "                          user.favourites_count  user.followers_count  \\\n",
       "_id                                                                     \n",
       "55737fdfd6dfbb130f3847f9                   2255                   105   \n",
       "55901c90d6dfbb1a867fc01f                  11140                   646   \n",
       "55875c97d6dfbb29597df3f1                    288                   297   \n",
       "5575eb34d6dfbb7f2f464981                     20                   289   \n",
       "558a0a6dd6dfbb216fdca85b                  12206                  1135   \n",
       "\n",
       "                          user.friends_count  user.statuses_count  \\\n",
       "_id                                                                 \n",
       "55737fdfd6dfbb130f3847f9                  60                 2900   \n",
       "55901c90d6dfbb1a867fc01f                 480                20378   \n",
       "55875c97d6dfbb29597df3f1                 336                 4491   \n",
       "5575eb34d6dfbb7f2f464981                 351                 7849   \n",
       "558a0a6dd6dfbb216fdca85b                 560                20247   \n",
       "\n",
       "                         user.verified  \\\n",
       "_id                                      \n",
       "55737fdfd6dfbb130f3847f9         False   \n",
       "55901c90d6dfbb1a867fc01f         False   \n",
       "55875c97d6dfbb29597df3f1         False   \n",
       "5575eb34d6dfbb7f2f464981         False   \n",
       "558a0a6dd6dfbb216fdca85b         False   \n",
       "\n",
       "                                                                 new_labels  \n",
       "_id                                                                          \n",
       "55737fdfd6dfbb130f3847f9  {'alcohol': 1, 'first_person_level': 2, 'first...  \n",
       "55901c90d6dfbb1a867fc01f  {'alcohol': 1, 'first_person_level': 0, 'first...  \n",
       "55875c97d6dfbb29597df3f1  {'alcohol': 1, 'alcohol_related': 1, 'first_pe...  \n",
       "5575eb34d6dfbb7f2f464981                                     {'alcohol': 0}  \n",
       "558a0a6dd6dfbb216fdca85b  {'alcohol': 1, 'first_person_level': 1, 'first...  "
      ]
     },
     "execution_count": 13,
     "metadata": {},
     "output_type": "execute_result"
    }
   ],
   "source": [
    "double_labeled.sample(5)"
   ]
  },
  {
   "cell_type": "code",
   "execution_count": 14,
   "metadata": {
    "collapsed": false
   },
   "outputs": [],
   "source": [
    "L = LabelGetter(double_labeled)\n",
    "x_old, fpl_old = L.get_first_person_label()\n",
    "x_new, fpl_new = L._get_labels('first_person_level', column_name='new_labels')"
   ]
  },
  {
   "cell_type": "code",
   "execution_count": 15,
   "metadata": {
    "collapsed": false
   },
   "outputs": [],
   "source": [
    "df = pd.DataFrame()\n",
    "df['old'] = fpl_old\n",
    "df['new'] = fpl_new\n",
    "df = df.dropna()"
   ]
  },
  {
   "cell_type": "code",
   "execution_count": 16,
   "metadata": {
    "collapsed": false
   },
   "outputs": [
    {
     "data": {
      "text/plain": [
       "(2907, 2)"
      ]
     },
     "execution_count": 16,
     "metadata": {},
     "output_type": "execute_result"
    }
   ],
   "source": [
    "df.shape"
   ]
  },
  {
   "cell_type": "code",
   "execution_count": 19,
   "metadata": {
    "collapsed": false
   },
   "outputs": [],
   "source": [
    "agreed = double_labeled.ix[df[df['old'] == df['new']].index]"
   ]
  },
  {
   "cell_type": "code",
   "execution_count": 20,
   "metadata": {
    "collapsed": false
   },
   "outputs": [
    {
     "data": {
      "text/html": [
       "<div>\n",
       "<table border=\"1\" class=\"dataframe\">\n",
       "  <thead>\n",
       "    <tr style=\"text-align: right;\">\n",
       "      <th></th>\n",
       "      <th>text</th>\n",
       "      <th>labels</th>\n",
       "    </tr>\n",
       "    <tr>\n",
       "      <th>_id</th>\n",
       "      <th></th>\n",
       "      <th></th>\n",
       "    </tr>\n",
       "  </thead>\n",
       "  <tbody>\n",
       "    <tr>\n",
       "      <th>558fa464d6dfbb6fdce39457</th>\n",
       "      <td>I've literally being drinking for 12 hours now...</td>\n",
       "      <td>{'first_person_level': 0, 'alcohol': 1, 'first...</td>\n",
       "    </tr>\n",
       "    <tr>\n",
       "      <th>557ef99cd6dfbb42c2fb4934</th>\n",
       "      <td>Get drunk now or like 2 or 3 hours from now om...</td>\n",
       "      <td>{'alcohol': 1, 'first_person_level': 1, 'first...</td>\n",
       "    </tr>\n",
       "    <tr>\n",
       "      <th>558ebf3ed6dfbb2c495974f0</th>\n",
       "      <td>Im still drunk 😔</td>\n",
       "      <td>{'alcohol': 1, 'first_person_level': 0, 'first...</td>\n",
       "    </tr>\n",
       "    <tr>\n",
       "      <th>5577875bd6dfbb4a81c9dc4a</th>\n",
       "      <td>Drinking a Mexican Cake by @westbrookbeer @ Th...</td>\n",
       "      <td>{'alcohol': 1, 'first_person_level': 0, 'first...</td>\n",
       "    </tr>\n",
       "    <tr>\n",
       "      <th>557e0038d6dfbb778dd51abe</th>\n",
       "      <td>Debating if I wanna drink a lot of beer today ...</td>\n",
       "      <td>{'first_person_level': 1, 'alcohol': 1, 'first...</td>\n",
       "    </tr>\n",
       "  </tbody>\n",
       "</table>\n",
       "</div>"
      ],
      "text/plain": [
       "                                                                       text  \\\n",
       "_id                                                                           \n",
       "558fa464d6dfbb6fdce39457  I've literally being drinking for 12 hours now...   \n",
       "557ef99cd6dfbb42c2fb4934  Get drunk now or like 2 or 3 hours from now om...   \n",
       "558ebf3ed6dfbb2c495974f0                                   Im still drunk 😔   \n",
       "5577875bd6dfbb4a81c9dc4a  Drinking a Mexican Cake by @westbrookbeer @ Th...   \n",
       "557e0038d6dfbb778dd51abe  Debating if I wanna drink a lot of beer today ...   \n",
       "\n",
       "                                                                     labels  \n",
       "_id                                                                          \n",
       "558fa464d6dfbb6fdce39457  {'first_person_level': 0, 'alcohol': 1, 'first...  \n",
       "557ef99cd6dfbb42c2fb4934  {'alcohol': 1, 'first_person_level': 1, 'first...  \n",
       "558ebf3ed6dfbb2c495974f0  {'alcohol': 1, 'first_person_level': 0, 'first...  \n",
       "5577875bd6dfbb4a81c9dc4a  {'alcohol': 1, 'first_person_level': 0, 'first...  \n",
       "557e0038d6dfbb778dd51abe  {'first_person_level': 1, 'alcohol': 1, 'first...  "
      ]
     },
     "execution_count": 20,
     "metadata": {},
     "output_type": "execute_result"
    }
   ],
   "source": [
    "agreed[['text', 'labels']].sample(5)"
   ]
  },
  {
   "cell_type": "code",
   "execution_count": 20,
   "metadata": {
    "collapsed": true
   },
   "outputs": [],
   "source": [
    "pickle.dump(agreed, open('amt/double_labeled.p', 'wb'))"
   ]
  },
  {
   "cell_type": "markdown",
   "metadata": {},
   "source": [
    "# Cohen Kappa Score"
   ]
  },
  {
   "cell_type": "code",
   "execution_count": 17,
   "metadata": {
    "collapsed": false
   },
   "outputs": [],
   "source": [
    "from sklearn.metrics import cohen_kappa_score"
   ]
  },
  {
   "cell_type": "code",
   "execution_count": 18,
   "metadata": {
    "collapsed": false
   },
   "outputs": [
    {
     "data": {
      "text/plain": [
       "0.44000363291793887"
      ]
     },
     "execution_count": 18,
     "metadata": {},
     "output_type": "execute_result"
    }
   ],
   "source": [
    "cohen_kappa_score(df.old, df.new)"
   ]
  },
  {
   "cell_type": "markdown",
   "metadata": {},
   "source": [
    "This is an ok score."
   ]
  },
  {
   "cell_type": "markdown",
   "metadata": {},
   "source": [
    "# FPL Classifier Performance"
   ]
  },
  {
   "cell_type": "markdown",
   "metadata": {},
   "source": [
    "Lets compare performance of various classifiers using old and new data."
   ]
  },
  {
   "cell_type": "code",
   "execution_count": 21,
   "metadata": {
    "collapsed": true
   },
   "outputs": [],
   "source": [
    "from sklearn.cross_validation import train_test_split\n",
    "from classification.reporting import ClassificationReporting"
   ]
  },
  {
   "cell_type": "markdown",
   "metadata": {},
   "source": [
    "# Log Reg on first set of labels only"
   ]
  },
  {
   "cell_type": "markdown",
   "metadata": {},
   "source": [
    "We train on all 4000 tweets using the labels from the first round of workers."
   ]
  },
  {
   "cell_type": "code",
   "execution_count": 24,
   "metadata": {
    "collapsed": true
   },
   "outputs": [],
   "source": [
    "clf_fpl = pickle.load(open('pickles/clf_fpl_UPDATED.p', 'rb'))"
   ]
  },
  {
   "cell_type": "code",
   "execution_count": 83,
   "metadata": {
    "collapsed": true
   },
   "outputs": [],
   "source": [
    "L = LabelGetter(double_labeled)\n",
    "X, y = L.get_first_person_label()\n",
    "# X, y = L._get_labels('first_person_level', column_name='new_labels')"
   ]
  },
  {
   "cell_type": "code",
   "execution_count": 84,
   "metadata": {
    "collapsed": false
   },
   "outputs": [
    {
     "data": {
      "text/plain": [
       "(4000, 12)"
      ]
     },
     "execution_count": 84,
     "metadata": {},
     "output_type": "execute_result"
    }
   ],
   "source": [
    "X.shape"
   ]
  },
  {
   "cell_type": "code",
   "execution_count": 85,
   "metadata": {
    "collapsed": false
   },
   "outputs": [
    {
     "data": {
      "text/plain": [
       "Pipeline(steps=[('features', FeatureUnion(n_jobs=1,\n",
       "       transformer_list=[('text', Pipeline(steps=[('getter', ItemGetter(key='text')), ('tfidf', TfidfVectorizer(analyzer='word', binary=False, decode_error='strict',\n",
       "        dtype=<class 'numpy.int64'>, encoding='utf-8', input='content',\n",
       "        lowercase=F...one,\n",
       "          solver='liblinear', tol=0.000449897709599141, verbose=0,\n",
       "          warm_start=None))])"
      ]
     },
     "execution_count": 85,
     "metadata": {},
     "output_type": "execute_result"
    }
   ],
   "source": [
    "X_train, X_test, y_train, y_test = train_test_split(X, y, test_size=0.33, random_state=26)\n",
    "clf_fpl.fit(X_train, y_train)"
   ]
  },
  {
   "cell_type": "code",
   "execution_count": 86,
   "metadata": {
    "collapsed": false
   },
   "outputs": [
    {
     "name": "stdout",
     "output_type": "stream",
     "text": [
      "Training Results\n",
      "~~~~~~~~~~~~~~~~\n",
      "accuracy_score\n",
      "1.0\n",
      "\n",
      "\n",
      "classification_report\n",
      "             precision    recall  f1-score   support\n",
      "\n",
      "          0       1.00      1.00      1.00      1391\n",
      "          1       1.00      1.00      1.00       694\n",
      "          2       1.00      1.00      1.00       595\n",
      "\n",
      "avg / total       1.00      1.00      1.00      2680\n",
      "\n",
      "\n",
      "\n",
      "f1_score\n",
      "1.0\n",
      "\n",
      "\n",
      "confusion_matrix\n",
      "[[1391, 0, 0], [0, 694, 0], [0, 0, 595]]\n",
      "\n",
      "\n",
      "\n",
      "\n",
      "Testing Results Results\n",
      "~~~~~~~~~~~~~~~~~~~~~~~\n",
      "accuracy_score\n",
      "0.6113636363636363\n",
      "\n",
      "\n",
      "classification_report\n",
      "             precision    recall  f1-score   support\n",
      "\n",
      "          0       0.67      0.70      0.69       659\n",
      "          1       0.57      0.58      0.58       365\n",
      "          2       0.51      0.45      0.47       296\n",
      "\n",
      "avg / total       0.61      0.61      0.61      1320\n",
      "\n",
      "\n",
      "\n",
      "f1_score\n",
      "0.6088338406205277\n",
      "\n",
      "\n",
      "confusion_matrix\n",
      "[[462, 110, 87], [110, 213, 42], [115, 49, 132]]\n",
      "\n",
      "\n",
      "\n",
      "\n"
     ]
    }
   ],
   "source": [
    "reporting = ClassificationReporting(clf_fpl, X_train, X_test, y_train, y_test, 3)\n",
    "report = reporting.set_name(\"Test Classifier\").set_level('fpl').create_report(1)"
   ]
  },
  {
   "cell_type": "markdown",
   "metadata": {},
   "source": [
    "# Log Reg on second set of labels only"
   ]
  },
  {
   "cell_type": "code",
   "execution_count": 25,
   "metadata": {
    "collapsed": true
   },
   "outputs": [],
   "source": [
    "L = LabelGetter(double_labeled)\n",
    "X, y = L._get_labels('first_person_level', column_name='new_labels')"
   ]
  },
  {
   "cell_type": "code",
   "execution_count": 26,
   "metadata": {
    "collapsed": false
   },
   "outputs": [
    {
     "data": {
      "text/plain": [
       "Pipeline(steps=[('features', FeatureUnion(n_jobs=1,\n",
       "       transformer_list=[('text', Pipeline(steps=[('getter', ItemGetter(key='text')), ('tfidf', TfidfVectorizer(analyzer='word', binary=False, decode_error='strict',\n",
       "        dtype=<class 'numpy.int64'>, encoding='utf-8', input='content',\n",
       "        lowercase=F...one,\n",
       "          solver='liblinear', tol=0.000449897709599141, verbose=0,\n",
       "          warm_start=None))])"
      ]
     },
     "execution_count": 26,
     "metadata": {},
     "output_type": "execute_result"
    }
   ],
   "source": [
    "X_train, X_test, y_train, y_test = train_test_split(X, y, test_size=0.33, random_state=26)\n",
    "clf_fpl.fit(X_train, y_train)"
   ]
  },
  {
   "cell_type": "code",
   "execution_count": 27,
   "metadata": {
    "collapsed": false
   },
   "outputs": [
    {
     "name": "stdout",
     "output_type": "stream",
     "text": [
      "Training Results\n",
      "~~~~~~~~~~~~~~~~\n",
      "accuracy_score\n",
      "0.9994863893168978\n",
      "\n",
      "\n",
      "classification_report\n",
      "             precision    recall  f1-score   support\n",
      "\n",
      "          0       1.00      1.00      1.00       987\n",
      "          1       1.00      1.00      1.00       585\n",
      "          2       1.00      1.00      1.00       375\n",
      "\n",
      "avg / total       1.00      1.00      1.00      1947\n",
      "\n",
      "\n",
      "\n",
      "confusion_matrix\n",
      "[[987, 0, 0], [1, 584, 0], [0, 0, 375]]\n",
      "\n",
      "\n",
      "f1_score\n",
      "0.9994862996654137\n",
      "\n",
      "\n",
      "\n",
      "\n",
      "Testing Results Results\n",
      "~~~~~~~~~~~~~~~~~~~~~~~\n",
      "accuracy_score\n",
      "0.6489583333333333\n",
      "\n",
      "\n",
      "classification_report\n",
      "             precision    recall  f1-score   support\n",
      "\n",
      "          0       0.73      0.71      0.72       504\n",
      "          1       0.59      0.64      0.61       269\n",
      "          2       0.52      0.51      0.51       187\n",
      "\n",
      "avg / total       0.65      0.65      0.65       960\n",
      "\n",
      "\n",
      "\n",
      "confusion_matrix\n",
      "[[357, 83, 64], [73, 171, 25], [58, 34, 95]]\n",
      "\n",
      "\n",
      "f1_score\n",
      "0.6496804421613535\n",
      "\n",
      "\n",
      "\n",
      "\n"
     ]
    }
   ],
   "source": [
    "reporting = ClassificationReporting(clf_fpl, X_train, X_test, y_train, y_test, 3)\n",
    "report = reporting.set_name(\"Test Classifier\").set_level('fpl').create_report(1)"
   ]
  },
  {
   "cell_type": "markdown",
   "metadata": {},
   "source": [
    "# Log Reg on double labeled"
   ]
  },
  {
   "cell_type": "markdown",
   "metadata": {},
   "source": [
    "We take the subset of the above data where the 2 sets of workers agreed and use that to train/test."
   ]
  },
  {
   "cell_type": "code",
   "execution_count": 87,
   "metadata": {
    "collapsed": true
   },
   "outputs": [],
   "source": [
    "clf_fpl = pickle.load(open('pickles/clf_fpl_UPDATED.p', 'rb'))"
   ]
  },
  {
   "cell_type": "code",
   "execution_count": 36,
   "metadata": {
    "collapsed": false
   },
   "outputs": [
    {
     "data": {
      "text/plain": [
       "(1908, 12)"
      ]
     },
     "execution_count": 36,
     "metadata": {},
     "output_type": "execute_result"
    }
   ],
   "source": [
    "agreed.shape"
   ]
  },
  {
   "cell_type": "code",
   "execution_count": 88,
   "metadata": {
    "collapsed": true
   },
   "outputs": [],
   "source": [
    "L = LabelGetter(agreed)\n",
    "X, y = L.get_first_person_label()"
   ]
  },
  {
   "cell_type": "code",
   "execution_count": 89,
   "metadata": {
    "collapsed": false
   },
   "outputs": [
    {
     "data": {
      "text/plain": [
       "Pipeline(steps=[('features', FeatureUnion(n_jobs=1,\n",
       "       transformer_list=[('text', Pipeline(steps=[('getter', ItemGetter(key='text')), ('tfidf', TfidfVectorizer(analyzer='word', binary=False, decode_error='strict',\n",
       "        dtype=<class 'numpy.int64'>, encoding='utf-8', input='content',\n",
       "        lowercase=F...one,\n",
       "          solver='liblinear', tol=0.000449897709599141, verbose=0,\n",
       "          warm_start=None))])"
      ]
     },
     "execution_count": 89,
     "metadata": {},
     "output_type": "execute_result"
    }
   ],
   "source": [
    "X_train, X_test, y_train, y_test = train_test_split(X, y, test_size=0.33, random_state=26)\n",
    "clf_fpl.fit(X_train, y_train)"
   ]
  },
  {
   "cell_type": "code",
   "execution_count": 90,
   "metadata": {
    "collapsed": false
   },
   "outputs": [
    {
     "name": "stdout",
     "output_type": "stream",
     "text": [
      "Training Results\n",
      "~~~~~~~~~~~~~~~~\n",
      "accuracy_score\n",
      "1.0\n",
      "\n",
      "\n",
      "classification_report\n",
      "             precision    recall  f1-score   support\n",
      "\n",
      "          0       1.00      1.00      1.00       714\n",
      "          1       1.00      1.00      1.00       351\n",
      "          2       1.00      1.00      1.00       213\n",
      "\n",
      "avg / total       1.00      1.00      1.00      1278\n",
      "\n",
      "\n",
      "\n",
      "f1_score\n",
      "1.0\n",
      "\n",
      "\n",
      "confusion_matrix\n",
      "[[714, 0, 0], [0, 351, 0], [0, 0, 213]]\n",
      "\n",
      "\n",
      "\n",
      "\n",
      "Testing Results Results\n",
      "~~~~~~~~~~~~~~~~~~~~~~~\n",
      "accuracy_score\n",
      "0.7666666666666667\n",
      "\n",
      "\n",
      "classification_report\n",
      "             precision    recall  f1-score   support\n",
      "\n",
      "          0       0.82      0.83      0.83       367\n",
      "          1       0.73      0.76      0.75       174\n",
      "          2       0.59      0.51      0.55        89\n",
      "\n",
      "avg / total       0.76      0.77      0.76       630\n",
      "\n",
      "\n",
      "\n",
      "f1_score\n",
      "0.7643482489489184\n",
      "\n",
      "\n",
      "confusion_matrix\n",
      "[[305, 37, 25], [35, 133, 6], [31, 13, 45]]\n",
      "\n",
      "\n",
      "\n",
      "\n"
     ]
    }
   ],
   "source": [
    "reporting = ClassificationReporting(clf_fpl, X_train, X_test, y_train, y_test, 3)\n",
    "report = reporting.set_name(\"Test Classifier\").set_level('fpl').create_report(1)"
   ]
  },
  {
   "cell_type": "markdown",
   "metadata": {},
   "source": [
    "Seems like an improvement! However, we should keep in mind that the train and test sets are where two AMT workers agreed, and hence might leave out the more ambiguous cases."
   ]
  },
  {
   "cell_type": "code",
   "execution_count": 64,
   "metadata": {
    "collapsed": true
   },
   "outputs": [],
   "source": [
    "pickle.dump(clf_fpl, open('pickles/clf_fpl_double_labeled', 'wb'))"
   ]
  },
  {
   "cell_type": "markdown",
   "metadata": {},
   "source": [
    "# SVM"
   ]
  },
  {
   "cell_type": "code",
   "execution_count": 29,
   "metadata": {
    "collapsed": true
   },
   "outputs": [],
   "source": [
    "from __private import fs\n",
    "from classification import dao"
   ]
  },
  {
   "cell_type": "code",
   "execution_count": 30,
   "metadata": {
    "collapsed": false
   },
   "outputs": [
    {
     "name": "stdout",
     "output_type": "stream",
     "text": [
      "alcohol|accuracy:0.8143360752056404|f1:0.8192219679633866|type:LogisticRegression\n",
      "alcohol|accuracy:0.8401880141010576|f1:0.8498896247240618|type:SVC\n",
      "alcohol|accuracy:0.8425381903642774|f1:0.8562231759656651|type:RandomForestClassifier\n",
      "first_person_label|accuracy:0.5637860082304527|f1:0.5574430033343769|type:SVC\n",
      "first_person_label|accuracy:0.5637860082304527|f1:0.5643693591852614|type:LogisticRegression\n",
      "first_person|accuracy:0.6951871657754011|f1:0.8034482758620688|type:RandomForestClassifier\n",
      "first_person|accuracy:0.7005347593582888|f1:0.7751004016064257|type:LogisticRegression\n",
      "first_person|accuracy:0.7032085561497327|f1:0.8062827225130889|type:RandomForestClassifier\n",
      "first_person|accuracy:0.7112299465240641|f1:0.8021978021978021|type:SVC\n"
     ]
    }
   ],
   "source": [
    "for _ in fs.list(): print(_)"
   ]
  },
  {
   "cell_type": "code",
   "execution_count": 31,
   "metadata": {
    "collapsed": false
   },
   "outputs": [],
   "source": [
    "clf_fpl_svc = dao.ClassifierAccess.get_byfile('first_person_label|accuracy:0.5637860082304527|f1:0.5574430033343769|type:SVC')"
   ]
  },
  {
   "cell_type": "code",
   "execution_count": 32,
   "metadata": {
    "collapsed": false
   },
   "outputs": [
    {
     "data": {
      "text/plain": [
       "[('text',\n",
       "  Pipeline(steps=[('getter', ItemGetter(key='text')), ('tfidf', TfidfVectorizer(analyzer='word', binary=False, decode_error='strict',\n",
       "          dtype=<class 'numpy.int64'>, encoding='utf-8', input='content',\n",
       "          lowercase=True, max_df=1.0, max_features=71312, min_df=2,\n",
       "          ngram_range=(1, 3), norm='l2', ...       tokenizer=<function tokenize at 0x0000000009A1F268>, use_idf=True,\n",
       "          vocabulary=None))])),\n",
       " ('topic',\n",
       "  Pipeline(steps=[('getter', ItemGetter(key='text')), ('topics', Gensim())]))]"
      ]
     },
     "execution_count": 32,
     "metadata": {},
     "output_type": "execute_result"
    }
   ],
   "source": [
    "clf_fpl_svc.steps[0][1].transformer_list"
   ]
  },
  {
   "cell_type": "markdown",
   "metadata": {},
   "source": [
    "Remove LDA..."
   ]
  },
  {
   "cell_type": "code",
   "execution_count": 33,
   "metadata": {
    "collapsed": false
   },
   "outputs": [],
   "source": [
    "del clf_fpl_svc.steps[0][1].transformer_list[-1]"
   ]
  },
  {
   "cell_type": "markdown",
   "metadata": {},
   "source": [
    "# SVM on first set of labels only"
   ]
  },
  {
   "cell_type": "code",
   "execution_count": 34,
   "metadata": {
    "collapsed": false
   },
   "outputs": [
    {
     "name": "stdout",
     "output_type": "stream",
     "text": [
      "Training Results\n",
      "~~~~~~~~~~~~~~~~\n",
      "accuracy_score\n",
      "0.675\n",
      "\n",
      "\n",
      "classification_report\n",
      "             precision    recall  f1-score   support\n",
      "\n",
      "          0       0.62      0.99      0.77      1391\n",
      "          1       0.91      0.49      0.63       694\n",
      "          2       0.94      0.16      0.27       595\n",
      "\n",
      "avg / total       0.77      0.68      0.62      2680\n",
      "\n",
      "\n",
      "\n",
      "confusion_matrix\n",
      "[[1377, 11, 3], [354, 337, 3], [478, 22, 95]]\n",
      "\n",
      "\n",
      "f1_score\n",
      "0.6217027842057538\n",
      "\n",
      "\n",
      "\n",
      "\n",
      "Testing Results Results\n",
      "~~~~~~~~~~~~~~~~~~~~~~~\n",
      "accuracy_score\n",
      "0.5742424242424242\n",
      "\n",
      "\n",
      "classification_report\n",
      "             precision    recall  f1-score   support\n",
      "\n",
      "          0       0.55      0.94      0.70       659\n",
      "          1       0.71      0.33      0.46       365\n",
      "          2       0.58      0.06      0.12       296\n",
      "\n",
      "avg / total       0.60      0.57      0.50      1320\n",
      "\n",
      "\n",
      "\n",
      "confusion_matrix\n",
      "[[617, 33, 9], [238, 122, 5], [261, 16, 19]]\n",
      "\n",
      "\n",
      "f1_score\n",
      "0.498855599710642\n",
      "\n",
      "\n",
      "\n",
      "\n"
     ]
    }
   ],
   "source": [
    "L = LabelGetter(double_labeled)\n",
    "X, y = L.get_first_person_label()\n",
    "X_train, X_test, y_train, y_test = train_test_split(X, y, test_size=0.33, random_state=26)\n",
    "clf_fpl_svc.fit(X_train, y_train)\n",
    "reporting = ClassificationReporting(clf_fpl_svc, X_train, X_test, y_train, y_test, 3)\n",
    "report = reporting.set_name(\"Test Classifier\").set_level('fpl').create_report(1)"
   ]
  },
  {
   "cell_type": "markdown",
   "metadata": {},
   "source": [
    "# SVM on second set of labels only"
   ]
  },
  {
   "cell_type": "code",
   "execution_count": 35,
   "metadata": {
    "collapsed": false
   },
   "outputs": [
    {
     "name": "stdout",
     "output_type": "stream",
     "text": [
      "Training Results\n",
      "~~~~~~~~~~~~~~~~\n",
      "accuracy_score\n",
      "0.7447354904982023\n",
      "\n",
      "\n",
      "classification_report\n",
      "             precision    recall  f1-score   support\n",
      "\n",
      "          0       0.69      0.97      0.81       987\n",
      "          1       0.85      0.65      0.74       585\n",
      "          2       0.91      0.31      0.47       375\n",
      "\n",
      "avg / total       0.78      0.74      0.72      1947\n",
      "\n",
      "\n",
      "\n",
      "confusion_matrix\n",
      "[[954, 28, 5], [201, 378, 6], [220, 37, 118]]\n",
      "\n",
      "\n",
      "f1_score\n",
      "0.7206461141420974\n",
      "\n",
      "\n",
      "\n",
      "\n",
      "Testing Results Results\n",
      "~~~~~~~~~~~~~~~~~~~~~~~\n",
      "accuracy_score\n",
      "0.6666666666666666\n",
      "\n",
      "\n",
      "classification_report\n",
      "             precision    recall  f1-score   support\n",
      "\n",
      "          0       0.65      0.90      0.76       504\n",
      "          1       0.70      0.52      0.60       269\n",
      "          2       0.72      0.24      0.35       187\n",
      "\n",
      "avg / total       0.68      0.67      0.63       960\n",
      "\n",
      "\n",
      "\n",
      "confusion_matrix\n",
      "[[455, 35, 14], [125, 141, 3], [119, 24, 44]]\n",
      "\n",
      "\n",
      "f1_score\n",
      "0.634735268711718\n",
      "\n",
      "\n",
      "\n",
      "\n"
     ]
    }
   ],
   "source": [
    "L = LabelGetter(double_labeled)\n",
    "X, y = L._get_labels('first_person_level', column_name='new_labels')\n",
    "X_train, X_test, y_train, y_test = train_test_split(X, y, test_size=0.33, random_state=26)\n",
    "clf_fpl_svc.fit(X_train, y_train)\n",
    "reporting = ClassificationReporting(clf_fpl_svc, X_train, X_test, y_train, y_test, 3)\n",
    "report = reporting.set_name(\"Test Classifier\").set_level('fpl').create_report(1)"
   ]
  },
  {
   "cell_type": "markdown",
   "metadata": {},
   "source": [
    "# SVM on double labeled"
   ]
  },
  {
   "cell_type": "code",
   "execution_count": 95,
   "metadata": {
    "collapsed": false
   },
   "outputs": [
    {
     "name": "stdout",
     "output_type": "stream",
     "text": [
      "Training Results\n",
      "~~~~~~~~~~~~~~~~\n",
      "accuracy_score\n",
      "0.9092331768388107\n",
      "\n",
      "\n",
      "classification_report\n",
      "             precision    recall  f1-score   support\n",
      "\n",
      "          0       0.89      0.98      0.93       714\n",
      "          1       0.94      0.88      0.91       351\n",
      "          2       0.96      0.71      0.81       213\n",
      "\n",
      "avg / total       0.91      0.91      0.91      1278\n",
      "\n",
      "\n",
      "\n",
      "f1_score\n",
      "0.9065334430591325\n",
      "\n",
      "\n",
      "confusion_matrix\n",
      "[[701, 9, 4], [38, 310, 3], [52, 10, 151]]\n",
      "\n",
      "\n",
      "\n",
      "\n",
      "Testing Results Results\n",
      "~~~~~~~~~~~~~~~~~~~~~~~\n",
      "accuracy_score\n",
      "0.7698412698412699\n",
      "\n",
      "\n",
      "classification_report\n",
      "             precision    recall  f1-score   support\n",
      "\n",
      "          0       0.77      0.93      0.84       367\n",
      "          1       0.81      0.62      0.70       174\n",
      "          2       0.69      0.42      0.52        89\n",
      "\n",
      "avg / total       0.77      0.77      0.76       630\n",
      "\n",
      "\n",
      "\n",
      "f1_score\n",
      "0.7564732734234484\n",
      "\n",
      "\n",
      "confusion_matrix\n",
      "[[340, 16, 11], [60, 108, 6], [43, 9, 37]]\n",
      "\n",
      "\n",
      "\n",
      "\n"
     ]
    }
   ],
   "source": [
    "L = LabelGetter(agreed)\n",
    "X, y = L.get_first_person_label()\n",
    "X_train, X_test, y_train, y_test = train_test_split(X, y, test_size=0.33, random_state=26)\n",
    "clf_fpl_svc.fit(X_train, y_train)\n",
    "reporting = ClassificationReporting(clf_fpl_svc, X_train, X_test, y_train, y_test, 3)\n",
    "report = reporting.set_name(\"Test Classifier\").set_level('fpl').create_report(1)"
   ]
  },
  {
   "cell_type": "code",
   "execution_count": null,
   "metadata": {
    "collapsed": true
   },
   "outputs": [],
   "source": []
  }
 ],
 "metadata": {
  "kernelspec": {
   "display_name": "Python 3",
   "language": "python",
   "name": "python3"
  },
  "language_info": {
   "codemirror_mode": {
    "name": "ipython",
    "version": 3
   },
   "file_extension": ".py",
   "mimetype": "text/x-python",
   "name": "python",
   "nbconvert_exporter": "python",
   "pygments_lexer": "ipython3",
   "version": "3.5.1"
  }
 },
 "nbformat": 4,
 "nbformat_minor": 0
}
