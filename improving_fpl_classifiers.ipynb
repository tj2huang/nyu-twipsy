{
 "cells": [
  {
   "cell_type": "markdown",
   "metadata": {},
   "source": [
    "We have 4000 double labeled tweets so need to figure out what to do with them."
   ]
  },
  {
   "cell_type": "markdown",
   "metadata": {},
   "source": [
    "# Preprocessing"
   ]
  },
  {
   "cell_type": "code",
   "execution_count": 1,
   "metadata": {
    "collapsed": true
   },
   "outputs": [],
   "source": [
    "import pickle\n",
    "\n",
    "import datetime\n",
    "import pandas as pd\n",
    "\n",
    "from data.dao import DataAccess, LabelGetter\n",
    "from data.turk import TurkResults2Label"
   ]
  },
  {
   "cell_type": "code",
   "execution_count": 2,
   "metadata": {
    "collapsed": false
   },
   "outputs": [],
   "source": [
    "results1 = pd.DataFrame.from_csv(\"C:/Users/Tom Work/Downloads/Batch_2417713_batch_results.csv\")"
   ]
  },
  {
   "cell_type": "code",
   "execution_count": 3,
   "metadata": {
    "collapsed": true
   },
   "outputs": [],
   "source": [
    "results2 = pd.DataFrame.from_csv(\"C:/Users/Tom Work/Downloads/Batch_2419972_batch_results.csv\")"
   ]
  },
  {
   "cell_type": "code",
   "execution_count": 4,
   "metadata": {
    "collapsed": false
   },
   "outputs": [],
   "source": [
    "results = pd.concat([results1, results2])\n",
    "# results.index = results._id"
   ]
  },
  {
   "cell_type": "code",
   "execution_count": 5,
   "metadata": {
    "collapsed": false,
    "scrolled": true
   },
   "outputs": [
    {
     "data": {
      "text/plain": [
       "A2QLSHXNCHBRN4    418\n",
       "A312KFQ78WB3A4    317\n",
       "AKATCXM6HXIU7     301\n",
       "AG0X3PQK2FWQJ     266\n",
       "A2YAYHZYI7M3HD    230\n",
       "AM7FYVGVOEP66     218\n",
       "A2W2ZEI7WUASOW    216\n",
       "A3HSMUPSPOKD0M    167\n",
       "AS9E0S6DBSWH7     139\n",
       "A2OAZPREKF6PQR    138\n",
       "Name: Worker, dtype: int64"
      ]
     },
     "execution_count": 5,
     "metadata": {},
     "output_type": "execute_result"
    }
   ],
   "source": [
    "results.Worker.value_counts().head(10)"
   ]
  },
  {
   "cell_type": "code",
   "execution_count": 6,
   "metadata": {
    "collapsed": false,
    "scrolled": true
   },
   "outputs": [
    {
     "data": {
      "text/html": [
       "<div>\n",
       "<table border=\"1\" class=\"dataframe\">\n",
       "  <thead>\n",
       "    <tr style=\"text-align: right;\">\n",
       "      <th></th>\n",
       "      <th>text</th>\n",
       "      <th>Answer</th>\n",
       "    </tr>\n",
       "    <tr>\n",
       "      <th>HITID</th>\n",
       "      <th></th>\n",
       "      <th></th>\n",
       "    </tr>\n",
       "  </thead>\n",
       "  <tbody>\n",
       "    <tr>\n",
       "      <th>3S4TINXCC07LR4SJW252ASCE7D9OB5</th>\n",
       "      <td>b'Man down, man down! #ineedabeer! http://t.co...</td>\n",
       "      <td>First Person - Alcohol::Looking to drink</td>\n",
       "    </tr>\n",
       "    <tr>\n",
       "      <th>3BCRDCM0ODEWV1Q92JW1SV9D97PK6X</th>\n",
       "      <td>b'@coleswindell Jacksonville Florida wants you...</td>\n",
       "      <td>Alcohol Related::Promotional Content</td>\n",
       "    </tr>\n",
       "    <tr>\n",
       "      <th>34OWYT6U3W1S7P2J0NE1ZPL27YVI96</th>\n",
       "      <td>b'Drinking a Burnside by @foundationbrew at @t...</td>\n",
       "      <td>First Person - Alcohol::Casual Drinking</td>\n",
       "    </tr>\n",
       "    <tr>\n",
       "      <th>3OEWW2KGQJVE61Q3AYW85I0EAYKODB</th>\n",
       "      <td>b'Good, but hard to follow my last beer. (Head...</td>\n",
       "      <td>First Person - Alcohol::Casual Drinking</td>\n",
       "    </tr>\n",
       "    <tr>\n",
       "      <th>39KV3A5D18RDNKHMQ2AVPV0JLCK7SY</th>\n",
       "      <td>b'Drinking an Atomic 7 by @EnegrenBrewing @ Li...</td>\n",
       "      <td>First Person - Alcohol::Casual Drinking</td>\n",
       "    </tr>\n",
       "    <tr>\n",
       "      <th>3XD2A6FGFNEH135F5Z8F3RRPG2AS9X</th>\n",
       "      <td>b'I need to get drunk w salina soon'</td>\n",
       "      <td>First Person - Alcohol::Looking to drink</td>\n",
       "    </tr>\n",
       "    <tr>\n",
       "      <th>3HEADTGN2PC3XVI5TBD65ZBQLMXVR3</th>\n",
       "      <td>b'Come to my dads house and go straight to the...</td>\n",
       "      <td>First Person - Alcohol::Casual Drinking</td>\n",
       "    </tr>\n",
       "    <tr>\n",
       "      <th>3M4KL7H8KV7UP04NU9QJNGDE01O16A</th>\n",
       "      <td>b\"i feel like I'm drunk but I'm not\"</td>\n",
       "      <td>First Person - Alcohol::Casual Drinking</td>\n",
       "    </tr>\n",
       "    <tr>\n",
       "      <th>32L724R85L4DZCIQHCAYLFLHC8OIPO</th>\n",
       "      <td>b\"This bitch put amsterdam in her fucking Ariz...</td>\n",
       "      <td>First Person - Alcohol::Heavy Drinking</td>\n",
       "    </tr>\n",
       "    <tr>\n",
       "      <th>3X878VYTIE24JFC0KIAWIWH4WMR7FG</th>\n",
       "      <td>b'Pretty drunk like hey'</td>\n",
       "      <td>First Person - Alcohol::Heavy Drinking</td>\n",
       "    </tr>\n",
       "  </tbody>\n",
       "</table>\n",
       "</div>"
      ],
      "text/plain": [
       "                                                                             text  \\\n",
       "HITID                                                                               \n",
       "3S4TINXCC07LR4SJW252ASCE7D9OB5  b'Man down, man down! #ineedabeer! http://t.co...   \n",
       "3BCRDCM0ODEWV1Q92JW1SV9D97PK6X  b'@coleswindell Jacksonville Florida wants you...   \n",
       "34OWYT6U3W1S7P2J0NE1ZPL27YVI96  b'Drinking a Burnside by @foundationbrew at @t...   \n",
       "3OEWW2KGQJVE61Q3AYW85I0EAYKODB  b'Good, but hard to follow my last beer. (Head...   \n",
       "39KV3A5D18RDNKHMQ2AVPV0JLCK7SY  b'Drinking an Atomic 7 by @EnegrenBrewing @ Li...   \n",
       "3XD2A6FGFNEH135F5Z8F3RRPG2AS9X               b'I need to get drunk w salina soon'   \n",
       "3HEADTGN2PC3XVI5TBD65ZBQLMXVR3  b'Come to my dads house and go straight to the...   \n",
       "3M4KL7H8KV7UP04NU9QJNGDE01O16A               b\"i feel like I'm drunk but I'm not\"   \n",
       "32L724R85L4DZCIQHCAYLFLHC8OIPO  b\"This bitch put amsterdam in her fucking Ariz...   \n",
       "3X878VYTIE24JFC0KIAWIWH4WMR7FG                           b'Pretty drunk like hey'   \n",
       "\n",
       "                                                                  Answer  \n",
       "HITID                                                                     \n",
       "3S4TINXCC07LR4SJW252ASCE7D9OB5  First Person - Alcohol::Looking to drink  \n",
       "3BCRDCM0ODEWV1Q92JW1SV9D97PK6X      Alcohol Related::Promotional Content  \n",
       "34OWYT6U3W1S7P2J0NE1ZPL27YVI96   First Person - Alcohol::Casual Drinking  \n",
       "3OEWW2KGQJVE61Q3AYW85I0EAYKODB   First Person - Alcohol::Casual Drinking  \n",
       "39KV3A5D18RDNKHMQ2AVPV0JLCK7SY   First Person - Alcohol::Casual Drinking  \n",
       "3XD2A6FGFNEH135F5Z8F3RRPG2AS9X  First Person - Alcohol::Looking to drink  \n",
       "3HEADTGN2PC3XVI5TBD65ZBQLMXVR3   First Person - Alcohol::Casual Drinking  \n",
       "3M4KL7H8KV7UP04NU9QJNGDE01O16A   First Person - Alcohol::Casual Drinking  \n",
       "32L724R85L4DZCIQHCAYLFLHC8OIPO    First Person - Alcohol::Heavy Drinking  \n",
       "3X878VYTIE24JFC0KIAWIWH4WMR7FG    First Person - Alcohol::Heavy Drinking  "
      ]
     },
     "execution_count": 6,
     "metadata": {},
     "output_type": "execute_result"
    }
   ],
   "source": [
    "results[results.Worker == 'A2QLSHXNCHBRN4'][['text', 'Answer']].sample(10)"
   ]
  },
  {
   "cell_type": "code",
   "execution_count": 7,
   "metadata": {
    "collapsed": false
   },
   "outputs": [],
   "source": [
    "results.index = results._id\n",
    "labels = results.Answer.apply(TurkResults2Label.parse_to_labels)"
   ]
  },
  {
   "cell_type": "code",
   "execution_count": 8,
   "metadata": {
    "collapsed": false
   },
   "outputs": [
    {
     "data": {
      "text/plain": [
       "(4000,)"
      ]
     },
     "execution_count": 8,
     "metadata": {},
     "output_type": "execute_result"
    }
   ],
   "source": [
    "labels.shape"
   ]
  },
  {
   "cell_type": "code",
   "execution_count": 9,
   "metadata": {
    "collapsed": false
   },
   "outputs": [],
   "source": [
    "X = DataAccess.get_as_dataframe()\n",
    "L = LabelGetter(X)\n",
    "X_fpl, y = L.get_first_person_label()"
   ]
  },
  {
   "cell_type": "code",
   "execution_count": 10,
   "metadata": {
    "collapsed": false
   },
   "outputs": [
    {
     "name": "stderr",
     "output_type": "stream",
     "text": [
      "C:\\Users\\Tom Work\\Anaconda3\\lib\\site-packages\\ipykernel\\__main__.py:1: SettingWithCopyWarning: \n",
      "A value is trying to be set on a copy of a slice from a DataFrame.\n",
      "Try using .loc[row_indexer,col_indexer] = value instead\n",
      "\n",
      "See the caveats in the documentation: http://pandas.pydata.org/pandas-docs/stable/indexing.html#indexing-view-versus-copy\n",
      "  if __name__ == '__main__':\n"
     ]
    }
   ],
   "source": [
    "X_fpl['new_labels'] = labels"
   ]
  },
  {
   "cell_type": "code",
   "execution_count": 11,
   "metadata": {
    "collapsed": false
   },
   "outputs": [],
   "source": [
    "double_labeled = X_fpl.dropna(subset = ['new_labels'])"
   ]
  },
  {
   "cell_type": "code",
   "execution_count": 12,
   "metadata": {
    "collapsed": false,
    "scrolled": true
   },
   "outputs": [
    {
     "data": {
      "text/html": [
       "<div>\n",
       "<table border=\"1\" class=\"dataframe\">\n",
       "  <thead>\n",
       "    <tr style=\"text-align: right;\">\n",
       "      <th></th>\n",
       "      <th>created_at</th>\n",
       "      <th>labels</th>\n",
       "      <th>predict</th>\n",
       "      <th>text</th>\n",
       "      <th>user</th>\n",
       "      <th>user.created_at</th>\n",
       "      <th>user.favourites_count</th>\n",
       "      <th>user.followers_count</th>\n",
       "      <th>user.friends_count</th>\n",
       "      <th>user.statuses_count</th>\n",
       "      <th>user.verified</th>\n",
       "      <th>new_labels</th>\n",
       "    </tr>\n",
       "    <tr>\n",
       "      <th>_id</th>\n",
       "      <th></th>\n",
       "      <th></th>\n",
       "      <th></th>\n",
       "      <th></th>\n",
       "      <th></th>\n",
       "      <th></th>\n",
       "      <th></th>\n",
       "      <th></th>\n",
       "      <th></th>\n",
       "      <th></th>\n",
       "      <th></th>\n",
       "      <th></th>\n",
       "    </tr>\n",
       "  </thead>\n",
       "  <tbody>\n",
       "    <tr>\n",
       "      <th>5574bbcfd6dfbb4fbd05e42a</th>\n",
       "      <td>Sun Jun 07 21:47:35 +0000 2015</td>\n",
       "      <td>{'alcohol': 1, 'first_person': 1, 'first_perso...</td>\n",
       "      <td>0.701132</td>\n",
       "      <td>Either my table knows I'm drunk or thinks I'm ...</td>\n",
       "      <td>{'verified': False, 'statuses_count': 38506, '...</td>\n",
       "      <td>Sat Dec 31 05:46:07 +0000 2011</td>\n",
       "      <td>2541</td>\n",
       "      <td>632</td>\n",
       "      <td>316</td>\n",
       "      <td>38506</td>\n",
       "      <td>False</td>\n",
       "      <td>{'alcohol': 1, 'first_person': 1, 'first_perso...</td>\n",
       "    </tr>\n",
       "    <tr>\n",
       "      <th>557baf46d6dfbb6d47c64721</th>\n",
       "      <td>Sat Jun 13 04:19:59 +0000 2015</td>\n",
       "      <td>{'alcohol': 1, 'first_person': 1, 'first_perso...</td>\n",
       "      <td>NaN</td>\n",
       "      <td>@T_Bonezzz I swear, if I ever get pulled over,...</td>\n",
       "      <td>{'verified': False, 'statuses_count': 19403, '...</td>\n",
       "      <td>Sat Mar 28 01:32:05 +0000 2009</td>\n",
       "      <td>15613</td>\n",
       "      <td>897</td>\n",
       "      <td>1496</td>\n",
       "      <td>19403</td>\n",
       "      <td>False</td>\n",
       "      <td>{'alcohol': 1, 'raw': 'Alcohol Related::Discus...</td>\n",
       "    </tr>\n",
       "    <tr>\n",
       "      <th>557e1d5fd6dfbb7f85519ac0</th>\n",
       "      <td>Mon Jun 15 00:34:13 +0000 2015</td>\n",
       "      <td>{'alcohol': 1, 'first_person': 1, 'first_perso...</td>\n",
       "      <td>NaN</td>\n",
       "      <td>Drinks w/ the bae. @ Grey Lady NYC https://t.c...</td>\n",
       "      <td>{'verified': False, 'statuses_count': 9179, 'f...</td>\n",
       "      <td>Mon Mar 07 13:42:00 +0000 2011</td>\n",
       "      <td>2</td>\n",
       "      <td>538</td>\n",
       "      <td>377</td>\n",
       "      <td>9179</td>\n",
       "      <td>False</td>\n",
       "      <td>{'alcohol': 1, 'first_person': 1, 'first_perso...</td>\n",
       "    </tr>\n",
       "    <tr>\n",
       "      <th>557f38d2d6dfbb51dfc51196</th>\n",
       "      <td>Mon Jun 15 20:43:10 +0000 2015</td>\n",
       "      <td>{'alcohol': 1, 'first_person': 1, 'first_perso...</td>\n",
       "      <td>0.758629</td>\n",
       "      <td>If you wanna drink some beer and catch a stunn...</td>\n",
       "      <td>{'verified': False, 'statuses_count': 1132, 'f...</td>\n",
       "      <td>Fri Aug 03 23:46:42 +0000 2012</td>\n",
       "      <td>695</td>\n",
       "      <td>182</td>\n",
       "      <td>176</td>\n",
       "      <td>1132</td>\n",
       "      <td>False</td>\n",
       "      <td>{'alcohol': 1, 'first_person': 1, 'first_perso...</td>\n",
       "    </tr>\n",
       "    <tr>\n",
       "      <th>557bac9bd6dfbb6d47c628d4</th>\n",
       "      <td>Sat Jun 13 04:08:36 +0000 2015</td>\n",
       "      <td>{'alcohol': 1, 'first_person': 1, 'first_perso...</td>\n",
       "      <td>0.736704</td>\n",
       "      <td>Ugh except tomorrow waking up for work after a...</td>\n",
       "      <td>{'verified': False, 'statuses_count': 10415, '...</td>\n",
       "      <td>Thu Oct 27 02:14:21 +0000 2011</td>\n",
       "      <td>2159</td>\n",
       "      <td>498</td>\n",
       "      <td>265</td>\n",
       "      <td>10415</td>\n",
       "      <td>False</td>\n",
       "      <td>{'alcohol': 1, 'first_person': 1, 'first_perso...</td>\n",
       "    </tr>\n",
       "  </tbody>\n",
       "</table>\n",
       "</div>"
      ],
      "text/plain": [
       "                                              created_at  \\\n",
       "_id                                                        \n",
       "5574bbcfd6dfbb4fbd05e42a  Sun Jun 07 21:47:35 +0000 2015   \n",
       "557baf46d6dfbb6d47c64721  Sat Jun 13 04:19:59 +0000 2015   \n",
       "557e1d5fd6dfbb7f85519ac0  Mon Jun 15 00:34:13 +0000 2015   \n",
       "557f38d2d6dfbb51dfc51196  Mon Jun 15 20:43:10 +0000 2015   \n",
       "557bac9bd6dfbb6d47c628d4  Sat Jun 13 04:08:36 +0000 2015   \n",
       "\n",
       "                                                                     labels  \\\n",
       "_id                                                                           \n",
       "5574bbcfd6dfbb4fbd05e42a  {'alcohol': 1, 'first_person': 1, 'first_perso...   \n",
       "557baf46d6dfbb6d47c64721  {'alcohol': 1, 'first_person': 1, 'first_perso...   \n",
       "557e1d5fd6dfbb7f85519ac0  {'alcohol': 1, 'first_person': 1, 'first_perso...   \n",
       "557f38d2d6dfbb51dfc51196  {'alcohol': 1, 'first_person': 1, 'first_perso...   \n",
       "557bac9bd6dfbb6d47c628d4  {'alcohol': 1, 'first_person': 1, 'first_perso...   \n",
       "\n",
       "                           predict  \\\n",
       "_id                                  \n",
       "5574bbcfd6dfbb4fbd05e42a  0.701132   \n",
       "557baf46d6dfbb6d47c64721       NaN   \n",
       "557e1d5fd6dfbb7f85519ac0       NaN   \n",
       "557f38d2d6dfbb51dfc51196  0.758629   \n",
       "557bac9bd6dfbb6d47c628d4  0.736704   \n",
       "\n",
       "                                                                       text  \\\n",
       "_id                                                                           \n",
       "5574bbcfd6dfbb4fbd05e42a  Either my table knows I'm drunk or thinks I'm ...   \n",
       "557baf46d6dfbb6d47c64721  @T_Bonezzz I swear, if I ever get pulled over,...   \n",
       "557e1d5fd6dfbb7f85519ac0  Drinks w/ the bae. @ Grey Lady NYC https://t.c...   \n",
       "557f38d2d6dfbb51dfc51196  If you wanna drink some beer and catch a stunn...   \n",
       "557bac9bd6dfbb6d47c628d4  Ugh except tomorrow waking up for work after a...   \n",
       "\n",
       "                                                                       user  \\\n",
       "_id                                                                           \n",
       "5574bbcfd6dfbb4fbd05e42a  {'verified': False, 'statuses_count': 38506, '...   \n",
       "557baf46d6dfbb6d47c64721  {'verified': False, 'statuses_count': 19403, '...   \n",
       "557e1d5fd6dfbb7f85519ac0  {'verified': False, 'statuses_count': 9179, 'f...   \n",
       "557f38d2d6dfbb51dfc51196  {'verified': False, 'statuses_count': 1132, 'f...   \n",
       "557bac9bd6dfbb6d47c628d4  {'verified': False, 'statuses_count': 10415, '...   \n",
       "\n",
       "                                         user.created_at  \\\n",
       "_id                                                        \n",
       "5574bbcfd6dfbb4fbd05e42a  Sat Dec 31 05:46:07 +0000 2011   \n",
       "557baf46d6dfbb6d47c64721  Sat Mar 28 01:32:05 +0000 2009   \n",
       "557e1d5fd6dfbb7f85519ac0  Mon Mar 07 13:42:00 +0000 2011   \n",
       "557f38d2d6dfbb51dfc51196  Fri Aug 03 23:46:42 +0000 2012   \n",
       "557bac9bd6dfbb6d47c628d4  Thu Oct 27 02:14:21 +0000 2011   \n",
       "\n",
       "                          user.favourites_count  user.followers_count  \\\n",
       "_id                                                                     \n",
       "5574bbcfd6dfbb4fbd05e42a                   2541                   632   \n",
       "557baf46d6dfbb6d47c64721                  15613                   897   \n",
       "557e1d5fd6dfbb7f85519ac0                      2                   538   \n",
       "557f38d2d6dfbb51dfc51196                    695                   182   \n",
       "557bac9bd6dfbb6d47c628d4                   2159                   498   \n",
       "\n",
       "                          user.friends_count  user.statuses_count  \\\n",
       "_id                                                                 \n",
       "5574bbcfd6dfbb4fbd05e42a                 316                38506   \n",
       "557baf46d6dfbb6d47c64721                1496                19403   \n",
       "557e1d5fd6dfbb7f85519ac0                 377                 9179   \n",
       "557f38d2d6dfbb51dfc51196                 176                 1132   \n",
       "557bac9bd6dfbb6d47c628d4                 265                10415   \n",
       "\n",
       "                         user.verified  \\\n",
       "_id                                      \n",
       "5574bbcfd6dfbb4fbd05e42a         False   \n",
       "557baf46d6dfbb6d47c64721         False   \n",
       "557e1d5fd6dfbb7f85519ac0         False   \n",
       "557f38d2d6dfbb51dfc51196         False   \n",
       "557bac9bd6dfbb6d47c628d4         False   \n",
       "\n",
       "                                                                 new_labels  \n",
       "_id                                                                          \n",
       "5574bbcfd6dfbb4fbd05e42a  {'alcohol': 1, 'first_person': 1, 'first_perso...  \n",
       "557baf46d6dfbb6d47c64721  {'alcohol': 1, 'raw': 'Alcohol Related::Discus...  \n",
       "557e1d5fd6dfbb7f85519ac0  {'alcohol': 1, 'first_person': 1, 'first_perso...  \n",
       "557f38d2d6dfbb51dfc51196  {'alcohol': 1, 'first_person': 1, 'first_perso...  \n",
       "557bac9bd6dfbb6d47c628d4  {'alcohol': 1, 'first_person': 1, 'first_perso...  "
      ]
     },
     "execution_count": 12,
     "metadata": {},
     "output_type": "execute_result"
    }
   ],
   "source": [
    "double_labeled.sample(5)"
   ]
  },
  {
   "cell_type": "code",
   "execution_count": 13,
   "metadata": {
    "collapsed": false
   },
   "outputs": [],
   "source": [
    "L = LabelGetter(double_labeled)\n",
    "x_old, fpl_old = L.get_first_person_label()\n",
    "x_new, fpl_new = L._get_labels('first_person_level', column_name='new_labels')"
   ]
  },
  {
   "cell_type": "code",
   "execution_count": 14,
   "metadata": {
    "collapsed": false
   },
   "outputs": [],
   "source": [
    "df = pd.DataFrame()\n",
    "df['old'] = fpl_old\n",
    "df['new'] = fpl_new\n",
    "df = df.dropna()"
   ]
  },
  {
   "cell_type": "code",
   "execution_count": 15,
   "metadata": {
    "collapsed": false
   },
   "outputs": [
    {
     "data": {
      "text/plain": [
       "(2907, 2)"
      ]
     },
     "execution_count": 15,
     "metadata": {},
     "output_type": "execute_result"
    }
   ],
   "source": [
    "df.shape"
   ]
  },
  {
   "cell_type": "code",
   "execution_count": 16,
   "metadata": {
    "collapsed": false
   },
   "outputs": [],
   "source": [
    "from sklearn.metrics import cohen_kappa_score"
   ]
  },
  {
   "cell_type": "code",
   "execution_count": 17,
   "metadata": {
    "collapsed": false
   },
   "outputs": [
    {
     "data": {
      "text/plain": [
       "0.44000363291793887"
      ]
     },
     "execution_count": 17,
     "metadata": {},
     "output_type": "execute_result"
    }
   ],
   "source": [
    "cohen_kappa_score(df.old, df.new)"
   ]
  },
  {
   "cell_type": "markdown",
   "metadata": {},
   "source": [
    "This is an ok score."
   ]
  },
  {
   "cell_type": "code",
   "execution_count": 18,
   "metadata": {
    "collapsed": false
   },
   "outputs": [],
   "source": [
    "agreed = double_labeled.ix[df[df['old'] == df['new']].index]"
   ]
  },
  {
   "cell_type": "code",
   "execution_count": 19,
   "metadata": {
    "collapsed": false
   },
   "outputs": [
    {
     "data": {
      "text/html": [
       "<div>\n",
       "<table border=\"1\" class=\"dataframe\">\n",
       "  <thead>\n",
       "    <tr style=\"text-align: right;\">\n",
       "      <th></th>\n",
       "      <th>text</th>\n",
       "      <th>labels</th>\n",
       "    </tr>\n",
       "    <tr>\n",
       "      <th>_id</th>\n",
       "      <th></th>\n",
       "      <th></th>\n",
       "    </tr>\n",
       "  </thead>\n",
       "  <tbody>\n",
       "    <tr>\n",
       "      <th>558f3842d6dfbb4e29a81ba8</th>\n",
       "      <td>Phone on 5% 😩 too drunk for this</td>\n",
       "      <td>{'alcohol': 1, 'first_person': 1, 'first_perso...</td>\n",
       "    </tr>\n",
       "    <tr>\n",
       "      <th>5573eb97d6dfbb685dccf1ef</th>\n",
       "      <td>I don't got a single sober vein in my body.</td>\n",
       "      <td>{'alcohol': 1, 'first_person': 1, 'first_perso...</td>\n",
       "    </tr>\n",
       "    <tr>\n",
       "      <th>55785a79d6dfbb6044891f71</th>\n",
       "      <td>Swimming pool and fridge full of beer... Come ...</td>\n",
       "      <td>{'alcohol': 1, 'first_person': 1, 'first_perso...</td>\n",
       "    </tr>\n",
       "    <tr>\n",
       "      <th>55804585d6dfbb2b73aad3fb</th>\n",
       "      <td>Sippen on some vodka straight out the bottle ,...</td>\n",
       "      <td>{'alcohol': 1, 'first_person': 1, 'first_perso...</td>\n",
       "    </tr>\n",
       "    <tr>\n",
       "      <th>558971acd6dfbb74d58c400e</th>\n",
       "      <td>@PAGESPAIGE lets face time and drink wine and ...</td>\n",
       "      <td>{'alcohol': 1, 'first_person': 1, 'first_perso...</td>\n",
       "    </tr>\n",
       "  </tbody>\n",
       "</table>\n",
       "</div>"
      ],
      "text/plain": [
       "                                                                       text  \\\n",
       "_id                                                                           \n",
       "558f3842d6dfbb4e29a81ba8                   Phone on 5% 😩 too drunk for this   \n",
       "5573eb97d6dfbb685dccf1ef        I don't got a single sober vein in my body.   \n",
       "55785a79d6dfbb6044891f71  Swimming pool and fridge full of beer... Come ...   \n",
       "55804585d6dfbb2b73aad3fb  Sippen on some vodka straight out the bottle ,...   \n",
       "558971acd6dfbb74d58c400e  @PAGESPAIGE lets face time and drink wine and ...   \n",
       "\n",
       "                                                                     labels  \n",
       "_id                                                                          \n",
       "558f3842d6dfbb4e29a81ba8  {'alcohol': 1, 'first_person': 1, 'first_perso...  \n",
       "5573eb97d6dfbb685dccf1ef  {'alcohol': 1, 'first_person': 1, 'first_perso...  \n",
       "55785a79d6dfbb6044891f71  {'alcohol': 1, 'first_person': 1, 'first_perso...  \n",
       "55804585d6dfbb2b73aad3fb  {'alcohol': 1, 'first_person': 1, 'first_perso...  \n",
       "558971acd6dfbb74d58c400e  {'alcohol': 1, 'first_person': 1, 'first_perso...  "
      ]
     },
     "execution_count": 19,
     "metadata": {},
     "output_type": "execute_result"
    }
   ],
   "source": [
    "agreed[['text', 'labels']].sample(5)"
   ]
  },
  {
   "cell_type": "code",
   "execution_count": 20,
   "metadata": {
    "collapsed": true
   },
   "outputs": [],
   "source": [
    "pickle.dump(agreed, open('amt/double_labeled.p', 'wb'))"
   ]
  },
  {
   "cell_type": "markdown",
   "metadata": {},
   "source": [
    "# FPL Classifier Performance"
   ]
  },
  {
   "cell_type": "markdown",
   "metadata": {},
   "source": [
    "Lets compare performance of various classifiers using old and new data."
   ]
  },
  {
   "cell_type": "code",
   "execution_count": 60,
   "metadata": {
    "collapsed": true
   },
   "outputs": [],
   "source": [
    "from sklearn.cross_validation import train_test_split\n",
    "from classification.reporting import ClassificationReporting"
   ]
  },
  {
   "cell_type": "markdown",
   "metadata": {},
   "source": [
    "# Old LogReg"
   ]
  },
  {
   "cell_type": "markdown",
   "metadata": {},
   "source": [
    "We train on all 4000 tweets using the labels from the first round of workers."
   ]
  },
  {
   "cell_type": "code",
   "execution_count": 71,
   "metadata": {
    "collapsed": true
   },
   "outputs": [],
   "source": [
    "clf_old = pickle.load(open('pickles/clf_fpl_UPDATED.p', 'rb'))"
   ]
  },
  {
   "cell_type": "code",
   "execution_count": 83,
   "metadata": {
    "collapsed": true
   },
   "outputs": [],
   "source": [
    "L = LabelGetter(double_labeled)\n",
    "X, y = L.get_first_person_label()\n",
    "# X, y = L._get_labels('first_person_level', column_name='new_labels')"
   ]
  },
  {
   "cell_type": "code",
   "execution_count": 84,
   "metadata": {
    "collapsed": false
   },
   "outputs": [
    {
     "data": {
      "text/plain": [
       "(4000, 12)"
      ]
     },
     "execution_count": 84,
     "metadata": {},
     "output_type": "execute_result"
    }
   ],
   "source": [
    "X.shape"
   ]
  },
  {
   "cell_type": "code",
   "execution_count": 85,
   "metadata": {
    "collapsed": false
   },
   "outputs": [
    {
     "data": {
      "text/plain": [
       "Pipeline(steps=[('features', FeatureUnion(n_jobs=1,\n",
       "       transformer_list=[('text', Pipeline(steps=[('getter', ItemGetter(key='text')), ('tfidf', TfidfVectorizer(analyzer='word', binary=False, decode_error='strict',\n",
       "        dtype=<class 'numpy.int64'>, encoding='utf-8', input='content',\n",
       "        lowercase=F...one,\n",
       "          solver='liblinear', tol=0.000449897709599141, verbose=0,\n",
       "          warm_start=None))])"
      ]
     },
     "execution_count": 85,
     "metadata": {},
     "output_type": "execute_result"
    }
   ],
   "source": [
    "X_train, X_test, y_train, y_test = train_test_split(X, y, test_size=0.33, random_state=26)\n",
    "clf_fpl.fit(X_train, y_train)"
   ]
  },
  {
   "cell_type": "code",
   "execution_count": 86,
   "metadata": {
    "collapsed": false
   },
   "outputs": [
    {
     "name": "stdout",
     "output_type": "stream",
     "text": [
      "Training Results\n",
      "~~~~~~~~~~~~~~~~\n",
      "accuracy_score\n",
      "1.0\n",
      "\n",
      "\n",
      "classification_report\n",
      "             precision    recall  f1-score   support\n",
      "\n",
      "          0       1.00      1.00      1.00      1391\n",
      "          1       1.00      1.00      1.00       694\n",
      "          2       1.00      1.00      1.00       595\n",
      "\n",
      "avg / total       1.00      1.00      1.00      2680\n",
      "\n",
      "\n",
      "\n",
      "f1_score\n",
      "1.0\n",
      "\n",
      "\n",
      "confusion_matrix\n",
      "[[1391, 0, 0], [0, 694, 0], [0, 0, 595]]\n",
      "\n",
      "\n",
      "\n",
      "\n",
      "Testing Results Results\n",
      "~~~~~~~~~~~~~~~~~~~~~~~\n",
      "accuracy_score\n",
      "0.6113636363636363\n",
      "\n",
      "\n",
      "classification_report\n",
      "             precision    recall  f1-score   support\n",
      "\n",
      "          0       0.67      0.70      0.69       659\n",
      "          1       0.57      0.58      0.58       365\n",
      "          2       0.51      0.45      0.47       296\n",
      "\n",
      "avg / total       0.61      0.61      0.61      1320\n",
      "\n",
      "\n",
      "\n",
      "f1_score\n",
      "0.6088338406205277\n",
      "\n",
      "\n",
      "confusion_matrix\n",
      "[[462, 110, 87], [110, 213, 42], [115, 49, 132]]\n",
      "\n",
      "\n",
      "\n",
      "\n"
     ]
    }
   ],
   "source": [
    "reporting = ClassificationReporting(clf_fpl, X_train, X_test, y_train, y_test, 3)\n",
    "report = reporting.set_name(\"Test Classifier\").set_level('fpl').create_report(1)"
   ]
  },
  {
   "cell_type": "markdown",
   "metadata": {},
   "source": [
    "# New Data: Log Reg"
   ]
  },
  {
   "cell_type": "markdown",
   "metadata": {},
   "source": [
    "We take the subset of the above data where the 2 sets of workers agreed and use that to train/test."
   ]
  },
  {
   "cell_type": "code",
   "execution_count": 87,
   "metadata": {
    "collapsed": true
   },
   "outputs": [],
   "source": [
    "clf_fpl = pickle.load(open('pickles/clf_fpl_UPDATED.p', 'rb'))"
   ]
  },
  {
   "cell_type": "code",
   "execution_count": 88,
   "metadata": {
    "collapsed": true
   },
   "outputs": [],
   "source": [
    "L = LabelGetter(agreed)\n",
    "X, y = L.get_first_person_label()"
   ]
  },
  {
   "cell_type": "code",
   "execution_count": 89,
   "metadata": {
    "collapsed": false
   },
   "outputs": [
    {
     "data": {
      "text/plain": [
       "Pipeline(steps=[('features', FeatureUnion(n_jobs=1,\n",
       "       transformer_list=[('text', Pipeline(steps=[('getter', ItemGetter(key='text')), ('tfidf', TfidfVectorizer(analyzer='word', binary=False, decode_error='strict',\n",
       "        dtype=<class 'numpy.int64'>, encoding='utf-8', input='content',\n",
       "        lowercase=F...one,\n",
       "          solver='liblinear', tol=0.000449897709599141, verbose=0,\n",
       "          warm_start=None))])"
      ]
     },
     "execution_count": 89,
     "metadata": {},
     "output_type": "execute_result"
    }
   ],
   "source": [
    "X_train, X_test, y_train, y_test = train_test_split(X, y, test_size=0.33, random_state=26)\n",
    "clf_fpl.fit(X_train, y_train)"
   ]
  },
  {
   "cell_type": "code",
   "execution_count": 90,
   "metadata": {
    "collapsed": false
   },
   "outputs": [
    {
     "name": "stdout",
     "output_type": "stream",
     "text": [
      "Training Results\n",
      "~~~~~~~~~~~~~~~~\n",
      "accuracy_score\n",
      "1.0\n",
      "\n",
      "\n",
      "classification_report\n",
      "             precision    recall  f1-score   support\n",
      "\n",
      "          0       1.00      1.00      1.00       714\n",
      "          1       1.00      1.00      1.00       351\n",
      "          2       1.00      1.00      1.00       213\n",
      "\n",
      "avg / total       1.00      1.00      1.00      1278\n",
      "\n",
      "\n",
      "\n",
      "f1_score\n",
      "1.0\n",
      "\n",
      "\n",
      "confusion_matrix\n",
      "[[714, 0, 0], [0, 351, 0], [0, 0, 213]]\n",
      "\n",
      "\n",
      "\n",
      "\n",
      "Testing Results Results\n",
      "~~~~~~~~~~~~~~~~~~~~~~~\n",
      "accuracy_score\n",
      "0.7666666666666667\n",
      "\n",
      "\n",
      "classification_report\n",
      "             precision    recall  f1-score   support\n",
      "\n",
      "          0       0.82      0.83      0.83       367\n",
      "          1       0.73      0.76      0.75       174\n",
      "          2       0.59      0.51      0.55        89\n",
      "\n",
      "avg / total       0.76      0.77      0.76       630\n",
      "\n",
      "\n",
      "\n",
      "f1_score\n",
      "0.7643482489489184\n",
      "\n",
      "\n",
      "confusion_matrix\n",
      "[[305, 37, 25], [35, 133, 6], [31, 13, 45]]\n",
      "\n",
      "\n",
      "\n",
      "\n"
     ]
    }
   ],
   "source": [
    "reporting = ClassificationReporting(clf_fpl, X_train, X_test, y_train, y_test, 3)\n",
    "report = reporting.set_name(\"Test Classifier\").set_level('fpl').create_report(1)"
   ]
  },
  {
   "cell_type": "markdown",
   "metadata": {},
   "source": [
    "Seems like an improvement! However, we should keep in mind that the train and test sets are where two AMT workers agreed, and hence might leave out the more ambiguous cases."
   ]
  },
  {
   "cell_type": "code",
   "execution_count": 64,
   "metadata": {
    "collapsed": true
   },
   "outputs": [],
   "source": [
    "pickle.dump(clf_fpl, open('pickles/clf_fpl_double_labeled', 'wb'))"
   ]
  },
  {
   "cell_type": "markdown",
   "metadata": {},
   "source": [
    "# SVM"
   ]
  },
  {
   "cell_type": "code",
   "execution_count": 68,
   "metadata": {
    "collapsed": true
   },
   "outputs": [],
   "source": [
    "from __private import fs\n",
    "from classification import dao"
   ]
  },
  {
   "cell_type": "code",
   "execution_count": 66,
   "metadata": {
    "collapsed": false
   },
   "outputs": [
    {
     "name": "stdout",
     "output_type": "stream",
     "text": [
      "alcohol|accuracy:0.8143360752056404|f1:0.8192219679633866|type:LogisticRegression\n",
      "alcohol|accuracy:0.8401880141010576|f1:0.8498896247240618|type:SVC\n",
      "alcohol|accuracy:0.8425381903642774|f1:0.8562231759656651|type:RandomForestClassifier\n",
      "first_person_label|accuracy:0.5637860082304527|f1:0.5574430033343769|type:SVC\n",
      "first_person_label|accuracy:0.5637860082304527|f1:0.5643693591852614|type:LogisticRegression\n",
      "first_person|accuracy:0.6951871657754011|f1:0.8034482758620688|type:RandomForestClassifier\n",
      "first_person|accuracy:0.7005347593582888|f1:0.7751004016064257|type:LogisticRegression\n",
      "first_person|accuracy:0.7032085561497327|f1:0.8062827225130889|type:RandomForestClassifier\n",
      "first_person|accuracy:0.7112299465240641|f1:0.8021978021978021|type:SVC\n"
     ]
    }
   ],
   "source": [
    "for _ in fs.list(): print(_)"
   ]
  },
  {
   "cell_type": "code",
   "execution_count": 69,
   "metadata": {
    "collapsed": false
   },
   "outputs": [],
   "source": [
    "clf_fpl_svc = dao.ClassifierAccess.get_byfile('first_person_label|accuracy:0.5637860082304527|f1:0.5574430033343769|type:SVC')"
   ]
  },
  {
   "cell_type": "code",
   "execution_count": 92,
   "metadata": {
    "collapsed": false
   },
   "outputs": [
    {
     "data": {
      "text/plain": [
       "[('text',\n",
       "  Pipeline(steps=[('getter', ItemGetter(key='text')), ('tfidf', TfidfVectorizer(analyzer='word', binary=False, decode_error='strict',\n",
       "          dtype=<class 'numpy.int64'>, encoding='utf-8', input='content',\n",
       "          lowercase=True, max_df=1.0, max_features=71312, min_df=2,\n",
       "          ngram_range=(1, 3), norm='l2', ...       tokenizer=<function tokenize at 0x000000000948E598>, use_idf=True,\n",
       "          vocabulary=None))])),\n",
       " ('topic',\n",
       "  Pipeline(steps=[('getter', ItemGetter(key='text')), ('topics', Gensim())]))]"
      ]
     },
     "execution_count": 92,
     "metadata": {},
     "output_type": "execute_result"
    }
   ],
   "source": [
    "clf_fpl_svc.steps[0][1].transformer_list"
   ]
  },
  {
   "cell_type": "markdown",
   "metadata": {},
   "source": [
    "Remove LDA..."
   ]
  },
  {
   "cell_type": "code",
   "execution_count": 94,
   "metadata": {
    "collapsed": false
   },
   "outputs": [],
   "source": [
    "del clf_fpl_svc.steps[0][1].transformer_list[-1]"
   ]
  },
  {
   "cell_type": "code",
   "execution_count": 95,
   "metadata": {
    "collapsed": false
   },
   "outputs": [
    {
     "name": "stdout",
     "output_type": "stream",
     "text": [
      "Training Results\n",
      "~~~~~~~~~~~~~~~~\n",
      "accuracy_score\n",
      "0.9092331768388107\n",
      "\n",
      "\n",
      "classification_report\n",
      "             precision    recall  f1-score   support\n",
      "\n",
      "          0       0.89      0.98      0.93       714\n",
      "          1       0.94      0.88      0.91       351\n",
      "          2       0.96      0.71      0.81       213\n",
      "\n",
      "avg / total       0.91      0.91      0.91      1278\n",
      "\n",
      "\n",
      "\n",
      "f1_score\n",
      "0.9065334430591325\n",
      "\n",
      "\n",
      "confusion_matrix\n",
      "[[701, 9, 4], [38, 310, 3], [52, 10, 151]]\n",
      "\n",
      "\n",
      "\n",
      "\n",
      "Testing Results Results\n",
      "~~~~~~~~~~~~~~~~~~~~~~~\n",
      "accuracy_score\n",
      "0.7698412698412699\n",
      "\n",
      "\n",
      "classification_report\n",
      "             precision    recall  f1-score   support\n",
      "\n",
      "          0       0.77      0.93      0.84       367\n",
      "          1       0.81      0.62      0.70       174\n",
      "          2       0.69      0.42      0.52        89\n",
      "\n",
      "avg / total       0.77      0.77      0.76       630\n",
      "\n",
      "\n",
      "\n",
      "f1_score\n",
      "0.7564732734234484\n",
      "\n",
      "\n",
      "confusion_matrix\n",
      "[[340, 16, 11], [60, 108, 6], [43, 9, 37]]\n",
      "\n",
      "\n",
      "\n",
      "\n"
     ]
    }
   ],
   "source": [
    "L = LabelGetter(agreed)\n",
    "X, y = L.get_first_person_label()\n",
    "X_train, X_test, y_train, y_test = train_test_split(X, y, test_size=0.33, random_state=26)\n",
    "clf_fpl_svc.fit(X_train, y_train)\n",
    "reporting = ClassificationReporting(clf_fpl_svc, X_train, X_test, y_train, y_test, 3)\n",
    "report = reporting.set_name(\"Test Classifier\").set_level('fpl').create_report(1)"
   ]
  },
  {
   "cell_type": "code",
   "execution_count": null,
   "metadata": {
    "collapsed": true
   },
   "outputs": [],
   "source": []
  }
 ],
 "metadata": {
  "kernelspec": {
   "display_name": "Python 3",
   "language": "python",
   "name": "python3"
  },
  "language_info": {
   "codemirror_mode": {
    "name": "ipython",
    "version": 3
   },
   "file_extension": ".py",
   "mimetype": "text/x-python",
   "name": "python",
   "nbconvert_exporter": "python",
   "pygments_lexer": "ipython3",
   "version": "3.5.1"
  }
 },
 "nbformat": 4,
 "nbformat_minor": 0
}
