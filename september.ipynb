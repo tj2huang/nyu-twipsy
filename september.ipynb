{
 "cells": [
  {
   "cell_type": "code",
   "execution_count": 33,
   "metadata": {
    "collapsed": false
   },
   "outputs": [],
   "source": [
    "import math\n",
    "import os\n",
    "\n",
    "import numpy as np\n",
    "import pandas as pd"
   ]
  },
  {
   "cell_type": "code",
   "execution_count": 10,
   "metadata": {
    "collapsed": true
   },
   "outputs": [],
   "source": [
    "keywords = set('''drink drinker drinks drinking drank wine champgne alcohol alcoholics alcoholism beer beers bottle bottles\n",
    "    pint pints cocktail cocktails bar brewery lounge pub liquor booze vodka tequila gin ciroc margarita margaritas shot shots\n",
    "    ale whiskey lager tipsy drunk sober wasted pregame pregaming'''.split())\n",
    "\n",
    "def prefilter(text):\n",
    "    return bool(set(text.split()).intersection(keywords))"
   ]
  },
  {
   "cell_type": "code",
   "execution_count": 18,
   "metadata": {
    "collapsed": false
   },
   "outputs": [
    {
     "name": "stderr",
     "output_type": "stream",
     "text": [
      "C:\\Users\\Tom Work\\Anaconda3\\lib\\site-packages\\IPython\\core\\interactiveshell.py:2902: DtypeWarning: Columns (0,2,3) have mixed types. Specify dtype option on import or set low_memory=False.\n",
      "  interactivity=interactivity, compiler=compiler, result=result)\n"
     ]
    }
   ],
   "source": [
    "df = pd.read_csv('E:/september blocked/remaining_tweets_0.csv')\n",
    "df2 = pd.read_csv('E:/september untarred/twitter_2015-09-01_00h.json.tar.gz0.csv')"
   ]
  },
  {
   "cell_type": "code",
   "execution_count": 22,
   "metadata": {
    "collapsed": false
   },
   "outputs": [
    {
     "data": {
      "text/html": [
       "<div>\n",
       "<table border=\"1\" class=\"dataframe\">\n",
       "  <thead>\n",
       "    <tr style=\"text-align: right;\">\n",
       "      <th></th>\n",
       "      <th>text</th>\n",
       "      <th>id</th>\n",
       "      <th>created_at</th>\n",
       "    </tr>\n",
       "  </thead>\n",
       "  <tbody>\n",
       "    <tr>\n",
       "      <th>0</th>\n",
       "      <td>Everyone going to philly don't rush it it's go...</td>\n",
       "      <td>638561918433759232</td>\n",
       "      <td>Tue Sep 01 03:59:59 +0000 2015</td>\n",
       "    </tr>\n",
       "    <tr>\n",
       "      <th>1</th>\n",
       "      <td>If she ain't tryin get it she can get dropped ...</td>\n",
       "      <td>638561918148440064</td>\n",
       "      <td>Tue Sep 01 03:59:59 +0000 2015</td>\n",
       "    </tr>\n",
       "    <tr>\n",
       "      <th>2</th>\n",
       "      <td>Was i the only one who thought gohan was cute?...</td>\n",
       "      <td>638561918123270144</td>\n",
       "      <td>Tue Sep 01 03:59:59 +0000 2015</td>\n",
       "    </tr>\n",
       "    <tr>\n",
       "      <th>3</th>\n",
       "      <td>@TungguSekejap bila doh!? Aku kat  ny skunk. Huhu</td>\n",
       "      <td>638561918618312704</td>\n",
       "      <td>Tue Sep 01 03:59:59 +0000 2015</td>\n",
       "    </tr>\n",
       "    <tr>\n",
       "      <th>4</th>\n",
       "      <td>@IamHolleman we still need to hit up that new ...</td>\n",
       "      <td>638561918660288512</td>\n",
       "      <td>Tue Sep 01 03:59:59 +0000 2015</td>\n",
       "    </tr>\n",
       "  </tbody>\n",
       "</table>\n",
       "</div>"
      ],
      "text/plain": [
       "                                                text                  id  \\\n",
       "0  Everyone going to philly don't rush it it's go...  638561918433759232   \n",
       "1  If she ain't tryin get it she can get dropped ...  638561918148440064   \n",
       "2  Was i the only one who thought gohan was cute?...  638561918123270144   \n",
       "3  @TungguSekejap bila doh!? Aku kat  ny skunk. Huhu  638561918618312704   \n",
       "4  @IamHolleman we still need to hit up that new ...  638561918660288512   \n",
       "\n",
       "                       created_at  \n",
       "0  Tue Sep 01 03:59:59 +0000 2015  \n",
       "1  Tue Sep 01 03:59:59 +0000 2015  \n",
       "2  Tue Sep 01 03:59:59 +0000 2015  \n",
       "3  Tue Sep 01 03:59:59 +0000 2015  \n",
       "4  Tue Sep 01 03:59:59 +0000 2015  "
      ]
     },
     "execution_count": 22,
     "metadata": {},
     "output_type": "execute_result"
    }
   ],
   "source": [
    "df2.head()"
   ]
  },
  {
   "cell_type": "code",
   "execution_count": 29,
   "metadata": {
    "collapsed": true
   },
   "outputs": [],
   "source": [
    "df.to_csv('E:/test.csv', encoding='utf8')"
   ]
  },
  {
   "cell_type": "markdown",
   "metadata": {},
   "source": [
    "Split uniformly by number of tweets instead of by time"
   ]
  },
  {
   "cell_type": "code",
   "execution_count": 32,
   "metadata": {
    "collapsed": false
   },
   "outputs": [
    {
     "name": "stdout",
     "output_type": "stream",
     "text": [
      "Wall time: 27min 12s\n"
     ]
    }
   ],
   "source": [
    "%%time\n",
    "\n",
    "tweets = pd.DataFrame()\n",
    "file_num = 0\n",
    "for file in os.listdir('E:/september untarred'):\n",
    "    _df = pd.read_csv('E:/september untarred/'  + file)\n",
    "    tweets = pd.concat([tweets, _df])\n",
    "    if len(tweets) > 500000:\n",
    "        tweets[:500000].to_csv('E:/september blocked/tweets_' + str(file_num) +'.csv', encoding='utf8')\n",
    "        tweets = tweets[500000:]\n",
    "        file_num += 1\n",
    "tweets.to_csv('E:/september blocked/tweets_' + str(file_num) +'.csv')"
   ]
  },
  {
   "cell_type": "markdown",
   "metadata": {},
   "source": [
    "Split into drinking an nondrinking by keyword"
   ]
  },
  {
   "cell_type": "code",
   "execution_count": 11,
   "metadata": {
    "collapsed": false
   },
   "outputs": [
    {
     "name": "stdout",
     "output_type": "stream",
     "text": [
      "nondrinking\n",
      "[Errno 13] Permission denied: 'E:/september blocked/nondrinking'\n",
      "remaining_tweets_136.csv\n",
      "'utf-8' codec can't decode byte 0x85 in position 395: invalid start byte\n",
      "Wall time: 26min 28s\n"
     ]
    }
   ],
   "source": [
    "%%time\n",
    "drinking = pd.DataFrame()\n",
    "i = 0\n",
    "for file in os.listdir('E:/september blocked')[2:]:\n",
    "    try:\n",
    "        _df = pd.read_csv('E:/september blocked/' + file, encoding='utf8', engine='python')\n",
    "        drinking = pd.concat([drinking, _df[_df.text.apply(str).apply(prefilter)]])\n",
    "        drinking['id'].apply(str)\n",
    "        if len(drinking) > 500000:\n",
    "            drinking[:500000].to_csv('E:/september blocked/drinking/drinking_' + str(i) +'.csv', encoding='utf8')\n",
    "            drinking = drinking[500000:]\n",
    "            i+=1\n",
    "    except Exception as e:\n",
    "        print (file)\n",
    "        print (e)\n",
    "drinking.to_csv('E:/september blocked/drinking2/drinking_' + str(i) +'.csv', encoding='utf8')"
   ]
  },
  {
   "cell_type": "code",
   "execution_count": 21,
   "metadata": {
    "collapsed": true
   },
   "outputs": [],
   "source": [
    "drinking = pd.read_csv('E:/september blocked/drinking/drinking_0.csv', dtype={'id': str})"
   ]
  },
  {
   "cell_type": "code",
   "execution_count": 13,
   "metadata": {
    "collapsed": false
   },
   "outputs": [
    {
     "data": {
      "text/plain": [
       "(498303, 5)"
      ]
     },
     "execution_count": 13,
     "metadata": {},
     "output_type": "execute_result"
    }
   ],
   "source": [
    "drinking.shape"
   ]
  },
  {
   "cell_type": "code",
   "execution_count": 23,
   "metadata": {
    "collapsed": true
   },
   "outputs": [],
   "source": [
    "drinking['random_number'] = drinking.text.apply(hash)"
   ]
  },
  {
   "cell_type": "code",
   "execution_count": 22,
   "metadata": {
    "collapsed": false
   },
   "outputs": [
    {
     "data": {
      "text/plain": [
       "'638561918660288512'"
      ]
     },
     "execution_count": 22,
     "metadata": {},
     "output_type": "execute_result"
    }
   ],
   "source": [
    "(drinking.id[0])"
   ]
  },
  {
   "cell_type": "code",
   "execution_count": 24,
   "metadata": {
    "collapsed": true
   },
   "outputs": [],
   "source": [
    "drinking.index = drinking.id"
   ]
  },
  {
   "cell_type": "code",
   "execution_count": 26,
   "metadata": {
    "collapsed": false
   },
   "outputs": [
    {
     "data": {
      "text/html": [
       "<div>\n",
       "<table border=\"1\" class=\"dataframe\">\n",
       "  <thead>\n",
       "    <tr style=\"text-align: right;\">\n",
       "      <th></th>\n",
       "      <th>Unnamed: 0</th>\n",
       "      <th>Unnamed: 0.1</th>\n",
       "      <th>text</th>\n",
       "      <th>id</th>\n",
       "      <th>created_at</th>\n",
       "      <th>random_number</th>\n",
       "    </tr>\n",
       "    <tr>\n",
       "      <th>id</th>\n",
       "      <th></th>\n",
       "      <th></th>\n",
       "      <th></th>\n",
       "      <th></th>\n",
       "      <th></th>\n",
       "      <th></th>\n",
       "    </tr>\n",
       "  </thead>\n",
       "  <tbody>\n",
       "    <tr>\n",
       "      <th>638561918660288512</th>\n",
       "      <td>4</td>\n",
       "      <td>4</td>\n",
       "      <td>@IamHolleman we still need to hit up that new ...</td>\n",
       "      <td>638561918660288512</td>\n",
       "      <td>Tue Sep 01 03:59:59 +0000 2015</td>\n",
       "      <td>4020266428001935890</td>\n",
       "    </tr>\n",
       "    <tr>\n",
       "      <th>638561921806024704</th>\n",
       "      <td>39</td>\n",
       "      <td>39</td>\n",
       "      <td>@young_zamp we aren't drinking lol</td>\n",
       "      <td>638561921806024704</td>\n",
       "      <td>Tue Sep 01 04:00:00 +0000 2015</td>\n",
       "      <td>3871613784586990036</td>\n",
       "    </tr>\n",
       "    <tr>\n",
       "      <th>638561941477322753</th>\n",
       "      <td>255</td>\n",
       "      <td>255</td>\n",
       "      <td>@Janaeethomas idk if it works or not but I scr...</td>\n",
       "      <td>638561941477322753</td>\n",
       "      <td>Tue Sep 01 04:00:05 +0000 2015</td>\n",
       "      <td>-4684982304355642440</td>\n",
       "    </tr>\n",
       "    <tr>\n",
       "      <th>638561967897231360</th>\n",
       "      <td>537</td>\n",
       "      <td>537</td>\n",
       "      <td>I'm feeling tipsy and not in the good way</td>\n",
       "      <td>638561967897231360</td>\n",
       "      <td>Tue Sep 01 04:00:11 +0000 2015</td>\n",
       "      <td>5214561322629894300</td>\n",
       "    </tr>\n",
       "    <tr>\n",
       "      <th>638562056208183296</th>\n",
       "      <td>1491</td>\n",
       "      <td>1491</td>\n",
       "      <td>wine gone knock me out everytime 😅 I been slee...</td>\n",
       "      <td>638562056208183296</td>\n",
       "      <td>Tue Sep 01 04:00:32 +0000 2015</td>\n",
       "      <td>1935074228051928726</td>\n",
       "    </tr>\n",
       "  </tbody>\n",
       "</table>\n",
       "</div>"
      ],
      "text/plain": [
       "                    Unnamed: 0  Unnamed: 0.1  \\\n",
       "id                                             \n",
       "638561918660288512           4             4   \n",
       "638561921806024704          39            39   \n",
       "638561941477322753         255           255   \n",
       "638561967897231360         537           537   \n",
       "638562056208183296        1491          1491   \n",
       "\n",
       "                                                                 text  \\\n",
       "id                                                                      \n",
       "638561918660288512  @IamHolleman we still need to hit up that new ...   \n",
       "638561921806024704                 @young_zamp we aren't drinking lol   \n",
       "638561941477322753  @Janaeethomas idk if it works or not but I scr...   \n",
       "638561967897231360          I'm feeling tipsy and not in the good way   \n",
       "638562056208183296  wine gone knock me out everytime 😅 I been slee...   \n",
       "\n",
       "                                    id                      created_at  \\\n",
       "id                                                                       \n",
       "638561918660288512  638561918660288512  Tue Sep 01 03:59:59 +0000 2015   \n",
       "638561921806024704  638561921806024704  Tue Sep 01 04:00:00 +0000 2015   \n",
       "638561941477322753  638561941477322753  Tue Sep 01 04:00:05 +0000 2015   \n",
       "638561967897231360  638561967897231360  Tue Sep 01 04:00:11 +0000 2015   \n",
       "638562056208183296  638562056208183296  Tue Sep 01 04:00:32 +0000 2015   \n",
       "\n",
       "                          random_number  \n",
       "id                                       \n",
       "638561918660288512  4020266428001935890  \n",
       "638561921806024704  3871613784586990036  \n",
       "638561941477322753 -4684982304355642440  \n",
       "638561967897231360  5214561322629894300  \n",
       "638562056208183296  1935074228051928726  "
      ]
     },
     "execution_count": 26,
     "metadata": {},
     "output_type": "execute_result"
    }
   ],
   "source": [
    "drinking.head()"
   ]
  },
  {
   "cell_type": "code",
   "execution_count": 27,
   "metadata": {
    "collapsed": false
   },
   "outputs": [],
   "source": [
    "pickle.dump(drinking, open('pickles/sept_drinking.p', 'wb'))"
   ]
  },
  {
   "cell_type": "code",
   "execution_count": 28,
   "metadata": {
    "collapsed": true
   },
   "outputs": [],
   "source": [
    "import os\n",
    "import datetime\n",
    "def make_batch(pickled_df, size, output_dir):\n",
    "    \"\"\"\n",
    "    pickled_df: unlabeled data with 'random_number' column\n",
    "    size: # of items batch to be created\n",
    "    output_dir: where the outputs are saved\n",
    "    \"\"\"\n",
    "    # Load data\n",
    "    X = pickle.load(open(pickled_df, 'rb'))\n",
    "    \n",
    "    # select size subset\n",
    "    batch = X.sort_values(by='random_number').head(size)\n",
    "    \n",
    "    # process for turk\n",
    "    batch[\"text\"] = batch.text.str.encode(\"utf-8\")\n",
    "    date = str(datetime.date.today())\n",
    "    time = datetime.datetime.now().time()\n",
    "    key = batch.iloc[0].random_number\n",
    "    \n",
    "    # persist\n",
    "    description = \"/c_amt {} {}h{}m {}\".format(date, time.hour, time.minute, key)\n",
    "    if not os.path.exists(output_dir + description):\n",
    "        os.makedirs(output_dir + description)\n",
    "    batch[[\"text\", \"random_number\"]].to_csv(output_dir + description +  description + '.csv')\n",
    "    pickle.dump(batch, open(output_dir + description + description +\".p\", 'wb'))\n",
    "    X = X.drop(batch.index)\n",
    "    pickle.dump(X, open(pickled_df, 'wb'))"
   ]
  },
  {
   "cell_type": "code",
   "execution_count": 29,
   "metadata": {
    "collapsed": false
   },
   "outputs": [],
   "source": [
    "make_batch('pickles/sept_drinking.p', 1000, 'amt/sept')"
   ]
  },
  {
   "cell_type": "code",
   "execution_count": 32,
   "metadata": {
    "collapsed": true
   },
   "outputs": [],
   "source": [
    "import pickle\n",
    "from classification.prediction import PredictionTransformer"
   ]
  },
  {
   "cell_type": "code",
   "execution_count": 34,
   "metadata": {
    "collapsed": false
   },
   "outputs": [],
   "source": [
    "clf_alc = pickle.load(open('pickles/clf_alc_UPDATED.p', 'rb'))\n",
    "clf_fpa = pickle.load(open('pickles/clf_fpa_UPDATED.p', 'rb'))\n",
    "clf_fpl = pickle.load(open('pickles/clf_fpl_double_labeled', 'rb'))\n",
    "clf = PredictionTransformer(clf_alc, clf_fpa, clf_fpl)"
   ]
  },
  {
   "cell_type": "code",
   "execution_count": 35,
   "metadata": {
    "collapsed": false
   },
   "outputs": [
    {
     "name": "stdout",
     "output_type": "stream",
     "text": [
      "Wall time: 2h 8min 23s\n"
     ]
    }
   ],
   "source": [
    "%%time\n",
    "labeled = clf(drinking)"
   ]
  },
  {
   "cell_type": "code",
   "execution_count": 36,
   "metadata": {
    "collapsed": false
   },
   "outputs": [
    {
     "name": "stdout",
     "output_type": "stream",
     "text": [
      "Wall time: 5min 3s\n"
     ]
    }
   ],
   "source": [
    "%%time\n",
    "labeled.index = pd.to_datetime(labeled.created_at)"
   ]
  },
  {
   "cell_type": "code",
   "execution_count": 38,
   "metadata": {
    "collapsed": false
   },
   "outputs": [],
   "source": [
    "pickle.dump(labeled, open('pickles/sept_drinking_labeled.p', 'wb'))"
   ]
  },
  {
   "cell_type": "code",
   "execution_count": null,
   "metadata": {
    "collapsed": true
   },
   "outputs": [],
   "source": []
  }
 ],
 "metadata": {
  "kernelspec": {
   "display_name": "Python 3",
   "language": "python",
   "name": "python3"
  },
  "language_info": {
   "codemirror_mode": {
    "name": "ipython",
    "version": 3
   },
   "file_extension": ".py",
   "mimetype": "text/x-python",
   "name": "python",
   "nbconvert_exporter": "python",
   "pygments_lexer": "ipython3",
   "version": "3.5.1"
  }
 },
 "nbformat": 4,
 "nbformat_minor": 0
}
