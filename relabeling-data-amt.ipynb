{
 "cells": [
  {
   "cell_type": "markdown",
   "metadata": {},
   "source": [
    "# Relabeling"
   ]
  },
  {
   "cell_type": "markdown",
   "metadata": {},
   "source": [
    "We want to improve the quality of the labels from AMT. In particular, the FPL."
   ]
  },
  {
   "cell_type": "code",
   "execution_count": 3,
   "metadata": {
    "collapsed": true
   },
   "outputs": [],
   "source": [
    "import pickle\n",
    "\n",
    "import datetime\n",
    "import pandas as pd\n",
    "\n",
    "from data.dao import DataAccess, LabelGetter\n",
    "from data.turk import TurkResults2Label"
   ]
  },
  {
   "cell_type": "code",
   "execution_count": 27,
   "metadata": {
    "collapsed": true
   },
   "outputs": [],
   "source": [
    "X = DataAccess.get_as_dataframe()"
   ]
  },
  {
   "cell_type": "code",
   "execution_count": 29,
   "metadata": {
    "collapsed": false
   },
   "outputs": [],
   "source": [
    "L = LabelGetter(X)"
   ]
  },
  {
   "cell_type": "code",
   "execution_count": 30,
   "metadata": {
    "collapsed": false
   },
   "outputs": [],
   "source": [
    "X_fpl, y = L.get_first_person_label()"
   ]
  },
  {
   "cell_type": "code",
   "execution_count": 32,
   "metadata": {
    "collapsed": false
   },
   "outputs": [
    {
     "data": {
      "text/plain": [
       "(6357, 11)"
      ]
     },
     "execution_count": 32,
     "metadata": {},
     "output_type": "execute_result"
    }
   ],
   "source": [
    "X_fpl.shape"
   ]
  },
  {
   "cell_type": "code",
   "execution_count": 33,
   "metadata": {
    "collapsed": false
   },
   "outputs": [
    {
     "data": {
      "text/html": [
       "<div>\n",
       "<table border=\"1\" class=\"dataframe\">\n",
       "  <thead>\n",
       "    <tr style=\"text-align: right;\">\n",
       "      <th></th>\n",
       "      <th>created_at</th>\n",
       "      <th>labels</th>\n",
       "      <th>predict</th>\n",
       "      <th>text</th>\n",
       "      <th>user</th>\n",
       "      <th>user.created_at</th>\n",
       "      <th>user.favourites_count</th>\n",
       "      <th>user.followers_count</th>\n",
       "      <th>user.friends_count</th>\n",
       "      <th>user.statuses_count</th>\n",
       "      <th>user.verified</th>\n",
       "    </tr>\n",
       "    <tr>\n",
       "      <th>_id</th>\n",
       "      <th></th>\n",
       "      <th></th>\n",
       "      <th></th>\n",
       "      <th></th>\n",
       "      <th></th>\n",
       "      <th></th>\n",
       "      <th></th>\n",
       "      <th></th>\n",
       "      <th></th>\n",
       "      <th></th>\n",
       "      <th></th>\n",
       "    </tr>\n",
       "  </thead>\n",
       "  <tbody>\n",
       "    <tr>\n",
       "      <th>556e12e6d6dfbb462881153e</th>\n",
       "      <td>Tue Jun 02 20:33:15 +0000 2015</td>\n",
       "      <td>{'first_person': 1, 'first_person_level': 0, '...</td>\n",
       "      <td>0.523513</td>\n",
       "      <td>Beer Olympics with my #1 fan and babe😍❤️ #Team...</td>\n",
       "      <td>{'verified': False, 'followers_count': 563, 's...</td>\n",
       "      <td>Tue Dec 20 02:46:19 +0000 2011</td>\n",
       "      <td>11662</td>\n",
       "      <td>563</td>\n",
       "      <td>356</td>\n",
       "      <td>13940</td>\n",
       "      <td>False</td>\n",
       "    </tr>\n",
       "    <tr>\n",
       "      <th>556e1660d6dfbb462881361f</th>\n",
       "      <td>Tue Jun 02 20:48:04 +0000 2015</td>\n",
       "      <td>{'first_person': 1, 'first_person_level': 0, '...</td>\n",
       "      <td>0.536733</td>\n",
       "      <td>Drinking a Soft Parade by @ShortsBrewing @ Lak...</td>\n",
       "      <td>{'verified': False, 'followers_count': 543, 's...</td>\n",
       "      <td>Sun Mar 22 18:14:34 +0000 2009</td>\n",
       "      <td>13256</td>\n",
       "      <td>543</td>\n",
       "      <td>626</td>\n",
       "      <td>20051</td>\n",
       "      <td>False</td>\n",
       "    </tr>\n",
       "    <tr>\n",
       "      <th>556e16c2d6dfbb46288139a7</th>\n",
       "      <td>Tue Jun 02 20:49:44 +0000 2015</td>\n",
       "      <td>{'first_person': 1, 'first_person_level': 2, '...</td>\n",
       "      <td>0.761665</td>\n",
       "      <td>Its only Tuesday and I need a drink or four.</td>\n",
       "      <td>{'verified': False, 'followers_count': 211, 's...</td>\n",
       "      <td>Sun Jan 24 00:57:08 +0000 2010</td>\n",
       "      <td>1522</td>\n",
       "      <td>211</td>\n",
       "      <td>516</td>\n",
       "      <td>5300</td>\n",
       "      <td>False</td>\n",
       "    </tr>\n",
       "    <tr>\n",
       "      <th>556e173dd6dfbb4628813e3b</th>\n",
       "      <td>Tue Jun 02 20:51:47 +0000 2015</td>\n",
       "      <td>{'first_person': 1, 'first_person_level': 2, '...</td>\n",
       "      <td>0.622639</td>\n",
       "      <td>jess told me no puking this friday.. so that m...</td>\n",
       "      <td>{'verified': False, 'followers_count': 4573, '...</td>\n",
       "      <td>Fri Dec 06 05:58:03 +0000 2013</td>\n",
       "      <td>6814</td>\n",
       "      <td>4573</td>\n",
       "      <td>408</td>\n",
       "      <td>7859</td>\n",
       "      <td>False</td>\n",
       "    </tr>\n",
       "    <tr>\n",
       "      <th>556e1e58d6dfbb50e34a3eb7</th>\n",
       "      <td>Tue Jun 02 21:22:06 +0000 2015</td>\n",
       "      <td>{'first_person': 1, 'first_person_level': 1, '...</td>\n",
       "      <td>0.572562</td>\n",
       "      <td>\"I need a drink because I'm upset about some p...</td>\n",
       "      <td>{'verified': False, 'followers_count': 727, 's...</td>\n",
       "      <td>Tue Jul 29 13:51:57 +0000 2008</td>\n",
       "      <td>2489</td>\n",
       "      <td>727</td>\n",
       "      <td>624</td>\n",
       "      <td>12889</td>\n",
       "      <td>False</td>\n",
       "    </tr>\n",
       "  </tbody>\n",
       "</table>\n",
       "</div>"
      ],
      "text/plain": [
       "                                              created_at  \\\n",
       "_id                                                        \n",
       "556e12e6d6dfbb462881153e  Tue Jun 02 20:33:15 +0000 2015   \n",
       "556e1660d6dfbb462881361f  Tue Jun 02 20:48:04 +0000 2015   \n",
       "556e16c2d6dfbb46288139a7  Tue Jun 02 20:49:44 +0000 2015   \n",
       "556e173dd6dfbb4628813e3b  Tue Jun 02 20:51:47 +0000 2015   \n",
       "556e1e58d6dfbb50e34a3eb7  Tue Jun 02 21:22:06 +0000 2015   \n",
       "\n",
       "                                                                     labels  \\\n",
       "_id                                                                           \n",
       "556e12e6d6dfbb462881153e  {'first_person': 1, 'first_person_level': 0, '...   \n",
       "556e1660d6dfbb462881361f  {'first_person': 1, 'first_person_level': 0, '...   \n",
       "556e16c2d6dfbb46288139a7  {'first_person': 1, 'first_person_level': 2, '...   \n",
       "556e173dd6dfbb4628813e3b  {'first_person': 1, 'first_person_level': 2, '...   \n",
       "556e1e58d6dfbb50e34a3eb7  {'first_person': 1, 'first_person_level': 1, '...   \n",
       "\n",
       "                           predict  \\\n",
       "_id                                  \n",
       "556e12e6d6dfbb462881153e  0.523513   \n",
       "556e1660d6dfbb462881361f  0.536733   \n",
       "556e16c2d6dfbb46288139a7  0.761665   \n",
       "556e173dd6dfbb4628813e3b  0.622639   \n",
       "556e1e58d6dfbb50e34a3eb7  0.572562   \n",
       "\n",
       "                                                                       text  \\\n",
       "_id                                                                           \n",
       "556e12e6d6dfbb462881153e  Beer Olympics with my #1 fan and babe😍❤️ #Team...   \n",
       "556e1660d6dfbb462881361f  Drinking a Soft Parade by @ShortsBrewing @ Lak...   \n",
       "556e16c2d6dfbb46288139a7       Its only Tuesday and I need a drink or four.   \n",
       "556e173dd6dfbb4628813e3b  jess told me no puking this friday.. so that m...   \n",
       "556e1e58d6dfbb50e34a3eb7  \"I need a drink because I'm upset about some p...   \n",
       "\n",
       "                                                                       user  \\\n",
       "_id                                                                           \n",
       "556e12e6d6dfbb462881153e  {'verified': False, 'followers_count': 563, 's...   \n",
       "556e1660d6dfbb462881361f  {'verified': False, 'followers_count': 543, 's...   \n",
       "556e16c2d6dfbb46288139a7  {'verified': False, 'followers_count': 211, 's...   \n",
       "556e173dd6dfbb4628813e3b  {'verified': False, 'followers_count': 4573, '...   \n",
       "556e1e58d6dfbb50e34a3eb7  {'verified': False, 'followers_count': 727, 's...   \n",
       "\n",
       "                                         user.created_at  \\\n",
       "_id                                                        \n",
       "556e12e6d6dfbb462881153e  Tue Dec 20 02:46:19 +0000 2011   \n",
       "556e1660d6dfbb462881361f  Sun Mar 22 18:14:34 +0000 2009   \n",
       "556e16c2d6dfbb46288139a7  Sun Jan 24 00:57:08 +0000 2010   \n",
       "556e173dd6dfbb4628813e3b  Fri Dec 06 05:58:03 +0000 2013   \n",
       "556e1e58d6dfbb50e34a3eb7  Tue Jul 29 13:51:57 +0000 2008   \n",
       "\n",
       "                          user.favourites_count  user.followers_count  \\\n",
       "_id                                                                     \n",
       "556e12e6d6dfbb462881153e                  11662                   563   \n",
       "556e1660d6dfbb462881361f                  13256                   543   \n",
       "556e16c2d6dfbb46288139a7                   1522                   211   \n",
       "556e173dd6dfbb4628813e3b                   6814                  4573   \n",
       "556e1e58d6dfbb50e34a3eb7                   2489                   727   \n",
       "\n",
       "                          user.friends_count  user.statuses_count  \\\n",
       "_id                                                                 \n",
       "556e12e6d6dfbb462881153e                 356                13940   \n",
       "556e1660d6dfbb462881361f                 626                20051   \n",
       "556e16c2d6dfbb46288139a7                 516                 5300   \n",
       "556e173dd6dfbb4628813e3b                 408                 7859   \n",
       "556e1e58d6dfbb50e34a3eb7                 624                12889   \n",
       "\n",
       "                         user.verified  \n",
       "_id                                     \n",
       "556e12e6d6dfbb462881153e         False  \n",
       "556e1660d6dfbb462881361f         False  \n",
       "556e16c2d6dfbb46288139a7         False  \n",
       "556e173dd6dfbb4628813e3b         False  \n",
       "556e1e58d6dfbb50e34a3eb7         False  "
      ]
     },
     "execution_count": 33,
     "metadata": {},
     "output_type": "execute_result"
    }
   ],
   "source": [
    "X_fpl.head()"
   ]
  },
  {
   "cell_type": "markdown",
   "metadata": {},
   "source": [
    "Deterministic kind of uniform sample:"
   ]
  },
  {
   "cell_type": "code",
   "execution_count": 34,
   "metadata": {
    "collapsed": false
   },
   "outputs": [
    {
     "name": "stdout",
     "output_type": "stream",
     "text": [
      "Wall time: 9.69 s\n"
     ]
    },
    {
     "name": "stderr",
     "output_type": "stream",
     "text": [
      "C:\\Users\\Tom Work\\Anaconda3\\lib\\site-packages\\ipykernel\\__main__.py:1: SettingWithCopyWarning: \n",
      "A value is trying to be set on a copy of a slice from a DataFrame.\n",
      "Try using .loc[row_indexer,col_indexer] = value instead\n",
      "\n",
      "See the caveats in the documentation: http://pandas.pydata.org/pandas-docs/stable/indexing.html#indexing-view-versus-copy\n",
      "  if __name__ == '__main__':\n"
     ]
    }
   ],
   "source": [
    "%%time\n",
    "X_fpl['random_number'] = X_fpl.text.apply(hash)"
   ]
  },
  {
   "cell_type": "code",
   "execution_count": 8,
   "metadata": {
    "collapsed": false
   },
   "outputs": [
    {
     "data": {
      "text/html": [
       "<div>\n",
       "<table border=\"1\" class=\"dataframe\">\n",
       "  <thead>\n",
       "    <tr style=\"text-align: right;\">\n",
       "      <th></th>\n",
       "      <th>created_at</th>\n",
       "      <th>labels</th>\n",
       "      <th>predict</th>\n",
       "      <th>text</th>\n",
       "      <th>user</th>\n",
       "      <th>user.created_at</th>\n",
       "      <th>user.favourites_count</th>\n",
       "      <th>user.followers_count</th>\n",
       "      <th>user.friends_count</th>\n",
       "      <th>user.statuses_count</th>\n",
       "      <th>user.verified</th>\n",
       "      <th>random_number</th>\n",
       "    </tr>\n",
       "    <tr>\n",
       "      <th>_id</th>\n",
       "      <th></th>\n",
       "      <th></th>\n",
       "      <th></th>\n",
       "      <th></th>\n",
       "      <th></th>\n",
       "      <th></th>\n",
       "      <th></th>\n",
       "      <th></th>\n",
       "      <th></th>\n",
       "      <th></th>\n",
       "      <th></th>\n",
       "      <th></th>\n",
       "    </tr>\n",
       "  </thead>\n",
       "  <tbody>\n",
       "    <tr>\n",
       "      <th>556e12e6d6dfbb462881153e</th>\n",
       "      <td>Tue Jun 02 20:33:15 +0000 2015</td>\n",
       "      <td>{'first_person_level': 0, 'alcohol': 1, 'first...</td>\n",
       "      <td>0.523513</td>\n",
       "      <td>Beer Olympics with my #1 fan and babe😍❤️ #Team...</td>\n",
       "      <td>{'friends_count': 356, 'followers_count': 563,...</td>\n",
       "      <td>Tue Dec 20 02:46:19 +0000 2011</td>\n",
       "      <td>11662</td>\n",
       "      <td>563</td>\n",
       "      <td>356</td>\n",
       "      <td>13940</td>\n",
       "      <td>False</td>\n",
       "      <td>3509904359376660926</td>\n",
       "    </tr>\n",
       "    <tr>\n",
       "      <th>556e1660d6dfbb462881361f</th>\n",
       "      <td>Tue Jun 02 20:48:04 +0000 2015</td>\n",
       "      <td>{'first_person_level': 0, 'alcohol': 1, 'first...</td>\n",
       "      <td>0.536733</td>\n",
       "      <td>Drinking a Soft Parade by @ShortsBrewing @ Lak...</td>\n",
       "      <td>{'friends_count': 626, 'followers_count': 543,...</td>\n",
       "      <td>Sun Mar 22 18:14:34 +0000 2009</td>\n",
       "      <td>13256</td>\n",
       "      <td>543</td>\n",
       "      <td>626</td>\n",
       "      <td>20051</td>\n",
       "      <td>False</td>\n",
       "      <td>5508552107751333732</td>\n",
       "    </tr>\n",
       "    <tr>\n",
       "      <th>556e16c2d6dfbb46288139a7</th>\n",
       "      <td>Tue Jun 02 20:49:44 +0000 2015</td>\n",
       "      <td>{'first_person_level': 2, 'alcohol': 1, 'first...</td>\n",
       "      <td>0.761665</td>\n",
       "      <td>Its only Tuesday and I need a drink or four.</td>\n",
       "      <td>{'friends_count': 516, 'followers_count': 211,...</td>\n",
       "      <td>Sun Jan 24 00:57:08 +0000 2010</td>\n",
       "      <td>1522</td>\n",
       "      <td>211</td>\n",
       "      <td>516</td>\n",
       "      <td>5300</td>\n",
       "      <td>False</td>\n",
       "      <td>-6198757192334168986</td>\n",
       "    </tr>\n",
       "    <tr>\n",
       "      <th>556e173dd6dfbb4628813e3b</th>\n",
       "      <td>Tue Jun 02 20:51:47 +0000 2015</td>\n",
       "      <td>{'first_person_level': 2, 'alcohol': 1, 'first...</td>\n",
       "      <td>0.622639</td>\n",
       "      <td>jess told me no puking this friday.. so that m...</td>\n",
       "      <td>{'friends_count': 408, 'followers_count': 4573...</td>\n",
       "      <td>Fri Dec 06 05:58:03 +0000 2013</td>\n",
       "      <td>6814</td>\n",
       "      <td>4573</td>\n",
       "      <td>408</td>\n",
       "      <td>7859</td>\n",
       "      <td>False</td>\n",
       "      <td>-3614958430482511601</td>\n",
       "    </tr>\n",
       "    <tr>\n",
       "      <th>556e1e58d6dfbb50e34a3eb7</th>\n",
       "      <td>Tue Jun 02 21:22:06 +0000 2015</td>\n",
       "      <td>{'first_person_level': 1, 'alcohol': 1, 'first...</td>\n",
       "      <td>0.572562</td>\n",
       "      <td>\"I need a drink because I'm upset about some p...</td>\n",
       "      <td>{'friends_count': 624, 'followers_count': 727,...</td>\n",
       "      <td>Tue Jul 29 13:51:57 +0000 2008</td>\n",
       "      <td>2489</td>\n",
       "      <td>727</td>\n",
       "      <td>624</td>\n",
       "      <td>12889</td>\n",
       "      <td>False</td>\n",
       "      <td>-1823265372766523932</td>\n",
       "    </tr>\n",
       "  </tbody>\n",
       "</table>\n",
       "</div>"
      ],
      "text/plain": [
       "                                              created_at  \\\n",
       "_id                                                        \n",
       "556e12e6d6dfbb462881153e  Tue Jun 02 20:33:15 +0000 2015   \n",
       "556e1660d6dfbb462881361f  Tue Jun 02 20:48:04 +0000 2015   \n",
       "556e16c2d6dfbb46288139a7  Tue Jun 02 20:49:44 +0000 2015   \n",
       "556e173dd6dfbb4628813e3b  Tue Jun 02 20:51:47 +0000 2015   \n",
       "556e1e58d6dfbb50e34a3eb7  Tue Jun 02 21:22:06 +0000 2015   \n",
       "\n",
       "                                                                     labels  \\\n",
       "_id                                                                           \n",
       "556e12e6d6dfbb462881153e  {'first_person_level': 0, 'alcohol': 1, 'first...   \n",
       "556e1660d6dfbb462881361f  {'first_person_level': 0, 'alcohol': 1, 'first...   \n",
       "556e16c2d6dfbb46288139a7  {'first_person_level': 2, 'alcohol': 1, 'first...   \n",
       "556e173dd6dfbb4628813e3b  {'first_person_level': 2, 'alcohol': 1, 'first...   \n",
       "556e1e58d6dfbb50e34a3eb7  {'first_person_level': 1, 'alcohol': 1, 'first...   \n",
       "\n",
       "                           predict  \\\n",
       "_id                                  \n",
       "556e12e6d6dfbb462881153e  0.523513   \n",
       "556e1660d6dfbb462881361f  0.536733   \n",
       "556e16c2d6dfbb46288139a7  0.761665   \n",
       "556e173dd6dfbb4628813e3b  0.622639   \n",
       "556e1e58d6dfbb50e34a3eb7  0.572562   \n",
       "\n",
       "                                                                       text  \\\n",
       "_id                                                                           \n",
       "556e12e6d6dfbb462881153e  Beer Olympics with my #1 fan and babe😍❤️ #Team...   \n",
       "556e1660d6dfbb462881361f  Drinking a Soft Parade by @ShortsBrewing @ Lak...   \n",
       "556e16c2d6dfbb46288139a7       Its only Tuesday and I need a drink or four.   \n",
       "556e173dd6dfbb4628813e3b  jess told me no puking this friday.. so that m...   \n",
       "556e1e58d6dfbb50e34a3eb7  \"I need a drink because I'm upset about some p...   \n",
       "\n",
       "                                                                       user  \\\n",
       "_id                                                                           \n",
       "556e12e6d6dfbb462881153e  {'friends_count': 356, 'followers_count': 563,...   \n",
       "556e1660d6dfbb462881361f  {'friends_count': 626, 'followers_count': 543,...   \n",
       "556e16c2d6dfbb46288139a7  {'friends_count': 516, 'followers_count': 211,...   \n",
       "556e173dd6dfbb4628813e3b  {'friends_count': 408, 'followers_count': 4573...   \n",
       "556e1e58d6dfbb50e34a3eb7  {'friends_count': 624, 'followers_count': 727,...   \n",
       "\n",
       "                                         user.created_at  \\\n",
       "_id                                                        \n",
       "556e12e6d6dfbb462881153e  Tue Dec 20 02:46:19 +0000 2011   \n",
       "556e1660d6dfbb462881361f  Sun Mar 22 18:14:34 +0000 2009   \n",
       "556e16c2d6dfbb46288139a7  Sun Jan 24 00:57:08 +0000 2010   \n",
       "556e173dd6dfbb4628813e3b  Fri Dec 06 05:58:03 +0000 2013   \n",
       "556e1e58d6dfbb50e34a3eb7  Tue Jul 29 13:51:57 +0000 2008   \n",
       "\n",
       "                          user.favourites_count  user.followers_count  \\\n",
       "_id                                                                     \n",
       "556e12e6d6dfbb462881153e                  11662                   563   \n",
       "556e1660d6dfbb462881361f                  13256                   543   \n",
       "556e16c2d6dfbb46288139a7                   1522                   211   \n",
       "556e173dd6dfbb4628813e3b                   6814                  4573   \n",
       "556e1e58d6dfbb50e34a3eb7                   2489                   727   \n",
       "\n",
       "                          user.friends_count  user.statuses_count  \\\n",
       "_id                                                                 \n",
       "556e12e6d6dfbb462881153e                 356                13940   \n",
       "556e1660d6dfbb462881361f                 626                20051   \n",
       "556e16c2d6dfbb46288139a7                 516                 5300   \n",
       "556e173dd6dfbb4628813e3b                 408                 7859   \n",
       "556e1e58d6dfbb50e34a3eb7                 624                12889   \n",
       "\n",
       "                         user.verified        random_number  \n",
       "_id                                                          \n",
       "556e12e6d6dfbb462881153e         False  3509904359376660926  \n",
       "556e1660d6dfbb462881361f         False  5508552107751333732  \n",
       "556e16c2d6dfbb46288139a7         False -6198757192334168986  \n",
       "556e173dd6dfbb4628813e3b         False -3614958430482511601  \n",
       "556e1e58d6dfbb50e34a3eb7         False -1823265372766523932  "
      ]
     },
     "execution_count": 8,
     "metadata": {},
     "output_type": "execute_result"
    }
   ],
   "source": [
    "X_fpl.head()"
   ]
  },
  {
   "cell_type": "code",
   "execution_count": 15,
   "metadata": {
    "collapsed": false
   },
   "outputs": [],
   "source": [
    "batch = X_fpl.sort_values(by='random_number').ix[:1000]"
   ]
  },
  {
   "cell_type": "markdown",
   "metadata": {},
   "source": [
    "What was previously labeled as FPA"
   ]
  },
  {
   "cell_type": "code",
   "execution_count": 23,
   "metadata": {
    "collapsed": false
   },
   "outputs": [],
   "source": [
    "batch[\"text\"] = batch.text.str.encode(\"utf-8\")"
   ]
  },
  {
   "cell_type": "code",
   "execution_count": 25,
   "metadata": {
    "collapsed": false
   },
   "outputs": [],
   "source": [
    "date = str(datetime.date.today())\n",
    "key = batch.ix[0].random_number\n",
    "batch[[\"text\", \"random_number\"]].to_csv(\"amt/c_amt {} {}.csv\".format(date, key))"
   ]
  },
  {
   "cell_type": "code",
   "execution_count": 21,
   "metadata": {
    "collapsed": false
   },
   "outputs": [],
   "source": [
    "pickle.dump(batch, open('pickles/amt_test_batch.p', 'wb'))"
   ]
  },
  {
   "cell_type": "code",
   "execution_count": 212,
   "metadata": {
    "collapsed": false
   },
   "outputs": [
    {
     "data": {
      "text/plain": [
       "56"
      ]
     },
     "execution_count": 212,
     "metadata": {},
     "output_type": "execute_result"
    }
   ],
   "source": [
    "datetime.datetime.now().time().minute"
   ]
  },
  {
   "cell_type": "code",
   "execution_count": 77,
   "metadata": {
    "collapsed": false,
    "scrolled": true
   },
   "outputs": [],
   "source": [
    "import os\n",
    "def make_batch(pickled_df, size, output_dir):\n",
    "    \"\"\"\n",
    "    pickled_df: unlabeled data with 'random_number' column\n",
    "    size: # of items batch to be created\n",
    "    output_dir: where the outputs are saved\n",
    "    \"\"\"\n",
    "    # Load data\n",
    "    X = pickle.load(open(pickled_df, 'rb'))\n",
    "    \n",
    "    # select size subset\n",
    "    batch = X.sort_values(by='random_number').head(size)\n",
    "    \n",
    "    # process for turk\n",
    "    batch[\"text\"] = batch.text.str.encode(\"utf-8\")\n",
    "    date = str(datetime.date.today())\n",
    "    time = datetime.datetime.now().time()\n",
    "    key = batch.ix[0].random_number\n",
    "    \n",
    "    # persist\n",
    "    description = \"/c_amt {} {}h{}m {}\".format(date, time.hour, time.minute, key)\n",
    "    if not os.path.exists(output_dir + description):\n",
    "        os.makedirs(output_dir + description)\n",
    "    batch[[\"text\", \"random_number\"]].to_csv(output_dir + description +  description + '.csv')\n",
    "    pickle.dump(batch, open(output_dir + description + description +\".p\", 'wb'))\n",
    "    X = X.drop(batch.index)\n",
    "    pickle.dump(X, open(pickled_df, 'wb'))"
   ]
  },
  {
   "cell_type": "code",
   "execution_count": 266,
   "metadata": {
    "collapsed": false
   },
   "outputs": [],
   "source": [
    "make_batch('amt/unlabeled.p', 1000, 'amt')"
   ]
  },
  {
   "cell_type": "code",
   "execution_count": 259,
   "metadata": {
    "collapsed": false
   },
   "outputs": [],
   "source": [
    "X = DataAccess.get_as_dataframe()"
   ]
  },
  {
   "cell_type": "code",
   "execution_count": 260,
   "metadata": {
    "collapsed": false
   },
   "outputs": [],
   "source": [
    "X['random_number'] = X.text.apply(hash)"
   ]
  },
  {
   "cell_type": "code",
   "execution_count": 264,
   "metadata": {
    "collapsed": true
   },
   "outputs": [],
   "source": [
    "pickle.dump(X, open('amt/unlabeled.p', 'wb'))"
   ]
  },
  {
   "cell_type": "code",
   "execution_count": 204,
   "metadata": {
    "collapsed": true
   },
   "outputs": [],
   "source": [
    "def remove_dup(big_df, remove_these):\n",
    "    return big_df.drop(remove_these.index)\n",
    "    "
   ]
  },
  {
   "cell_type": "code",
   "execution_count": 268,
   "metadata": {
    "collapsed": false
   },
   "outputs": [],
   "source": [
    "test = pd.read_csv('C:/Users/Tom Work/PycharmProjects/nyu-twipsy/amt/c_amt 2016-06-02 16h30m -9217494627877178173/c_amt 2016-06-02 16h30m -9217494627877178173.csv')"
   ]
  },
  {
   "cell_type": "code",
   "execution_count": 274,
   "metadata": {
    "collapsed": false
   },
   "outputs": [],
   "source": [
    "batch = X.ix[test._id]"
   ]
  },
  {
   "cell_type": "code",
   "execution_count": 275,
   "metadata": {
    "collapsed": false
   },
   "outputs": [
    {
     "data": {
      "text/html": [
       "<div>\n",
       "<table border=\"1\" class=\"dataframe\">\n",
       "  <thead>\n",
       "    <tr style=\"text-align: right;\">\n",
       "      <th></th>\n",
       "      <th>created_at</th>\n",
       "      <th>labels</th>\n",
       "      <th>predict</th>\n",
       "      <th>text</th>\n",
       "      <th>user</th>\n",
       "      <th>user.created_at</th>\n",
       "      <th>user.favourites_count</th>\n",
       "      <th>user.followers_count</th>\n",
       "      <th>user.friends_count</th>\n",
       "      <th>user.statuses_count</th>\n",
       "      <th>user.verified</th>\n",
       "      <th>random_number</th>\n",
       "    </tr>\n",
       "    <tr>\n",
       "      <th>_id</th>\n",
       "      <th></th>\n",
       "      <th></th>\n",
       "      <th></th>\n",
       "      <th></th>\n",
       "      <th></th>\n",
       "      <th></th>\n",
       "      <th></th>\n",
       "      <th></th>\n",
       "      <th></th>\n",
       "      <th></th>\n",
       "      <th></th>\n",
       "      <th></th>\n",
       "    </tr>\n",
       "  </thead>\n",
       "  <tbody>\n",
       "    <tr>\n",
       "      <th>5575389ad6dfbb73a10633d8</th>\n",
       "      <td>Mon Jun 08 06:40:01 +0000 2015</td>\n",
       "      <td>{'alcohol': 0}</td>\n",
       "      <td>NaN</td>\n",
       "      <td>@internet_faerie i don't have those yet and i ...</td>\n",
       "      <td>{'friends_count': 507, 'favourites_count': 323...</td>\n",
       "      <td>Fri Oct 07 23:23:39 +0000 2011</td>\n",
       "      <td>32323</td>\n",
       "      <td>777</td>\n",
       "      <td>507</td>\n",
       "      <td>7134</td>\n",
       "      <td>False</td>\n",
       "      <td>-9217494627877178173</td>\n",
       "    </tr>\n",
       "    <tr>\n",
       "      <th>557c9bdcd6dfbb7ac08af03d</th>\n",
       "      <td>Sat Jun 13 21:09:26 +0000 2015</td>\n",
       "      <td>{'first_person': 1, 'alcohol': 1, 'first_perso...</td>\n",
       "      <td>0.716105</td>\n",
       "      <td>girls who drink beer don't care about life</td>\n",
       "      <td>{'friends_count': 598, 'favourites_count': 295...</td>\n",
       "      <td>Thu Dec 10 23:13:38 +0000 2009</td>\n",
       "      <td>29563</td>\n",
       "      <td>2637</td>\n",
       "      <td>598</td>\n",
       "      <td>257634</td>\n",
       "      <td>False</td>\n",
       "      <td>-9217364288113609806</td>\n",
       "    </tr>\n",
       "    <tr>\n",
       "      <th>559020f4d6dfbb1a867fe3d3</th>\n",
       "      <td>Sun Jun 28 16:29:43 +0000 2015</td>\n",
       "      <td>{'first_person': 1, 'alcohol': 1, 'first_perso...</td>\n",
       "      <td>NaN</td>\n",
       "      <td>Just one. Drag brunch. @ Blue. Tapas Bar &amp;amp;...</td>\n",
       "      <td>{'friends_count': 230, 'favourites_count': 4, ...</td>\n",
       "      <td>Fri Mar 06 19:56:09 +0000 2009</td>\n",
       "      <td>4</td>\n",
       "      <td>182</td>\n",
       "      <td>230</td>\n",
       "      <td>3734</td>\n",
       "      <td>False</td>\n",
       "      <td>-9214218717718938339</td>\n",
       "    </tr>\n",
       "    <tr>\n",
       "      <th>5583416fd6dfbb7d89dd3a3d</th>\n",
       "      <td>Thu Jun 18 22:08:47 +0000 2015</td>\n",
       "      <td>{'first_person': 1, 'alcohol': 1, 'first_perso...</td>\n",
       "      <td>NaN</td>\n",
       "      <td>@rabbitoreg @sueprendo @OhThatRachel @RaftLear...</td>\n",
       "      <td>{'friends_count': 3971, 'favourites_count': 62...</td>\n",
       "      <td>Mon Apr 09 13:44:59 +0000 2012</td>\n",
       "      <td>6290</td>\n",
       "      <td>4460</td>\n",
       "      <td>3971</td>\n",
       "      <td>8483</td>\n",
       "      <td>False</td>\n",
       "      <td>-9211965234060103841</td>\n",
       "    </tr>\n",
       "    <tr>\n",
       "      <th>55712598d6dfbb692ade1d59</th>\n",
       "      <td>Fri Jun 05 04:29:51 +0000 2015</td>\n",
       "      <td>{'first_person': 0, 'alcohol_related': 0, 'alc...</td>\n",
       "      <td>0.709952</td>\n",
       "      <td>We're out of beer :/</td>\n",
       "      <td>{'friends_count': 110, 'favourites_count': 163...</td>\n",
       "      <td>Fri Mar 09 19:09:24 +0000 2012</td>\n",
       "      <td>16399</td>\n",
       "      <td>208</td>\n",
       "      <td>110</td>\n",
       "      <td>37263</td>\n",
       "      <td>False</td>\n",
       "      <td>-9211168337454258966</td>\n",
       "    </tr>\n",
       "  </tbody>\n",
       "</table>\n",
       "</div>"
      ],
      "text/plain": [
       "                                              created_at  \\\n",
       "_id                                                        \n",
       "5575389ad6dfbb73a10633d8  Mon Jun 08 06:40:01 +0000 2015   \n",
       "557c9bdcd6dfbb7ac08af03d  Sat Jun 13 21:09:26 +0000 2015   \n",
       "559020f4d6dfbb1a867fe3d3  Sun Jun 28 16:29:43 +0000 2015   \n",
       "5583416fd6dfbb7d89dd3a3d  Thu Jun 18 22:08:47 +0000 2015   \n",
       "55712598d6dfbb692ade1d59  Fri Jun 05 04:29:51 +0000 2015   \n",
       "\n",
       "                                                                     labels  \\\n",
       "_id                                                                           \n",
       "5575389ad6dfbb73a10633d8                                     {'alcohol': 0}   \n",
       "557c9bdcd6dfbb7ac08af03d  {'first_person': 1, 'alcohol': 1, 'first_perso...   \n",
       "559020f4d6dfbb1a867fe3d3  {'first_person': 1, 'alcohol': 1, 'first_perso...   \n",
       "5583416fd6dfbb7d89dd3a3d  {'first_person': 1, 'alcohol': 1, 'first_perso...   \n",
       "55712598d6dfbb692ade1d59  {'first_person': 0, 'alcohol_related': 0, 'alc...   \n",
       "\n",
       "                           predict  \\\n",
       "_id                                  \n",
       "5575389ad6dfbb73a10633d8       NaN   \n",
       "557c9bdcd6dfbb7ac08af03d  0.716105   \n",
       "559020f4d6dfbb1a867fe3d3       NaN   \n",
       "5583416fd6dfbb7d89dd3a3d       NaN   \n",
       "55712598d6dfbb692ade1d59  0.709952   \n",
       "\n",
       "                                                                       text  \\\n",
       "_id                                                                           \n",
       "5575389ad6dfbb73a10633d8  @internet_faerie i don't have those yet and i ...   \n",
       "557c9bdcd6dfbb7ac08af03d         girls who drink beer don't care about life   \n",
       "559020f4d6dfbb1a867fe3d3  Just one. Drag brunch. @ Blue. Tapas Bar &amp;...   \n",
       "5583416fd6dfbb7d89dd3a3d  @rabbitoreg @sueprendo @OhThatRachel @RaftLear...   \n",
       "55712598d6dfbb692ade1d59                               We're out of beer :/   \n",
       "\n",
       "                                                                       user  \\\n",
       "_id                                                                           \n",
       "5575389ad6dfbb73a10633d8  {'friends_count': 507, 'favourites_count': 323...   \n",
       "557c9bdcd6dfbb7ac08af03d  {'friends_count': 598, 'favourites_count': 295...   \n",
       "559020f4d6dfbb1a867fe3d3  {'friends_count': 230, 'favourites_count': 4, ...   \n",
       "5583416fd6dfbb7d89dd3a3d  {'friends_count': 3971, 'favourites_count': 62...   \n",
       "55712598d6dfbb692ade1d59  {'friends_count': 110, 'favourites_count': 163...   \n",
       "\n",
       "                                         user.created_at  \\\n",
       "_id                                                        \n",
       "5575389ad6dfbb73a10633d8  Fri Oct 07 23:23:39 +0000 2011   \n",
       "557c9bdcd6dfbb7ac08af03d  Thu Dec 10 23:13:38 +0000 2009   \n",
       "559020f4d6dfbb1a867fe3d3  Fri Mar 06 19:56:09 +0000 2009   \n",
       "5583416fd6dfbb7d89dd3a3d  Mon Apr 09 13:44:59 +0000 2012   \n",
       "55712598d6dfbb692ade1d59  Fri Mar 09 19:09:24 +0000 2012   \n",
       "\n",
       "                          user.favourites_count  user.followers_count  \\\n",
       "_id                                                                     \n",
       "5575389ad6dfbb73a10633d8                  32323                   777   \n",
       "557c9bdcd6dfbb7ac08af03d                  29563                  2637   \n",
       "559020f4d6dfbb1a867fe3d3                      4                   182   \n",
       "5583416fd6dfbb7d89dd3a3d                   6290                  4460   \n",
       "55712598d6dfbb692ade1d59                  16399                   208   \n",
       "\n",
       "                          user.friends_count  user.statuses_count  \\\n",
       "_id                                                                 \n",
       "5575389ad6dfbb73a10633d8                 507                 7134   \n",
       "557c9bdcd6dfbb7ac08af03d                 598               257634   \n",
       "559020f4d6dfbb1a867fe3d3                 230                 3734   \n",
       "5583416fd6dfbb7d89dd3a3d                3971                 8483   \n",
       "55712598d6dfbb692ade1d59                 110                37263   \n",
       "\n",
       "                         user.verified        random_number  \n",
       "_id                                                          \n",
       "5575389ad6dfbb73a10633d8         False -9217494627877178173  \n",
       "557c9bdcd6dfbb7ac08af03d         False -9217364288113609806  \n",
       "559020f4d6dfbb1a867fe3d3         False -9214218717718938339  \n",
       "5583416fd6dfbb7d89dd3a3d         False -9211965234060103841  \n",
       "55712598d6dfbb692ade1d59         False -9211168337454258966  "
      ]
     },
     "execution_count": 275,
     "metadata": {},
     "output_type": "execute_result"
    }
   ],
   "source": [
    "batch.head()"
   ]
  },
  {
   "cell_type": "markdown",
   "metadata": {},
   "source": [
    "# AMT Results"
   ]
  },
  {
   "cell_type": "code",
   "execution_count": 4,
   "metadata": {
    "collapsed": false
   },
   "outputs": [],
   "source": [
    "results = pd.DataFrame.from_csv(\"C:/Users/Tom Work/Downloads/Batch_2417713_batch_results.csv\")"
   ]
  },
  {
   "cell_type": "code",
   "execution_count": 3,
   "metadata": {
    "collapsed": false
   },
   "outputs": [
    {
     "data": {
      "text/html": [
       "<div>\n",
       "<table border=\"1\" class=\"dataframe\">\n",
       "  <thead>\n",
       "    <tr style=\"text-align: right;\">\n",
       "      <th></th>\n",
       "      <th>_id</th>\n",
       "      <th>text</th>\n",
       "      <th>random_number</th>\n",
       "      <th>Worker</th>\n",
       "      <th>Answer</th>\n",
       "      <th>Date</th>\n",
       "    </tr>\n",
       "    <tr>\n",
       "      <th>HITID</th>\n",
       "      <th></th>\n",
       "      <th></th>\n",
       "      <th></th>\n",
       "      <th></th>\n",
       "      <th></th>\n",
       "      <th></th>\n",
       "    </tr>\n",
       "  </thead>\n",
       "  <tbody>\n",
       "    <tr>\n",
       "      <th>3TTPFEFXCT45TBP1WYT4F3TLHK9H62</th>\n",
       "      <td>5580250fd6dfbb237b1cf3db</td>\n",
       "      <td>b'GETTIN BACK TO MY OLD WAYS ....I GOTTA BE DR...</td>\n",
       "      <td>-6641681194008602080</td>\n",
       "      <td>A1MHGD46DB5Z7H</td>\n",
       "      <td>First Person - Alcohol::Looking to drink</td>\n",
       "      <td>2016-06-01 20:33:49 UTC</td>\n",
       "    </tr>\n",
       "    <tr>\n",
       "      <th>3WRBLBQ2GRSWF48BA3V5L27TPH9G00</th>\n",
       "      <td>558888f0d6dfbb2934796935</td>\n",
       "      <td>b'Drinking a Musketeer by @EarthBreadBrew at @...</td>\n",
       "      <td>-8992588718599498971</td>\n",
       "      <td>A2W2ZEI7WUASOW</td>\n",
       "      <td>First Person - Alcohol::Casual Drinking</td>\n",
       "      <td>2016-06-01 20:32:51 UTC</td>\n",
       "    </tr>\n",
       "    <tr>\n",
       "      <th>3OWZNK3RYL9MGWCK9VO0851ZVN92U7</th>\n",
       "      <td>5573a21cd6dfbb325130c4e4</td>\n",
       "      <td>b'Shout out @nicoleamjadi for makin my drunk a...</td>\n",
       "      <td>-7481184102869025148</td>\n",
       "      <td>A3HSMUPSPOKD0M</td>\n",
       "      <td>First Person - Alcohol::Heavy Drinking</td>\n",
       "      <td>2016-06-01 20:32:41 UTC</td>\n",
       "    </tr>\n",
       "    <tr>\n",
       "      <th>3ZQX1VYFTDP2P6UCTQLSJQMDZ1D8O3</th>\n",
       "      <td>5590cc24d6dfbb6651182ec9</td>\n",
       "      <td>b\"You ever been so drunk when a cop asks for I...</td>\n",
       "      <td>-7203668149022749483</td>\n",
       "      <td>A3HSMUPSPOKD0M</td>\n",
       "      <td>First Person - Alcohol::Reflecting on drinking</td>\n",
       "      <td>2016-06-01 20:33:25 UTC</td>\n",
       "    </tr>\n",
       "    <tr>\n",
       "      <th>3HYV4299H0GGDFHNZCIWEESZVZ78EZ</th>\n",
       "      <td>557e0c20d6dfbb7b6fe44834</td>\n",
       "      <td>b'Drinking an 077-07871 Mosaic by @cartonbrewi...</td>\n",
       "      <td>-7369744233911600977</td>\n",
       "      <td>ADLYO655RWJUI</td>\n",
       "      <td>Alcohol Related::Discussion</td>\n",
       "      <td>2016-06-01 20:33:34 UTC</td>\n",
       "    </tr>\n",
       "  </tbody>\n",
       "</table>\n",
       "</div>"
      ],
      "text/plain": [
       "                                                     _id  \\\n",
       "HITID                                                      \n",
       "3TTPFEFXCT45TBP1WYT4F3TLHK9H62  5580250fd6dfbb237b1cf3db   \n",
       "3WRBLBQ2GRSWF48BA3V5L27TPH9G00  558888f0d6dfbb2934796935   \n",
       "3OWZNK3RYL9MGWCK9VO0851ZVN92U7  5573a21cd6dfbb325130c4e4   \n",
       "3ZQX1VYFTDP2P6UCTQLSJQMDZ1D8O3  5590cc24d6dfbb6651182ec9   \n",
       "3HYV4299H0GGDFHNZCIWEESZVZ78EZ  557e0c20d6dfbb7b6fe44834   \n",
       "\n",
       "                                                                             text  \\\n",
       "HITID                                                                               \n",
       "3TTPFEFXCT45TBP1WYT4F3TLHK9H62  b'GETTIN BACK TO MY OLD WAYS ....I GOTTA BE DR...   \n",
       "3WRBLBQ2GRSWF48BA3V5L27TPH9G00  b'Drinking a Musketeer by @EarthBreadBrew at @...   \n",
       "3OWZNK3RYL9MGWCK9VO0851ZVN92U7  b'Shout out @nicoleamjadi for makin my drunk a...   \n",
       "3ZQX1VYFTDP2P6UCTQLSJQMDZ1D8O3  b\"You ever been so drunk when a cop asks for I...   \n",
       "3HYV4299H0GGDFHNZCIWEESZVZ78EZ  b'Drinking an 077-07871 Mosaic by @cartonbrewi...   \n",
       "\n",
       "                                      random_number          Worker  \\\n",
       "HITID                                                                 \n",
       "3TTPFEFXCT45TBP1WYT4F3TLHK9H62 -6641681194008602080  A1MHGD46DB5Z7H   \n",
       "3WRBLBQ2GRSWF48BA3V5L27TPH9G00 -8992588718599498971  A2W2ZEI7WUASOW   \n",
       "3OWZNK3RYL9MGWCK9VO0851ZVN92U7 -7481184102869025148  A3HSMUPSPOKD0M   \n",
       "3ZQX1VYFTDP2P6UCTQLSJQMDZ1D8O3 -7203668149022749483  A3HSMUPSPOKD0M   \n",
       "3HYV4299H0GGDFHNZCIWEESZVZ78EZ -7369744233911600977   ADLYO655RWJUI   \n",
       "\n",
       "                                                                        Answer  \\\n",
       "HITID                                                                            \n",
       "3TTPFEFXCT45TBP1WYT4F3TLHK9H62        First Person - Alcohol::Looking to drink   \n",
       "3WRBLBQ2GRSWF48BA3V5L27TPH9G00         First Person - Alcohol::Casual Drinking   \n",
       "3OWZNK3RYL9MGWCK9VO0851ZVN92U7          First Person - Alcohol::Heavy Drinking   \n",
       "3ZQX1VYFTDP2P6UCTQLSJQMDZ1D8O3  First Person - Alcohol::Reflecting on drinking   \n",
       "3HYV4299H0GGDFHNZCIWEESZVZ78EZ                     Alcohol Related::Discussion   \n",
       "\n",
       "                                                   Date  \n",
       "HITID                                                    \n",
       "3TTPFEFXCT45TBP1WYT4F3TLHK9H62  2016-06-01 20:33:49 UTC  \n",
       "3WRBLBQ2GRSWF48BA3V5L27TPH9G00  2016-06-01 20:32:51 UTC  \n",
       "3OWZNK3RYL9MGWCK9VO0851ZVN92U7  2016-06-01 20:32:41 UTC  \n",
       "3ZQX1VYFTDP2P6UCTQLSJQMDZ1D8O3  2016-06-01 20:33:25 UTC  \n",
       "3HYV4299H0GGDFHNZCIWEESZVZ78EZ  2016-06-01 20:33:34 UTC  "
      ]
     },
     "execution_count": 3,
     "metadata": {},
     "output_type": "execute_result"
    }
   ],
   "source": [
    "results.head()"
   ]
  },
  {
   "cell_type": "code",
   "execution_count": 4,
   "metadata": {
    "collapsed": false
   },
   "outputs": [
    {
     "data": {
      "text/plain": [
       "A3HSMUPSPOKD0M    167\n",
       "A2QLSHXNCHBRN4    145\n",
       "A2YAYHZYI7M3HD    113\n",
       "A312KFQ78WB3A4    105\n",
       "A37WXDYYT7RCZ0     96\n",
       "A1MHGD46DB5Z7H     91\n",
       "AS9E0S6DBSWH7      52\n",
       "ABYS5Q4TCQZ6W      49\n",
       "A2W2ZEI7WUASOW     42\n",
       "A2M3KQ9CKP7YW      25\n",
       "Name: Worker, dtype: int64"
      ]
     },
     "execution_count": 4,
     "metadata": {},
     "output_type": "execute_result"
    }
   ],
   "source": [
    "results.Worker.value_counts().head(10)"
   ]
  },
  {
   "cell_type": "code",
   "execution_count": 5,
   "metadata": {
    "collapsed": false
   },
   "outputs": [
    {
     "data": {
      "text/html": [
       "<div>\n",
       "<table border=\"1\" class=\"dataframe\">\n",
       "  <thead>\n",
       "    <tr style=\"text-align: right;\">\n",
       "      <th></th>\n",
       "      <th>text</th>\n",
       "      <th>Answer</th>\n",
       "    </tr>\n",
       "    <tr>\n",
       "      <th>HITID</th>\n",
       "      <th></th>\n",
       "      <th></th>\n",
       "    </tr>\n",
       "  </thead>\n",
       "  <tbody>\n",
       "    <tr>\n",
       "      <th>35F6NGNVM83E2KU1F2FLZ0W5NPNT7M</th>\n",
       "      <td>b'@bchandra_3: My friends peer pressure the li...</td>\n",
       "      <td>First Person - Alcohol::Reflecting on drinking</td>\n",
       "    </tr>\n",
       "    <tr>\n",
       "      <th>3UOMW19E6DQITZE75N5YC6I58XTC58</th>\n",
       "      <td>b'Drinking a Mission Control Porter by @8thWon...</td>\n",
       "      <td>First Person - Alcohol::Casual Drinking</td>\n",
       "    </tr>\n",
       "    <tr>\n",
       "      <th>37YYO3NWHDA3SKNMKXS6QCOF0EFCCG</th>\n",
       "      <td>b\"Drinking a Mehilainen's Honey by @UrbanLegen...</td>\n",
       "      <td>First Person - Alcohol::Casual Drinking</td>\n",
       "    </tr>\n",
       "    <tr>\n",
       "      <th>3ZQX1VYFTDP2P6UCTQLSJQMDZ1D8O3</th>\n",
       "      <td>b\"You ever been so drunk when a cop asks for I...</td>\n",
       "      <td>First Person - Alcohol::Reflecting on drinking</td>\n",
       "    </tr>\n",
       "    <tr>\n",
       "      <th>3W31J70BASGLBIZACA94EV1N5NNKC0</th>\n",
       "      <td>b'every time I have a really bad hangover I th...</td>\n",
       "      <td>First Person - Alcohol::Reflecting on drinking</td>\n",
       "    </tr>\n",
       "    <tr>\n",
       "      <th>3BPP3MA3TC4BSM16T1R0JJE5FZ6ELR</th>\n",
       "      <td>b\"I remember when we were drunk and I lost my ...</td>\n",
       "      <td>First Person - Alcohol::Reflecting on drinking</td>\n",
       "    </tr>\n",
       "    <tr>\n",
       "      <th>3R868ACW4SWTHPE1EX8XR1AF7OTGZT</th>\n",
       "      <td>b'Drinking a Points Unknown IPA by @StoneBrewi...</td>\n",
       "      <td>First Person - Alcohol::Casual Drinking</td>\n",
       "    </tr>\n",
       "    <tr>\n",
       "      <th>3VAOOVPI3ZCPYSBYANE4WE4POW6LLK</th>\n",
       "      <td>b\"I think I've had enough, might get a little ...</td>\n",
       "      <td>First Person - Alcohol::Heavy Drinking</td>\n",
       "    </tr>\n",
       "    <tr>\n",
       "      <th>3AQN9REUTF0Q0FU5GL5679YGO29DYP</th>\n",
       "      <td>b'#Sunrise @andrewstando \"Those drunk Indiana ...</td>\n",
       "      <td>Alcohol Related::Discussion</td>\n",
       "    </tr>\n",
       "    <tr>\n",
       "      <th>3E24UO25QZAFLSBO0BOUZCQMT6N6OF</th>\n",
       "      <td>b'Drinking a Sculpin IPA by @bpbrewing at @kc_...</td>\n",
       "      <td>First Person - Alcohol::Casual Drinking</td>\n",
       "    </tr>\n",
       "  </tbody>\n",
       "</table>\n",
       "</div>"
      ],
      "text/plain": [
       "                                                                             text  \\\n",
       "HITID                                                                               \n",
       "35F6NGNVM83E2KU1F2FLZ0W5NPNT7M  b'@bchandra_3: My friends peer pressure the li...   \n",
       "3UOMW19E6DQITZE75N5YC6I58XTC58  b'Drinking a Mission Control Porter by @8thWon...   \n",
       "37YYO3NWHDA3SKNMKXS6QCOF0EFCCG  b\"Drinking a Mehilainen's Honey by @UrbanLegen...   \n",
       "3ZQX1VYFTDP2P6UCTQLSJQMDZ1D8O3  b\"You ever been so drunk when a cop asks for I...   \n",
       "3W31J70BASGLBIZACA94EV1N5NNKC0  b'every time I have a really bad hangover I th...   \n",
       "3BPP3MA3TC4BSM16T1R0JJE5FZ6ELR  b\"I remember when we were drunk and I lost my ...   \n",
       "3R868ACW4SWTHPE1EX8XR1AF7OTGZT  b'Drinking a Points Unknown IPA by @StoneBrewi...   \n",
       "3VAOOVPI3ZCPYSBYANE4WE4POW6LLK  b\"I think I've had enough, might get a little ...   \n",
       "3AQN9REUTF0Q0FU5GL5679YGO29DYP  b'#Sunrise @andrewstando \"Those drunk Indiana ...   \n",
       "3E24UO25QZAFLSBO0BOUZCQMT6N6OF  b'Drinking a Sculpin IPA by @bpbrewing at @kc_...   \n",
       "\n",
       "                                                                        Answer  \n",
       "HITID                                                                           \n",
       "35F6NGNVM83E2KU1F2FLZ0W5NPNT7M  First Person - Alcohol::Reflecting on drinking  \n",
       "3UOMW19E6DQITZE75N5YC6I58XTC58         First Person - Alcohol::Casual Drinking  \n",
       "37YYO3NWHDA3SKNMKXS6QCOF0EFCCG         First Person - Alcohol::Casual Drinking  \n",
       "3ZQX1VYFTDP2P6UCTQLSJQMDZ1D8O3  First Person - Alcohol::Reflecting on drinking  \n",
       "3W31J70BASGLBIZACA94EV1N5NNKC0  First Person - Alcohol::Reflecting on drinking  \n",
       "3BPP3MA3TC4BSM16T1R0JJE5FZ6ELR  First Person - Alcohol::Reflecting on drinking  \n",
       "3R868ACW4SWTHPE1EX8XR1AF7OTGZT         First Person - Alcohol::Casual Drinking  \n",
       "3VAOOVPI3ZCPYSBYANE4WE4POW6LLK          First Person - Alcohol::Heavy Drinking  \n",
       "3AQN9REUTF0Q0FU5GL5679YGO29DYP                     Alcohol Related::Discussion  \n",
       "3E24UO25QZAFLSBO0BOUZCQMT6N6OF         First Person - Alcohol::Casual Drinking  "
      ]
     },
     "execution_count": 5,
     "metadata": {},
     "output_type": "execute_result"
    }
   ],
   "source": [
    "results[['text', 'Answer']].sample(10)"
   ]
  },
  {
   "cell_type": "code",
   "execution_count": 5,
   "metadata": {
    "collapsed": false
   },
   "outputs": [],
   "source": [
    "results.index = results._id\n",
    "labels = results.Answer.apply(TurkResults2Label.parse_to_labels)"
   ]
  },
  {
   "cell_type": "code",
   "execution_count": 7,
   "metadata": {
    "collapsed": false
   },
   "outputs": [
    {
     "data": {
      "text/plain": [
       "_id\n",
       "5580250fd6dfbb237b1cf3db    {'first_person': 1, 'alcohol': 1, 'first_perso...\n",
       "558888f0d6dfbb2934796935    {'first_person': 1, 'alcohol': 1, 'first_perso...\n",
       "5573a21cd6dfbb325130c4e4    {'first_person': 1, 'alcohol': 1, 'first_perso...\n",
       "5590cc24d6dfbb6651182ec9    {'first_person': 1, 'alcohol': 1, 'first_perso...\n",
       "557e0c20d6dfbb7b6fe44834    {'first_person': 0, 'raw': 'Alcohol Related::D...\n",
       "Name: Answer, dtype: object"
      ]
     },
     "execution_count": 7,
     "metadata": {},
     "output_type": "execute_result"
    }
   ],
   "source": [
    "labels.head()"
   ]
  },
  {
   "cell_type": "code",
   "execution_count": 40,
   "metadata": {
    "collapsed": false
   },
   "outputs": [],
   "source": [
    "batch = pickle.load(open('pickles/amt_test_batch.p', 'rb'))"
   ]
  },
  {
   "cell_type": "code",
   "execution_count": 8,
   "metadata": {
    "collapsed": false
   },
   "outputs": [
    {
     "data": {
      "text/html": [
       "<div>\n",
       "<table border=\"1\" class=\"dataframe\">\n",
       "  <thead>\n",
       "    <tr style=\"text-align: right;\">\n",
       "      <th></th>\n",
       "      <th>created_at</th>\n",
       "      <th>labels</th>\n",
       "      <th>predict</th>\n",
       "      <th>text</th>\n",
       "      <th>user</th>\n",
       "      <th>user.created_at</th>\n",
       "      <th>user.favourites_count</th>\n",
       "      <th>user.followers_count</th>\n",
       "      <th>user.friends_count</th>\n",
       "      <th>user.statuses_count</th>\n",
       "      <th>user.verified</th>\n",
       "      <th>random_number</th>\n",
       "      <th>new_labels</th>\n",
       "    </tr>\n",
       "    <tr>\n",
       "      <th>_id</th>\n",
       "      <th></th>\n",
       "      <th></th>\n",
       "      <th></th>\n",
       "      <th></th>\n",
       "      <th></th>\n",
       "      <th></th>\n",
       "      <th></th>\n",
       "      <th></th>\n",
       "      <th></th>\n",
       "      <th></th>\n",
       "      <th></th>\n",
       "      <th></th>\n",
       "      <th></th>\n",
       "    </tr>\n",
       "  </thead>\n",
       "  <tbody>\n",
       "    <tr>\n",
       "      <th>558de5ccd6dfbb1285b4d0d7</th>\n",
       "      <td>Fri Jun 26 23:52:46 +0000 2015</td>\n",
       "      <td>{'first_person': 1, 'first_person_level': 0, '...</td>\n",
       "      <td>0.526958</td>\n",
       "      <td>Drinking a Modelo Especial by @Grupo_Modelo @ ...</td>\n",
       "      <td>{'verified': False, 'followers_count': 21, 'st...</td>\n",
       "      <td>Wed May 11 14:42:49 +0000 2011</td>\n",
       "      <td>27</td>\n",
       "      <td>21</td>\n",
       "      <td>58</td>\n",
       "      <td>636</td>\n",
       "      <td>False</td>\n",
       "      <td>-9222761470226223014</td>\n",
       "      <td>{'alcohol_related': 1, 'first_person': 0, 'alc...</td>\n",
       "    </tr>\n",
       "    <tr>\n",
       "      <th>557c654dd6dfbb616296fd82</th>\n",
       "      <td>Sat Jun 13 17:16:38 +0000 2015</td>\n",
       "      <td>{'first_person': 1, 'first_person_level': 1, '...</td>\n",
       "      <td>NaN</td>\n",
       "      <td>Drink before the movie @ The Counter, Naples F...</td>\n",
       "      <td>{'verified': False, 'followers_count': 17, 'st...</td>\n",
       "      <td>Fri Mar 21 14:07:12 +0000 2014</td>\n",
       "      <td>0</td>\n",
       "      <td>17</td>\n",
       "      <td>87</td>\n",
       "      <td>59</td>\n",
       "      <td>False</td>\n",
       "      <td>-9222406852067829389</td>\n",
       "      <td>{'first_person': 1, 'first_person_level': 0, '...</td>\n",
       "    </tr>\n",
       "    <tr>\n",
       "      <th>558da04dd6dfbb6950896489</th>\n",
       "      <td>Fri Jun 26 18:56:16 +0000 2015</td>\n",
       "      <td>{'first_person': 1, 'first_person_level': 1, '...</td>\n",
       "      <td>0.566175</td>\n",
       "      <td>Plug says she can get me $100 bottles of jäger...</td>\n",
       "      <td>{'verified': False, 'followers_count': 976, 's...</td>\n",
       "      <td>Thu May 29 16:46:20 +0000 2014</td>\n",
       "      <td>806</td>\n",
       "      <td>976</td>\n",
       "      <td>1139</td>\n",
       "      <td>54977</td>\n",
       "      <td>False</td>\n",
       "      <td>-9220396303529209418</td>\n",
       "      <td>{'alcohol_related': 0, 'first_person': 0, 'alc...</td>\n",
       "    </tr>\n",
       "    <tr>\n",
       "      <th>55914691d6dfbb3d910847c7</th>\n",
       "      <td>Mon Jun 29 13:22:29 +0000 2015</td>\n",
       "      <td>{'first_person': 1, 'first_person_level': 1, '...</td>\n",
       "      <td>0.536768</td>\n",
       "      <td>new job, new things. life is good, God is alwa...</td>\n",
       "      <td>{'verified': False, 'followers_count': 592, 's...</td>\n",
       "      <td>Mon Jan 25 04:39:02 +0000 2010</td>\n",
       "      <td>5152</td>\n",
       "      <td>592</td>\n",
       "      <td>334</td>\n",
       "      <td>9733</td>\n",
       "      <td>False</td>\n",
       "      <td>-9217681854079129762</td>\n",
       "      <td>{'first_person': 1, 'first_person_level': 1, '...</td>\n",
       "    </tr>\n",
       "    <tr>\n",
       "      <th>557f254cd6dfbb4df2491edd</th>\n",
       "      <td>Mon Jun 15 19:19:59 +0000 2015</td>\n",
       "      <td>{'first_person': 1, 'first_person_level': 0, '...</td>\n",
       "      <td>0.636640</td>\n",
       "      <td>Sushi &amp;amp; beer w/ my boss</td>\n",
       "      <td>{'verified': False, 'followers_count': 490, 's...</td>\n",
       "      <td>Sat Oct 09 16:47:51 +0000 2010</td>\n",
       "      <td>102</td>\n",
       "      <td>490</td>\n",
       "      <td>287</td>\n",
       "      <td>28686</td>\n",
       "      <td>False</td>\n",
       "      <td>-9210822260648258097</td>\n",
       "      <td>{'first_person': 1, 'first_person_level': 0, '...</td>\n",
       "    </tr>\n",
       "  </tbody>\n",
       "</table>\n",
       "</div>"
      ],
      "text/plain": [
       "                                              created_at  \\\n",
       "_id                                                        \n",
       "558de5ccd6dfbb1285b4d0d7  Fri Jun 26 23:52:46 +0000 2015   \n",
       "557c654dd6dfbb616296fd82  Sat Jun 13 17:16:38 +0000 2015   \n",
       "558da04dd6dfbb6950896489  Fri Jun 26 18:56:16 +0000 2015   \n",
       "55914691d6dfbb3d910847c7  Mon Jun 29 13:22:29 +0000 2015   \n",
       "557f254cd6dfbb4df2491edd  Mon Jun 15 19:19:59 +0000 2015   \n",
       "\n",
       "                                                                     labels  \\\n",
       "_id                                                                           \n",
       "558de5ccd6dfbb1285b4d0d7  {'first_person': 1, 'first_person_level': 0, '...   \n",
       "557c654dd6dfbb616296fd82  {'first_person': 1, 'first_person_level': 1, '...   \n",
       "558da04dd6dfbb6950896489  {'first_person': 1, 'first_person_level': 1, '...   \n",
       "55914691d6dfbb3d910847c7  {'first_person': 1, 'first_person_level': 1, '...   \n",
       "557f254cd6dfbb4df2491edd  {'first_person': 1, 'first_person_level': 0, '...   \n",
       "\n",
       "                           predict  \\\n",
       "_id                                  \n",
       "558de5ccd6dfbb1285b4d0d7  0.526958   \n",
       "557c654dd6dfbb616296fd82       NaN   \n",
       "558da04dd6dfbb6950896489  0.566175   \n",
       "55914691d6dfbb3d910847c7  0.536768   \n",
       "557f254cd6dfbb4df2491edd  0.636640   \n",
       "\n",
       "                                                                       text  \\\n",
       "_id                                                                           \n",
       "558de5ccd6dfbb1285b4d0d7  Drinking a Modelo Especial by @Grupo_Modelo @ ...   \n",
       "557c654dd6dfbb616296fd82  Drink before the movie @ The Counter, Naples F...   \n",
       "558da04dd6dfbb6950896489  Plug says she can get me $100 bottles of jäger...   \n",
       "55914691d6dfbb3d910847c7  new job, new things. life is good, God is alwa...   \n",
       "557f254cd6dfbb4df2491edd                        Sushi &amp; beer w/ my boss   \n",
       "\n",
       "                                                                       user  \\\n",
       "_id                                                                           \n",
       "558de5ccd6dfbb1285b4d0d7  {'verified': False, 'followers_count': 21, 'st...   \n",
       "557c654dd6dfbb616296fd82  {'verified': False, 'followers_count': 17, 'st...   \n",
       "558da04dd6dfbb6950896489  {'verified': False, 'followers_count': 976, 's...   \n",
       "55914691d6dfbb3d910847c7  {'verified': False, 'followers_count': 592, 's...   \n",
       "557f254cd6dfbb4df2491edd  {'verified': False, 'followers_count': 490, 's...   \n",
       "\n",
       "                                         user.created_at  \\\n",
       "_id                                                        \n",
       "558de5ccd6dfbb1285b4d0d7  Wed May 11 14:42:49 +0000 2011   \n",
       "557c654dd6dfbb616296fd82  Fri Mar 21 14:07:12 +0000 2014   \n",
       "558da04dd6dfbb6950896489  Thu May 29 16:46:20 +0000 2014   \n",
       "55914691d6dfbb3d910847c7  Mon Jan 25 04:39:02 +0000 2010   \n",
       "557f254cd6dfbb4df2491edd  Sat Oct 09 16:47:51 +0000 2010   \n",
       "\n",
       "                          user.favourites_count  user.followers_count  \\\n",
       "_id                                                                     \n",
       "558de5ccd6dfbb1285b4d0d7                     27                    21   \n",
       "557c654dd6dfbb616296fd82                      0                    17   \n",
       "558da04dd6dfbb6950896489                    806                   976   \n",
       "55914691d6dfbb3d910847c7                   5152                   592   \n",
       "557f254cd6dfbb4df2491edd                    102                   490   \n",
       "\n",
       "                          user.friends_count  user.statuses_count  \\\n",
       "_id                                                                 \n",
       "558de5ccd6dfbb1285b4d0d7                  58                  636   \n",
       "557c654dd6dfbb616296fd82                  87                   59   \n",
       "558da04dd6dfbb6950896489                1139                54977   \n",
       "55914691d6dfbb3d910847c7                 334                 9733   \n",
       "557f254cd6dfbb4df2491edd                 287                28686   \n",
       "\n",
       "                         user.verified        random_number  \\\n",
       "_id                                                           \n",
       "558de5ccd6dfbb1285b4d0d7         False -9222761470226223014   \n",
       "557c654dd6dfbb616296fd82         False -9222406852067829389   \n",
       "558da04dd6dfbb6950896489         False -9220396303529209418   \n",
       "55914691d6dfbb3d910847c7         False -9217681854079129762   \n",
       "557f254cd6dfbb4df2491edd         False -9210822260648258097   \n",
       "\n",
       "                                                                 new_labels  \n",
       "_id                                                                          \n",
       "558de5ccd6dfbb1285b4d0d7  {'alcohol_related': 1, 'first_person': 0, 'alc...  \n",
       "557c654dd6dfbb616296fd82  {'first_person': 1, 'first_person_level': 0, '...  \n",
       "558da04dd6dfbb6950896489  {'alcohol_related': 0, 'first_person': 0, 'alc...  \n",
       "55914691d6dfbb3d910847c7  {'first_person': 1, 'first_person_level': 1, '...  \n",
       "557f254cd6dfbb4df2491edd  {'first_person': 1, 'first_person_level': 0, '...  "
      ]
     },
     "execution_count": 8,
     "metadata": {},
     "output_type": "execute_result"
    }
   ],
   "source": [
    "batch['new_labels'] = labels\n",
    "batch.head()"
   ]
  },
  {
   "cell_type": "code",
   "execution_count": 10,
   "metadata": {
    "collapsed": false
   },
   "outputs": [
    {
     "data": {
      "text/html": [
       "<div>\n",
       "<table border=\"1\" class=\"dataframe\">\n",
       "  <thead>\n",
       "    <tr style=\"text-align: right;\">\n",
       "      <th></th>\n",
       "      <th>text</th>\n",
       "      <th>labels</th>\n",
       "      <th>new_labels</th>\n",
       "    </tr>\n",
       "    <tr>\n",
       "      <th>_id</th>\n",
       "      <th></th>\n",
       "      <th></th>\n",
       "      <th></th>\n",
       "    </tr>\n",
       "  </thead>\n",
       "  <tbody>\n",
       "    <tr>\n",
       "      <th>558de5ccd6dfbb1285b4d0d7</th>\n",
       "      <td>Drinking a Modelo Especial by @Grupo_Modelo @ ...</td>\n",
       "      <td>{'first_person': 1, 'alcohol': 1, 'first_perso...</td>\n",
       "      <td>{'first_person': 0, 'raw': 'Alcohol Related::P...</td>\n",
       "    </tr>\n",
       "    <tr>\n",
       "      <th>557c654dd6dfbb616296fd82</th>\n",
       "      <td>Drink before the movie @ The Counter, Naples F...</td>\n",
       "      <td>{'first_person': 1, 'alcohol': 1, 'first_perso...</td>\n",
       "      <td>{'first_person': 1, 'alcohol': 1, 'first_perso...</td>\n",
       "    </tr>\n",
       "    <tr>\n",
       "      <th>558da04dd6dfbb6950896489</th>\n",
       "      <td>Plug says she can get me $100 bottles of jäger...</td>\n",
       "      <td>{'first_person': 1, 'alcohol': 1, 'first_perso...</td>\n",
       "      <td>{'first_person': 0, 'raw': 'Alcohol Related::D...</td>\n",
       "    </tr>\n",
       "    <tr>\n",
       "      <th>55914691d6dfbb3d910847c7</th>\n",
       "      <td>new job, new things. life is good, God is alwa...</td>\n",
       "      <td>{'first_person': 1, 'alcohol': 1, 'first_perso...</td>\n",
       "      <td>{'first_person': 1, 'alcohol': 1, 'first_perso...</td>\n",
       "    </tr>\n",
       "    <tr>\n",
       "      <th>557f254cd6dfbb4df2491edd</th>\n",
       "      <td>Sushi &amp;amp; beer w/ my boss</td>\n",
       "      <td>{'first_person': 1, 'alcohol': 1, 'first_perso...</td>\n",
       "      <td>{'first_person': 1, 'alcohol': 1, 'first_perso...</td>\n",
       "    </tr>\n",
       "    <tr>\n",
       "      <th>55902589d6dfbb1a868009a9</th>\n",
       "      <td>I don't wanna drink no more, I don't wanna smo...</td>\n",
       "      <td>{'first_person': 1, 'alcohol': 1, 'first_perso...</td>\n",
       "      <td>{'first_person': 0, 'raw': 'Alcohol Related::D...</td>\n",
       "    </tr>\n",
       "    <tr>\n",
       "      <th>55723026d6dfbb3e96ae5abb</th>\n",
       "      <td>Drinking @Yuengling_Beer, smoking a fine cigar...</td>\n",
       "      <td>{'first_person': 1, 'alcohol': 1, 'first_perso...</td>\n",
       "      <td>{'first_person': 1, 'alcohol': 1, 'first_perso...</td>\n",
       "    </tr>\n",
       "    <tr>\n",
       "      <th>557a9e46d6dfbb7a36d5744d</th>\n",
       "      <td>Gonna drink and watch orange is the new black ...</td>\n",
       "      <td>{'first_person': 1, 'alcohol': 1, 'first_perso...</td>\n",
       "      <td>{'first_person': 0, 'raw': 'Alcohol Related::D...</td>\n",
       "    </tr>\n",
       "    <tr>\n",
       "      <th>5587361ed6dfbb21a4dbdd3d</th>\n",
       "      <td>Three Vodka Tonics and I'm slightly hungover. ...</td>\n",
       "      <td>{'first_person': 1, 'alcohol': 1, 'first_perso...</td>\n",
       "      <td>{'first_person': 1, 'alcohol': 1, 'first_perso...</td>\n",
       "    </tr>\n",
       "    <tr>\n",
       "      <th>5574cec4d6dfbb571e32514c</th>\n",
       "      <td>Time for some wine 😋🍷 @ Pepsi Amphitheatre htt...</td>\n",
       "      <td>{'first_person': 1, 'alcohol': 1, 'first_perso...</td>\n",
       "      <td>{'first_person': 1, 'alcohol': 1, 'first_perso...</td>\n",
       "    </tr>\n",
       "    <tr>\n",
       "      <th>55843364d6dfbb4017b2707c</th>\n",
       "      <td>Wish I could drink or smoke</td>\n",
       "      <td>{'first_person': 1, 'alcohol': 1, 'first_perso...</td>\n",
       "      <td>{'first_person': 1, 'alcohol': 1, 'first_perso...</td>\n",
       "    </tr>\n",
       "    <tr>\n",
       "      <th>55906c02d6dfbb373320bb1f</th>\n",
       "      <td>Drinking grey goose on a Sunday bc I do what I...</td>\n",
       "      <td>{'first_person': 1, 'alcohol': 1, 'first_perso...</td>\n",
       "      <td>{'first_person': 1, 'alcohol': 1, 'first_perso...</td>\n",
       "    </tr>\n",
       "    <tr>\n",
       "      <th>5584cf26d6dfbb6b248969b4</th>\n",
       "      <td>Drinking a Longboard Island Lager by @KonaBrew...</td>\n",
       "      <td>{'first_person': 1, 'alcohol': 1, 'first_perso...</td>\n",
       "      <td>{'first_person': 1, 'alcohol': 1, 'first_perso...</td>\n",
       "    </tr>\n",
       "    <tr>\n",
       "      <th>556cca10d6dfbb1df32b77d8</th>\n",
       "      <td>\\ monday's just got better \\\\n\\nThe best morni...</td>\n",
       "      <td>{'first_person': 1, 'alcohol': 1, 'first_perso...</td>\n",
       "      <td>{'first_person': 1, 'alcohol': 1, 'first_perso...</td>\n",
       "    </tr>\n",
       "    <tr>\n",
       "      <th>5587055ed6dfbb77fd5fc8aa</th>\n",
       "      <td>@AkaiChoCorina two early for beer? It well int...</td>\n",
       "      <td>{'first_person': 1, 'alcohol': 1, 'first_perso...</td>\n",
       "      <td>{'first_person': 1, 'alcohol': 1, 'first_perso...</td>\n",
       "    </tr>\n",
       "    <tr>\n",
       "      <th>55732937d6dfbb3d96330d09</th>\n",
       "      <td>That cool feeling when you don't wake up hungo...</td>\n",
       "      <td>{'first_person': 1, 'alcohol': 1, 'first_perso...</td>\n",
       "      <td>{'first_person': 1, 'alcohol': 1, 'first_perso...</td>\n",
       "    </tr>\n",
       "    <tr>\n",
       "      <th>5573a3bdd6dfbb325130d5bf</th>\n",
       "      <td>Drinking  The Kimmie, The Yink &amp;amp; The Holy ...</td>\n",
       "      <td>{'first_person': 1, 'alcohol': 1, 'first_perso...</td>\n",
       "      <td>{'first_person': 1, 'alcohol': 1, 'first_perso...</td>\n",
       "    </tr>\n",
       "    <tr>\n",
       "      <th>558e41eed6dfbb624e5d40a2</th>\n",
       "      <td>Recently been informed my profile photo has be...</td>\n",
       "      <td>{'first_person': 1, 'alcohol': 1, 'first_perso...</td>\n",
       "      <td>{'first_person': 0, 'raw': 'Alcohol Related::D...</td>\n",
       "    </tr>\n",
       "    <tr>\n",
       "      <th>55874d4ad6dfbb257fb5dd93</th>\n",
       "      <td>A must have cider. - Drinking a Rootcellar by ...</td>\n",
       "      <td>{'first_person': 1, 'alcohol': 1, 'first_perso...</td>\n",
       "      <td>{'first_person': 1, 'alcohol': 1, 'first_perso...</td>\n",
       "    </tr>\n",
       "    <tr>\n",
       "      <th>558cf04cd6dfbb7e7a408437</th>\n",
       "      <td>Also downed 5 beers while watching...so I'm re...</td>\n",
       "      <td>{'first_person': 1, 'alcohol': 1, 'first_perso...</td>\n",
       "      <td>{'first_person': 1, 'alcohol': 1, 'first_perso...</td>\n",
       "    </tr>\n",
       "    <tr>\n",
       "      <th>5570879dd6dfbb11f6720a2f</th>\n",
       "      <td>Now I can get drunk and eat tacos at the same ...</td>\n",
       "      <td>{'first_person': 1, 'alcohol': 1, 'first_perso...</td>\n",
       "      <td>{'first_person': 1, 'alcohol': 1, 'first_perso...</td>\n",
       "    </tr>\n",
       "    <tr>\n",
       "      <th>558b7a43d6dfbb05d90291ba</th>\n",
       "      <td>I be drinking my life away</td>\n",
       "      <td>{'first_person': 1, 'alcohol': 1, 'first_perso...</td>\n",
       "      <td>{'first_person': 1, 'alcohol': 1, 'first_perso...</td>\n",
       "    </tr>\n",
       "    <tr>\n",
       "      <th>558fbd44d6dfbb788cbc2471</th>\n",
       "      <td>Love how I'm still drinking and @OliviaChilcoa...</td>\n",
       "      <td>{'first_person': 1, 'alcohol': 1, 'first_perso...</td>\n",
       "      <td>{'first_person': 1, 'alcohol': 1, 'first_perso...</td>\n",
       "    </tr>\n",
       "    <tr>\n",
       "      <th>557f6311d6dfbb65420c21f6</th>\n",
       "      <td>All that jazz... #mondays #jazz #livemusic #dr...</td>\n",
       "      <td>{'first_person': 1, 'alcohol': 1, 'first_perso...</td>\n",
       "      <td>{'first_person': 1, 'alcohol': 1, 'first_perso...</td>\n",
       "    </tr>\n",
       "    <tr>\n",
       "      <th>5570989fd6dfbb1a1a22573a</th>\n",
       "      <td>It needs to be 7 already cause I just want to ...</td>\n",
       "      <td>{'first_person': 1, 'alcohol': 1, 'first_perso...</td>\n",
       "      <td>{'first_person': 1, 'alcohol': 1, 'first_perso...</td>\n",
       "    </tr>\n",
       "    <tr>\n",
       "      <th>558b6077d6dfbb7cefc732b0</th>\n",
       "      <td>Drinking an Adam Weishaupt by @ibw666 @ Mott S...</td>\n",
       "      <td>{'first_person': 1, 'alcohol': 1, 'first_perso...</td>\n",
       "      <td>{'first_person': 1, 'alcohol': 1, 'first_perso...</td>\n",
       "    </tr>\n",
       "    <tr>\n",
       "      <th>5573a449d6dfbb325130db5c</th>\n",
       "      <td>@Michael5SOS I need your help drinking Corona ...</td>\n",
       "      <td>{'first_person': 1, 'alcohol': 1, 'first_perso...</td>\n",
       "      <td>{'first_person': 1, 'alcohol': 1, 'first_perso...</td>\n",
       "    </tr>\n",
       "    <tr>\n",
       "      <th>557a75f3d6dfbb700593b28c</th>\n",
       "      <td>@xxhcee you better drink on Saturday</td>\n",
       "      <td>{'first_person': 1, 'alcohol': 1, 'first_perso...</td>\n",
       "      <td>{'first_person': 0, 'raw': 'Alcohol Related::D...</td>\n",
       "    </tr>\n",
       "    <tr>\n",
       "      <th>558de88ed6dfbb1d49554b6e</th>\n",
       "      <td>Celebrating a big fabulous day in so many ways...</td>\n",
       "      <td>{'first_person': 1, 'alcohol': 1, 'first_perso...</td>\n",
       "      <td>{'first_person': 1, 'alcohol': 1, 'first_perso...</td>\n",
       "    </tr>\n",
       "    <tr>\n",
       "      <th>5576691ad6dfbb400d8b7dd5</th>\n",
       "      <td>Diggin the candles and wine right now</td>\n",
       "      <td>{'first_person': 1, 'alcohol': 1, 'first_perso...</td>\n",
       "      <td>{'first_person': 1, 'alcohol': 1, 'first_perso...</td>\n",
       "    </tr>\n",
       "    <tr>\n",
       "      <th>...</th>\n",
       "      <td>...</td>\n",
       "      <td>...</td>\n",
       "      <td>...</td>\n",
       "    </tr>\n",
       "    <tr>\n",
       "      <th>556ff94cd6dfbb3140e799f7</th>\n",
       "      <td>My second run of the day, their 5th.  #nationa...</td>\n",
       "      <td>{'first_person': 1, 'alcohol': 1, 'first_perso...</td>\n",
       "      <td>{'first_person': 1, 'alcohol': 1, 'first_perso...</td>\n",
       "    </tr>\n",
       "    <tr>\n",
       "      <th>558cd520d6dfbb70c4e86b23</th>\n",
       "      <td>Found a cool spot in the city. Rooftop bar and...</td>\n",
       "      <td>{'first_person': 1, 'alcohol': 1, 'first_perso...</td>\n",
       "      <td>{'first_person': 0, 'raw': 'Alcohol Related::D...</td>\n",
       "    </tr>\n",
       "    <tr>\n",
       "      <th>557263b8d6dfbb56bc599332</th>\n",
       "      <td>\"The one intoxicated with drink, the other mad...</td>\n",
       "      <td>{'first_person': 1, 'alcohol': 1, 'first_perso...</td>\n",
       "      <td>{'first_person': 0, 'raw': 'Alcohol Related::D...</td>\n",
       "    </tr>\n",
       "    <tr>\n",
       "      <th>558204a0d6dfbb1d5a900216</th>\n",
       "      <td>Drinking a Devil's Tramping Ground Tripel by @...</td>\n",
       "      <td>{'first_person': 1, 'alcohol': 1, 'first_perso...</td>\n",
       "      <td>{'first_person': 0, 'raw': 'Alcohol Related::P...</td>\n",
       "    </tr>\n",
       "    <tr>\n",
       "      <th>556f75d7d6dfbb590629de9e</th>\n",
       "      <td>Drinking a Tecate Light by @cuamocmx @ Vino Va...</td>\n",
       "      <td>{'first_person': 1, 'alcohol': 1, 'first_perso...</td>\n",
       "      <td>{'first_person': 1, 'alcohol': 1, 'first_perso...</td>\n",
       "    </tr>\n",
       "    <tr>\n",
       "      <th>557f4750d6dfbb573b4d7d03</th>\n",
       "      <td>Call your friends let drunk.</td>\n",
       "      <td>{'first_person': 1, 'alcohol': 1, 'first_perso...</td>\n",
       "      <td>{'first_person': 1, 'alcohol': 1, 'first_perso...</td>\n",
       "    </tr>\n",
       "    <tr>\n",
       "      <th>559046f7d6dfbb2851863994</th>\n",
       "      <td>Quick liquor run with mama_luv1... jimbo_cbr92...</td>\n",
       "      <td>{'first_person': 1, 'alcohol': 1, 'first_perso...</td>\n",
       "      <td>{'first_person': 1, 'alcohol': 1, 'first_perso...</td>\n",
       "    </tr>\n",
       "    <tr>\n",
       "      <th>557c10b9d6dfbb3986d00300</th>\n",
       "      <td>@USArmy @GENRayOdierno @DavidtheAdmiral @Natio...</td>\n",
       "      <td>{'first_person': 1, 'alcohol': 1, 'first_perso...</td>\n",
       "      <td>{'alcohol': 0}</td>\n",
       "    </tr>\n",
       "    <tr>\n",
       "      <th>557d933dd6dfbb58dc458fcb</th>\n",
       "      <td>Kinda wanna drink today. &amp;amp; have a smoke se...</td>\n",
       "      <td>{'first_person': 1, 'alcohol': 1, 'first_perso...</td>\n",
       "      <td>{'first_person': 1, 'alcohol': 1, 'first_perso...</td>\n",
       "    </tr>\n",
       "    <tr>\n",
       "      <th>55802807d6dfbb237b1d02c4</th>\n",
       "      <td>@Chrissy_fd @edwardtheninth @missamerica_ @Mat...</td>\n",
       "      <td>{'first_person': 1, 'alcohol': 1, 'first_perso...</td>\n",
       "      <td>{'first_person': 1, 'alcohol': 1, 'first_perso...</td>\n",
       "    </tr>\n",
       "    <tr>\n",
       "      <th>5581d29ad6dfbb118e0a1d81</th>\n",
       "      <td>Running 5 miles today because @joannaaugust_ a...</td>\n",
       "      <td>{'first_person': 1, 'alcohol': 1, 'first_perso...</td>\n",
       "      <td>{'first_person': 1, 'alcohol': 1, 'first_perso...</td>\n",
       "    </tr>\n",
       "    <tr>\n",
       "      <th>5588482ad6dfbb04933e0054</th>\n",
       "      <td>lord i hate bein drunk and hearing Keef bc i b...</td>\n",
       "      <td>{'first_person': 1, 'alcohol': 1, 'first_perso...</td>\n",
       "      <td>{'first_person': 1, 'alcohol': 1, 'first_perso...</td>\n",
       "    </tr>\n",
       "    <tr>\n",
       "      <th>558cc8ead6dfbb69db1fe40e</th>\n",
       "      <td>I been fucking with people all day today 😭 ma ...</td>\n",
       "      <td>{'first_person': 1, 'alcohol': 1, 'first_perso...</td>\n",
       "      <td>{'first_person': 1, 'alcohol': 1, 'first_perso...</td>\n",
       "    </tr>\n",
       "    <tr>\n",
       "      <th>5573fb1bd6dfbb79623dbc57</th>\n",
       "      <td>I swear I'm more fun sober</td>\n",
       "      <td>{'first_person': 1, 'alcohol': 1, 'first_perso...</td>\n",
       "      <td>{'first_person': 1, 'alcohol': 1, 'first_perso...</td>\n",
       "    </tr>\n",
       "    <tr>\n",
       "      <th>557d22dcd6dfbb30f04abaa8</th>\n",
       "      <td>@SANDSMUSIC ok 1) I'm not drunk and 2) I alrea...</td>\n",
       "      <td>{'first_person': 1, 'alcohol': 1, 'first_perso...</td>\n",
       "      <td>{'first_person': 1, 'alcohol': 1, 'first_perso...</td>\n",
       "    </tr>\n",
       "    <tr>\n",
       "      <th>557505f1d6dfbb673880e95a</th>\n",
       "      <td>Drinking an Umlaut Kolsch by @eaglerockbrew at...</td>\n",
       "      <td>{'first_person': 1, 'alcohol': 1, 'first_perso...</td>\n",
       "      <td>{'first_person': 1, 'alcohol': 1, 'first_perso...</td>\n",
       "    </tr>\n",
       "    <tr>\n",
       "      <th>55746cbcd6dfbb3bdb427e35</th>\n",
       "      <td>😂😂😂😂 jus know we getting drunk &amp;amp; going dan...</td>\n",
       "      <td>{'first_person': 1, 'alcohol': 1, 'first_perso...</td>\n",
       "      <td>{'first_person': 1, 'alcohol': 1, 'first_perso...</td>\n",
       "    </tr>\n",
       "    <tr>\n",
       "      <th>557c8b38d6dfbb6dfd828692</th>\n",
       "      <td>😂😂😂 they went to jail for distributing drinks ...</td>\n",
       "      <td>{'first_person': 1, 'alcohol': 1, 'first_perso...</td>\n",
       "      <td>{'first_person': 0, 'raw': 'Alcohol Related::D...</td>\n",
       "    </tr>\n",
       "    <tr>\n",
       "      <th>558c4c9dd6dfbb4450af86ec</th>\n",
       "      <td>Perfect after lunch brew. - Drinking a Thunder...</td>\n",
       "      <td>{'first_person': 1, 'alcohol': 1, 'first_perso...</td>\n",
       "      <td>{'first_person': 1, 'alcohol': 1, 'first_perso...</td>\n",
       "    </tr>\n",
       "    <tr>\n",
       "      <th>5585ab1ed6dfbb482ae1c4ce</th>\n",
       "      <td>Why the fuck do I get stuck babysitting drunk ...</td>\n",
       "      <td>{'first_person': 1, 'alcohol': 1, 'first_perso...</td>\n",
       "      <td>{'first_person': 1, 'alcohol': 1, 'first_perso...</td>\n",
       "    </tr>\n",
       "    <tr>\n",
       "      <th>55889137d6dfbb293479b5d9</th>\n",
       "      <td>But Moooooom. Jesus got to drink wine with HIS...</td>\n",
       "      <td>{'first_person': 1, 'alcohol': 1, 'first_perso...</td>\n",
       "      <td>{'first_person': 0, 'raw': 'Alcohol Related::D...</td>\n",
       "    </tr>\n",
       "    <tr>\n",
       "      <th>5578f440d6dfbb35dd87209d</th>\n",
       "      <td>@laurennraeee_ drink when you pull! And pound ...</td>\n",
       "      <td>{'first_person': 1, 'alcohol': 1, 'first_perso...</td>\n",
       "      <td>{'first_person': 1, 'alcohol': 1, 'first_perso...</td>\n",
       "    </tr>\n",
       "    <tr>\n",
       "      <th>558ddf5ed6dfbb1285b48c5a</th>\n",
       "      <td>I am so drunk but can still realize that we ar...</td>\n",
       "      <td>{'first_person': 1, 'alcohol': 1, 'first_perso...</td>\n",
       "      <td>{'first_person': 1, 'alcohol': 1, 'first_perso...</td>\n",
       "    </tr>\n",
       "    <tr>\n",
       "      <th>558640d4d6dfbb01eb2849a2</th>\n",
       "      <td>Sometimes getting high isn't enough and that's...</td>\n",
       "      <td>{'first_person': 1, 'alcohol': 1, 'first_perso...</td>\n",
       "      <td>{'first_person': 1, 'alcohol': 1, 'first_perso...</td>\n",
       "    </tr>\n",
       "    <tr>\n",
       "      <th>55870861d6dfbb77fd5fe43c</th>\n",
       "      <td>Drinking a Mehilainen's Honey by @UrbanLegendB...</td>\n",
       "      <td>{'first_person': 1, 'alcohol': 1, 'first_perso...</td>\n",
       "      <td>{'first_person': 1, 'alcohol': 1, 'first_perso...</td>\n",
       "    </tr>\n",
       "    <tr>\n",
       "      <th>557cb2a4d6dfbb01fd20063b</th>\n",
       "      <td>Drinking a Goose IPA by @GooseIsland @ Lake Ch...</td>\n",
       "      <td>{'first_person': 1, 'alcohol': 1, 'first_perso...</td>\n",
       "      <td>{'first_person': 1, 'alcohol': 1, 'first_perso...</td>\n",
       "    </tr>\n",
       "    <tr>\n",
       "      <th>55778474d6dfbb4a81c9bbd1</th>\n",
       "      <td>When the tattoo artist buys you a round of drinks</td>\n",
       "      <td>{'first_person': 1, 'alcohol': 1, 'first_perso...</td>\n",
       "      <td>{'first_person': 0, 'raw': 'Alcohol Related::D...</td>\n",
       "    </tr>\n",
       "    <tr>\n",
       "      <th>556bc166d6dfbb3bb5b4e3ac</th>\n",
       "      <td>I can't drink 21 shots for my 21st birthday ca...</td>\n",
       "      <td>{'first_person': 1, 'alcohol': 1, 'first_perso...</td>\n",
       "      <td>{'first_person': 1, 'alcohol': 1, 'first_perso...</td>\n",
       "    </tr>\n",
       "    <tr>\n",
       "      <th>5579ffa5d6dfbb40886450a1</th>\n",
       "      <td>All you can eat wing with sauce on the side an...</td>\n",
       "      <td>{'first_person': 1, 'alcohol': 1, 'first_perso...</td>\n",
       "      <td>{'first_person': 1, 'alcohol': 1, 'first_perso...</td>\n",
       "    </tr>\n",
       "    <tr>\n",
       "      <th>557d9968d6dfbb5ccfb74f75</th>\n",
       "      <td>[ it's a good night when you drink that Jack D...</td>\n",
       "      <td>{'first_person': 1, 'alcohol': 1, 'first_perso...</td>\n",
       "      <td>{'first_person': 1, 'alcohol': 1, 'first_perso...</td>\n",
       "    </tr>\n",
       "  </tbody>\n",
       "</table>\n",
       "<p>1000 rows × 3 columns</p>\n",
       "</div>"
      ],
      "text/plain": [
       "                                                                       text  \\\n",
       "_id                                                                           \n",
       "558de5ccd6dfbb1285b4d0d7  Drinking a Modelo Especial by @Grupo_Modelo @ ...   \n",
       "557c654dd6dfbb616296fd82  Drink before the movie @ The Counter, Naples F...   \n",
       "558da04dd6dfbb6950896489  Plug says she can get me $100 bottles of jäger...   \n",
       "55914691d6dfbb3d910847c7  new job, new things. life is good, God is alwa...   \n",
       "557f254cd6dfbb4df2491edd                        Sushi &amp; beer w/ my boss   \n",
       "55902589d6dfbb1a868009a9  I don't wanna drink no more, I don't wanna smo...   \n",
       "55723026d6dfbb3e96ae5abb  Drinking @Yuengling_Beer, smoking a fine cigar...   \n",
       "557a9e46d6dfbb7a36d5744d  Gonna drink and watch orange is the new black ...   \n",
       "5587361ed6dfbb21a4dbdd3d  Three Vodka Tonics and I'm slightly hungover. ...   \n",
       "5574cec4d6dfbb571e32514c  Time for some wine 😋🍷 @ Pepsi Amphitheatre htt...   \n",
       "55843364d6dfbb4017b2707c                        Wish I could drink or smoke   \n",
       "55906c02d6dfbb373320bb1f  Drinking grey goose on a Sunday bc I do what I...   \n",
       "5584cf26d6dfbb6b248969b4  Drinking a Longboard Island Lager by @KonaBrew...   \n",
       "556cca10d6dfbb1df32b77d8  \\ monday's just got better \\\\n\\nThe best morni...   \n",
       "5587055ed6dfbb77fd5fc8aa  @AkaiChoCorina two early for beer? It well int...   \n",
       "55732937d6dfbb3d96330d09  That cool feeling when you don't wake up hungo...   \n",
       "5573a3bdd6dfbb325130d5bf  Drinking  The Kimmie, The Yink &amp; The Holy ...   \n",
       "558e41eed6dfbb624e5d40a2  Recently been informed my profile photo has be...   \n",
       "55874d4ad6dfbb257fb5dd93  A must have cider. - Drinking a Rootcellar by ...   \n",
       "558cf04cd6dfbb7e7a408437  Also downed 5 beers while watching...so I'm re...   \n",
       "5570879dd6dfbb11f6720a2f  Now I can get drunk and eat tacos at the same ...   \n",
       "558b7a43d6dfbb05d90291ba                         I be drinking my life away   \n",
       "558fbd44d6dfbb788cbc2471  Love how I'm still drinking and @OliviaChilcoa...   \n",
       "557f6311d6dfbb65420c21f6  All that jazz... #mondays #jazz #livemusic #dr...   \n",
       "5570989fd6dfbb1a1a22573a  It needs to be 7 already cause I just want to ...   \n",
       "558b6077d6dfbb7cefc732b0  Drinking an Adam Weishaupt by @ibw666 @ Mott S...   \n",
       "5573a449d6dfbb325130db5c  @Michael5SOS I need your help drinking Corona ...   \n",
       "557a75f3d6dfbb700593b28c               @xxhcee you better drink on Saturday   \n",
       "558de88ed6dfbb1d49554b6e  Celebrating a big fabulous day in so many ways...   \n",
       "5576691ad6dfbb400d8b7dd5              Diggin the candles and wine right now   \n",
       "...                                                                     ...   \n",
       "556ff94cd6dfbb3140e799f7  My second run of the day, their 5th.  #nationa...   \n",
       "558cd520d6dfbb70c4e86b23  Found a cool spot in the city. Rooftop bar and...   \n",
       "557263b8d6dfbb56bc599332  \"The one intoxicated with drink, the other mad...   \n",
       "558204a0d6dfbb1d5a900216  Drinking a Devil's Tramping Ground Tripel by @...   \n",
       "556f75d7d6dfbb590629de9e  Drinking a Tecate Light by @cuamocmx @ Vino Va...   \n",
       "557f4750d6dfbb573b4d7d03                       Call your friends let drunk.   \n",
       "559046f7d6dfbb2851863994  Quick liquor run with mama_luv1... jimbo_cbr92...   \n",
       "557c10b9d6dfbb3986d00300  @USArmy @GENRayOdierno @DavidtheAdmiral @Natio...   \n",
       "557d933dd6dfbb58dc458fcb  Kinda wanna drink today. &amp; have a smoke se...   \n",
       "55802807d6dfbb237b1d02c4  @Chrissy_fd @edwardtheninth @missamerica_ @Mat...   \n",
       "5581d29ad6dfbb118e0a1d81  Running 5 miles today because @joannaaugust_ a...   \n",
       "5588482ad6dfbb04933e0054  lord i hate bein drunk and hearing Keef bc i b...   \n",
       "558cc8ead6dfbb69db1fe40e  I been fucking with people all day today 😭 ma ...   \n",
       "5573fb1bd6dfbb79623dbc57                         I swear I'm more fun sober   \n",
       "557d22dcd6dfbb30f04abaa8  @SANDSMUSIC ok 1) I'm not drunk and 2) I alrea...   \n",
       "557505f1d6dfbb673880e95a  Drinking an Umlaut Kolsch by @eaglerockbrew at...   \n",
       "55746cbcd6dfbb3bdb427e35  😂😂😂😂 jus know we getting drunk &amp; going dan...   \n",
       "557c8b38d6dfbb6dfd828692  😂😂😂 they went to jail for distributing drinks ...   \n",
       "558c4c9dd6dfbb4450af86ec  Perfect after lunch brew. - Drinking a Thunder...   \n",
       "5585ab1ed6dfbb482ae1c4ce  Why the fuck do I get stuck babysitting drunk ...   \n",
       "55889137d6dfbb293479b5d9  But Moooooom. Jesus got to drink wine with HIS...   \n",
       "5578f440d6dfbb35dd87209d  @laurennraeee_ drink when you pull! And pound ...   \n",
       "558ddf5ed6dfbb1285b48c5a  I am so drunk but can still realize that we ar...   \n",
       "558640d4d6dfbb01eb2849a2  Sometimes getting high isn't enough and that's...   \n",
       "55870861d6dfbb77fd5fe43c  Drinking a Mehilainen's Honey by @UrbanLegendB...   \n",
       "557cb2a4d6dfbb01fd20063b  Drinking a Goose IPA by @GooseIsland @ Lake Ch...   \n",
       "55778474d6dfbb4a81c9bbd1  When the tattoo artist buys you a round of drinks   \n",
       "556bc166d6dfbb3bb5b4e3ac  I can't drink 21 shots for my 21st birthday ca...   \n",
       "5579ffa5d6dfbb40886450a1  All you can eat wing with sauce on the side an...   \n",
       "557d9968d6dfbb5ccfb74f75  [ it's a good night when you drink that Jack D...   \n",
       "\n",
       "                                                                     labels  \\\n",
       "_id                                                                           \n",
       "558de5ccd6dfbb1285b4d0d7  {'first_person': 1, 'alcohol': 1, 'first_perso...   \n",
       "557c654dd6dfbb616296fd82  {'first_person': 1, 'alcohol': 1, 'first_perso...   \n",
       "558da04dd6dfbb6950896489  {'first_person': 1, 'alcohol': 1, 'first_perso...   \n",
       "55914691d6dfbb3d910847c7  {'first_person': 1, 'alcohol': 1, 'first_perso...   \n",
       "557f254cd6dfbb4df2491edd  {'first_person': 1, 'alcohol': 1, 'first_perso...   \n",
       "55902589d6dfbb1a868009a9  {'first_person': 1, 'alcohol': 1, 'first_perso...   \n",
       "55723026d6dfbb3e96ae5abb  {'first_person': 1, 'alcohol': 1, 'first_perso...   \n",
       "557a9e46d6dfbb7a36d5744d  {'first_person': 1, 'alcohol': 1, 'first_perso...   \n",
       "5587361ed6dfbb21a4dbdd3d  {'first_person': 1, 'alcohol': 1, 'first_perso...   \n",
       "5574cec4d6dfbb571e32514c  {'first_person': 1, 'alcohol': 1, 'first_perso...   \n",
       "55843364d6dfbb4017b2707c  {'first_person': 1, 'alcohol': 1, 'first_perso...   \n",
       "55906c02d6dfbb373320bb1f  {'first_person': 1, 'alcohol': 1, 'first_perso...   \n",
       "5584cf26d6dfbb6b248969b4  {'first_person': 1, 'alcohol': 1, 'first_perso...   \n",
       "556cca10d6dfbb1df32b77d8  {'first_person': 1, 'alcohol': 1, 'first_perso...   \n",
       "5587055ed6dfbb77fd5fc8aa  {'first_person': 1, 'alcohol': 1, 'first_perso...   \n",
       "55732937d6dfbb3d96330d09  {'first_person': 1, 'alcohol': 1, 'first_perso...   \n",
       "5573a3bdd6dfbb325130d5bf  {'first_person': 1, 'alcohol': 1, 'first_perso...   \n",
       "558e41eed6dfbb624e5d40a2  {'first_person': 1, 'alcohol': 1, 'first_perso...   \n",
       "55874d4ad6dfbb257fb5dd93  {'first_person': 1, 'alcohol': 1, 'first_perso...   \n",
       "558cf04cd6dfbb7e7a408437  {'first_person': 1, 'alcohol': 1, 'first_perso...   \n",
       "5570879dd6dfbb11f6720a2f  {'first_person': 1, 'alcohol': 1, 'first_perso...   \n",
       "558b7a43d6dfbb05d90291ba  {'first_person': 1, 'alcohol': 1, 'first_perso...   \n",
       "558fbd44d6dfbb788cbc2471  {'first_person': 1, 'alcohol': 1, 'first_perso...   \n",
       "557f6311d6dfbb65420c21f6  {'first_person': 1, 'alcohol': 1, 'first_perso...   \n",
       "5570989fd6dfbb1a1a22573a  {'first_person': 1, 'alcohol': 1, 'first_perso...   \n",
       "558b6077d6dfbb7cefc732b0  {'first_person': 1, 'alcohol': 1, 'first_perso...   \n",
       "5573a449d6dfbb325130db5c  {'first_person': 1, 'alcohol': 1, 'first_perso...   \n",
       "557a75f3d6dfbb700593b28c  {'first_person': 1, 'alcohol': 1, 'first_perso...   \n",
       "558de88ed6dfbb1d49554b6e  {'first_person': 1, 'alcohol': 1, 'first_perso...   \n",
       "5576691ad6dfbb400d8b7dd5  {'first_person': 1, 'alcohol': 1, 'first_perso...   \n",
       "...                                                                     ...   \n",
       "556ff94cd6dfbb3140e799f7  {'first_person': 1, 'alcohol': 1, 'first_perso...   \n",
       "558cd520d6dfbb70c4e86b23  {'first_person': 1, 'alcohol': 1, 'first_perso...   \n",
       "557263b8d6dfbb56bc599332  {'first_person': 1, 'alcohol': 1, 'first_perso...   \n",
       "558204a0d6dfbb1d5a900216  {'first_person': 1, 'alcohol': 1, 'first_perso...   \n",
       "556f75d7d6dfbb590629de9e  {'first_person': 1, 'alcohol': 1, 'first_perso...   \n",
       "557f4750d6dfbb573b4d7d03  {'first_person': 1, 'alcohol': 1, 'first_perso...   \n",
       "559046f7d6dfbb2851863994  {'first_person': 1, 'alcohol': 1, 'first_perso...   \n",
       "557c10b9d6dfbb3986d00300  {'first_person': 1, 'alcohol': 1, 'first_perso...   \n",
       "557d933dd6dfbb58dc458fcb  {'first_person': 1, 'alcohol': 1, 'first_perso...   \n",
       "55802807d6dfbb237b1d02c4  {'first_person': 1, 'alcohol': 1, 'first_perso...   \n",
       "5581d29ad6dfbb118e0a1d81  {'first_person': 1, 'alcohol': 1, 'first_perso...   \n",
       "5588482ad6dfbb04933e0054  {'first_person': 1, 'alcohol': 1, 'first_perso...   \n",
       "558cc8ead6dfbb69db1fe40e  {'first_person': 1, 'alcohol': 1, 'first_perso...   \n",
       "5573fb1bd6dfbb79623dbc57  {'first_person': 1, 'alcohol': 1, 'first_perso...   \n",
       "557d22dcd6dfbb30f04abaa8  {'first_person': 1, 'alcohol': 1, 'first_perso...   \n",
       "557505f1d6dfbb673880e95a  {'first_person': 1, 'alcohol': 1, 'first_perso...   \n",
       "55746cbcd6dfbb3bdb427e35  {'first_person': 1, 'alcohol': 1, 'first_perso...   \n",
       "557c8b38d6dfbb6dfd828692  {'first_person': 1, 'alcohol': 1, 'first_perso...   \n",
       "558c4c9dd6dfbb4450af86ec  {'first_person': 1, 'alcohol': 1, 'first_perso...   \n",
       "5585ab1ed6dfbb482ae1c4ce  {'first_person': 1, 'alcohol': 1, 'first_perso...   \n",
       "55889137d6dfbb293479b5d9  {'first_person': 1, 'alcohol': 1, 'first_perso...   \n",
       "5578f440d6dfbb35dd87209d  {'first_person': 1, 'alcohol': 1, 'first_perso...   \n",
       "558ddf5ed6dfbb1285b48c5a  {'first_person': 1, 'alcohol': 1, 'first_perso...   \n",
       "558640d4d6dfbb01eb2849a2  {'first_person': 1, 'alcohol': 1, 'first_perso...   \n",
       "55870861d6dfbb77fd5fe43c  {'first_person': 1, 'alcohol': 1, 'first_perso...   \n",
       "557cb2a4d6dfbb01fd20063b  {'first_person': 1, 'alcohol': 1, 'first_perso...   \n",
       "55778474d6dfbb4a81c9bbd1  {'first_person': 1, 'alcohol': 1, 'first_perso...   \n",
       "556bc166d6dfbb3bb5b4e3ac  {'first_person': 1, 'alcohol': 1, 'first_perso...   \n",
       "5579ffa5d6dfbb40886450a1  {'first_person': 1, 'alcohol': 1, 'first_perso...   \n",
       "557d9968d6dfbb5ccfb74f75  {'first_person': 1, 'alcohol': 1, 'first_perso...   \n",
       "\n",
       "                                                                 new_labels  \n",
       "_id                                                                          \n",
       "558de5ccd6dfbb1285b4d0d7  {'first_person': 0, 'raw': 'Alcohol Related::P...  \n",
       "557c654dd6dfbb616296fd82  {'first_person': 1, 'alcohol': 1, 'first_perso...  \n",
       "558da04dd6dfbb6950896489  {'first_person': 0, 'raw': 'Alcohol Related::D...  \n",
       "55914691d6dfbb3d910847c7  {'first_person': 1, 'alcohol': 1, 'first_perso...  \n",
       "557f254cd6dfbb4df2491edd  {'first_person': 1, 'alcohol': 1, 'first_perso...  \n",
       "55902589d6dfbb1a868009a9  {'first_person': 0, 'raw': 'Alcohol Related::D...  \n",
       "55723026d6dfbb3e96ae5abb  {'first_person': 1, 'alcohol': 1, 'first_perso...  \n",
       "557a9e46d6dfbb7a36d5744d  {'first_person': 0, 'raw': 'Alcohol Related::D...  \n",
       "5587361ed6dfbb21a4dbdd3d  {'first_person': 1, 'alcohol': 1, 'first_perso...  \n",
       "5574cec4d6dfbb571e32514c  {'first_person': 1, 'alcohol': 1, 'first_perso...  \n",
       "55843364d6dfbb4017b2707c  {'first_person': 1, 'alcohol': 1, 'first_perso...  \n",
       "55906c02d6dfbb373320bb1f  {'first_person': 1, 'alcohol': 1, 'first_perso...  \n",
       "5584cf26d6dfbb6b248969b4  {'first_person': 1, 'alcohol': 1, 'first_perso...  \n",
       "556cca10d6dfbb1df32b77d8  {'first_person': 1, 'alcohol': 1, 'first_perso...  \n",
       "5587055ed6dfbb77fd5fc8aa  {'first_person': 1, 'alcohol': 1, 'first_perso...  \n",
       "55732937d6dfbb3d96330d09  {'first_person': 1, 'alcohol': 1, 'first_perso...  \n",
       "5573a3bdd6dfbb325130d5bf  {'first_person': 1, 'alcohol': 1, 'first_perso...  \n",
       "558e41eed6dfbb624e5d40a2  {'first_person': 0, 'raw': 'Alcohol Related::D...  \n",
       "55874d4ad6dfbb257fb5dd93  {'first_person': 1, 'alcohol': 1, 'first_perso...  \n",
       "558cf04cd6dfbb7e7a408437  {'first_person': 1, 'alcohol': 1, 'first_perso...  \n",
       "5570879dd6dfbb11f6720a2f  {'first_person': 1, 'alcohol': 1, 'first_perso...  \n",
       "558b7a43d6dfbb05d90291ba  {'first_person': 1, 'alcohol': 1, 'first_perso...  \n",
       "558fbd44d6dfbb788cbc2471  {'first_person': 1, 'alcohol': 1, 'first_perso...  \n",
       "557f6311d6dfbb65420c21f6  {'first_person': 1, 'alcohol': 1, 'first_perso...  \n",
       "5570989fd6dfbb1a1a22573a  {'first_person': 1, 'alcohol': 1, 'first_perso...  \n",
       "558b6077d6dfbb7cefc732b0  {'first_person': 1, 'alcohol': 1, 'first_perso...  \n",
       "5573a449d6dfbb325130db5c  {'first_person': 1, 'alcohol': 1, 'first_perso...  \n",
       "557a75f3d6dfbb700593b28c  {'first_person': 0, 'raw': 'Alcohol Related::D...  \n",
       "558de88ed6dfbb1d49554b6e  {'first_person': 1, 'alcohol': 1, 'first_perso...  \n",
       "5576691ad6dfbb400d8b7dd5  {'first_person': 1, 'alcohol': 1, 'first_perso...  \n",
       "...                                                                     ...  \n",
       "556ff94cd6dfbb3140e799f7  {'first_person': 1, 'alcohol': 1, 'first_perso...  \n",
       "558cd520d6dfbb70c4e86b23  {'first_person': 0, 'raw': 'Alcohol Related::D...  \n",
       "557263b8d6dfbb56bc599332  {'first_person': 0, 'raw': 'Alcohol Related::D...  \n",
       "558204a0d6dfbb1d5a900216  {'first_person': 0, 'raw': 'Alcohol Related::P...  \n",
       "556f75d7d6dfbb590629de9e  {'first_person': 1, 'alcohol': 1, 'first_perso...  \n",
       "557f4750d6dfbb573b4d7d03  {'first_person': 1, 'alcohol': 1, 'first_perso...  \n",
       "559046f7d6dfbb2851863994  {'first_person': 1, 'alcohol': 1, 'first_perso...  \n",
       "557c10b9d6dfbb3986d00300                                     {'alcohol': 0}  \n",
       "557d933dd6dfbb58dc458fcb  {'first_person': 1, 'alcohol': 1, 'first_perso...  \n",
       "55802807d6dfbb237b1d02c4  {'first_person': 1, 'alcohol': 1, 'first_perso...  \n",
       "5581d29ad6dfbb118e0a1d81  {'first_person': 1, 'alcohol': 1, 'first_perso...  \n",
       "5588482ad6dfbb04933e0054  {'first_person': 1, 'alcohol': 1, 'first_perso...  \n",
       "558cc8ead6dfbb69db1fe40e  {'first_person': 1, 'alcohol': 1, 'first_perso...  \n",
       "5573fb1bd6dfbb79623dbc57  {'first_person': 1, 'alcohol': 1, 'first_perso...  \n",
       "557d22dcd6dfbb30f04abaa8  {'first_person': 1, 'alcohol': 1, 'first_perso...  \n",
       "557505f1d6dfbb673880e95a  {'first_person': 1, 'alcohol': 1, 'first_perso...  \n",
       "55746cbcd6dfbb3bdb427e35  {'first_person': 1, 'alcohol': 1, 'first_perso...  \n",
       "557c8b38d6dfbb6dfd828692  {'first_person': 0, 'raw': 'Alcohol Related::D...  \n",
       "558c4c9dd6dfbb4450af86ec  {'first_person': 1, 'alcohol': 1, 'first_perso...  \n",
       "5585ab1ed6dfbb482ae1c4ce  {'first_person': 1, 'alcohol': 1, 'first_perso...  \n",
       "55889137d6dfbb293479b5d9  {'first_person': 0, 'raw': 'Alcohol Related::D...  \n",
       "5578f440d6dfbb35dd87209d  {'first_person': 1, 'alcohol': 1, 'first_perso...  \n",
       "558ddf5ed6dfbb1285b48c5a  {'first_person': 1, 'alcohol': 1, 'first_perso...  \n",
       "558640d4d6dfbb01eb2849a2  {'first_person': 1, 'alcohol': 1, 'first_perso...  \n",
       "55870861d6dfbb77fd5fe43c  {'first_person': 1, 'alcohol': 1, 'first_perso...  \n",
       "557cb2a4d6dfbb01fd20063b  {'first_person': 1, 'alcohol': 1, 'first_perso...  \n",
       "55778474d6dfbb4a81c9bbd1  {'first_person': 0, 'raw': 'Alcohol Related::D...  \n",
       "556bc166d6dfbb3bb5b4e3ac  {'first_person': 1, 'alcohol': 1, 'first_perso...  \n",
       "5579ffa5d6dfbb40886450a1  {'first_person': 1, 'alcohol': 1, 'first_perso...  \n",
       "557d9968d6dfbb5ccfb74f75  {'first_person': 1, 'alcohol': 1, 'first_perso...  \n",
       "\n",
       "[1000 rows x 3 columns]"
      ]
     },
     "execution_count": 10,
     "metadata": {},
     "output_type": "execute_result"
    }
   ],
   "source": [
    "batch[['text', 'labels', 'new_labels']]"
   ]
  },
  {
   "cell_type": "code",
   "execution_count": 15,
   "metadata": {
    "collapsed": false
   },
   "outputs": [],
   "source": [
    "from sklearn.metrics import cohen_kappa_score"
   ]
  },
  {
   "cell_type": "code",
   "execution_count": 12,
   "metadata": {
    "collapsed": false
   },
   "outputs": [
    {
     "name": "stdout",
     "output_type": "stream",
     "text": [
      "Help on function cohen_kappa_score in module sklearn.metrics.classification:\n",
      "\n",
      "cohen_kappa_score(y1, y2, labels=None)\n",
      "    Cohen's kappa: a statistic that measures inter-annotator agreement.\n",
      "    \n",
      "    This function computes Cohen's kappa [1], a score that expresses the level\n",
      "    of agreement between two annotators on a classification problem. It is\n",
      "    defined as\n",
      "    \n",
      "    .. math::\n",
      "        \\kappa = (p_o - p_e) / (1 - p_e)\n",
      "    \n",
      "    where :math:`p_o` is the empirical probability of agreement on the label\n",
      "    assigned to any sample (the observed agreement ratio), and :math:`p_e` is\n",
      "    the expected agreement when both annotators assign labels randomly.\n",
      "    :math:`p_e` is estimated using a per-annotator empirical prior over the\n",
      "    class labels [2].\n",
      "    \n",
      "    Parameters\n",
      "    ----------\n",
      "    y1 : array, shape = [n_samples]\n",
      "        Labels assigned by the first annotator.\n",
      "    \n",
      "    y2 : array, shape = [n_samples]\n",
      "        Labels assigned by the second annotator. The kappa statistic is\n",
      "        symmetric, so swapping ``y1`` and ``y2`` doesn't change the value.\n",
      "    \n",
      "    labels : array, shape = [n_classes], optional\n",
      "        List of labels to index the matrix. This may be used to select a\n",
      "        subset of labels. If None, all labels that appear at least once in\n",
      "        ``y1`` or ``y2`` are used.\n",
      "    \n",
      "    Returns\n",
      "    -------\n",
      "    kappa : float\n",
      "        The kappa statistic, which is a number between -1 and 1. The maximum\n",
      "        value means complete agreement; zero or lower means chance agreement.\n",
      "    \n",
      "    References\n",
      "    ----------\n",
      "    .. [1] J. Cohen (1960). \"A coefficient of agreement for nominal scales\".\n",
      "           Educational and Psychological Measurement 20(1):37-46.\n",
      "           doi:10.1177/001316446002000104.\n",
      "    .. [2] R. Artstein and M. Poesio (2008). \"Inter-coder agreement for\n",
      "           computational linguistics\". Computational Linguistic 34(4):555-596.\n",
      "\n"
     ]
    }
   ],
   "source": [
    "help(cohen_kappa_score)"
   ]
  },
  {
   "cell_type": "code",
   "execution_count": 9,
   "metadata": {
    "collapsed": false
   },
   "outputs": [],
   "source": [
    "L = LabelGetter(batch)"
   ]
  },
  {
   "cell_type": "code",
   "execution_count": 10,
   "metadata": {
    "collapsed": true
   },
   "outputs": [],
   "source": [
    "x_old, fpl_old = L.get_first_person_label()\n",
    "x_new, fpl_new = L._get_labels('first_person_level', column_name='new_labels')"
   ]
  },
  {
   "cell_type": "code",
   "execution_count": 11,
   "metadata": {
    "collapsed": false
   },
   "outputs": [
    {
     "data": {
      "text/plain": [
       "772"
      ]
     },
     "execution_count": 11,
     "metadata": {},
     "output_type": "execute_result"
    }
   ],
   "source": [
    "len(fpl_new)"
   ]
  },
  {
   "cell_type": "code",
   "execution_count": 12,
   "metadata": {
    "collapsed": false
   },
   "outputs": [],
   "source": [
    "df = pd.DataFrame()\n",
    "df['old'] = fpl_old\n",
    "df['new'] = fpl_new\n",
    "df = df.dropna()"
   ]
  },
  {
   "cell_type": "code",
   "execution_count": 13,
   "metadata": {
    "collapsed": false
   },
   "outputs": [
    {
     "data": {
      "text/html": [
       "<div>\n",
       "<table border=\"1\" class=\"dataframe\">\n",
       "  <thead>\n",
       "    <tr style=\"text-align: right;\">\n",
       "      <th></th>\n",
       "      <th>old</th>\n",
       "      <th>new</th>\n",
       "    </tr>\n",
       "    <tr>\n",
       "      <th>_id</th>\n",
       "      <th></th>\n",
       "      <th></th>\n",
       "    </tr>\n",
       "  </thead>\n",
       "  <tbody>\n",
       "    <tr>\n",
       "      <th>557c654dd6dfbb616296fd82</th>\n",
       "      <td>1</td>\n",
       "      <td>0.0</td>\n",
       "    </tr>\n",
       "    <tr>\n",
       "      <th>55914691d6dfbb3d910847c7</th>\n",
       "      <td>1</td>\n",
       "      <td>1.0</td>\n",
       "    </tr>\n",
       "    <tr>\n",
       "      <th>557f254cd6dfbb4df2491edd</th>\n",
       "      <td>0</td>\n",
       "      <td>0.0</td>\n",
       "    </tr>\n",
       "    <tr>\n",
       "      <th>55723026d6dfbb3e96ae5abb</th>\n",
       "      <td>0</td>\n",
       "      <td>0.0</td>\n",
       "    </tr>\n",
       "    <tr>\n",
       "      <th>5587361ed6dfbb21a4dbdd3d</th>\n",
       "      <td>0</td>\n",
       "      <td>2.0</td>\n",
       "    </tr>\n",
       "  </tbody>\n",
       "</table>\n",
       "</div>"
      ],
      "text/plain": [
       "                          old  new\n",
       "_id                               \n",
       "557c654dd6dfbb616296fd82    1  0.0\n",
       "55914691d6dfbb3d910847c7    1  1.0\n",
       "557f254cd6dfbb4df2491edd    0  0.0\n",
       "55723026d6dfbb3e96ae5abb    0  0.0\n",
       "5587361ed6dfbb21a4dbdd3d    0  2.0"
      ]
     },
     "execution_count": 13,
     "metadata": {},
     "output_type": "execute_result"
    }
   ],
   "source": [
    "df.head()"
   ]
  },
  {
   "cell_type": "code",
   "execution_count": 17,
   "metadata": {
    "collapsed": false
   },
   "outputs": [
    {
     "data": {
      "text/plain": [
       "0.47469538315743659"
      ]
     },
     "execution_count": 17,
     "metadata": {},
     "output_type": "execute_result"
    }
   ],
   "source": [
    "cohen_kappa_score(df.old, df.new)"
   ]
  },
  {
   "cell_type": "code",
   "execution_count": 18,
   "metadata": {
    "collapsed": false
   },
   "outputs": [],
   "source": [
    "verified = batch.ix[df[df['old'] == df['new']].index]"
   ]
  },
  {
   "cell_type": "code",
   "execution_count": 19,
   "metadata": {
    "collapsed": false
   },
   "outputs": [
    {
     "name": "stdout",
     "output_type": "stream",
     "text": [
      "772\n",
      "525\n"
     ]
    }
   ],
   "source": [
    "print(len(df))\n",
    "print(len(verified))"
   ]
  },
  {
   "cell_type": "code",
   "execution_count": 21,
   "metadata": {
    "collapsed": true
   },
   "outputs": [],
   "source": [
    "pickle.dump(verified, open('amt/double_labeled_test.p', 'wb'))"
   ]
  },
  {
   "cell_type": "code",
   "execution_count": 26,
   "metadata": {
    "collapsed": false
   },
   "outputs": [
    {
     "data": {
      "text/html": [
       "<div>\n",
       "<table border=\"1\" class=\"dataframe\">\n",
       "  <thead>\n",
       "    <tr style=\"text-align: right;\">\n",
       "      <th></th>\n",
       "      <th>text</th>\n",
       "      <th>new_labels</th>\n",
       "    </tr>\n",
       "    <tr>\n",
       "      <th>_id</th>\n",
       "      <th></th>\n",
       "      <th></th>\n",
       "    </tr>\n",
       "  </thead>\n",
       "  <tbody>\n",
       "    <tr>\n",
       "      <th>556cca10d6dfbb1df32b77d8</th>\n",
       "      <td>\\ monday's just got better \\\\n\\nThe best morni...</td>\n",
       "      <td>{'first_person': 1, 'first_person_level': 1, '...</td>\n",
       "    </tr>\n",
       "    <tr>\n",
       "      <th>558f5094d6dfbb57385f1305</th>\n",
       "      <td>Getting fucked up tonight,  so if you get a dr...</td>\n",
       "      <td>{'first_person': 1, 'first_person_level': 1, '...</td>\n",
       "    </tr>\n",
       "    <tr>\n",
       "      <th>5585c879d6dfbb544007f641</th>\n",
       "      <td>Having a drink and taking myself to the movies...</td>\n",
       "      <td>{'first_person': 1, 'first_person_level': 1, '...</td>\n",
       "    </tr>\n",
       "    <tr>\n",
       "      <th>558c3c7fd6dfbb3e7080bd2e</th>\n",
       "      <td>oof. it's gonna be a long 2 hours of world his...</td>\n",
       "      <td>{'first_person': 1, 'first_person_level': 2, '...</td>\n",
       "    </tr>\n",
       "    <tr>\n",
       "      <th>558abb7ed6dfbb5380bd76be</th>\n",
       "      <td>Date night clinking ❤️ uliaali #nyc #oneifbyla...</td>\n",
       "      <td>{'first_person': 1, 'first_person_level': 0, '...</td>\n",
       "    </tr>\n",
       "  </tbody>\n",
       "</table>\n",
       "</div>"
      ],
      "text/plain": [
       "                                                                       text  \\\n",
       "_id                                                                           \n",
       "556cca10d6dfbb1df32b77d8  \\ monday's just got better \\\\n\\nThe best morni...   \n",
       "558f5094d6dfbb57385f1305  Getting fucked up tonight,  so if you get a dr...   \n",
       "5585c879d6dfbb544007f641  Having a drink and taking myself to the movies...   \n",
       "558c3c7fd6dfbb3e7080bd2e  oof. it's gonna be a long 2 hours of world his...   \n",
       "558abb7ed6dfbb5380bd76be  Date night clinking ❤️ uliaali #nyc #oneifbyla...   \n",
       "\n",
       "                                                                 new_labels  \n",
       "_id                                                                          \n",
       "556cca10d6dfbb1df32b77d8  {'first_person': 1, 'first_person_level': 1, '...  \n",
       "558f5094d6dfbb57385f1305  {'first_person': 1, 'first_person_level': 1, '...  \n",
       "5585c879d6dfbb544007f641  {'first_person': 1, 'first_person_level': 1, '...  \n",
       "558c3c7fd6dfbb3e7080bd2e  {'first_person': 1, 'first_person_level': 2, '...  \n",
       "558abb7ed6dfbb5380bd76be  {'first_person': 1, 'first_person_level': 0, '...  "
      ]
     },
     "execution_count": 26,
     "metadata": {},
     "output_type": "execute_result"
    }
   ],
   "source": [
    "verified[['text', 'new_labels']].sample(5)"
   ]
  },
  {
   "cell_type": "markdown",
   "metadata": {},
   "source": [
    "# See if this is better..."
   ]
  },
  {
   "cell_type": "code",
   "execution_count": 85,
   "metadata": {
    "collapsed": true
   },
   "outputs": [],
   "source": [
    "clf_fpl = pickle.load(open('pickles/clf_fpl_UPDATED.p', 'rb'))"
   ]
  },
  {
   "cell_type": "code",
   "execution_count": 160,
   "metadata": {
    "collapsed": true
   },
   "outputs": [],
   "source": [
    "L = LabelGetter(verified)\n",
    "X, y = L.get_first_person_label()"
   ]
  },
  {
   "cell_type": "code",
   "execution_count": 161,
   "metadata": {
    "collapsed": true
   },
   "outputs": [],
   "source": [
    "from sklearn.cross_validation import train_test_split"
   ]
  },
  {
   "cell_type": "code",
   "execution_count": 162,
   "metadata": {
    "collapsed": false
   },
   "outputs": [],
   "source": [
    "X_train, X_test, y_train, y_test = train_test_split(X, y, test_size=0.33, random_state=26)"
   ]
  },
  {
   "cell_type": "code",
   "execution_count": 163,
   "metadata": {
    "collapsed": false
   },
   "outputs": [
    {
     "data": {
      "text/plain": [
       "Pipeline(steps=[('features', FeatureUnion(n_jobs=1,\n",
       "       transformer_list=[('text', Pipeline(steps=[('getter', ItemGetter(key='text')), ('tfidf', TfidfVectorizer(analyzer='word', binary=False, decode_error='strict',\n",
       "        dtype=<class 'numpy.int64'>, encoding='utf-8', input='content',\n",
       "        lowercase=F...one,\n",
       "          solver='liblinear', tol=0.000449897709599141, verbose=0,\n",
       "          warm_start=None))])"
      ]
     },
     "execution_count": 163,
     "metadata": {},
     "output_type": "execute_result"
    }
   ],
   "source": [
    "clf_fpl.fit(X_train, y_train)"
   ]
  },
  {
   "cell_type": "code",
   "execution_count": 164,
   "metadata": {
    "collapsed": false
   },
   "outputs": [
    {
     "name": "stdout",
     "output_type": "stream",
     "text": [
      "Training Results\n",
      "~~~~~~~~~~~~~~~~\n",
      "confusion_matrix\n",
      "[[206, 0, 0], [0, 92, 0], [0, 0, 53]]\n",
      "\n",
      "\n",
      "accuracy_score\n",
      "1.0\n",
      "\n",
      "\n",
      "classification_report\n",
      "             precision    recall  f1-score   support\n",
      "\n",
      "          0       1.00      1.00      1.00       206\n",
      "          1       1.00      1.00      1.00        92\n",
      "          2       1.00      1.00      1.00        53\n",
      "\n",
      "avg / total       1.00      1.00      1.00       351\n",
      "\n",
      "\n",
      "\n",
      "f1_score\n",
      "1.0\n",
      "\n",
      "\n",
      "\n",
      "\n",
      "Testing Results Results\n",
      "~~~~~~~~~~~~~~~~~~~~~~~\n",
      "confusion_matrix\n",
      "[[82, 10, 2], [16, 34, 0], [7, 8, 15]]\n",
      "\n",
      "\n",
      "accuracy_score\n",
      "0.7528735632183908\n",
      "\n",
      "\n",
      "classification_report\n",
      "             precision    recall  f1-score   support\n",
      "\n",
      "          0       0.78      0.87      0.82        94\n",
      "          1       0.65      0.68      0.67        50\n",
      "          2       0.88      0.50      0.64        30\n",
      "\n",
      "avg / total       0.76      0.75      0.75       174\n",
      "\n",
      "\n",
      "\n",
      "f1_score\n",
      "0.7468368171664551\n",
      "\n",
      "\n",
      "\n",
      "\n"
     ]
    }
   ],
   "source": [
    "from classification.reporting import ClassificationReporting\n",
    "reporting = ClassificationReporting(clf_fpl, X_train, X_test, y_train, y_test, 3)\n",
    "report = reporting.set_name(\"Test Classifier\").set_level('fpl').create_report(1)"
   ]
  },
  {
   "cell_type": "code",
   "execution_count": 116,
   "metadata": {
    "collapsed": true
   },
   "outputs": [],
   "source": [
    "L = LabelGetter(batch)\n",
    "X, y = L.get_first_person_label()"
   ]
  },
  {
   "cell_type": "code",
   "execution_count": 110,
   "metadata": {
    "collapsed": false
   },
   "outputs": [
    {
     "data": {
      "text/plain": [
       "Pipeline(steps=[('features', FeatureUnion(n_jobs=1,\n",
       "       transformer_list=[('text', Pipeline(steps=[('getter', ItemGetter(key='text')), ('tfidf', TfidfVectorizer(analyzer='word', binary=False, decode_error='strict',\n",
       "        dtype=<class 'numpy.int64'>, encoding='utf-8', input='content',\n",
       "        lowercase=F...one,\n",
       "          solver='liblinear', tol=0.000449897709599141, verbose=0,\n",
       "          warm_start=None))])"
      ]
     },
     "execution_count": 110,
     "metadata": {},
     "output_type": "execute_result"
    }
   ],
   "source": [
    "X_train, X_test, y_train, y_test = train_test_split(X, y, test_size=0.33, random_state=25)\n",
    "clf_fpl.fit(X_train, y_train)"
   ]
  },
  {
   "cell_type": "code",
   "execution_count": 111,
   "metadata": {
    "collapsed": false
   },
   "outputs": [
    {
     "name": "stdout",
     "output_type": "stream",
     "text": [
      "Training Results\n",
      "~~~~~~~~~~~~~~~~\n",
      "confusion_matrix\n",
      "[[346, 0, 0], [0, 177, 0], [0, 0, 147]]\n",
      "\n",
      "\n",
      "accuracy_score\n",
      "1.0\n",
      "\n",
      "\n",
      "classification_report\n",
      "             precision    recall  f1-score   support\n",
      "\n",
      "          0       1.00      1.00      1.00       346\n",
      "          1       1.00      1.00      1.00       177\n",
      "          2       1.00      1.00      1.00       147\n",
      "\n",
      "avg / total       1.00      1.00      1.00       670\n",
      "\n",
      "\n",
      "\n",
      "f1_score\n",
      "1.0\n",
      "\n",
      "\n",
      "\n",
      "\n",
      "Testing Results Results\n",
      "~~~~~~~~~~~~~~~~~~~~~~~\n",
      "confusion_matrix\n",
      "[[116, 24, 24], [28, 58, 10], [26, 21, 23]]\n",
      "\n",
      "\n",
      "accuracy_score\n",
      "0.5969696969696969\n",
      "\n",
      "\n",
      "classification_report\n",
      "             precision    recall  f1-score   support\n",
      "\n",
      "          0       0.68      0.71      0.69       164\n",
      "          1       0.56      0.60      0.58        96\n",
      "          2       0.40      0.33      0.36        70\n",
      "\n",
      "avg / total       0.59      0.60      0.59       330\n",
      "\n",
      "\n",
      "\n",
      "f1_score\n",
      "0.5916069617221422\n",
      "\n",
      "\n",
      "\n",
      "\n"
     ]
    }
   ],
   "source": [
    "reporting = ClassificationReporting(clf_fpl, X_train, X_test, y_train, y_test, 3)\n",
    "report = reporting.set_name(\"Test Classifier\").set_level('fpl').create_report(1)"
   ]
  },
  {
   "cell_type": "markdown",
   "metadata": {
    "collapsed": true
   },
   "source": [
    "The other classifiers are performing well enough so we will only relabel what was previously considered FP."
   ]
  },
  {
   "cell_type": "markdown",
   "metadata": {},
   "source": [
    "# Labeling the rest of the data"
   ]
  },
  {
   "cell_type": "code",
   "execution_count": 96,
   "metadata": {
    "collapsed": false
   },
   "outputs": [],
   "source": [
    "X = DataAccess.get_as_dataframe()\n",
    "L = LabelGetter(X)\n",
    "X_fpl, y = L.get_first_person_label()"
   ]
  },
  {
   "cell_type": "code",
   "execution_count": 65,
   "metadata": {
    "collapsed": true
   },
   "outputs": [],
   "source": [
    "old_results = pd.DataFrame.from_csv(\"C:/Users/Tom Work/Downloads/Batch_2417713_batch_results.csv\")"
   ]
  },
  {
   "cell_type": "code",
   "execution_count": 72,
   "metadata": {
    "collapsed": false
   },
   "outputs": [],
   "source": [
    "old_results.index = old_results._id"
   ]
  },
  {
   "cell_type": "code",
   "execution_count": 99,
   "metadata": {
    "collapsed": false
   },
   "outputs": [
    {
     "name": "stdout",
     "output_type": "stream",
     "text": [
      "Wall time: 8 ms\n"
     ]
    }
   ],
   "source": [
    "%%time\n",
    "X_fpl['random_number'] = X_fpl.text.apply(hash)"
   ]
  },
  {
   "cell_type": "code",
   "execution_count": 98,
   "metadata": {
    "collapsed": false
   },
   "outputs": [],
   "source": [
    "X_fpl = X_fpl.ix[X_fpl.index.difference(old_results.index)]"
   ]
  },
  {
   "cell_type": "code",
   "execution_count": 101,
   "metadata": {
    "collapsed": false
   },
   "outputs": [
    {
     "data": {
      "text/plain": [
       "(5357, 12)"
      ]
     },
     "execution_count": 101,
     "metadata": {},
     "output_type": "execute_result"
    }
   ],
   "source": [
    "X_fpl.shape"
   ]
  },
  {
   "cell_type": "code",
   "execution_count": 102,
   "metadata": {
    "collapsed": true
   },
   "outputs": [],
   "source": [
    "pickle.dump(X_fpl, open('amt/first_person_unlabeled.p', 'wb'))"
   ]
  },
  {
   "cell_type": "code",
   "execution_count": 104,
   "metadata": {
    "collapsed": false
   },
   "outputs": [],
   "source": [
    "make_batch('amt/first_person_unlabeled.p', 3000, 'amt')"
   ]
  },
  {
   "cell_type": "code",
   "execution_count": 105,
   "metadata": {
    "collapsed": true
   },
   "outputs": [],
   "source": [
    "batch1 = pd.DataFrame.from_csv(\"amt/c_amt 2016-06-03 11h16m -9223012266841220737/c_amt 2016-06-03 11h16m -9223012266841220737.csv\")"
   ]
  },
  {
   "cell_type": "code",
   "execution_count": 106,
   "metadata": {
    "collapsed": false
   },
   "outputs": [
    {
     "data": {
      "text/plain": [
       "(3000, 2)"
      ]
     },
     "execution_count": 106,
     "metadata": {},
     "output_type": "execute_result"
    }
   ],
   "source": [
    "batch1.shape"
   ]
  },
  {
   "cell_type": "code",
   "execution_count": 107,
   "metadata": {
    "collapsed": false,
    "scrolled": true
   },
   "outputs": [
    {
     "data": {
      "text/html": [
       "<div>\n",
       "<table border=\"1\" class=\"dataframe\">\n",
       "  <thead>\n",
       "    <tr style=\"text-align: right;\">\n",
       "      <th></th>\n",
       "      <th>text</th>\n",
       "      <th>random_number</th>\n",
       "    </tr>\n",
       "    <tr>\n",
       "      <th>_id</th>\n",
       "      <th></th>\n",
       "      <th></th>\n",
       "    </tr>\n",
       "  </thead>\n",
       "  <tbody>\n",
       "    <tr>\n",
       "      <th>558d9f98d6dfbb6950895bba</th>\n",
       "      <td>b'I will pay someone like $30 and a case of be...</td>\n",
       "      <td>-9223012266841220737</td>\n",
       "    </tr>\n",
       "    <tr>\n",
       "      <th>558f421bd6dfbb51bbe200d4</th>\n",
       "      <td>b\"@aileene_chew @dfts_90 @humankittehkat @va_k...</td>\n",
       "      <td>-9217032698021262422</td>\n",
       "    </tr>\n",
       "    <tr>\n",
       "      <th>55877c60d6dfbb344f78696f</th>\n",
       "      <td>b'Drinking a Stone Enjoy By 07.04.15 IPA by @S...</td>\n",
       "      <td>-9208811120167384204</td>\n",
       "    </tr>\n",
       "    <tr>\n",
       "      <th>5584d5b7d6dfbb6b2489b047</th>\n",
       "      <td>b\"Can't get enough of this cty. #chicago #rive...</td>\n",
       "      <td>-9207935440759435436</td>\n",
       "    </tr>\n",
       "    <tr>\n",
       "      <th>55789bb1d6dfbb052633defe</th>\n",
       "      <td>b\"If everyone would go out and have a drink to...</td>\n",
       "      <td>-9206623459859422642</td>\n",
       "    </tr>\n",
       "  </tbody>\n",
       "</table>\n",
       "</div>"
      ],
      "text/plain": [
       "                                                                       text  \\\n",
       "_id                                                                           \n",
       "558d9f98d6dfbb6950895bba  b'I will pay someone like $30 and a case of be...   \n",
       "558f421bd6dfbb51bbe200d4  b\"@aileene_chew @dfts_90 @humankittehkat @va_k...   \n",
       "55877c60d6dfbb344f78696f  b'Drinking a Stone Enjoy By 07.04.15 IPA by @S...   \n",
       "5584d5b7d6dfbb6b2489b047  b\"Can't get enough of this cty. #chicago #rive...   \n",
       "55789bb1d6dfbb052633defe  b\"If everyone would go out and have a drink to...   \n",
       "\n",
       "                                random_number  \n",
       "_id                                            \n",
       "558d9f98d6dfbb6950895bba -9223012266841220737  \n",
       "558f421bd6dfbb51bbe200d4 -9217032698021262422  \n",
       "55877c60d6dfbb344f78696f -9208811120167384204  \n",
       "5584d5b7d6dfbb6b2489b047 -9207935440759435436  \n",
       "55789bb1d6dfbb052633defe -9206623459859422642  "
      ]
     },
     "execution_count": 107,
     "metadata": {},
     "output_type": "execute_result"
    }
   ],
   "source": [
    "batch1.head()"
   ]
  },
  {
   "cell_type": "code",
   "execution_count": 108,
   "metadata": {
    "collapsed": false
   },
   "outputs": [],
   "source": [
    "batch2 = pd.DataFrame.from_csv(\"amt/c_amt 2016-06-03 11h16m 1125936180122922568/c_amt 2016-06-03 11h16m 1125936180122922568.csv\")"
   ]
  },
  {
   "cell_type": "code",
   "execution_count": 109,
   "metadata": {
    "collapsed": false
   },
   "outputs": [
    {
     "data": {
      "text/plain": [
       "(2357, 2)"
      ]
     },
     "execution_count": 109,
     "metadata": {},
     "output_type": "execute_result"
    }
   ],
   "source": [
    "batch2.shape"
   ]
  },
  {
   "cell_type": "code",
   "execution_count": 110,
   "metadata": {
    "collapsed": false,
    "scrolled": true
   },
   "outputs": [
    {
     "data": {
      "text/html": [
       "<div>\n",
       "<table border=\"1\" class=\"dataframe\">\n",
       "  <thead>\n",
       "    <tr style=\"text-align: right;\">\n",
       "      <th></th>\n",
       "      <th>text</th>\n",
       "      <th>random_number</th>\n",
       "    </tr>\n",
       "    <tr>\n",
       "      <th>_id</th>\n",
       "      <th></th>\n",
       "      <th></th>\n",
       "    </tr>\n",
       "  </thead>\n",
       "  <tbody>\n",
       "    <tr>\n",
       "      <th>5573b47ad6dfbb512f142635</th>\n",
       "      <td>b\"I'm in LA, at a gallery, watching a performa...</td>\n",
       "      <td>1125936180122922568</td>\n",
       "    </tr>\n",
       "    <tr>\n",
       "      <th>5587c02bd6dfbb46acebb825</th>\n",
       "      <td>b'Getting Drunk &amp;amp; Fried With My Brother \\x...</td>\n",
       "      <td>1130045892011414351</td>\n",
       "    </tr>\n",
       "    <tr>\n",
       "      <th>557639d8d6dfbb240cd14995</th>\n",
       "      <td>b\"I'm not a fan of Vodka\"</td>\n",
       "      <td>1133567731290356678</td>\n",
       "    </tr>\n",
       "    <tr>\n",
       "      <th>55750755d6dfbb6738810e57</th>\n",
       "      <td>b'3 bottles of Jack. 1 ounce of weed. 1/2 song...</td>\n",
       "      <td>1134120824051744000</td>\n",
       "    </tr>\n",
       "    <tr>\n",
       "      <th>55721540d6dfbb33bf905f7d</th>\n",
       "      <td>b'Drinking a Marauder by @greatsouthbay at @ha...</td>\n",
       "      <td>1137236950417390560</td>\n",
       "    </tr>\n",
       "  </tbody>\n",
       "</table>\n",
       "</div>"
      ],
      "text/plain": [
       "                                                                       text  \\\n",
       "_id                                                                           \n",
       "5573b47ad6dfbb512f142635  b\"I'm in LA, at a gallery, watching a performa...   \n",
       "5587c02bd6dfbb46acebb825  b'Getting Drunk &amp; Fried With My Brother \\x...   \n",
       "557639d8d6dfbb240cd14995                          b\"I'm not a fan of Vodka\"   \n",
       "55750755d6dfbb6738810e57  b'3 bottles of Jack. 1 ounce of weed. 1/2 song...   \n",
       "55721540d6dfbb33bf905f7d  b'Drinking a Marauder by @greatsouthbay at @ha...   \n",
       "\n",
       "                                random_number  \n",
       "_id                                            \n",
       "5573b47ad6dfbb512f142635  1125936180122922568  \n",
       "5587c02bd6dfbb46acebb825  1130045892011414351  \n",
       "557639d8d6dfbb240cd14995  1133567731290356678  \n",
       "55750755d6dfbb6738810e57  1134120824051744000  \n",
       "55721540d6dfbb33bf905f7d  1137236950417390560  "
      ]
     },
     "execution_count": 110,
     "metadata": {},
     "output_type": "execute_result"
    }
   ],
   "source": [
    "batch2.head()"
   ]
  }
 ],
 "metadata": {
  "kernelspec": {
   "display_name": "Python 3",
   "language": "python",
   "name": "python3"
  },
  "language_info": {
   "codemirror_mode": {
    "name": "ipython",
    "version": 3
   },
   "file_extension": ".py",
   "mimetype": "text/x-python",
   "name": "python",
   "nbconvert_exporter": "python",
   "pygments_lexer": "ipython3",
   "version": "3.5.1"
  }
 },
 "nbformat": 4,
 "nbformat_minor": 0
}
