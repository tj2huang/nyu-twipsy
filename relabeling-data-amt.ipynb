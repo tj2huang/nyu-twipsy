{
 "cells": [
  {
   "cell_type": "markdown",
   "metadata": {},
   "source": [
    "# Relabeling"
   ]
  },
  {
   "cell_type": "markdown",
   "metadata": {},
   "source": [
    "We want to improve the quality of the labels from AMT. In particular, the FPL."
   ]
  },
  {
   "cell_type": "code",
   "execution_count": 3,
   "metadata": {
    "collapsed": true
   },
   "outputs": [],
   "source": [
    "import pickle\n",
    "\n",
    "import datetime\n",
    "import pandas as pd\n",
    "\n",
    "from data.dao import DataAccess, LabelGetter\n",
    "from data.turk import TurkResults2Label"
   ]
  },
  {
   "cell_type": "code",
   "execution_count": 27,
   "metadata": {
    "collapsed": true
   },
   "outputs": [],
   "source": [
    "X = DataAccess.get_as_dataframe()"
   ]
  },
  {
   "cell_type": "code",
   "execution_count": 29,
   "metadata": {
    "collapsed": false
   },
   "outputs": [],
   "source": [
    "L = LabelGetter(X)"
   ]
  },
  {
   "cell_type": "code",
   "execution_count": 30,
   "metadata": {
    "collapsed": false
   },
   "outputs": [],
   "source": [
    "X_fpl, y = L.get_first_person_label()"
   ]
  },
  {
   "cell_type": "code",
   "execution_count": 32,
   "metadata": {
    "collapsed": false
   },
   "outputs": [
    {
     "data": {
      "text/plain": [
       "(6357, 11)"
      ]
     },
     "execution_count": 32,
     "metadata": {},
     "output_type": "execute_result"
    }
   ],
   "source": [
    "X_fpl.shape"
   ]
  },
  {
   "cell_type": "markdown",
   "metadata": {},
   "source": [
    "Deterministic kind of uniform sample:"
   ]
  },
  {
   "cell_type": "code",
   "execution_count": 34,
   "metadata": {
    "collapsed": false
   },
   "outputs": [
    {
     "name": "stdout",
     "output_type": "stream",
     "text": [
      "Wall time: 9.69 s\n"
     ]
    },
    {
     "name": "stderr",
     "output_type": "stream",
     "text": [
      "C:\\Users\\Tom Work\\Anaconda3\\lib\\site-packages\\ipykernel\\__main__.py:1: SettingWithCopyWarning: \n",
      "A value is trying to be set on a copy of a slice from a DataFrame.\n",
      "Try using .loc[row_indexer,col_indexer] = value instead\n",
      "\n",
      "See the caveats in the documentation: http://pandas.pydata.org/pandas-docs/stable/indexing.html#indexing-view-versus-copy\n",
      "  if __name__ == '__main__':\n"
     ]
    }
   ],
   "source": [
    "%%time\n",
    "X_fpl['random_number'] = X_fpl.text.apply(hash)"
   ]
  },
  {
   "cell_type": "code",
   "execution_count": 8,
   "metadata": {
    "collapsed": false
   },
   "outputs": [
    {
     "data": {
      "text/html": [
       "<div>\n",
       "<table border=\"1\" class=\"dataframe\">\n",
       "  <thead>\n",
       "    <tr style=\"text-align: right;\">\n",
       "      <th></th>\n",
       "      <th>created_at</th>\n",
       "      <th>labels</th>\n",
       "      <th>predict</th>\n",
       "      <th>text</th>\n",
       "      <th>user</th>\n",
       "      <th>user.created_at</th>\n",
       "      <th>user.favourites_count</th>\n",
       "      <th>user.followers_count</th>\n",
       "      <th>user.friends_count</th>\n",
       "      <th>user.statuses_count</th>\n",
       "      <th>user.verified</th>\n",
       "      <th>random_number</th>\n",
       "    </tr>\n",
       "    <tr>\n",
       "      <th>_id</th>\n",
       "      <th></th>\n",
       "      <th></th>\n",
       "      <th></th>\n",
       "      <th></th>\n",
       "      <th></th>\n",
       "      <th></th>\n",
       "      <th></th>\n",
       "      <th></th>\n",
       "      <th></th>\n",
       "      <th></th>\n",
       "      <th></th>\n",
       "      <th></th>\n",
       "    </tr>\n",
       "  </thead>\n",
       "  <tbody>\n",
       "    <tr>\n",
       "      <th>556e12e6d6dfbb462881153e</th>\n",
       "      <td>Tue Jun 02 20:33:15 +0000 2015</td>\n",
       "      <td>{'first_person_level': 0, 'alcohol': 1, 'first...</td>\n",
       "      <td>0.523513</td>\n",
       "      <td>Beer Olympics with my #1 fan and babe😍❤️ #Team...</td>\n",
       "      <td>{'friends_count': 356, 'followers_count': 563,...</td>\n",
       "      <td>Tue Dec 20 02:46:19 +0000 2011</td>\n",
       "      <td>11662</td>\n",
       "      <td>563</td>\n",
       "      <td>356</td>\n",
       "      <td>13940</td>\n",
       "      <td>False</td>\n",
       "      <td>3509904359376660926</td>\n",
       "    </tr>\n",
       "    <tr>\n",
       "      <th>556e1660d6dfbb462881361f</th>\n",
       "      <td>Tue Jun 02 20:48:04 +0000 2015</td>\n",
       "      <td>{'first_person_level': 0, 'alcohol': 1, 'first...</td>\n",
       "      <td>0.536733</td>\n",
       "      <td>Drinking a Soft Parade by @ShortsBrewing @ Lak...</td>\n",
       "      <td>{'friends_count': 626, 'followers_count': 543,...</td>\n",
       "      <td>Sun Mar 22 18:14:34 +0000 2009</td>\n",
       "      <td>13256</td>\n",
       "      <td>543</td>\n",
       "      <td>626</td>\n",
       "      <td>20051</td>\n",
       "      <td>False</td>\n",
       "      <td>5508552107751333732</td>\n",
       "    </tr>\n",
       "    <tr>\n",
       "      <th>556e16c2d6dfbb46288139a7</th>\n",
       "      <td>Tue Jun 02 20:49:44 +0000 2015</td>\n",
       "      <td>{'first_person_level': 2, 'alcohol': 1, 'first...</td>\n",
       "      <td>0.761665</td>\n",
       "      <td>Its only Tuesday and I need a drink or four.</td>\n",
       "      <td>{'friends_count': 516, 'followers_count': 211,...</td>\n",
       "      <td>Sun Jan 24 00:57:08 +0000 2010</td>\n",
       "      <td>1522</td>\n",
       "      <td>211</td>\n",
       "      <td>516</td>\n",
       "      <td>5300</td>\n",
       "      <td>False</td>\n",
       "      <td>-6198757192334168986</td>\n",
       "    </tr>\n",
       "    <tr>\n",
       "      <th>556e173dd6dfbb4628813e3b</th>\n",
       "      <td>Tue Jun 02 20:51:47 +0000 2015</td>\n",
       "      <td>{'first_person_level': 2, 'alcohol': 1, 'first...</td>\n",
       "      <td>0.622639</td>\n",
       "      <td>jess told me no puking this friday.. so that m...</td>\n",
       "      <td>{'friends_count': 408, 'followers_count': 4573...</td>\n",
       "      <td>Fri Dec 06 05:58:03 +0000 2013</td>\n",
       "      <td>6814</td>\n",
       "      <td>4573</td>\n",
       "      <td>408</td>\n",
       "      <td>7859</td>\n",
       "      <td>False</td>\n",
       "      <td>-3614958430482511601</td>\n",
       "    </tr>\n",
       "    <tr>\n",
       "      <th>556e1e58d6dfbb50e34a3eb7</th>\n",
       "      <td>Tue Jun 02 21:22:06 +0000 2015</td>\n",
       "      <td>{'first_person_level': 1, 'alcohol': 1, 'first...</td>\n",
       "      <td>0.572562</td>\n",
       "      <td>\"I need a drink because I'm upset about some p...</td>\n",
       "      <td>{'friends_count': 624, 'followers_count': 727,...</td>\n",
       "      <td>Tue Jul 29 13:51:57 +0000 2008</td>\n",
       "      <td>2489</td>\n",
       "      <td>727</td>\n",
       "      <td>624</td>\n",
       "      <td>12889</td>\n",
       "      <td>False</td>\n",
       "      <td>-1823265372766523932</td>\n",
       "    </tr>\n",
       "  </tbody>\n",
       "</table>\n",
       "</div>"
      ],
      "text/plain": [
       "                                              created_at  \\\n",
       "_id                                                        \n",
       "556e12e6d6dfbb462881153e  Tue Jun 02 20:33:15 +0000 2015   \n",
       "556e1660d6dfbb462881361f  Tue Jun 02 20:48:04 +0000 2015   \n",
       "556e16c2d6dfbb46288139a7  Tue Jun 02 20:49:44 +0000 2015   \n",
       "556e173dd6dfbb4628813e3b  Tue Jun 02 20:51:47 +0000 2015   \n",
       "556e1e58d6dfbb50e34a3eb7  Tue Jun 02 21:22:06 +0000 2015   \n",
       "\n",
       "                                                                     labels  \\\n",
       "_id                                                                           \n",
       "556e12e6d6dfbb462881153e  {'first_person_level': 0, 'alcohol': 1, 'first...   \n",
       "556e1660d6dfbb462881361f  {'first_person_level': 0, 'alcohol': 1, 'first...   \n",
       "556e16c2d6dfbb46288139a7  {'first_person_level': 2, 'alcohol': 1, 'first...   \n",
       "556e173dd6dfbb4628813e3b  {'first_person_level': 2, 'alcohol': 1, 'first...   \n",
       "556e1e58d6dfbb50e34a3eb7  {'first_person_level': 1, 'alcohol': 1, 'first...   \n",
       "\n",
       "                           predict  \\\n",
       "_id                                  \n",
       "556e12e6d6dfbb462881153e  0.523513   \n",
       "556e1660d6dfbb462881361f  0.536733   \n",
       "556e16c2d6dfbb46288139a7  0.761665   \n",
       "556e173dd6dfbb4628813e3b  0.622639   \n",
       "556e1e58d6dfbb50e34a3eb7  0.572562   \n",
       "\n",
       "                                                                       text  \\\n",
       "_id                                                                           \n",
       "556e12e6d6dfbb462881153e  Beer Olympics with my #1 fan and babe😍❤️ #Team...   \n",
       "556e1660d6dfbb462881361f  Drinking a Soft Parade by @ShortsBrewing @ Lak...   \n",
       "556e16c2d6dfbb46288139a7       Its only Tuesday and I need a drink or four.   \n",
       "556e173dd6dfbb4628813e3b  jess told me no puking this friday.. so that m...   \n",
       "556e1e58d6dfbb50e34a3eb7  \"I need a drink because I'm upset about some p...   \n",
       "\n",
       "                                                                       user  \\\n",
       "_id                                                                           \n",
       "556e12e6d6dfbb462881153e  {'friends_count': 356, 'followers_count': 563,...   \n",
       "556e1660d6dfbb462881361f  {'friends_count': 626, 'followers_count': 543,...   \n",
       "556e16c2d6dfbb46288139a7  {'friends_count': 516, 'followers_count': 211,...   \n",
       "556e173dd6dfbb4628813e3b  {'friends_count': 408, 'followers_count': 4573...   \n",
       "556e1e58d6dfbb50e34a3eb7  {'friends_count': 624, 'followers_count': 727,...   \n",
       "\n",
       "                                         user.created_at  \\\n",
       "_id                                                        \n",
       "556e12e6d6dfbb462881153e  Tue Dec 20 02:46:19 +0000 2011   \n",
       "556e1660d6dfbb462881361f  Sun Mar 22 18:14:34 +0000 2009   \n",
       "556e16c2d6dfbb46288139a7  Sun Jan 24 00:57:08 +0000 2010   \n",
       "556e173dd6dfbb4628813e3b  Fri Dec 06 05:58:03 +0000 2013   \n",
       "556e1e58d6dfbb50e34a3eb7  Tue Jul 29 13:51:57 +0000 2008   \n",
       "\n",
       "                          user.favourites_count  user.followers_count  \\\n",
       "_id                                                                     \n",
       "556e12e6d6dfbb462881153e                  11662                   563   \n",
       "556e1660d6dfbb462881361f                  13256                   543   \n",
       "556e16c2d6dfbb46288139a7                   1522                   211   \n",
       "556e173dd6dfbb4628813e3b                   6814                  4573   \n",
       "556e1e58d6dfbb50e34a3eb7                   2489                   727   \n",
       "\n",
       "                          user.friends_count  user.statuses_count  \\\n",
       "_id                                                                 \n",
       "556e12e6d6dfbb462881153e                 356                13940   \n",
       "556e1660d6dfbb462881361f                 626                20051   \n",
       "556e16c2d6dfbb46288139a7                 516                 5300   \n",
       "556e173dd6dfbb4628813e3b                 408                 7859   \n",
       "556e1e58d6dfbb50e34a3eb7                 624                12889   \n",
       "\n",
       "                         user.verified        random_number  \n",
       "_id                                                          \n",
       "556e12e6d6dfbb462881153e         False  3509904359376660926  \n",
       "556e1660d6dfbb462881361f         False  5508552107751333732  \n",
       "556e16c2d6dfbb46288139a7         False -6198757192334168986  \n",
       "556e173dd6dfbb4628813e3b         False -3614958430482511601  \n",
       "556e1e58d6dfbb50e34a3eb7         False -1823265372766523932  "
      ]
     },
     "execution_count": 8,
     "metadata": {},
     "output_type": "execute_result"
    }
   ],
   "source": [
    "X_fpl.head()"
   ]
  },
  {
   "cell_type": "code",
   "execution_count": 15,
   "metadata": {
    "collapsed": false
   },
   "outputs": [],
   "source": [
    "batch = X_fpl.sort_values(by='random_number').ix[:1000]"
   ]
  },
  {
   "cell_type": "markdown",
   "metadata": {},
   "source": [
    "What was previously labeled as FPA"
   ]
  },
  {
   "cell_type": "code",
   "execution_count": 23,
   "metadata": {
    "collapsed": false
   },
   "outputs": [],
   "source": [
    "batch[\"text\"] = batch.text.str.encode(\"utf-8\")"
   ]
  },
  {
   "cell_type": "code",
   "execution_count": 25,
   "metadata": {
    "collapsed": false
   },
   "outputs": [],
   "source": [
    "date = str(datetime.date.today())\n",
    "key = batch.ix[0].random_number\n",
    "batch[[\"text\", \"random_number\"]].to_csv(\"amt/c_amt {} {}.csv\".format(date, key))"
   ]
  },
  {
   "cell_type": "code",
   "execution_count": 21,
   "metadata": {
    "collapsed": false
   },
   "outputs": [],
   "source": [
    "pickle.dump(batch, open('pickles/amt_test_batch.p', 'wb'))"
   ]
  },
  {
   "cell_type": "code",
   "execution_count": 212,
   "metadata": {
    "collapsed": false
   },
   "outputs": [
    {
     "data": {
      "text/plain": [
       "56"
      ]
     },
     "execution_count": 212,
     "metadata": {},
     "output_type": "execute_result"
    }
   ],
   "source": [
    "datetime.datetime.now().time().minute"
   ]
  },
  {
   "cell_type": "code",
   "execution_count": 77,
   "metadata": {
    "collapsed": false,
    "scrolled": true
   },
   "outputs": [],
   "source": [
    "import os\n",
    "def make_batch(pickled_df, size, output_dir):\n",
    "    \"\"\"\n",
    "    pickled_df: unlabeled data with 'random_number' column\n",
    "    size: # of items batch to be created\n",
    "    output_dir: where the outputs are saved\n",
    "    \"\"\"\n",
    "    # Load data\n",
    "    X = pickle.load(open(pickled_df, 'rb'))\n",
    "    \n",
    "    # select size subset\n",
    "    batch = X.sort_values(by='random_number').head(size)\n",
    "    \n",
    "    # process for turk\n",
    "    batch[\"text\"] = batch.text.str.encode(\"utf-8\")\n",
    "    date = str(datetime.date.today())\n",
    "    time = datetime.datetime.now().time()\n",
    "    key = batch.ix[0].random_number\n",
    "    \n",
    "    # persist\n",
    "    description = \"/c_amt {} {}h{}m {}\".format(date, time.hour, time.minute, key)\n",
    "    if not os.path.exists(output_dir + description):\n",
    "        os.makedirs(output_dir + description)\n",
    "    batch[[\"text\", \"random_number\"]].to_csv(output_dir + description +  description + '.csv')\n",
    "    pickle.dump(batch, open(output_dir + description + description +\".p\", 'wb'))\n",
    "    X = X.drop(batch.index)\n",
    "    pickle.dump(X, open(pickled_df, 'wb'))"
   ]
  },
  {
   "cell_type": "code",
   "execution_count": 266,
   "metadata": {
    "collapsed": false
   },
   "outputs": [],
   "source": [
    "make_batch('amt/unlabeled.p', 1000, 'amt')"
   ]
  },
  {
   "cell_type": "code",
   "execution_count": 259,
   "metadata": {
    "collapsed": false
   },
   "outputs": [],
   "source": [
    "X = DataAccess.get_as_dataframe()"
   ]
  },
  {
   "cell_type": "code",
   "execution_count": 260,
   "metadata": {
    "collapsed": false
   },
   "outputs": [],
   "source": [
    "X['random_number'] = X.text.apply(hash)"
   ]
  },
  {
   "cell_type": "code",
   "execution_count": 264,
   "metadata": {
    "collapsed": true
   },
   "outputs": [],
   "source": [
    "pickle.dump(X, open('amt/unlabeled.p', 'wb'))"
   ]
  },
  {
   "cell_type": "code",
   "execution_count": 204,
   "metadata": {
    "collapsed": true
   },
   "outputs": [],
   "source": [
    "def remove_dup(big_df, remove_these):\n",
    "    return big_df.drop(remove_these.index)\n",
    "    "
   ]
  },
  {
   "cell_type": "code",
   "execution_count": 268,
   "metadata": {
    "collapsed": false
   },
   "outputs": [],
   "source": [
    "test = pd.read_csv('C:/Users/Tom Work/PycharmProjects/nyu-twipsy/amt/c_amt 2016-06-02 16h30m -9217494627877178173/c_amt 2016-06-02 16h30m -9217494627877178173.csv')"
   ]
  },
  {
   "cell_type": "code",
   "execution_count": 274,
   "metadata": {
    "collapsed": false
   },
   "outputs": [],
   "source": [
    "batch = X.ix[test._id]"
   ]
  },
  {
   "cell_type": "markdown",
   "metadata": {},
   "source": [
    "# Labeling the rest of the data"
   ]
  },
  {
   "cell_type": "code",
   "execution_count": 96,
   "metadata": {
    "collapsed": false
   },
   "outputs": [],
   "source": [
    "X = DataAccess.get_as_dataframe()\n",
    "L = LabelGetter(X)\n",
    "X_fpl, y = L.get_first_person_label()"
   ]
  },
  {
   "cell_type": "code",
   "execution_count": 65,
   "metadata": {
    "collapsed": true
   },
   "outputs": [],
   "source": [
    "old_results = pd.DataFrame.from_csv(\"C:/Users/Tom Work/Downloads/Batch_2417713_batch_results.csv\")"
   ]
  },
  {
   "cell_type": "code",
   "execution_count": 72,
   "metadata": {
    "collapsed": false
   },
   "outputs": [],
   "source": [
    "old_results.index = old_results._id"
   ]
  },
  {
   "cell_type": "code",
   "execution_count": 99,
   "metadata": {
    "collapsed": false
   },
   "outputs": [
    {
     "name": "stdout",
     "output_type": "stream",
     "text": [
      "Wall time: 8 ms\n"
     ]
    }
   ],
   "source": [
    "%%time\n",
    "X_fpl['random_number'] = X_fpl.text.apply(hash)"
   ]
  },
  {
   "cell_type": "code",
   "execution_count": 98,
   "metadata": {
    "collapsed": false
   },
   "outputs": [],
   "source": [
    "X_fpl = X_fpl.ix[X_fpl.index.difference(old_results.index)]"
   ]
  },
  {
   "cell_type": "code",
   "execution_count": 101,
   "metadata": {
    "collapsed": false
   },
   "outputs": [
    {
     "data": {
      "text/plain": [
       "(5357, 12)"
      ]
     },
     "execution_count": 101,
     "metadata": {},
     "output_type": "execute_result"
    }
   ],
   "source": [
    "X_fpl.shape"
   ]
  },
  {
   "cell_type": "code",
   "execution_count": 102,
   "metadata": {
    "collapsed": true
   },
   "outputs": [],
   "source": [
    "pickle.dump(X_fpl, open('amt/first_person_unlabeled.p', 'wb'))"
   ]
  },
  {
   "cell_type": "code",
   "execution_count": 104,
   "metadata": {
    "collapsed": false
   },
   "outputs": [],
   "source": [
    "make_batch('amt/first_person_unlabeled.p', 3000, 'amt')"
   ]
  },
  {
   "cell_type": "code",
   "execution_count": 105,
   "metadata": {
    "collapsed": true
   },
   "outputs": [],
   "source": [
    "batch1 = pd.DataFrame.from_csv(\"amt/c_amt 2016-06-03 11h16m -9223012266841220737/c_amt 2016-06-03 11h16m -9223012266841220737.csv\")"
   ]
  },
  {
   "cell_type": "code",
   "execution_count": 106,
   "metadata": {
    "collapsed": false
   },
   "outputs": [
    {
     "data": {
      "text/plain": [
       "(3000, 2)"
      ]
     },
     "execution_count": 106,
     "metadata": {},
     "output_type": "execute_result"
    }
   ],
   "source": [
    "batch1.shape"
   ]
  },
  {
   "cell_type": "code",
   "execution_count": 107,
   "metadata": {
    "collapsed": false,
    "scrolled": true
   },
   "outputs": [
    {
     "data": {
      "text/html": [
       "<div>\n",
       "<table border=\"1\" class=\"dataframe\">\n",
       "  <thead>\n",
       "    <tr style=\"text-align: right;\">\n",
       "      <th></th>\n",
       "      <th>text</th>\n",
       "      <th>random_number</th>\n",
       "    </tr>\n",
       "    <tr>\n",
       "      <th>_id</th>\n",
       "      <th></th>\n",
       "      <th></th>\n",
       "    </tr>\n",
       "  </thead>\n",
       "  <tbody>\n",
       "    <tr>\n",
       "      <th>558d9f98d6dfbb6950895bba</th>\n",
       "      <td>b'I will pay someone like $30 and a case of be...</td>\n",
       "      <td>-9223012266841220737</td>\n",
       "    </tr>\n",
       "    <tr>\n",
       "      <th>558f421bd6dfbb51bbe200d4</th>\n",
       "      <td>b\"@aileene_chew @dfts_90 @humankittehkat @va_k...</td>\n",
       "      <td>-9217032698021262422</td>\n",
       "    </tr>\n",
       "    <tr>\n",
       "      <th>55877c60d6dfbb344f78696f</th>\n",
       "      <td>b'Drinking a Stone Enjoy By 07.04.15 IPA by @S...</td>\n",
       "      <td>-9208811120167384204</td>\n",
       "    </tr>\n",
       "    <tr>\n",
       "      <th>5584d5b7d6dfbb6b2489b047</th>\n",
       "      <td>b\"Can't get enough of this cty. #chicago #rive...</td>\n",
       "      <td>-9207935440759435436</td>\n",
       "    </tr>\n",
       "    <tr>\n",
       "      <th>55789bb1d6dfbb052633defe</th>\n",
       "      <td>b\"If everyone would go out and have a drink to...</td>\n",
       "      <td>-9206623459859422642</td>\n",
       "    </tr>\n",
       "  </tbody>\n",
       "</table>\n",
       "</div>"
      ],
      "text/plain": [
       "                                                                       text  \\\n",
       "_id                                                                           \n",
       "558d9f98d6dfbb6950895bba  b'I will pay someone like $30 and a case of be...   \n",
       "558f421bd6dfbb51bbe200d4  b\"@aileene_chew @dfts_90 @humankittehkat @va_k...   \n",
       "55877c60d6dfbb344f78696f  b'Drinking a Stone Enjoy By 07.04.15 IPA by @S...   \n",
       "5584d5b7d6dfbb6b2489b047  b\"Can't get enough of this cty. #chicago #rive...   \n",
       "55789bb1d6dfbb052633defe  b\"If everyone would go out and have a drink to...   \n",
       "\n",
       "                                random_number  \n",
       "_id                                            \n",
       "558d9f98d6dfbb6950895bba -9223012266841220737  \n",
       "558f421bd6dfbb51bbe200d4 -9217032698021262422  \n",
       "55877c60d6dfbb344f78696f -9208811120167384204  \n",
       "5584d5b7d6dfbb6b2489b047 -9207935440759435436  \n",
       "55789bb1d6dfbb052633defe -9206623459859422642  "
      ]
     },
     "execution_count": 107,
     "metadata": {},
     "output_type": "execute_result"
    }
   ],
   "source": [
    "batch1.head()"
   ]
  },
  {
   "cell_type": "code",
   "execution_count": 108,
   "metadata": {
    "collapsed": false
   },
   "outputs": [],
   "source": [
    "batch2 = pd.DataFrame.from_csv(\"amt/c_amt 2016-06-03 11h16m 1125936180122922568/c_amt 2016-06-03 11h16m 1125936180122922568.csv\")"
   ]
  },
  {
   "cell_type": "code",
   "execution_count": 109,
   "metadata": {
    "collapsed": false
   },
   "outputs": [
    {
     "data": {
      "text/plain": [
       "(2357, 2)"
      ]
     },
     "execution_count": 109,
     "metadata": {},
     "output_type": "execute_result"
    }
   ],
   "source": [
    "batch2.shape"
   ]
  },
  {
   "cell_type": "code",
   "execution_count": 110,
   "metadata": {
    "collapsed": false,
    "scrolled": true
   },
   "outputs": [
    {
     "data": {
      "text/html": [
       "<div>\n",
       "<table border=\"1\" class=\"dataframe\">\n",
       "  <thead>\n",
       "    <tr style=\"text-align: right;\">\n",
       "      <th></th>\n",
       "      <th>text</th>\n",
       "      <th>random_number</th>\n",
       "    </tr>\n",
       "    <tr>\n",
       "      <th>_id</th>\n",
       "      <th></th>\n",
       "      <th></th>\n",
       "    </tr>\n",
       "  </thead>\n",
       "  <tbody>\n",
       "    <tr>\n",
       "      <th>5573b47ad6dfbb512f142635</th>\n",
       "      <td>b\"I'm in LA, at a gallery, watching a performa...</td>\n",
       "      <td>1125936180122922568</td>\n",
       "    </tr>\n",
       "    <tr>\n",
       "      <th>5587c02bd6dfbb46acebb825</th>\n",
       "      <td>b'Getting Drunk &amp;amp; Fried With My Brother \\x...</td>\n",
       "      <td>1130045892011414351</td>\n",
       "    </tr>\n",
       "    <tr>\n",
       "      <th>557639d8d6dfbb240cd14995</th>\n",
       "      <td>b\"I'm not a fan of Vodka\"</td>\n",
       "      <td>1133567731290356678</td>\n",
       "    </tr>\n",
       "    <tr>\n",
       "      <th>55750755d6dfbb6738810e57</th>\n",
       "      <td>b'3 bottles of Jack. 1 ounce of weed. 1/2 song...</td>\n",
       "      <td>1134120824051744000</td>\n",
       "    </tr>\n",
       "    <tr>\n",
       "      <th>55721540d6dfbb33bf905f7d</th>\n",
       "      <td>b'Drinking a Marauder by @greatsouthbay at @ha...</td>\n",
       "      <td>1137236950417390560</td>\n",
       "    </tr>\n",
       "  </tbody>\n",
       "</table>\n",
       "</div>"
      ],
      "text/plain": [
       "                                                                       text  \\\n",
       "_id                                                                           \n",
       "5573b47ad6dfbb512f142635  b\"I'm in LA, at a gallery, watching a performa...   \n",
       "5587c02bd6dfbb46acebb825  b'Getting Drunk &amp; Fried With My Brother \\x...   \n",
       "557639d8d6dfbb240cd14995                          b\"I'm not a fan of Vodka\"   \n",
       "55750755d6dfbb6738810e57  b'3 bottles of Jack. 1 ounce of weed. 1/2 song...   \n",
       "55721540d6dfbb33bf905f7d  b'Drinking a Marauder by @greatsouthbay at @ha...   \n",
       "\n",
       "                                random_number  \n",
       "_id                                            \n",
       "5573b47ad6dfbb512f142635  1125936180122922568  \n",
       "5587c02bd6dfbb46acebb825  1130045892011414351  \n",
       "557639d8d6dfbb240cd14995  1133567731290356678  \n",
       "55750755d6dfbb6738810e57  1134120824051744000  \n",
       "55721540d6dfbb33bf905f7d  1137236950417390560  "
      ]
     },
     "execution_count": 110,
     "metadata": {},
     "output_type": "execute_result"
    }
   ],
   "source": [
    "batch2.head()"
   ]
  }
 ],
 "metadata": {
  "kernelspec": {
   "display_name": "Python 3",
   "language": "python",
   "name": "python3"
  },
  "language_info": {
   "codemirror_mode": {
    "name": "ipython",
    "version": 3
   },
   "file_extension": ".py",
   "mimetype": "text/x-python",
   "name": "python",
   "nbconvert_exporter": "python",
   "pygments_lexer": "ipython3",
   "version": "3.5.1"
  }
 },
 "nbformat": 4,
 "nbformat_minor": 0
}
