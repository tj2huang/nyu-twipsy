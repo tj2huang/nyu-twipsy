{
 "cells": [
  {
   "cell_type": "code",
   "execution_count": 1,
   "metadata": {
    "collapsed": true
   },
   "outputs": [],
   "source": [
    "from pipelines.alcohol import AlcoholPipeline"
   ]
  },
  {
   "cell_type": "code",
   "execution_count": 5,
   "metadata": {
    "collapsed": false
   },
   "outputs": [],
   "source": [
    "from data.dao import DataAccess, LabelGetter"
   ]
  },
  {
   "cell_type": "code",
   "execution_count": 8,
   "metadata": {
    "collapsed": true
   },
   "outputs": [],
   "source": [
    "from sklearn.cross_validation import train_test_split"
   ]
  },
  {
   "cell_type": "code",
   "execution_count": 11,
   "metadata": {
    "collapsed": true
   },
   "outputs": [],
   "source": [
    "from sklearn.linear_model import LogisticRegression"
   ]
  },
  {
   "cell_type": "code",
   "execution_count": 6,
   "metadata": {
    "collapsed": true
   },
   "outputs": [],
   "source": [
    "X = DataAccess.get_as_dataframe(explode=False)\n",
    "ll = LabelGetter(X)"
   ]
  },
  {
   "cell_type": "code",
   "execution_count": 48,
   "metadata": {
    "collapsed": false
   },
   "outputs": [],
   "source": [
    "X, y = ll.get_alcohol()\n",
    "X_train, X_test, y_train, y_test = train_test_split(\n",
    "        X, y, test_size=0.33, random_state=23)"
   ]
  },
  {
   "cell_type": "code",
   "execution_count": 49,
   "metadata": {
    "collapsed": false
   },
   "outputs": [],
   "source": [
    "\n",
    "clf = AlcoholPipeline(global_features=[\"text\"]).pipeline(LogisticRegression())"
   ]
  },
  {
   "cell_type": "code",
   "execution_count": null,
   "metadata": {
    "collapsed": true
   },
   "outputs": [],
   "source": []
  },
  {
   "cell_type": "code",
   "execution_count": 50,
   "metadata": {
    "collapsed": false
   },
   "outputs": [
    {
     "data": {
      "text/plain": [
       "(15650, 5)"
      ]
     },
     "execution_count": 50,
     "metadata": {},
     "output_type": "execute_result"
    }
   ],
   "source": [
    "X.shape"
   ]
  },
  {
   "cell_type": "code",
   "execution_count": 81,
   "metadata": {
    "collapsed": false
   },
   "outputs": [
    {
     "data": {
      "text/plain": [
       "_id\n",
       "55754014d6dfbb775fb51f76    peach Jell-O shots with vanilla vodka tastes p...\n",
       "5584afa7d6dfbb636c07d80d    My favorite item on the menu...even though I c...\n",
       "558efe04d6dfbb3d0e4c2990    Drinking  The Nothing (2015) by @SmogCityBeer ...\n",
       "5577aa75d6dfbb5cd259e83c    I'm begging u please 😌 kause I can't swim that...\n",
       "557f46abd6dfbb573b4d780b        OMGGGG @ginomortellaro http://t.co/hA4lVXhpSW\n",
       "556bd56cd6dfbb3fac3ac001    @Chris_Kendall_ feel invited to the East Coast...\n",
       "5584a6a8d6dfbb5faef789d1    😍😍😍 so stinking happy right meow. #jesterking ...\n",
       "557b43b4d6dfbb2d94b9ff02                       Im soo happy to see Bale happy\n",
       "55770d69d6dfbb179bf09f47    LA pride is this weekend and i've literALLY AL...\n",
       "55727bc5d6dfbb5bf32d62ec    Some Jeremiah Red and strawberry margarita ple...\n",
       "Name: text, dtype: object"
      ]
     },
     "execution_count": 81,
     "metadata": {},
     "output_type": "execute_result"
    }
   ],
   "source": [
    "X.sample(10).text"
   ]
  },
  {
   "cell_type": "code",
   "execution_count": 51,
   "metadata": {
    "collapsed": false
   },
   "outputs": [
    {
     "name": "stdout",
     "output_type": "stream",
     "text": [
      "Wall time: 717 ms\n"
     ]
    },
    {
     "data": {
      "text/plain": [
       "Pipeline(steps=[('features', FeatureUnion(n_jobs=1,\n",
       "       transformer_list=[('text', Pipeline(steps=[('getter', ItemGetter(key='text')), ('tfidf', TfidfVectorizer(analyzer='word', binary=False, decode_error='strict',\n",
       "        dtype=<class 'numpy.int64'>, encoding='utf-8', input='content',\n",
       "        lowercase=T...ty='l2', random_state=None, solver='liblinear', tol=0.0001,\n",
       "          verbose=0, warm_start=False))])"
      ]
     },
     "execution_count": 51,
     "metadata": {},
     "output_type": "execute_result"
    }
   ],
   "source": [
    "%%time\n",
    "\n",
    "clf.fit(X_train, y_train)"
   ]
  },
  {
   "cell_type": "code",
   "execution_count": 52,
   "metadata": {
    "collapsed": false
   },
   "outputs": [
    {
     "data": {
      "text/html": [
       "<div>\n",
       "<table border=\"1\" class=\"dataframe\">\n",
       "  <thead>\n",
       "    <tr style=\"text-align: right;\">\n",
       "      <th></th>\n",
       "      <th>created_at</th>\n",
       "      <th>labels</th>\n",
       "      <th>predict</th>\n",
       "      <th>text</th>\n",
       "      <th>user</th>\n",
       "    </tr>\n",
       "    <tr>\n",
       "      <th>_id</th>\n",
       "      <th></th>\n",
       "      <th></th>\n",
       "      <th></th>\n",
       "      <th></th>\n",
       "      <th></th>\n",
       "    </tr>\n",
       "  </thead>\n",
       "  <tbody>\n",
       "    <tr>\n",
       "      <th>558793f2d6dfbb38273cc35b</th>\n",
       "      <td>Mon Jun 22 04:49:55 +0000 2015</td>\n",
       "      <td>{'alcohol': 1}</td>\n",
       "      <td>0.661905</td>\n",
       "      <td>then today got to see Jeremy and Sis and littl...</td>\n",
       "      <td>{'favourites_count': 7, 'friends_count': 150, ...</td>\n",
       "    </tr>\n",
       "    <tr>\n",
       "      <th>55827318d6dfbb3ad4e84fea</th>\n",
       "      <td>Thu Jun 18 07:28:24 +0000 2015</td>\n",
       "      <td>{'alcohol': 0}</td>\n",
       "      <td>NaN</td>\n",
       "      <td>I mean didn't we just spend a whole week calli...</td>\n",
       "      <td>{'favourites_count': 4441, 'friends_count': 38...</td>\n",
       "    </tr>\n",
       "    <tr>\n",
       "      <th>55867a27d6dfbb1449ba6e8e</th>\n",
       "      <td>Sun Jun 21 08:47:36 +0000 2015</td>\n",
       "      <td>{'first_person_level': 2, 'first_person': 1, '...</td>\n",
       "      <td>0.576796</td>\n",
       "      <td>It's an honor to receive a drunk call from me ...</td>\n",
       "      <td>{'favourites_count': 3766, 'friends_count': 26...</td>\n",
       "    </tr>\n",
       "    <tr>\n",
       "      <th>5578edefd6dfbb35dd86ca5c</th>\n",
       "      <td>Thu Jun 11 02:10:31 +0000 2015</td>\n",
       "      <td>{'alcohol': 0}</td>\n",
       "      <td>0.197434</td>\n",
       "      <td>Want to work in #WestCovina, CA? View our late...</td>\n",
       "      <td>{'favourites_count': 0, 'friends_count': 0, 'v...</td>\n",
       "    </tr>\n",
       "    <tr>\n",
       "      <th>55907347d6dfbb3e7804f683</th>\n",
       "      <td>Sun Jun 28 22:20:50 +0000 2015</td>\n",
       "      <td>{'first_person_level': 0, 'first_person': 1, '...</td>\n",
       "      <td>NaN</td>\n",
       "      <td>Lagunitas has great hops like always and the a...</td>\n",
       "      <td>{'favourites_count': 3443, 'friends_count': 38...</td>\n",
       "    </tr>\n",
       "  </tbody>\n",
       "</table>\n",
       "</div>"
      ],
      "text/plain": [
       "                                              created_at  \\\n",
       "_id                                                        \n",
       "558793f2d6dfbb38273cc35b  Mon Jun 22 04:49:55 +0000 2015   \n",
       "55827318d6dfbb3ad4e84fea  Thu Jun 18 07:28:24 +0000 2015   \n",
       "55867a27d6dfbb1449ba6e8e  Sun Jun 21 08:47:36 +0000 2015   \n",
       "5578edefd6dfbb35dd86ca5c  Thu Jun 11 02:10:31 +0000 2015   \n",
       "55907347d6dfbb3e7804f683  Sun Jun 28 22:20:50 +0000 2015   \n",
       "\n",
       "                                                                     labels  \\\n",
       "_id                                                                           \n",
       "558793f2d6dfbb38273cc35b                                     {'alcohol': 1}   \n",
       "55827318d6dfbb3ad4e84fea                                     {'alcohol': 0}   \n",
       "55867a27d6dfbb1449ba6e8e  {'first_person_level': 2, 'first_person': 1, '...   \n",
       "5578edefd6dfbb35dd86ca5c                                     {'alcohol': 0}   \n",
       "55907347d6dfbb3e7804f683  {'first_person_level': 0, 'first_person': 1, '...   \n",
       "\n",
       "                           predict  \\\n",
       "_id                                  \n",
       "558793f2d6dfbb38273cc35b  0.661905   \n",
       "55827318d6dfbb3ad4e84fea       NaN   \n",
       "55867a27d6dfbb1449ba6e8e  0.576796   \n",
       "5578edefd6dfbb35dd86ca5c  0.197434   \n",
       "55907347d6dfbb3e7804f683       NaN   \n",
       "\n",
       "                                                                       text  \\\n",
       "_id                                                                           \n",
       "558793f2d6dfbb38273cc35b  then today got to see Jeremy and Sis and littl...   \n",
       "55827318d6dfbb3ad4e84fea  I mean didn't we just spend a whole week calli...   \n",
       "55867a27d6dfbb1449ba6e8e  It's an honor to receive a drunk call from me ...   \n",
       "5578edefd6dfbb35dd86ca5c  Want to work in #WestCovina, CA? View our late...   \n",
       "55907347d6dfbb3e7804f683  Lagunitas has great hops like always and the a...   \n",
       "\n",
       "                                                                       user  \n",
       "_id                                                                          \n",
       "558793f2d6dfbb38273cc35b  {'favourites_count': 7, 'friends_count': 150, ...  \n",
       "55827318d6dfbb3ad4e84fea  {'favourites_count': 4441, 'friends_count': 38...  \n",
       "55867a27d6dfbb1449ba6e8e  {'favourites_count': 3766, 'friends_count': 26...  \n",
       "5578edefd6dfbb35dd86ca5c  {'favourites_count': 0, 'friends_count': 0, 'v...  \n",
       "55907347d6dfbb3e7804f683  {'favourites_count': 3443, 'friends_count': 38...  "
      ]
     },
     "execution_count": 52,
     "metadata": {},
     "output_type": "execute_result"
    }
   ],
   "source": [
    "X_train.head()"
   ]
  },
  {
   "cell_type": "code",
   "execution_count": 53,
   "metadata": {
    "collapsed": true
   },
   "outputs": [],
   "source": [
    "import pickle"
   ]
  },
  {
   "cell_type": "code",
   "execution_count": 54,
   "metadata": {
    "collapsed": true
   },
   "outputs": [],
   "source": [
    "from sklearn.metrics import accuracy_score, f1_score, confusion_matrix"
   ]
  },
  {
   "cell_type": "code",
   "execution_count": 55,
   "metadata": {
    "collapsed": false
   },
   "outputs": [],
   "source": [
    "y_predict = clf.predict(X_test)"
   ]
  },
  {
   "cell_type": "code",
   "execution_count": 56,
   "metadata": {
    "collapsed": false
   },
   "outputs": [
    {
     "name": "stdout",
     "output_type": "stream",
     "text": [
      "0.835237173282\n",
      "0.885510561012\n",
      "[[1023  700]\n",
      " [ 151 3291]]\n"
     ]
    }
   ],
   "source": [
    "print(accuracy_score(y_test, y_predict))\n",
    "print(f1_score(y_test, y_predict))\n",
    "print(confusion_matrix(y_test, y_predict))"
   ]
  },
  {
   "cell_type": "code",
   "execution_count": 57,
   "metadata": {
    "collapsed": false
   },
   "outputs": [
    {
     "data": {
      "text/plain": [
       "Pipeline(steps=[('features', FeatureUnion(n_jobs=1,\n",
       "       transformer_list=[('text', Pipeline(steps=[('getter', ItemGetter(key='text')), ('tfidf', TfidfVectorizer(analyzer='word', binary=False, decode_error='strict',\n",
       "        dtype=<class 'numpy.int64'>, encoding='utf-8', input='content',\n",
       "        lowercase=T...ty='l2', random_state=None, solver='liblinear', tol=0.0001,\n",
       "          verbose=0, warm_start=False))])"
      ]
     },
     "execution_count": 57,
     "metadata": {},
     "output_type": "execute_result"
    }
   ],
   "source": [
    "clf"
   ]
  },
  {
   "cell_type": "code",
   "execution_count": 59,
   "metadata": {
    "collapsed": false
   },
   "outputs": [],
   "source": [
    "pickle.dump(clf, open('clf_alc_test.p', 'wb'))"
   ]
  },
  {
   "cell_type": "code",
   "execution_count": 99,
   "metadata": {
    "collapsed": false
   },
   "outputs": [],
   "source": [
    "feature_weights = clf.steps[0][1].transformer_list[0][1].steps[1][1].idf_\n",
    "sorted_weights = sorted(range(len(feature_weights)), key=lambda k: feature_weights[k])"
   ]
  },
  {
   "cell_type": "code",
   "execution_count": 102,
   "metadata": {
    "collapsed": false
   },
   "outputs": [],
   "source": [
    "features= clf.steps[0][1].transformer_list[0][1].steps[1][1].get_feature_names()"
   ]
  },
  {
   "cell_type": "code",
   "execution_count": 109,
   "metadata": {
    "collapsed": true
   },
   "outputs": [],
   "source": [
    "tfidf = clf.steps[0][1].transformer_list[0][1].steps[1][1]"
   ]
  },
  {
   "cell_type": "code",
   "execution_count": 104,
   "metadata": {
    "collapsed": false
   },
   "outputs": [],
   "source": [
    "import numpy as np"
   ]
  },
  {
   "cell_type": "code",
   "execution_count": 105,
   "metadata": {
    "collapsed": true
   },
   "outputs": [],
   "source": [
    "a_features = np.array(features)"
   ]
  },
  {
   "cell_type": "code",
   "execution_count": 108,
   "metadata": {
    "collapsed": false
   },
   "outputs": [
    {
     "data": {
      "text/plain": [
       "array(['co', 'the', 'and', 'to', 'http', 'drinking', 'drunk', 'https',\n",
       "       'in', 'my'], \n",
       "      dtype='<U43')"
      ]
     },
     "execution_count": 108,
     "metadata": {},
     "output_type": "execute_result"
    }
   ],
   "source": [
    "a_features[sorted_weights][:10]"
   ]
  },
  {
   "cell_type": "code",
   "execution_count": 110,
   "metadata": {
    "collapsed": false
   },
   "outputs": [
    {
     "data": {
      "text/plain": [
       "<103x23572 sparse matrix of type '<class 'numpy.float64'>'\n",
       "\twith 0 stored elements in Compressed Sparse Row format>"
      ]
     },
     "execution_count": 110,
     "metadata": {},
     "output_type": "execute_result"
    }
   ],
   "source": [
    "tfidf.transform(r'\"Dinner is ready!\" \"Okay, Coming!\" *Stays on the computer* \"DINNER IS READY!\" \"I SAID I AM COMING!!!!!!')"
   ]
  }
 ],
 "metadata": {
  "kernelspec": {
   "display_name": "Python 3",
   "language": "python",
   "name": "python3"
  },
  "language_info": {
   "codemirror_mode": {
    "name": "ipython",
    "version": 3
   },
   "file_extension": ".py",
   "mimetype": "text/x-python",
   "name": "python",
   "nbconvert_exporter": "python",
   "pygments_lexer": "ipython3",
   "version": "3.5.1"
  }
 },
 "nbformat": 4,
 "nbformat_minor": 0
}
