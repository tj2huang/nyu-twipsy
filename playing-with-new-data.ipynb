{
 "cells": [
  {
   "cell_type": "code",
   "execution_count": 1,
   "metadata": {
    "collapsed": true
   },
   "outputs": [],
   "source": [
    "import pickle"
   ]
  },
  {
   "cell_type": "code",
   "execution_count": 2,
   "metadata": {
    "collapsed": true
   },
   "outputs": [],
   "source": [
    "clf_alc = pickle.load(open('clf_alc_UPDATED.p', 'rb'))"
   ]
  },
  {
   "cell_type": "code",
   "execution_count": 6,
   "metadata": {
    "collapsed": false,
    "scrolled": true
   },
   "outputs": [
    {
     "data": {
      "text/plain": [
       "[('text',\n",
       "  Pipeline(steps=[('getter', ItemGetter(key='text')), ('tfidf', TfidfVectorizer(analyzer='char', binary=False, decode_error='strict',\n",
       "          dtype=<class 'numpy.int64'>, encoding='utf-8', input='content',\n",
       "          lowercase=True, max_df=1.0, max_features=71233, min_df=1,\n",
       "          ngram_range=(2, 5), norm='l2', preprocessor=None, smooth_idf=True,\n",
       "          stop_words=None, strip_accents=None, sublinear_tf=False,\n",
       "          token_pattern='(?u)\\\\b\\\\w\\\\w+\\\\b', tokenizer=None, use_idf=True,\n",
       "          vocabulary=None))]))]"
      ]
     },
     "execution_count": 6,
     "metadata": {},
     "output_type": "execute_result"
    }
   ],
   "source": [
    "clf_alc.steps[0][1].transformer_list"
   ]
  },
  {
   "cell_type": "code",
   "execution_count": 69,
   "metadata": {
    "collapsed": false
   },
   "outputs": [
    {
     "name": "stdout",
     "output_type": "stream",
     "text": [
      "Wall time: 2min 11s\n"
     ]
    }
   ],
   "source": [
    "\n",
    "%%time\n",
    "\n",
    "from data import DataAccess, LabelGetter\n",
    "\n",
    "X = DataAccess.get_not_labeled()"
   ]
  },
  {
   "cell_type": "code",
   "execution_count": 70,
   "metadata": {
    "collapsed": false
   },
   "outputs": [
    {
     "name": "stdout",
     "output_type": "stream",
     "text": [
      "Wall time: 1.63 s\n"
     ]
    }
   ],
   "source": [
    "%%time\n",
    "Labeled = DataAccess.get_as_dataframe()\n",
    "L = LabelGetter(Labeled)"
   ]
  },
  {
   "cell_type": "code",
   "execution_count": 40,
   "metadata": {
    "collapsed": false
   },
   "outputs": [
    {
     "data": {
      "text/html": [
       "<div>\n",
       "<table border=\"1\" class=\"dataframe\">\n",
       "  <thead>\n",
       "    <tr style=\"text-align: right;\">\n",
       "      <th></th>\n",
       "      <th>created_at</th>\n",
       "      <th>labels</th>\n",
       "      <th>predict</th>\n",
       "      <th>text</th>\n",
       "      <th>user</th>\n",
       "      <th>user.created_at</th>\n",
       "      <th>user.favourites_count</th>\n",
       "      <th>user.followers_count</th>\n",
       "      <th>user.friends_count</th>\n",
       "      <th>user.statuses_count</th>\n",
       "      <th>user.verified</th>\n",
       "    </tr>\n",
       "    <tr>\n",
       "      <th>_id</th>\n",
       "      <th></th>\n",
       "      <th></th>\n",
       "      <th></th>\n",
       "      <th></th>\n",
       "      <th></th>\n",
       "      <th></th>\n",
       "      <th></th>\n",
       "      <th></th>\n",
       "      <th></th>\n",
       "      <th></th>\n",
       "      <th></th>\n",
       "    </tr>\n",
       "  </thead>\n",
       "  <tbody>\n",
       "    <tr>\n",
       "      <th>556fcf42d6dfbb18aa7dbbd5</th>\n",
       "      <td>Thu Jun 04 04:09:11 +0000 2015</td>\n",
       "      <td>{'first_person_level': 1, 'first_person': 1, '...</td>\n",
       "      <td>0.912811</td>\n",
       "      <td>I'mma get drunk tomorrow</td>\n",
       "      <td>{'friends_count': 1301, 'followers_count': 229...</td>\n",
       "      <td>Fri Jun 24 03:13:44 +0000 2011</td>\n",
       "      <td>1352</td>\n",
       "      <td>2293</td>\n",
       "      <td>1301</td>\n",
       "      <td>74362</td>\n",
       "      <td>False</td>\n",
       "    </tr>\n",
       "    <tr>\n",
       "      <th>55711a08d6dfbb62ba96dc0c</th>\n",
       "      <td>Fri Jun 05 03:40:30 +0000 2015</td>\n",
       "      <td>{'raw': 'Alcohol Related::Discussion', 'alcoho...</td>\n",
       "      <td>0.915949</td>\n",
       "      <td>Yeah JR drunk</td>\n",
       "      <td>{'friends_count': 875, 'followers_count': 1624...</td>\n",
       "      <td>Fri Aug 31 21:52:32 +0000 2012</td>\n",
       "      <td>2959</td>\n",
       "      <td>1624</td>\n",
       "      <td>875</td>\n",
       "      <td>62069</td>\n",
       "      <td>False</td>\n",
       "    </tr>\n",
       "    <tr>\n",
       "      <th>5571dfc6d6dfbb1e027878d5</th>\n",
       "      <td>Fri Jun 05 17:44:12 +0000 2015</td>\n",
       "      <td>{'first_person': 1, 'alcohol': 1, 'first_perso...</td>\n",
       "      <td>0.935561</td>\n",
       "      <td>I got drunk off of one beer and one mojito las...</td>\n",
       "      <td>{'friends_count': 214, 'followers_count': 224,...</td>\n",
       "      <td>Wed Dec 09 23:33:33 +0000 2009</td>\n",
       "      <td>7228</td>\n",
       "      <td>224</td>\n",
       "      <td>214</td>\n",
       "      <td>9191</td>\n",
       "      <td>False</td>\n",
       "    </tr>\n",
       "    <tr>\n",
       "      <th>5572447ad6dfbb440ea6c739</th>\n",
       "      <td>Sat Jun 06 00:53:53 +0000 2015</td>\n",
       "      <td>{'first_person_level': 1, 'first_person': 1, '...</td>\n",
       "      <td>0.909894</td>\n",
       "      <td>I guess imma get drunk tonight 😈</td>\n",
       "      <td>{'friends_count': 1329, 'followers_count': 174...</td>\n",
       "      <td>Sat Aug 29 08:03:08 +0000 2009</td>\n",
       "      <td>1462</td>\n",
       "      <td>1749</td>\n",
       "      <td>1329</td>\n",
       "      <td>63996</td>\n",
       "      <td>False</td>\n",
       "    </tr>\n",
       "    <tr>\n",
       "      <th>5573cbdbd6dfbb5bc86e3da7</th>\n",
       "      <td>Sun Jun 07 04:43:46 +0000 2015</td>\n",
       "      <td>{'first_person': 1, 'alcohol': 1, 'first_perso...</td>\n",
       "      <td>0.917836</td>\n",
       "      <td>Now I'm just chilling drinking a beer lol</td>\n",
       "      <td>{'friends_count': 436, 'followers_count': 411,...</td>\n",
       "      <td>Fri Oct 14 17:12:54 +0000 2011</td>\n",
       "      <td>212</td>\n",
       "      <td>411</td>\n",
       "      <td>436</td>\n",
       "      <td>11938</td>\n",
       "      <td>False</td>\n",
       "    </tr>\n",
       "  </tbody>\n",
       "</table>\n",
       "</div>"
      ],
      "text/plain": [
       "                                              created_at  \\\n",
       "_id                                                        \n",
       "556fcf42d6dfbb18aa7dbbd5  Thu Jun 04 04:09:11 +0000 2015   \n",
       "55711a08d6dfbb62ba96dc0c  Fri Jun 05 03:40:30 +0000 2015   \n",
       "5571dfc6d6dfbb1e027878d5  Fri Jun 05 17:44:12 +0000 2015   \n",
       "5572447ad6dfbb440ea6c739  Sat Jun 06 00:53:53 +0000 2015   \n",
       "5573cbdbd6dfbb5bc86e3da7  Sun Jun 07 04:43:46 +0000 2015   \n",
       "\n",
       "                                                                     labels  \\\n",
       "_id                                                                           \n",
       "556fcf42d6dfbb18aa7dbbd5  {'first_person_level': 1, 'first_person': 1, '...   \n",
       "55711a08d6dfbb62ba96dc0c  {'raw': 'Alcohol Related::Discussion', 'alcoho...   \n",
       "5571dfc6d6dfbb1e027878d5  {'first_person': 1, 'alcohol': 1, 'first_perso...   \n",
       "5572447ad6dfbb440ea6c739  {'first_person_level': 1, 'first_person': 1, '...   \n",
       "5573cbdbd6dfbb5bc86e3da7  {'first_person': 1, 'alcohol': 1, 'first_perso...   \n",
       "\n",
       "                           predict  \\\n",
       "_id                                  \n",
       "556fcf42d6dfbb18aa7dbbd5  0.912811   \n",
       "55711a08d6dfbb62ba96dc0c  0.915949   \n",
       "5571dfc6d6dfbb1e027878d5  0.935561   \n",
       "5572447ad6dfbb440ea6c739  0.909894   \n",
       "5573cbdbd6dfbb5bc86e3da7  0.917836   \n",
       "\n",
       "                                                                       text  \\\n",
       "_id                                                                           \n",
       "556fcf42d6dfbb18aa7dbbd5                           I'mma get drunk tomorrow   \n",
       "55711a08d6dfbb62ba96dc0c                                      Yeah JR drunk   \n",
       "5571dfc6d6dfbb1e027878d5  I got drunk off of one beer and one mojito las...   \n",
       "5572447ad6dfbb440ea6c739                   I guess imma get drunk tonight 😈   \n",
       "5573cbdbd6dfbb5bc86e3da7          Now I'm just chilling drinking a beer lol   \n",
       "\n",
       "                                                                       user  \\\n",
       "_id                                                                           \n",
       "556fcf42d6dfbb18aa7dbbd5  {'friends_count': 1301, 'followers_count': 229...   \n",
       "55711a08d6dfbb62ba96dc0c  {'friends_count': 875, 'followers_count': 1624...   \n",
       "5571dfc6d6dfbb1e027878d5  {'friends_count': 214, 'followers_count': 224,...   \n",
       "5572447ad6dfbb440ea6c739  {'friends_count': 1329, 'followers_count': 174...   \n",
       "5573cbdbd6dfbb5bc86e3da7  {'friends_count': 436, 'followers_count': 411,...   \n",
       "\n",
       "                                         user.created_at  \\\n",
       "_id                                                        \n",
       "556fcf42d6dfbb18aa7dbbd5  Fri Jun 24 03:13:44 +0000 2011   \n",
       "55711a08d6dfbb62ba96dc0c  Fri Aug 31 21:52:32 +0000 2012   \n",
       "5571dfc6d6dfbb1e027878d5  Wed Dec 09 23:33:33 +0000 2009   \n",
       "5572447ad6dfbb440ea6c739  Sat Aug 29 08:03:08 +0000 2009   \n",
       "5573cbdbd6dfbb5bc86e3da7  Fri Oct 14 17:12:54 +0000 2011   \n",
       "\n",
       "                          user.favourites_count  user.followers_count  \\\n",
       "_id                                                                     \n",
       "556fcf42d6dfbb18aa7dbbd5                   1352                  2293   \n",
       "55711a08d6dfbb62ba96dc0c                   2959                  1624   \n",
       "5571dfc6d6dfbb1e027878d5                   7228                   224   \n",
       "5572447ad6dfbb440ea6c739                   1462                  1749   \n",
       "5573cbdbd6dfbb5bc86e3da7                    212                   411   \n",
       "\n",
       "                          user.friends_count  user.statuses_count  \\\n",
       "_id                                                                 \n",
       "556fcf42d6dfbb18aa7dbbd5                1301                74362   \n",
       "55711a08d6dfbb62ba96dc0c                 875                62069   \n",
       "5571dfc6d6dfbb1e027878d5                 214                 9191   \n",
       "5572447ad6dfbb440ea6c739                1329                63996   \n",
       "5573cbdbd6dfbb5bc86e3da7                 436                11938   \n",
       "\n",
       "                         user.verified  \n",
       "_id                                     \n",
       "556fcf42d6dfbb18aa7dbbd5         False  \n",
       "55711a08d6dfbb62ba96dc0c         False  \n",
       "5571dfc6d6dfbb1e027878d5         False  \n",
       "5572447ad6dfbb440ea6c739         False  \n",
       "5573cbdbd6dfbb5bc86e3da7         False  "
      ]
     },
     "execution_count": 40,
     "metadata": {},
     "output_type": "execute_result"
    }
   ],
   "source": [
    "Labeled[Labeled.predict>0.9].head()"
   ]
  },
  {
   "cell_type": "code",
   "execution_count": 17,
   "metadata": {
    "collapsed": false
   },
   "outputs": [
    {
     "data": {
      "text/plain": [
       "Pipeline(steps=[('features', FeatureUnion(n_jobs=1,\n",
       "       transformer_list=[('text', Pipeline(steps=[('getter', ItemGetter(key='text')), ('tfidf', TfidfVectorizer(analyzer='char', binary=False, decode_error='strict',\n",
       "        dtype=<class 'numpy.int64'>, encoding='utf-8', input='content',\n",
       "        lowercase=T...one,\n",
       "          solver='liblinear', tol=0.000655077907893521, verbose=0,\n",
       "          warm_start=None))])"
      ]
     },
     "execution_count": 17,
     "metadata": {},
     "output_type": "execute_result"
    }
   ],
   "source": [
    "clf_alc.fit(*L.get_alcohol())"
   ]
  },
  {
   "cell_type": "code",
   "execution_count": 18,
   "metadata": {
    "collapsed": true
   },
   "outputs": [],
   "source": [
    "pickle.dump(clf_alc, open('clf_alc_UPDATED.p', 'wb'))"
   ]
  },
  {
   "cell_type": "code",
   "execution_count": 19,
   "metadata": {
    "collapsed": false
   },
   "outputs": [
    {
     "data": {
      "text/plain": [
       "(76606, 4)"
      ]
     },
     "execution_count": 19,
     "metadata": {},
     "output_type": "execute_result"
    }
   ],
   "source": [
    "X.head()\n",
    "X.shape"
   ]
  },
  {
   "cell_type": "code",
   "execution_count": 20,
   "metadata": {
    "collapsed": false
   },
   "outputs": [
    {
     "data": {
      "text/plain": [
       "(9504, 4)"
      ]
     },
     "execution_count": 20,
     "metadata": {},
     "output_type": "execute_result"
    }
   ],
   "source": [
    "sample = X[X.random_number <0.05]\n",
    "sample.shape"
   ]
  },
  {
   "cell_type": "code",
   "execution_count": 21,
   "metadata": {
    "collapsed": false
   },
   "outputs": [
    {
     "name": "stdout",
     "output_type": "stream",
     "text": [
      "Wall time: 7.18 s\n"
     ]
    }
   ],
   "source": [
    "%%time\n",
    "predictions_alc = clf_alc.predict_proba(sample)"
   ]
  },
  {
   "cell_type": "code",
   "execution_count": 27,
   "metadata": {
    "collapsed": false
   },
   "outputs": [
    {
     "data": {
      "text/plain": [
       "array([[ 0.48240235,  0.51759765],\n",
       "       [ 0.00042371,  0.99957629],\n",
       "       [ 0.43185756,  0.56814244],\n",
       "       ..., \n",
       "       [ 0.9817936 ,  0.0182064 ],\n",
       "       [ 0.99814248,  0.00185752],\n",
       "       [ 0.67729692,  0.32270308]])"
      ]
     },
     "execution_count": 27,
     "metadata": {},
     "output_type": "execute_result"
    }
   ],
   "source": [
    "import numpy as np\n",
    "np.set_printoptions(suppress=True)\n",
    "predictions_alc"
   ]
  },
  {
   "cell_type": "code",
   "execution_count": 24,
   "metadata": {
    "collapsed": false
   },
   "outputs": [
    {
     "data": {
      "text/plain": [
       "(9504, 2)"
      ]
     },
     "execution_count": 24,
     "metadata": {},
     "output_type": "execute_result"
    }
   ],
   "source": [
    "predictions_alc.shape"
   ]
  },
  {
   "cell_type": "code",
   "execution_count": 56,
   "metadata": {
    "collapsed": false
   },
   "outputs": [
    {
     "data": {
      "text/plain": [
       "(6158, 2)"
      ]
     },
     "execution_count": 56,
     "metadata": {},
     "output_type": "execute_result"
    }
   ],
   "source": [
    "predictions_alc[predictions_alc[:, 1]<0.3].shape"
   ]
  },
  {
   "cell_type": "code",
   "execution_count": 61,
   "metadata": {
    "collapsed": false
   },
   "outputs": [],
   "source": [
    "import matplotlib.pylab as plt\n",
    "import matplotlib as m\n",
    "%matplotlib inline"
   ]
  },
  {
   "cell_type": "code",
   "execution_count": 83,
   "metadata": {
    "collapsed": false,
    "scrolled": true
   },
   "outputs": [
    {
     "data": {
      "text/plain": [
       "<matplotlib.axes._subplots.AxesSubplot at 0xfb104a8>"
      ]
     },
     "execution_count": 83,
     "metadata": {},
     "output_type": "execute_result"
    },
    {
     "data": {
      "image/png": "[encoded data removed]",
      "text/plain": [
       "<matplotlib.figure.Figure at 0xf85e9e8>"
      ]
     },
     "metadata": {},
     "output_type": "display_data"
    }
   ],
   "source": [
    "sample.sort_values('new_prob')['new_prob'].plot()"
   ]
  },
  {
   "cell_type": "code",
   "execution_count": 2,
   "metadata": {
    "collapsed": true
   },
   "outputs": [],
   "source": [
    "import pandas as pd"
   ]
  },
  {
   "cell_type": "code",
   "execution_count": 2,
   "metadata": {
    "collapsed": true
   },
   "outputs": [],
   "source": [
    "import pickle"
   ]
  },
  {
   "cell_type": "code",
   "execution_count": 53,
   "metadata": {
    "collapsed": true
   },
   "outputs": [],
   "source": [
    "clf_alc = pickle.load(open('clf_alc_UPDATED.p', 'rb'))"
   ]
  },
  {
   "cell_type": "code",
   "execution_count": 102,
   "metadata": {
    "collapsed": false
   },
   "outputs": [
    {
     "data": {
      "text/plain": [
       "<matplotlib.axes._subplots.AxesSubplot at 0x10823588>"
      ]
     },
     "execution_count": 102,
     "metadata": {},
     "output_type": "execute_result"
    },
    {
     "data": {
      "image/png": "[encoded data removed]",
      "text/plain": [
       "<matplotlib.figure.Figure at 0x10b52470>"
      ]
     },
     "metadata": {},
     "output_type": "display_data"
    }
   ],
   "source": [
    "random_tweets.predict.sort_values().plot(use_index=False) # this curve doesn't mean anything"
   ]
  },
  {
   "cell_type": "code",
   "execution_count": 46,
   "metadata": {
    "collapsed": false
   },
   "outputs": [
    {
     "name": "stdout",
     "output_type": "stream",
     "text": [
      "Wall time: 855 ms\n"
     ]
    }
   ],
   "source": [
    "%%time\n",
    "folder = 'C:/Users/Tom Work/PycharmProjects/nyu-twipsy/tweets_split'\n",
    "more_tweets = pd.read_csv(folder + '/tweets_1.csv', encoding='utf8').dropna()"
   ]
  },
  {
   "cell_type": "code",
   "execution_count": 47,
   "metadata": {
    "collapsed": false
   },
   "outputs": [
    {
     "data": {
      "text/plain": [
       "(50000, 3)"
      ]
     },
     "execution_count": 47,
     "metadata": {},
     "output_type": "execute_result"
    }
   ],
   "source": [
    "more_tweets.shape"
   ]
  },
  {
   "cell_type": "code",
   "execution_count": 51,
   "metadata": {
    "collapsed": false
   },
   "outputs": [
    {
     "data": {
      "text/html": [
       "<div>\n",
       "<table border=\"1\" class=\"dataframe\">\n",
       "  <thead>\n",
       "    <tr style=\"text-align: right;\">\n",
       "      <th></th>\n",
       "      <th>text</th>\n",
       "      <th>id</th>\n",
       "      <th>created_at</th>\n",
       "    </tr>\n",
       "  </thead>\n",
       "  <tbody>\n",
       "    <tr>\n",
       "      <th>20234</th>\n",
       "      <td>I want a relationship like Red and Kitty Forman.</td>\n",
       "      <td>605987456035389440</td>\n",
       "      <td>Wed Jun 03 06:40:42 +0000 2015</td>\n",
       "    </tr>\n",
       "    <tr>\n",
       "      <th>13893</th>\n",
       "      <td>What if The Weeknd never called when it's half...</td>\n",
       "      <td>605931801790414848</td>\n",
       "      <td>Wed Jun 03 02:59:33 +0000 2015</td>\n",
       "    </tr>\n",
       "    <tr>\n",
       "      <th>4583</th>\n",
       "      <td>\"ticket policy\" are two words this news produc...</td>\n",
       "      <td>605846056299945986</td>\n",
       "      <td>Tue Jun 02 21:18:50 +0000 2015</td>\n",
       "    </tr>\n",
       "    <tr>\n",
       "      <th>5098</th>\n",
       "      <td>Happy 4th birthday to my baby salon! #TheVinta...</td>\n",
       "      <td>605851107567353856</td>\n",
       "      <td>Tue Jun 02 21:38:54 +0000 2015</td>\n",
       "    </tr>\n",
       "    <tr>\n",
       "      <th>17467</th>\n",
       "      <td>💯💸🔫⛽️🔥💨 http://t.co/uvqy0mCKqv</td>\n",
       "      <td>605957481307570176</td>\n",
       "      <td>Wed Jun 03 04:41:36 +0000 2015</td>\n",
       "    </tr>\n",
       "    <tr>\n",
       "      <th>48796</th>\n",
       "      <td>What am I gonna do this morning?</td>\n",
       "      <td>606462808780251136</td>\n",
       "      <td>Thu Jun 04 14:09:35 +0000 2015</td>\n",
       "    </tr>\n",
       "    <tr>\n",
       "      <th>15475</th>\n",
       "      <td>@_HumblyBlessed_ prolli, if the rain not drawlin</td>\n",
       "      <td>605942538839531520</td>\n",
       "      <td>Wed Jun 03 03:42:13 +0000 2015</td>\n",
       "    </tr>\n",
       "    <tr>\n",
       "      <th>1306</th>\n",
       "      <td>Shooting \"aerial\" product groupings on a ladde...</td>\n",
       "      <td>605812114112970753</td>\n",
       "      <td>Tue Jun 02 19:03:58 +0000 2015</td>\n",
       "    </tr>\n",
       "    <tr>\n",
       "      <th>12472</th>\n",
       "      <td>now I'm crying 😞</td>\n",
       "      <td>605922300794273792</td>\n",
       "      <td>Wed Jun 03 02:21:48 +0000 2015</td>\n",
       "    </tr>\n",
       "    <tr>\n",
       "      <th>17820</th>\n",
       "      <td>@bryana___ 😂😂😂</td>\n",
       "      <td>605960296000192512</td>\n",
       "      <td>Wed Jun 03 04:52:47 +0000 2015</td>\n",
       "    </tr>\n",
       "    <tr>\n",
       "      <th>26045</th>\n",
       "      <td>This insanely amazing #BayCities spread was fo...</td>\n",
       "      <td>606130472477978625</td>\n",
       "      <td>Wed Jun 03 16:09:00 +0000 2015</td>\n",
       "    </tr>\n",
       "    <tr>\n",
       "      <th>44697</th>\n",
       "      <td>staying up till 1 to get @the1975 tickets smh.</td>\n",
       "      <td>606346389023383553</td>\n",
       "      <td>Thu Jun 04 06:26:59 +0000 2015</td>\n",
       "    </tr>\n",
       "    <tr>\n",
       "      <th>30446</th>\n",
       "      <td>Living in the moment right now</td>\n",
       "      <td>606181118803603456</td>\n",
       "      <td>Wed Jun 03 19:30:15 +0000 2015</td>\n",
       "    </tr>\n",
       "    <tr>\n",
       "      <th>37187</th>\n",
       "      <td>Asking \"which broom would you like me to use?\"...</td>\n",
       "      <td>606260197124759552</td>\n",
       "      <td>Thu Jun 04 00:44:29 +0000 2015</td>\n",
       "    </tr>\n",
       "    <tr>\n",
       "      <th>43554</th>\n",
       "      <td>@justineeezee http://t.co/Hlm8NfTYLO have you ...</td>\n",
       "      <td>606332538097827840</td>\n",
       "      <td>Thu Jun 04 05:31:56 +0000 2015</td>\n",
       "    </tr>\n",
       "    <tr>\n",
       "      <th>39166</th>\n",
       "      <td>Hitting the road again tomorrow, made this swe...</td>\n",
       "      <td>606296053332049921</td>\n",
       "      <td>Thu Jun 04 03:06:58 +0000 2015</td>\n",
       "    </tr>\n",
       "    <tr>\n",
       "      <th>5421</th>\n",
       "      <td>The most comfortable tank top I have ever worn...</td>\n",
       "      <td>605854231480823808</td>\n",
       "      <td>Tue Jun 02 21:51:19 +0000 2015</td>\n",
       "    </tr>\n",
       "    <tr>\n",
       "      <th>42090</th>\n",
       "      <td>I've literally been on Twitter not even five t...</td>\n",
       "      <td>606318195385892864</td>\n",
       "      <td>Thu Jun 04 04:34:57 +0000 2015</td>\n",
       "    </tr>\n",
       "    <tr>\n",
       "      <th>10417</th>\n",
       "      <td>@autumnferry98 @WilliamGBishop u guys r so cut...</td>\n",
       "      <td>605907616930201601</td>\n",
       "      <td>Wed Jun 03 01:23:27 +0000 2015</td>\n",
       "    </tr>\n",
       "    <tr>\n",
       "      <th>48039</th>\n",
       "      <td>That history final was the biggest waste of paper</td>\n",
       "      <td>606449537033584641</td>\n",
       "      <td>Thu Jun 04 13:16:51 +0000 2015</td>\n",
       "    </tr>\n",
       "  </tbody>\n",
       "</table>\n",
       "</div>"
      ],
      "text/plain": [
       "                                                    text                  id  \\\n",
       "20234   I want a relationship like Red and Kitty Forman.  605987456035389440   \n",
       "13893  What if The Weeknd never called when it's half...  605931801790414848   \n",
       "4583   \"ticket policy\" are two words this news produc...  605846056299945986   \n",
       "5098   Happy 4th birthday to my baby salon! #TheVinta...  605851107567353856   \n",
       "17467                     💯💸🔫⛽️🔥💨 http://t.co/uvqy0mCKqv  605957481307570176   \n",
       "48796                   What am I gonna do this morning?  606462808780251136   \n",
       "15475   @_HumblyBlessed_ prolli, if the rain not drawlin  605942538839531520   \n",
       "1306   Shooting \"aerial\" product groupings on a ladde...  605812114112970753   \n",
       "12472                                   now I'm crying 😞  605922300794273792   \n",
       "17820                                     @bryana___ 😂😂😂  605960296000192512   \n",
       "26045  This insanely amazing #BayCities spread was fo...  606130472477978625   \n",
       "44697     staying up till 1 to get @the1975 tickets smh.  606346389023383553   \n",
       "30446                     Living in the moment right now  606181118803603456   \n",
       "37187  Asking \"which broom would you like me to use?\"...  606260197124759552   \n",
       "43554  @justineeezee http://t.co/Hlm8NfTYLO have you ...  606332538097827840   \n",
       "39166  Hitting the road again tomorrow, made this swe...  606296053332049921   \n",
       "5421   The most comfortable tank top I have ever worn...  605854231480823808   \n",
       "42090  I've literally been on Twitter not even five t...  606318195385892864   \n",
       "10417  @autumnferry98 @WilliamGBishop u guys r so cut...  605907616930201601   \n",
       "48039  That history final was the biggest waste of paper  606449537033584641   \n",
       "\n",
       "                           created_at  \n",
       "20234  Wed Jun 03 06:40:42 +0000 2015  \n",
       "13893  Wed Jun 03 02:59:33 +0000 2015  \n",
       "4583   Tue Jun 02 21:18:50 +0000 2015  \n",
       "5098   Tue Jun 02 21:38:54 +0000 2015  \n",
       "17467  Wed Jun 03 04:41:36 +0000 2015  \n",
       "48796  Thu Jun 04 14:09:35 +0000 2015  \n",
       "15475  Wed Jun 03 03:42:13 +0000 2015  \n",
       "1306   Tue Jun 02 19:03:58 +0000 2015  \n",
       "12472  Wed Jun 03 02:21:48 +0000 2015  \n",
       "17820  Wed Jun 03 04:52:47 +0000 2015  \n",
       "26045  Wed Jun 03 16:09:00 +0000 2015  \n",
       "44697  Thu Jun 04 06:26:59 +0000 2015  \n",
       "30446  Wed Jun 03 19:30:15 +0000 2015  \n",
       "37187  Thu Jun 04 00:44:29 +0000 2015  \n",
       "43554  Thu Jun 04 05:31:56 +0000 2015  \n",
       "39166  Thu Jun 04 03:06:58 +0000 2015  \n",
       "5421   Tue Jun 02 21:51:19 +0000 2015  \n",
       "42090  Thu Jun 04 04:34:57 +0000 2015  \n",
       "10417  Wed Jun 03 01:23:27 +0000 2015  \n",
       "48039  Thu Jun 04 13:16:51 +0000 2015  "
      ]
     },
     "execution_count": 51,
     "metadata": {},
     "output_type": "execute_result"
    }
   ],
   "source": [
    "more_tweets.sample(20)"
   ]
  },
  {
   "cell_type": "code",
   "execution_count": 54,
   "metadata": {
    "collapsed": false
   },
   "outputs": [
    {
     "name": "stdout",
     "output_type": "stream",
     "text": [
      "Wall time: 22.5 s\n"
     ]
    }
   ],
   "source": [
    "%%time\n",
    "predictions_alc = clf_alc.predict_proba(more_tweets)"
   ]
  },
  {
   "cell_type": "code",
   "execution_count": 55,
   "metadata": {
    "collapsed": false
   },
   "outputs": [
    {
     "data": {
      "text/plain": [
       "(50000, 2)"
      ]
     },
     "execution_count": 55,
     "metadata": {},
     "output_type": "execute_result"
    }
   ],
   "source": [
    "predictions_alc.shape"
   ]
  },
  {
   "cell_type": "code",
   "execution_count": 145,
   "metadata": {
    "collapsed": false
   },
   "outputs": [
    {
     "data": {
      "text/plain": [
       "array([[ 0.01173895,  0.98826105],\n",
       "       [ 0.00108324,  0.99891676],\n",
       "       [ 0.11954757,  0.88045243],\n",
       "       ..., \n",
       "       [ 0.76219337,  0.23780663],\n",
       "       [ 0.29797369,  0.70202631],\n",
       "       [ 0.68759509,  0.31240491]])"
      ]
     },
     "execution_count": 145,
     "metadata": {},
     "output_type": "execute_result"
    }
   ],
   "source": [
    "predictions_alc"
   ]
  },
  {
   "cell_type": "code",
   "execution_count": 56,
   "metadata": {
    "collapsed": false
   },
   "outputs": [
    {
     "data": {
      "text/html": [
       "<div>\n",
       "<table border=\"1\" class=\"dataframe\">\n",
       "  <thead>\n",
       "    <tr style=\"text-align: right;\">\n",
       "      <th></th>\n",
       "      <th>text</th>\n",
       "      <th>id</th>\n",
       "      <th>created_at</th>\n",
       "    </tr>\n",
       "  </thead>\n",
       "  <tbody>\n",
       "    <tr>\n",
       "      <th>0</th>\n",
       "      <td>My #TeenChoice nominee for #ChoiceComedyTVShow...</td>\n",
       "      <td>605797899734126593</td>\n",
       "      <td>Tue Jun 02 18:07:29 +0000 2015</td>\n",
       "    </tr>\n",
       "    <tr>\n",
       "      <th>1</th>\n",
       "      <td>Jammin to 93.5 kdaaaayy🌞</td>\n",
       "      <td>605797907166470144</td>\n",
       "      <td>Tue Jun 02 18:07:30 +0000 2015</td>\n",
       "    </tr>\n",
       "    <tr>\n",
       "      <th>2</th>\n",
       "      <td>#ricobenes #breadedsteak #sandwich with #chees...</td>\n",
       "      <td>605797910555430912</td>\n",
       "      <td>Tue Jun 02 18:07:31 +0000 2015</td>\n",
       "    </tr>\n",
       "    <tr>\n",
       "      <th>3</th>\n",
       "      <td>Almost got in my feelings @DAREALQUILLY said t...</td>\n",
       "      <td>605797921720664065</td>\n",
       "      <td>Tue Jun 02 18:07:34 +0000 2015</td>\n",
       "    </tr>\n",
       "    <tr>\n",
       "      <th>4</th>\n",
       "      <td>Matty😋😋😋 https://t.co/mYRdYeBkUC</td>\n",
       "      <td>605797933833814016</td>\n",
       "      <td>Tue Jun 02 18:07:37 +0000 2015</td>\n",
       "    </tr>\n",
       "  </tbody>\n",
       "</table>\n",
       "</div>"
      ],
      "text/plain": [
       "                                                text                  id  \\\n",
       "0  My #TeenChoice nominee for #ChoiceComedyTVShow...  605797899734126593   \n",
       "1                           Jammin to 93.5 kdaaaayy🌞  605797907166470144   \n",
       "2  #ricobenes #breadedsteak #sandwich with #chees...  605797910555430912   \n",
       "3  Almost got in my feelings @DAREALQUILLY said t...  605797921720664065   \n",
       "4                   Matty😋😋😋 https://t.co/mYRdYeBkUC  605797933833814016   \n",
       "\n",
       "                       created_at  \n",
       "0  Tue Jun 02 18:07:29 +0000 2015  \n",
       "1  Tue Jun 02 18:07:30 +0000 2015  \n",
       "2  Tue Jun 02 18:07:31 +0000 2015  \n",
       "3  Tue Jun 02 18:07:34 +0000 2015  \n",
       "4  Tue Jun 02 18:07:37 +0000 2015  "
      ]
     },
     "execution_count": 56,
     "metadata": {},
     "output_type": "execute_result"
    }
   ],
   "source": [
    "more_tweets.head()"
   ]
  },
  {
   "cell_type": "code",
   "execution_count": 57,
   "metadata": {
    "collapsed": false
   },
   "outputs": [],
   "source": [
    "more_tweets['predict'] = predictions_alc[:,1]"
   ]
  },
  {
   "cell_type": "code",
   "execution_count": 58,
   "metadata": {
    "collapsed": false
   },
   "outputs": [
    {
     "data": {
      "text/html": [
       "<div>\n",
       "<table border=\"1\" class=\"dataframe\">\n",
       "  <thead>\n",
       "    <tr style=\"text-align: right;\">\n",
       "      <th></th>\n",
       "      <th>text</th>\n",
       "      <th>id</th>\n",
       "      <th>created_at</th>\n",
       "      <th>predict</th>\n",
       "    </tr>\n",
       "  </thead>\n",
       "  <tbody>\n",
       "    <tr>\n",
       "      <th>0</th>\n",
       "      <td>My #TeenChoice nominee for #ChoiceComedyTVShow...</td>\n",
       "      <td>605797899734126593</td>\n",
       "      <td>Tue Jun 02 18:07:29 +0000 2015</td>\n",
       "      <td>0.260429</td>\n",
       "    </tr>\n",
       "    <tr>\n",
       "      <th>1</th>\n",
       "      <td>Jammin to 93.5 kdaaaayy🌞</td>\n",
       "      <td>605797907166470144</td>\n",
       "      <td>Tue Jun 02 18:07:30 +0000 2015</td>\n",
       "      <td>0.013377</td>\n",
       "    </tr>\n",
       "    <tr>\n",
       "      <th>2</th>\n",
       "      <td>#ricobenes #breadedsteak #sandwich with #chees...</td>\n",
       "      <td>605797910555430912</td>\n",
       "      <td>Tue Jun 02 18:07:31 +0000 2015</td>\n",
       "      <td>0.107127</td>\n",
       "    </tr>\n",
       "    <tr>\n",
       "      <th>3</th>\n",
       "      <td>Almost got in my feelings @DAREALQUILLY said t...</td>\n",
       "      <td>605797921720664065</td>\n",
       "      <td>Tue Jun 02 18:07:34 +0000 2015</td>\n",
       "      <td>0.044063</td>\n",
       "    </tr>\n",
       "    <tr>\n",
       "      <th>4</th>\n",
       "      <td>Matty😋😋😋 https://t.co/mYRdYeBkUC</td>\n",
       "      <td>605797933833814016</td>\n",
       "      <td>Tue Jun 02 18:07:37 +0000 2015</td>\n",
       "      <td>0.615999</td>\n",
       "    </tr>\n",
       "  </tbody>\n",
       "</table>\n",
       "</div>"
      ],
      "text/plain": [
       "                                                text                  id  \\\n",
       "0  My #TeenChoice nominee for #ChoiceComedyTVShow...  605797899734126593   \n",
       "1                           Jammin to 93.5 kdaaaayy🌞  605797907166470144   \n",
       "2  #ricobenes #breadedsteak #sandwich with #chees...  605797910555430912   \n",
       "3  Almost got in my feelings @DAREALQUILLY said t...  605797921720664065   \n",
       "4                   Matty😋😋😋 https://t.co/mYRdYeBkUC  605797933833814016   \n",
       "\n",
       "                       created_at   predict  \n",
       "0  Tue Jun 02 18:07:29 +0000 2015  0.260429  \n",
       "1  Tue Jun 02 18:07:30 +0000 2015  0.013377  \n",
       "2  Tue Jun 02 18:07:31 +0000 2015  0.107127  \n",
       "3  Tue Jun 02 18:07:34 +0000 2015  0.044063  \n",
       "4  Tue Jun 02 18:07:37 +0000 2015  0.615999  "
      ]
     },
     "execution_count": 58,
     "metadata": {},
     "output_type": "execute_result"
    }
   ],
   "source": [
    "more_tweets.head()"
   ]
  },
  {
   "cell_type": "code",
   "execution_count": 59,
   "metadata": {
    "collapsed": true
   },
   "outputs": [],
   "source": [
    "likely = more_tweets[more_tweets.predict > 0.9]"
   ]
  },
  {
   "cell_type": "code",
   "execution_count": 60,
   "metadata": {
    "collapsed": false
   },
   "outputs": [
    {
     "data": {
      "text/html": [
       "<div>\n",
       "<table border=\"1\" class=\"dataframe\">\n",
       "  <thead>\n",
       "    <tr style=\"text-align: right;\">\n",
       "      <th></th>\n",
       "      <th>text</th>\n",
       "      <th>id</th>\n",
       "      <th>created_at</th>\n",
       "      <th>predict</th>\n",
       "    </tr>\n",
       "  </thead>\n",
       "  <tbody>\n",
       "    <tr>\n",
       "      <th>20511</th>\n",
       "      <td>The one night my parents are out of town all m...</td>\n",
       "      <td>605991864265641984</td>\n",
       "      <td>Wed Jun 03 06:58:13 +0000 2015</td>\n",
       "      <td>0.938948</td>\n",
       "    </tr>\n",
       "    <tr>\n",
       "      <th>11066</th>\n",
       "      <td>If I invite you to the spot, I invited you to ...</td>\n",
       "      <td>605912266450411520</td>\n",
       "      <td>Wed Jun 03 01:41:56 +0000 2015</td>\n",
       "      <td>0.950344</td>\n",
       "    </tr>\n",
       "    <tr>\n",
       "      <th>21312</th>\n",
       "      <td>18 days til my best beotch touchdown</td>\n",
       "      <td>606012214143680512</td>\n",
       "      <td>Wed Jun 03 08:19:05 +0000 2015</td>\n",
       "      <td>0.974227</td>\n",
       "    </tr>\n",
       "    <tr>\n",
       "      <th>44784</th>\n",
       "      <td>Hahah I forgot about what I was supposed to be...</td>\n",
       "      <td>606347604390211584</td>\n",
       "      <td>Thu Jun 04 06:31:48 +0000 2015</td>\n",
       "      <td>0.964362</td>\n",
       "    </tr>\n",
       "    <tr>\n",
       "      <th>41947</th>\n",
       "      <td>there are two drunk blackhawks fans on this tr...</td>\n",
       "      <td>606317264686583808</td>\n",
       "      <td>Thu Jun 04 04:31:15 +0000 2015</td>\n",
       "      <td>0.987225</td>\n",
       "    </tr>\n",
       "    <tr>\n",
       "      <th>42667</th>\n",
       "      <td>You were never worth my tears.</td>\n",
       "      <td>606322946966065152</td>\n",
       "      <td>Thu Jun 04 04:53:50 +0000 2015</td>\n",
       "      <td>0.918678</td>\n",
       "    </tr>\n",
       "    <tr>\n",
       "      <th>15331</th>\n",
       "      <td>@Michael5SOS I love you (: x</td>\n",
       "      <td>605941693523705856</td>\n",
       "      <td>Wed Jun 03 03:38:52 +0000 2015</td>\n",
       "      <td>0.950564</td>\n",
       "    </tr>\n",
       "    <tr>\n",
       "      <th>8391</th>\n",
       "      <td>That's lowkey diddy  https://t.co/baQCxjO916</td>\n",
       "      <td>605891274705534976</td>\n",
       "      <td>Wed Jun 03 00:18:31 +0000 2015</td>\n",
       "      <td>0.984566</td>\n",
       "    </tr>\n",
       "    <tr>\n",
       "      <th>2325</th>\n",
       "      <td>@FBallGameplan I agree. Had really good feet f...</td>\n",
       "      <td>605822976139755520</td>\n",
       "      <td>Tue Jun 02 19:47:07 +0000 2015</td>\n",
       "      <td>0.952283</td>\n",
       "    </tr>\n",
       "    <tr>\n",
       "      <th>37679</th>\n",
       "      <td>Allll I do is observe</td>\n",
       "      <td>606271132774236160</td>\n",
       "      <td>Thu Jun 04 01:27:56 +0000 2015</td>\n",
       "      <td>0.967371</td>\n",
       "    </tr>\n",
       "    <tr>\n",
       "      <th>14608</th>\n",
       "      <td>@thecitywanderer Don't worry about being perpe...</td>\n",
       "      <td>605936969839833088</td>\n",
       "      <td>Wed Jun 03 03:20:06 +0000 2015</td>\n",
       "      <td>0.952171</td>\n",
       "    </tr>\n",
       "    <tr>\n",
       "      <th>11386</th>\n",
       "      <td>Meetings will address flood recovery process: ...</td>\n",
       "      <td>605914164649816065</td>\n",
       "      <td>Wed Jun 03 01:49:28 +0000 2015</td>\n",
       "      <td>0.960037</td>\n",
       "    </tr>\n",
       "    <tr>\n",
       "      <th>47834</th>\n",
       "      <td>#OakBrook, IL #security : Asset Protection / L...</td>\n",
       "      <td>606444608571121664</td>\n",
       "      <td>Thu Jun 04 12:57:16 +0000 2015</td>\n",
       "      <td>0.989569</td>\n",
       "    </tr>\n",
       "    <tr>\n",
       "      <th>43496</th>\n",
       "      <td>Make a beef lol</td>\n",
       "      <td>606331945144811520</td>\n",
       "      <td>Thu Jun 04 05:29:35 +0000 2015</td>\n",
       "      <td>0.994812</td>\n",
       "    </tr>\n",
       "    <tr>\n",
       "      <th>18663</th>\n",
       "      <td>Fake ass trappers ! 😂😭😂😭😂😭😂</td>\n",
       "      <td>605968775481942017</td>\n",
       "      <td>Wed Jun 03 05:26:29 +0000 2015</td>\n",
       "      <td>0.989444</td>\n",
       "    </tr>\n",
       "    <tr>\n",
       "      <th>6423</th>\n",
       "      <td>@diazdiana00 yeah I was with cris and brandon</td>\n",
       "      <td>605873106314366977</td>\n",
       "      <td>Tue Jun 02 23:06:19 +0000 2015</td>\n",
       "      <td>0.955287</td>\n",
       "    </tr>\n",
       "    <tr>\n",
       "      <th>9940</th>\n",
       "      <td>Sometimes I just wanna be with someone. Anyone.</td>\n",
       "      <td>605904136815570945</td>\n",
       "      <td>Wed Jun 03 01:09:38 +0000 2015</td>\n",
       "      <td>0.902886</td>\n",
       "    </tr>\n",
       "    <tr>\n",
       "      <th>212</th>\n",
       "      <td>@JulieChen I'm 63. I have no problems w/Caitly...</td>\n",
       "      <td>605799998953918464</td>\n",
       "      <td>Tue Jun 02 18:15:49 +0000 2015</td>\n",
       "      <td>0.986428</td>\n",
       "    </tr>\n",
       "    <tr>\n",
       "      <th>23884</th>\n",
       "      <td>Only 17 More Days Man Only 17 More Days. Then ...</td>\n",
       "      <td>606099377493577728</td>\n",
       "      <td>Wed Jun 03 14:05:27 +0000 2015</td>\n",
       "      <td>0.928334</td>\n",
       "    </tr>\n",
       "    <tr>\n",
       "      <th>15460</th>\n",
       "      <td>Finna get a six pack before school ends</td>\n",
       "      <td>605942420325335040</td>\n",
       "      <td>Wed Jun 03 03:41:45 +0000 2015</td>\n",
       "      <td>0.978712</td>\n",
       "    </tr>\n",
       "  </tbody>\n",
       "</table>\n",
       "</div>"
      ],
      "text/plain": [
       "                                                    text                  id  \\\n",
       "20511  The one night my parents are out of town all m...  605991864265641984   \n",
       "11066  If I invite you to the spot, I invited you to ...  605912266450411520   \n",
       "21312               18 days til my best beotch touchdown  606012214143680512   \n",
       "44784  Hahah I forgot about what I was supposed to be...  606347604390211584   \n",
       "41947  there are two drunk blackhawks fans on this tr...  606317264686583808   \n",
       "42667                     You were never worth my tears.  606322946966065152   \n",
       "15331                       @Michael5SOS I love you (: x  605941693523705856   \n",
       "8391        That's lowkey diddy  https://t.co/baQCxjO916  605891274705534976   \n",
       "2325   @FBallGameplan I agree. Had really good feet f...  605822976139755520   \n",
       "37679                              Allll I do is observe  606271132774236160   \n",
       "14608  @thecitywanderer Don't worry about being perpe...  605936969839833088   \n",
       "11386  Meetings will address flood recovery process: ...  605914164649816065   \n",
       "47834  #OakBrook, IL #security : Asset Protection / L...  606444608571121664   \n",
       "43496                                    Make a beef lol  606331945144811520   \n",
       "18663                        Fake ass trappers ! 😂😭😂😭😂😭😂  605968775481942017   \n",
       "6423       @diazdiana00 yeah I was with cris and brandon  605873106314366977   \n",
       "9940     Sometimes I just wanna be with someone. Anyone.  605904136815570945   \n",
       "212    @JulieChen I'm 63. I have no problems w/Caitly...  605799998953918464   \n",
       "23884  Only 17 More Days Man Only 17 More Days. Then ...  606099377493577728   \n",
       "15460            Finna get a six pack before school ends  605942420325335040   \n",
       "\n",
       "                           created_at   predict  \n",
       "20511  Wed Jun 03 06:58:13 +0000 2015  0.938948  \n",
       "11066  Wed Jun 03 01:41:56 +0000 2015  0.950344  \n",
       "21312  Wed Jun 03 08:19:05 +0000 2015  0.974227  \n",
       "44784  Thu Jun 04 06:31:48 +0000 2015  0.964362  \n",
       "41947  Thu Jun 04 04:31:15 +0000 2015  0.987225  \n",
       "42667  Thu Jun 04 04:53:50 +0000 2015  0.918678  \n",
       "15331  Wed Jun 03 03:38:52 +0000 2015  0.950564  \n",
       "8391   Wed Jun 03 00:18:31 +0000 2015  0.984566  \n",
       "2325   Tue Jun 02 19:47:07 +0000 2015  0.952283  \n",
       "37679  Thu Jun 04 01:27:56 +0000 2015  0.967371  \n",
       "14608  Wed Jun 03 03:20:06 +0000 2015  0.952171  \n",
       "11386  Wed Jun 03 01:49:28 +0000 2015  0.960037  \n",
       "47834  Thu Jun 04 12:57:16 +0000 2015  0.989569  \n",
       "43496  Thu Jun 04 05:29:35 +0000 2015  0.994812  \n",
       "18663  Wed Jun 03 05:26:29 +0000 2015  0.989444  \n",
       "6423   Tue Jun 02 23:06:19 +0000 2015  0.955287  \n",
       "9940   Wed Jun 03 01:09:38 +0000 2015  0.902886  \n",
       "212    Tue Jun 02 18:15:49 +0000 2015  0.986428  \n",
       "23884  Wed Jun 03 14:05:27 +0000 2015  0.928334  \n",
       "15460  Wed Jun 03 03:41:45 +0000 2015  0.978712  "
      ]
     },
     "execution_count": 60,
     "metadata": {},
     "output_type": "execute_result"
    }
   ],
   "source": [
    "likely.sample(20)"
   ]
  },
  {
   "cell_type": "code",
   "execution_count": 61,
   "metadata": {
    "collapsed": false
   },
   "outputs": [
    {
     "data": {
      "text/plain": [
       "(4561, 4)"
      ]
     },
     "execution_count": 61,
     "metadata": {},
     "output_type": "execute_result"
    }
   ],
   "source": [
    "likely.shape"
   ]
  },
  {
   "cell_type": "code",
   "execution_count": 62,
   "metadata": {
    "collapsed": false
   },
   "outputs": [
    {
     "data": {
      "text/plain": [
       "<matplotlib.axes._subplots.AxesSubplot at 0xcf31cf8>"
      ]
     },
     "execution_count": 62,
     "metadata": {},
     "output_type": "execute_result"
    }
   ],
   "source": [
    "more_tweets.predict.sort_values().plot(use_index=False)"
   ]
  },
  {
   "cell_type": "code",
   "execution_count": 63,
   "metadata": {
    "collapsed": false
   },
   "outputs": [
    {
     "data": {
      "text/plain": [
       "0.98373447741906717"
      ]
     },
     "execution_count": 63,
     "metadata": {},
     "output_type": "execute_result"
    }
   ],
   "source": [
    "percentile_98=more_tweets.predict.sort_values().iloc[int(len(more_tweets)*0.98)]\n",
    "percentile_98"
   ]
  },
  {
   "cell_type": "code",
   "execution_count": 64,
   "metadata": {
    "collapsed": false
   },
   "outputs": [],
   "source": [
    "unsure = more_tweets[(0.4 < more_tweets.predict) & (more_tweets.predict < 0.6)]"
   ]
  },
  {
   "cell_type": "code",
   "execution_count": 65,
   "metadata": {
    "collapsed": false
   },
   "outputs": [
    {
     "data": {
      "text/plain": [
       "(5610, 4)"
      ]
     },
     "execution_count": 65,
     "metadata": {},
     "output_type": "execute_result"
    }
   ],
   "source": [
    "unsure.shape"
   ]
  },
  {
   "cell_type": "code",
   "execution_count": 66,
   "metadata": {
    "collapsed": false
   },
   "outputs": [
    {
     "data": {
      "text/html": [
       "<div>\n",
       "<table border=\"1\" class=\"dataframe\">\n",
       "  <thead>\n",
       "    <tr style=\"text-align: right;\">\n",
       "      <th></th>\n",
       "      <th>text</th>\n",
       "      <th>id</th>\n",
       "      <th>created_at</th>\n",
       "      <th>predict</th>\n",
       "    </tr>\n",
       "  </thead>\n",
       "  <tbody>\n",
       "    <tr>\n",
       "      <th>2828</th>\n",
       "      <td>I don't even know why me and certain. People a...</td>\n",
       "      <td>605828558217355266</td>\n",
       "      <td>Tue Jun 02 20:09:18 +0000 2015</td>\n",
       "      <td>0.443429</td>\n",
       "    </tr>\n",
       "    <tr>\n",
       "      <th>23839</th>\n",
       "      <td>@PatInKent He needs his manager, who played th...</td>\n",
       "      <td>606097844450295808</td>\n",
       "      <td>Wed Jun 03 13:59:21 +0000 2015</td>\n",
       "      <td>0.511344</td>\n",
       "    </tr>\n",
       "    <tr>\n",
       "      <th>5563</th>\n",
       "      <td>everyone pray franco makes it on snapchats sto...</td>\n",
       "      <td>605855799034773504</td>\n",
       "      <td>Tue Jun 02 21:57:33 +0000 2015</td>\n",
       "      <td>0.498186</td>\n",
       "    </tr>\n",
       "    <tr>\n",
       "      <th>31834</th>\n",
       "      <td>@LeahRemini @apangelo \\r\\nNON-CITIZEN BRITNEY ...</td>\n",
       "      <td>606197193616166912</td>\n",
       "      <td>Wed Jun 03 20:34:08 +0000 2015</td>\n",
       "      <td>0.420450</td>\n",
       "    </tr>\n",
       "    <tr>\n",
       "      <th>1046</th>\n",
       "      <td>Bailee or Brice? 😂👧👦 http://t.co/H4mdV0D7Ad</td>\n",
       "      <td>605808979952824320</td>\n",
       "      <td>Tue Jun 02 18:51:30 +0000 2015</td>\n",
       "      <td>0.550736</td>\n",
       "    </tr>\n",
       "    <tr>\n",
       "      <th>45800</th>\n",
       "      <td>Goldfish crackers are just Cheez-It's in a fis...</td>\n",
       "      <td>606365775041937411</td>\n",
       "      <td>Thu Jun 04 07:44:01 +0000 2015</td>\n",
       "      <td>0.554078</td>\n",
       "    </tr>\n",
       "    <tr>\n",
       "      <th>28359</th>\n",
       "      <td>@Tube8 I bet u tried that🍌🍒</td>\n",
       "      <td>606157559930732544</td>\n",
       "      <td>Wed Jun 03 17:56:38 +0000 2015</td>\n",
       "      <td>0.422552</td>\n",
       "    </tr>\n",
       "    <tr>\n",
       "      <th>37409</th>\n",
       "      <td>@airbagged @GrantWhitlock he cried when me and...</td>\n",
       "      <td>606265567390101504</td>\n",
       "      <td>Thu Jun 04 01:05:49 +0000 2015</td>\n",
       "      <td>0.508836</td>\n",
       "    </tr>\n",
       "    <tr>\n",
       "      <th>14966</th>\n",
       "      <td>Selling 3 Smite Beta Codes for $1 lmk</td>\n",
       "      <td>605939424606552064</td>\n",
       "      <td>Wed Jun 03 03:29:51 +0000 2015</td>\n",
       "      <td>0.433669</td>\n",
       "    </tr>\n",
       "    <tr>\n",
       "      <th>29419</th>\n",
       "      <td>@CMPunk A+ nerding going on here.</td>\n",
       "      <td>606170262640427009</td>\n",
       "      <td>Wed Jun 03 18:47:07 +0000 2015</td>\n",
       "      <td>0.597118</td>\n",
       "    </tr>\n",
       "  </tbody>\n",
       "</table>\n",
       "</div>"
      ],
      "text/plain": [
       "                                                    text                  id  \\\n",
       "2828   I don't even know why me and certain. People a...  605828558217355266   \n",
       "23839  @PatInKent He needs his manager, who played th...  606097844450295808   \n",
       "5563   everyone pray franco makes it on snapchats sto...  605855799034773504   \n",
       "31834  @LeahRemini @apangelo \\r\\nNON-CITIZEN BRITNEY ...  606197193616166912   \n",
       "1046         Bailee or Brice? 😂👧👦 http://t.co/H4mdV0D7Ad  605808979952824320   \n",
       "45800  Goldfish crackers are just Cheez-It's in a fis...  606365775041937411   \n",
       "28359                        @Tube8 I bet u tried that🍌🍒  606157559930732544   \n",
       "37409  @airbagged @GrantWhitlock he cried when me and...  606265567390101504   \n",
       "14966              Selling 3 Smite Beta Codes for $1 lmk  605939424606552064   \n",
       "29419                  @CMPunk A+ nerding going on here.  606170262640427009   \n",
       "\n",
       "                           created_at   predict  \n",
       "2828   Tue Jun 02 20:09:18 +0000 2015  0.443429  \n",
       "23839  Wed Jun 03 13:59:21 +0000 2015  0.511344  \n",
       "5563   Tue Jun 02 21:57:33 +0000 2015  0.498186  \n",
       "31834  Wed Jun 03 20:34:08 +0000 2015  0.420450  \n",
       "1046   Tue Jun 02 18:51:30 +0000 2015  0.550736  \n",
       "45800  Thu Jun 04 07:44:01 +0000 2015  0.554078  \n",
       "28359  Wed Jun 03 17:56:38 +0000 2015  0.422552  \n",
       "37409  Thu Jun 04 01:05:49 +0000 2015  0.508836  \n",
       "14966  Wed Jun 03 03:29:51 +0000 2015  0.433669  \n",
       "29419  Wed Jun 03 18:47:07 +0000 2015  0.597118  "
      ]
     },
     "execution_count": 66,
     "metadata": {},
     "output_type": "execute_result"
    }
   ],
   "source": [
    "unsure.sample(10)"
   ]
  },
  {
   "cell_type": "code",
   "execution_count": 67,
   "metadata": {
    "collapsed": false,
    "scrolled": true
   },
   "outputs": [
    {
     "data": {
      "text/html": [
       "<div>\n",
       "<table border=\"1\" class=\"dataframe\">\n",
       "  <thead>\n",
       "    <tr style=\"text-align: right;\">\n",
       "      <th></th>\n",
       "      <th>text</th>\n",
       "      <th>id</th>\n",
       "      <th>created_at</th>\n",
       "      <th>predict</th>\n",
       "    </tr>\n",
       "  </thead>\n",
       "  <tbody>\n",
       "    <tr>\n",
       "      <th>18824</th>\n",
       "      <td>Everything is always my fault</td>\n",
       "      <td>605970479329984512</td>\n",
       "      <td>Wed Jun 03 05:33:15 +0000 2015</td>\n",
       "      <td>0.984528</td>\n",
       "    </tr>\n",
       "    <tr>\n",
       "      <th>2921</th>\n",
       "      <td>Lets get caught in the moment</td>\n",
       "      <td>605829484822945792</td>\n",
       "      <td>Tue Jun 02 20:12:59 +0000 2015</td>\n",
       "      <td>0.936849</td>\n",
       "    </tr>\n",
       "    <tr>\n",
       "      <th>19974</th>\n",
       "      <td>Tekk got me fucked up</td>\n",
       "      <td>605983907457155072</td>\n",
       "      <td>Wed Jun 03 06:26:36 +0000 2015</td>\n",
       "      <td>0.935902</td>\n",
       "    </tr>\n",
       "    <tr>\n",
       "      <th>31275</th>\n",
       "      <td>Still stuck on the fact that this the weakest ...</td>\n",
       "      <td>606190846342340608</td>\n",
       "      <td>Wed Jun 03 20:08:54 +0000 2015</td>\n",
       "      <td>0.950978</td>\n",
       "    </tr>\n",
       "    <tr>\n",
       "      <th>32384</th>\n",
       "      <td>Argumentum ad populum</td>\n",
       "      <td>606202740457533442</td>\n",
       "      <td>Wed Jun 03 20:56:10 +0000 2015</td>\n",
       "      <td>0.896762</td>\n",
       "    </tr>\n",
       "    <tr>\n",
       "      <th>40665</th>\n",
       "      <td>It's just buckets. Finally. Chip #1. We earned...</td>\n",
       "      <td>606306710005948416</td>\n",
       "      <td>Thu Jun 04 03:49:18 +0000 2015</td>\n",
       "      <td>0.787775</td>\n",
       "    </tr>\n",
       "    <tr>\n",
       "      <th>38393</th>\n",
       "      <td>@laurynacquilano http://t.co/DoDNJKxrF0</td>\n",
       "      <td>606285639168991234</td>\n",
       "      <td>Thu Jun 04 02:25:35 +0000 2015</td>\n",
       "      <td>0.897092</td>\n",
       "    </tr>\n",
       "    <tr>\n",
       "      <th>13316</th>\n",
       "      <td>Fuck up some shit</td>\n",
       "      <td>605927992741593089</td>\n",
       "      <td>Wed Jun 03 02:44:25 +0000 2015</td>\n",
       "      <td>0.816293</td>\n",
       "    </tr>\n",
       "    <tr>\n",
       "      <th>13107</th>\n",
       "      <td>@Ohana_ilyich @kaaarlj @monbonnz ouch</td>\n",
       "      <td>605926545270513664</td>\n",
       "      <td>Wed Jun 03 02:38:40 +0000 2015</td>\n",
       "      <td>0.838487</td>\n",
       "    </tr>\n",
       "    <tr>\n",
       "      <th>12286</th>\n",
       "      <td>@D_Biedermann I call dibs</td>\n",
       "      <td>605920929873412098</td>\n",
       "      <td>Wed Jun 03 02:16:21 +0000 2015</td>\n",
       "      <td>0.959141</td>\n",
       "    </tr>\n",
       "  </tbody>\n",
       "</table>\n",
       "</div>"
      ],
      "text/plain": [
       "                                                    text                  id  \\\n",
       "18824                      Everything is always my fault  605970479329984512   \n",
       "2921                       Lets get caught in the moment  605829484822945792   \n",
       "19974                              Tekk got me fucked up  605983907457155072   \n",
       "31275  Still stuck on the fact that this the weakest ...  606190846342340608   \n",
       "32384                              Argumentum ad populum  606202740457533442   \n",
       "40665  It's just buckets. Finally. Chip #1. We earned...  606306710005948416   \n",
       "38393            @laurynacquilano http://t.co/DoDNJKxrF0  606285639168991234   \n",
       "13316                                  Fuck up some shit  605927992741593089   \n",
       "13107              @Ohana_ilyich @kaaarlj @monbonnz ouch  605926545270513664   \n",
       "12286                          @D_Biedermann I call dibs  605920929873412098   \n",
       "\n",
       "                           created_at   predict  \n",
       "18824  Wed Jun 03 05:33:15 +0000 2015  0.984528  \n",
       "2921   Tue Jun 02 20:12:59 +0000 2015  0.936849  \n",
       "19974  Wed Jun 03 06:26:36 +0000 2015  0.935902  \n",
       "31275  Wed Jun 03 20:08:54 +0000 2015  0.950978  \n",
       "32384  Wed Jun 03 20:56:10 +0000 2015  0.896762  \n",
       "40665  Thu Jun 04 03:49:18 +0000 2015  0.787775  \n",
       "38393  Thu Jun 04 02:25:35 +0000 2015  0.897092  \n",
       "13316  Wed Jun 03 02:44:25 +0000 2015  0.816293  \n",
       "13107  Wed Jun 03 02:38:40 +0000 2015  0.838487  \n",
       "12286  Wed Jun 03 02:16:21 +0000 2015  0.959141  "
      ]
     },
     "execution_count": 67,
     "metadata": {},
     "output_type": "execute_result"
    }
   ],
   "source": [
    "more_tweets[more_tweets.predict > 0.75].sample(10)"
   ]
  },
  {
   "cell_type": "code",
   "execution_count": 166,
   "metadata": {
    "collapsed": false
   },
   "outputs": [
    {
     "data": {
      "text/plain": [
       "FeatureUnion(n_jobs=1,\n",
       "       transformer_list=[('text', Pipeline(steps=[('getter', ItemGetter(key='text')), ('tfidf', TfidfVectorizer(analyzer='char', binary=False, decode_error='strict',\n",
       "        dtype=<class 'numpy.int64'>, encoding='utf-8', input='content',\n",
       "        lowercase=True, max_df=1.0, max_features=71233, min_df=1,\n",
       "   ...      token_pattern='(?u)\\\\b\\\\w\\\\w+\\\\b', tokenizer=None, use_idf=True,\n",
       "        vocabulary=None))]))],\n",
       "       transformer_weights=None)"
      ]
     },
     "execution_count": 166,
     "metadata": {},
     "output_type": "execute_result"
    }
   ],
   "source": [
    "clf_alc.steps[0][1]"
   ]
  },
  {
   "cell_type": "code",
   "execution_count": 68,
   "metadata": {
    "collapsed": false
   },
   "outputs": [
    {
     "name": "stdout",
     "output_type": "stream",
     "text": [
      "(999, 4)\n"
     ]
    },
    {
     "data": {
      "text/html": [
       "<div>\n",
       "<table border=\"1\" class=\"dataframe\">\n",
       "  <thead>\n",
       "    <tr style=\"text-align: right;\">\n",
       "      <th></th>\n",
       "      <th>text</th>\n",
       "      <th>id</th>\n",
       "      <th>created_at</th>\n",
       "      <th>predict</th>\n",
       "    </tr>\n",
       "  </thead>\n",
       "  <tbody>\n",
       "    <tr>\n",
       "      <th>42615</th>\n",
       "      <td>@_faster_than_ya Solomon is a beast WR and saf...</td>\n",
       "      <td>606322516055851009</td>\n",
       "      <td>Thu Jun 04 04:52:07 +0000 2015</td>\n",
       "      <td>0.999439</td>\n",
       "    </tr>\n",
       "    <tr>\n",
       "      <th>5436</th>\n",
       "      <td>@World Now isn't that down home and earthly   ...</td>\n",
       "      <td>605854340050382848</td>\n",
       "      <td>Tue Jun 02 21:51:45 +0000 2015</td>\n",
       "      <td>0.991970</td>\n",
       "    </tr>\n",
       "    <tr>\n",
       "      <th>41166</th>\n",
       "      <td>Dont get lost!</td>\n",
       "      <td>606311497975742464</td>\n",
       "      <td>Thu Jun 04 04:08:20 +0000 2015</td>\n",
       "      <td>0.987025</td>\n",
       "    </tr>\n",
       "    <tr>\n",
       "      <th>23001</th>\n",
       "      <td>@ShariseNeil ur baby daddy is a dick. I feel s...</td>\n",
       "      <td>606081597234806784</td>\n",
       "      <td>Wed Jun 03 12:54:47 +0000 2015</td>\n",
       "      <td>0.995002</td>\n",
       "    </tr>\n",
       "    <tr>\n",
       "      <th>27182</th>\n",
       "      <td>Im irritated af &amp;amp; been ready to smack some...</td>\n",
       "      <td>606144682305945601</td>\n",
       "      <td>Wed Jun 03 17:05:28 +0000 2015</td>\n",
       "      <td>0.996291</td>\n",
       "    </tr>\n",
       "    <tr>\n",
       "      <th>43395</th>\n",
       "      <td>Also, nothing, just nothing beats a student te...</td>\n",
       "      <td>606330963371524096</td>\n",
       "      <td>Thu Jun 04 05:25:41 +0000 2015</td>\n",
       "      <td>0.995876</td>\n",
       "    </tr>\n",
       "    <tr>\n",
       "      <th>38495</th>\n",
       "      <td>watching all my videos from Statesboro makes m...</td>\n",
       "      <td>606286343157739520</td>\n",
       "      <td>Thu Jun 04 02:28:23 +0000 2015</td>\n",
       "      <td>0.983821</td>\n",
       "    </tr>\n",
       "    <tr>\n",
       "      <th>6524</th>\n",
       "      <td>@lanceaperkins I would just like to let you kn...</td>\n",
       "      <td>605874174507114496</td>\n",
       "      <td>Tue Jun 02 23:10:34 +0000 2015</td>\n",
       "      <td>0.988851</td>\n",
       "    </tr>\n",
       "    <tr>\n",
       "      <th>37790</th>\n",
       "      <td>Oh my god, the beer tonight.....</td>\n",
       "      <td>606273369382785024</td>\n",
       "      <td>Thu Jun 04 01:36:49 +0000 2015</td>\n",
       "      <td>0.999985</td>\n",
       "    </tr>\n",
       "    <tr>\n",
       "      <th>49014</th>\n",
       "      <td>Stupid hoe</td>\n",
       "      <td>606465977761415168</td>\n",
       "      <td>Thu Jun 04 14:22:11 +0000 2015</td>\n",
       "      <td>0.997220</td>\n",
       "    </tr>\n",
       "    <tr>\n",
       "      <th>4078</th>\n",
       "      <td>If you a music person I fuckx with you</td>\n",
       "      <td>605840779555147777</td>\n",
       "      <td>Tue Jun 02 20:57:52 +0000 2015</td>\n",
       "      <td>0.985372</td>\n",
       "    </tr>\n",
       "    <tr>\n",
       "      <th>30311</th>\n",
       "      <td>That IHOP lunch special tho... 👌🏾😋 #EggsBaconG...</td>\n",
       "      <td>606179959141462016</td>\n",
       "      <td>Wed Jun 03 19:25:39 +0000 2015</td>\n",
       "      <td>0.991875</td>\n",
       "    </tr>\n",
       "    <tr>\n",
       "      <th>43782</th>\n",
       "      <td>@VersaceHtine NAW lol</td>\n",
       "      <td>606334642577248256</td>\n",
       "      <td>Thu Jun 04 05:40:18 +0000 2015</td>\n",
       "      <td>0.999545</td>\n",
       "    </tr>\n",
       "    <tr>\n",
       "      <th>14573</th>\n",
       "      <td>Ima come home tipsy craft gone be happy lol</td>\n",
       "      <td>605936748997148672</td>\n",
       "      <td>Wed Jun 03 03:19:13 +0000 2015</td>\n",
       "      <td>0.995726</td>\n",
       "    </tr>\n",
       "    <tr>\n",
       "      <th>44026</th>\n",
       "      <td>My ruby wrist glist when I wood wheel twist</td>\n",
       "      <td>606337201530671104</td>\n",
       "      <td>Thu Jun 04 05:50:28 +0000 2015</td>\n",
       "      <td>0.987320</td>\n",
       "    </tr>\n",
       "    <tr>\n",
       "      <th>13644</th>\n",
       "      <td>@katnissamanda I've maybe had 8 total tweets a...</td>\n",
       "      <td>605930055538049024</td>\n",
       "      <td>Wed Jun 03 02:52:37 +0000 2015</td>\n",
       "      <td>0.992417</td>\n",
       "    </tr>\n",
       "    <tr>\n",
       "      <th>34264</th>\n",
       "      <td>Awwready  https://t.co/rdaHhk3Tuy</td>\n",
       "      <td>606224933530632192</td>\n",
       "      <td>Wed Jun 03 22:24:21 +0000 2015</td>\n",
       "      <td>0.998293</td>\n",
       "    </tr>\n",
       "    <tr>\n",
       "      <th>17708</th>\n",
       "      <td>still have to finish packing do my nails and g...</td>\n",
       "      <td>605959367918166016</td>\n",
       "      <td>Wed Jun 03 04:49:06 +0000 2015</td>\n",
       "      <td>0.989552</td>\n",
       "    </tr>\n",
       "    <tr>\n",
       "      <th>14274</th>\n",
       "      <td>For you there is never a story to long to tell...</td>\n",
       "      <td>605934720384237570</td>\n",
       "      <td>Wed Jun 03 03:11:09 +0000 2015</td>\n",
       "      <td>0.989697</td>\n",
       "    </tr>\n",
       "    <tr>\n",
       "      <th>2487</th>\n",
       "      <td>i just want my phone is that too much to ask f...</td>\n",
       "      <td>605824767988371457</td>\n",
       "      <td>Tue Jun 02 19:54:15 +0000 2015</td>\n",
       "      <td>0.988690</td>\n",
       "    </tr>\n",
       "  </tbody>\n",
       "</table>\n",
       "</div>"
      ],
      "text/plain": [
       "                                                    text                  id  \\\n",
       "42615  @_faster_than_ya Solomon is a beast WR and saf...  606322516055851009   \n",
       "5436   @World Now isn't that down home and earthly   ...  605854340050382848   \n",
       "41166                                     Dont get lost!  606311497975742464   \n",
       "23001  @ShariseNeil ur baby daddy is a dick. I feel s...  606081597234806784   \n",
       "27182  Im irritated af &amp; been ready to smack some...  606144682305945601   \n",
       "43395  Also, nothing, just nothing beats a student te...  606330963371524096   \n",
       "38495  watching all my videos from Statesboro makes m...  606286343157739520   \n",
       "6524   @lanceaperkins I would just like to let you kn...  605874174507114496   \n",
       "37790                   Oh my god, the beer tonight.....  606273369382785024   \n",
       "49014                                         Stupid hoe  606465977761415168   \n",
       "4078              If you a music person I fuckx with you  605840779555147777   \n",
       "30311  That IHOP lunch special tho... 👌🏾😋 #EggsBaconG...  606179959141462016   \n",
       "43782                              @VersaceHtine NAW lol  606334642577248256   \n",
       "14573        Ima come home tipsy craft gone be happy lol  605936748997148672   \n",
       "44026        My ruby wrist glist when I wood wheel twist  606337201530671104   \n",
       "13644  @katnissamanda I've maybe had 8 total tweets a...  605930055538049024   \n",
       "34264                  Awwready  https://t.co/rdaHhk3Tuy  606224933530632192   \n",
       "17708  still have to finish packing do my nails and g...  605959367918166016   \n",
       "14274  For you there is never a story to long to tell...  605934720384237570   \n",
       "2487   i just want my phone is that too much to ask f...  605824767988371457   \n",
       "\n",
       "                           created_at   predict  \n",
       "42615  Thu Jun 04 04:52:07 +0000 2015  0.999439  \n",
       "5436   Tue Jun 02 21:51:45 +0000 2015  0.991970  \n",
       "41166  Thu Jun 04 04:08:20 +0000 2015  0.987025  \n",
       "23001  Wed Jun 03 12:54:47 +0000 2015  0.995002  \n",
       "27182  Wed Jun 03 17:05:28 +0000 2015  0.996291  \n",
       "43395  Thu Jun 04 05:25:41 +0000 2015  0.995876  \n",
       "38495  Thu Jun 04 02:28:23 +0000 2015  0.983821  \n",
       "6524   Tue Jun 02 23:10:34 +0000 2015  0.988851  \n",
       "37790  Thu Jun 04 01:36:49 +0000 2015  0.999985  \n",
       "49014  Thu Jun 04 14:22:11 +0000 2015  0.997220  \n",
       "4078   Tue Jun 02 20:57:52 +0000 2015  0.985372  \n",
       "30311  Wed Jun 03 19:25:39 +0000 2015  0.991875  \n",
       "43782  Thu Jun 04 05:40:18 +0000 2015  0.999545  \n",
       "14573  Wed Jun 03 03:19:13 +0000 2015  0.995726  \n",
       "44026  Thu Jun 04 05:50:28 +0000 2015  0.987320  \n",
       "13644  Wed Jun 03 02:52:37 +0000 2015  0.992417  \n",
       "34264  Wed Jun 03 22:24:21 +0000 2015  0.998293  \n",
       "17708  Wed Jun 03 04:49:06 +0000 2015  0.989552  \n",
       "14274  Wed Jun 03 03:11:09 +0000 2015  0.989697  \n",
       "2487   Tue Jun 02 19:54:15 +0000 2015  0.988690  "
      ]
     },
     "execution_count": 68,
     "metadata": {},
     "output_type": "execute_result"
    }
   ],
   "source": [
    "very_likely = more_tweets[more_tweets.predict> percentile_98]\n",
    "print(very_likely.shape)\n",
    "very_likely.sample(20)"
   ]
  },
  {
   "cell_type": "code",
   "execution_count": null,
   "metadata": {
    "collapsed": true
   },
   "outputs": [],
   "source": []
  }
 ],
 "metadata": {
  "kernelspec": {
   "display_name": "Python 3",
   "language": "python",
   "name": "python3"
  },
  "language_info": {
   "codemirror_mode": {
    "name": "ipython",
    "version": 3
   },
   "file_extension": ".py",
   "mimetype": "text/x-python",
   "name": "python",
   "nbconvert_exporter": "python",
   "pygments_lexer": "ipython3",
   "version": "3.5.1"
  }
 },
 "nbformat": 4,
 "nbformat_minor": 0
}
