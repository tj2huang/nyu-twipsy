{
 "cells": [
  {
   "cell_type": "markdown",
   "metadata": {},
   "source": [
    "We have 4000 double labeled tweets so need to figure out what to do with them."
   ]
  },
  {
   "cell_type": "markdown",
   "metadata": {},
   "source": [
    "# Preprocessing"
   ]
  },
  {
   "cell_type": "code",
   "execution_count": 1,
   "metadata": {
    "collapsed": true
   },
   "outputs": [],
   "source": [
    "import pickle\n",
    "\n",
    "import datetime\n",
    "import pandas as pd\n",
    "\n",
    "from data.dao import DataAccess, LabelGetter\n",
    "from data.turk import TurkResults2Label"
   ]
  },
  {
   "cell_type": "code",
   "execution_count": 4,
   "metadata": {
    "collapsed": false
   },
   "outputs": [],
   "source": [
    "results1 = pd.DataFrame.from_csv(\"C:/Users/Tom Work/Downloads/Batch_2417713_batch_results.csv\")"
   ]
  },
  {
   "cell_type": "code",
   "execution_count": 5,
   "metadata": {
    "collapsed": true
   },
   "outputs": [],
   "source": [
    "results2 = pd.DataFrame.from_csv(\"C:/Users/Tom Work/Downloads/Batch_2419972_batch_results.csv\")"
   ]
  },
  {
   "cell_type": "code",
   "execution_count": 6,
   "metadata": {
    "collapsed": false
   },
   "outputs": [],
   "source": [
    "results = pd.concat([results1, results2])\n",
    "# results.index = results._id"
   ]
  },
  {
   "cell_type": "code",
   "execution_count": 9,
   "metadata": {
    "collapsed": false
   },
   "outputs": [],
   "source": [
    "results.index = results._id\n",
    "labels = results.Answer.apply(TurkResults2Label.parse_to_labels)"
   ]
  },
  {
   "cell_type": "code",
   "execution_count": 10,
   "metadata": {
    "collapsed": false
   },
   "outputs": [
    {
     "data": {
      "text/plain": [
       "(4000,)"
      ]
     },
     "execution_count": 10,
     "metadata": {},
     "output_type": "execute_result"
    }
   ],
   "source": [
    "labels.shape"
   ]
  },
  {
   "cell_type": "code",
   "execution_count": 11,
   "metadata": {
    "collapsed": false
   },
   "outputs": [],
   "source": [
    "X = DataAccess.get_as_dataframe()\n",
    "L = LabelGetter(X)\n",
    "X_fpl, y = L.get_first_person_label()"
   ]
  },
  {
   "cell_type": "code",
   "execution_count": 12,
   "metadata": {
    "collapsed": false
   },
   "outputs": [
    {
     "name": "stderr",
     "output_type": "stream",
     "text": [
      "C:\\Users\\Tom Work\\Anaconda3\\lib\\site-packages\\ipykernel\\__main__.py:1: SettingWithCopyWarning: \n",
      "A value is trying to be set on a copy of a slice from a DataFrame.\n",
      "Try using .loc[row_indexer,col_indexer] = value instead\n",
      "\n",
      "See the caveats in the documentation: http://pandas.pydata.org/pandas-docs/stable/indexing.html#indexing-view-versus-copy\n",
      "  if __name__ == '__main__':\n"
     ]
    }
   ],
   "source": [
    "X_fpl['new_labels'] = labels"
   ]
  },
  {
   "cell_type": "code",
   "execution_count": 13,
   "metadata": {
    "collapsed": false
   },
   "outputs": [],
   "source": [
    "double_labeled = X_fpl.dropna(subset = ['new_labels'])"
   ]
  },
  {
   "cell_type": "code",
   "execution_count": 14,
   "metadata": {
    "collapsed": false,
    "scrolled": true
   },
   "outputs": [
    {
     "data": {
      "text/html": [
       "<div>\n",
       "<table border=\"1\" class=\"dataframe\">\n",
       "  <thead>\n",
       "    <tr style=\"text-align: right;\">\n",
       "      <th></th>\n",
       "      <th>created_at</th>\n",
       "      <th>labels</th>\n",
       "      <th>predict</th>\n",
       "      <th>text</th>\n",
       "      <th>user</th>\n",
       "      <th>user.created_at</th>\n",
       "      <th>user.favourites_count</th>\n",
       "      <th>user.followers_count</th>\n",
       "      <th>user.friends_count</th>\n",
       "      <th>user.statuses_count</th>\n",
       "      <th>user.verified</th>\n",
       "      <th>new_labels</th>\n",
       "    </tr>\n",
       "    <tr>\n",
       "      <th>_id</th>\n",
       "      <th></th>\n",
       "      <th></th>\n",
       "      <th></th>\n",
       "      <th></th>\n",
       "      <th></th>\n",
       "      <th></th>\n",
       "      <th></th>\n",
       "      <th></th>\n",
       "      <th></th>\n",
       "      <th></th>\n",
       "      <th></th>\n",
       "      <th></th>\n",
       "    </tr>\n",
       "  </thead>\n",
       "  <tbody>\n",
       "    <tr>\n",
       "      <th>558a3ad2d6dfbb30843a2d6e</th>\n",
       "      <td>Wed Jun 24 05:06:28 +0000 2015</td>\n",
       "      <td>{'first_person_level': 0, 'first_person': 1, '...</td>\n",
       "      <td>NaN</td>\n",
       "      <td>@_Hermit_Thrush_ I was willing but Texas is st...</td>\n",
       "      <td>{'created_at': 'Wed Apr 29 02:14:42 +0000 2009...</td>\n",
       "      <td>Wed Apr 29 02:14:42 +0000 2009</td>\n",
       "      <td>7971</td>\n",
       "      <td>799</td>\n",
       "      <td>740</td>\n",
       "      <td>24445</td>\n",
       "      <td>False</td>\n",
       "      <td>{'first_person_level': 1, 'first_person': 1, '...</td>\n",
       "    </tr>\n",
       "    <tr>\n",
       "      <th>557cb8dbd6dfbb08c6901b3f</th>\n",
       "      <td>Sat Jun 13 23:13:08 +0000 2015</td>\n",
       "      <td>{'first_person_level': 0, 'first_person': 1, '...</td>\n",
       "      <td>0.569419</td>\n",
       "      <td>Damn damn damn. Good! - Drinking a Citra High ...</td>\n",
       "      <td>{'verified': False, 'followers_count': 153, 'f...</td>\n",
       "      <td>Thu Apr 09 21:51:55 +0000 2009</td>\n",
       "      <td>25</td>\n",
       "      <td>153</td>\n",
       "      <td>213</td>\n",
       "      <td>6075</td>\n",
       "      <td>False</td>\n",
       "      <td>{'first_person_level': 0, 'first_person': 1, '...</td>\n",
       "    </tr>\n",
       "    <tr>\n",
       "      <th>558b7817d6dfbb05d90274dd</th>\n",
       "      <td>Thu Jun 25 03:40:09 +0000 2015</td>\n",
       "      <td>{'first_person_level': 0, 'first_person': 1, '...</td>\n",
       "      <td>NaN</td>\n",
       "      <td>I took a nap, I watched TV, I played video gam...</td>\n",
       "      <td>{'created_at': 'Thu Jun 28 21:58:05 +0000 2012...</td>\n",
       "      <td>Thu Jun 28 21:58:05 +0000 2012</td>\n",
       "      <td>13294</td>\n",
       "      <td>423</td>\n",
       "      <td>306</td>\n",
       "      <td>19969</td>\n",
       "      <td>False</td>\n",
       "      <td>{'first_person_level': 1, 'first_person': 1, '...</td>\n",
       "    </tr>\n",
       "    <tr>\n",
       "      <th>558ef764d6dfbb3d0e4be955</th>\n",
       "      <td>Sat Jun 27 19:19:49 +0000 2015</td>\n",
       "      <td>{'first_person_level': 0, 'first_person': 1, '...</td>\n",
       "      <td>NaN</td>\n",
       "      <td>Drinking a Reindeer Tears (2015 Black Wax) by ...</td>\n",
       "      <td>{'created_at': 'Mon Oct 21 03:02:41 +0000 2013...</td>\n",
       "      <td>Mon Oct 21 03:02:41 +0000 2013</td>\n",
       "      <td>48</td>\n",
       "      <td>59</td>\n",
       "      <td>514</td>\n",
       "      <td>1340</td>\n",
       "      <td>False</td>\n",
       "      <td>{'first_person_level': 1, 'first_person': 1, '...</td>\n",
       "    </tr>\n",
       "    <tr>\n",
       "      <th>556f6d09d6dfbb5906298eb7</th>\n",
       "      <td>Wed Jun 03 21:10:06 +0000 2015</td>\n",
       "      <td>{'first_person_level': 0, 'first_person': 1, '...</td>\n",
       "      <td>0.884827</td>\n",
       "      <td>it's 5pm and i'm already drunk ☺️</td>\n",
       "      <td>{'verified': False, 'followers_count': 167, 's...</td>\n",
       "      <td>Sat Jan 02 04:05:18 +0000 2010</td>\n",
       "      <td>1428</td>\n",
       "      <td>167</td>\n",
       "      <td>146</td>\n",
       "      <td>4395</td>\n",
       "      <td>False</td>\n",
       "      <td>{'first_person_level': 0, 'first_person': 1, '...</td>\n",
       "    </tr>\n",
       "  </tbody>\n",
       "</table>\n",
       "</div>"
      ],
      "text/plain": [
       "                                              created_at  \\\n",
       "_id                                                        \n",
       "558a3ad2d6dfbb30843a2d6e  Wed Jun 24 05:06:28 +0000 2015   \n",
       "557cb8dbd6dfbb08c6901b3f  Sat Jun 13 23:13:08 +0000 2015   \n",
       "558b7817d6dfbb05d90274dd  Thu Jun 25 03:40:09 +0000 2015   \n",
       "558ef764d6dfbb3d0e4be955  Sat Jun 27 19:19:49 +0000 2015   \n",
       "556f6d09d6dfbb5906298eb7  Wed Jun 03 21:10:06 +0000 2015   \n",
       "\n",
       "                                                                     labels  \\\n",
       "_id                                                                           \n",
       "558a3ad2d6dfbb30843a2d6e  {'first_person_level': 0, 'first_person': 1, '...   \n",
       "557cb8dbd6dfbb08c6901b3f  {'first_person_level': 0, 'first_person': 1, '...   \n",
       "558b7817d6dfbb05d90274dd  {'first_person_level': 0, 'first_person': 1, '...   \n",
       "558ef764d6dfbb3d0e4be955  {'first_person_level': 0, 'first_person': 1, '...   \n",
       "556f6d09d6dfbb5906298eb7  {'first_person_level': 0, 'first_person': 1, '...   \n",
       "\n",
       "                           predict  \\\n",
       "_id                                  \n",
       "558a3ad2d6dfbb30843a2d6e       NaN   \n",
       "557cb8dbd6dfbb08c6901b3f  0.569419   \n",
       "558b7817d6dfbb05d90274dd       NaN   \n",
       "558ef764d6dfbb3d0e4be955       NaN   \n",
       "556f6d09d6dfbb5906298eb7  0.884827   \n",
       "\n",
       "                                                                       text  \\\n",
       "_id                                                                           \n",
       "558a3ad2d6dfbb30843a2d6e  @_Hermit_Thrush_ I was willing but Texas is st...   \n",
       "557cb8dbd6dfbb08c6901b3f  Damn damn damn. Good! - Drinking a Citra High ...   \n",
       "558b7817d6dfbb05d90274dd  I took a nap, I watched TV, I played video gam...   \n",
       "558ef764d6dfbb3d0e4be955  Drinking a Reindeer Tears (2015 Black Wax) by ...   \n",
       "556f6d09d6dfbb5906298eb7                  it's 5pm and i'm already drunk ☺️   \n",
       "\n",
       "                                                                       user  \\\n",
       "_id                                                                           \n",
       "558a3ad2d6dfbb30843a2d6e  {'created_at': 'Wed Apr 29 02:14:42 +0000 2009...   \n",
       "557cb8dbd6dfbb08c6901b3f  {'verified': False, 'followers_count': 153, 'f...   \n",
       "558b7817d6dfbb05d90274dd  {'created_at': 'Thu Jun 28 21:58:05 +0000 2012...   \n",
       "558ef764d6dfbb3d0e4be955  {'created_at': 'Mon Oct 21 03:02:41 +0000 2013...   \n",
       "556f6d09d6dfbb5906298eb7  {'verified': False, 'followers_count': 167, 's...   \n",
       "\n",
       "                                         user.created_at  \\\n",
       "_id                                                        \n",
       "558a3ad2d6dfbb30843a2d6e  Wed Apr 29 02:14:42 +0000 2009   \n",
       "557cb8dbd6dfbb08c6901b3f  Thu Apr 09 21:51:55 +0000 2009   \n",
       "558b7817d6dfbb05d90274dd  Thu Jun 28 21:58:05 +0000 2012   \n",
       "558ef764d6dfbb3d0e4be955  Mon Oct 21 03:02:41 +0000 2013   \n",
       "556f6d09d6dfbb5906298eb7  Sat Jan 02 04:05:18 +0000 2010   \n",
       "\n",
       "                          user.favourites_count  user.followers_count  \\\n",
       "_id                                                                     \n",
       "558a3ad2d6dfbb30843a2d6e                   7971                   799   \n",
       "557cb8dbd6dfbb08c6901b3f                     25                   153   \n",
       "558b7817d6dfbb05d90274dd                  13294                   423   \n",
       "558ef764d6dfbb3d0e4be955                     48                    59   \n",
       "556f6d09d6dfbb5906298eb7                   1428                   167   \n",
       "\n",
       "                          user.friends_count  user.statuses_count  \\\n",
       "_id                                                                 \n",
       "558a3ad2d6dfbb30843a2d6e                 740                24445   \n",
       "557cb8dbd6dfbb08c6901b3f                 213                 6075   \n",
       "558b7817d6dfbb05d90274dd                 306                19969   \n",
       "558ef764d6dfbb3d0e4be955                 514                 1340   \n",
       "556f6d09d6dfbb5906298eb7                 146                 4395   \n",
       "\n",
       "                         user.verified  \\\n",
       "_id                                      \n",
       "558a3ad2d6dfbb30843a2d6e         False   \n",
       "557cb8dbd6dfbb08c6901b3f         False   \n",
       "558b7817d6dfbb05d90274dd         False   \n",
       "558ef764d6dfbb3d0e4be955         False   \n",
       "556f6d09d6dfbb5906298eb7         False   \n",
       "\n",
       "                                                                 new_labels  \n",
       "_id                                                                          \n",
       "558a3ad2d6dfbb30843a2d6e  {'first_person_level': 1, 'first_person': 1, '...  \n",
       "557cb8dbd6dfbb08c6901b3f  {'first_person_level': 0, 'first_person': 1, '...  \n",
       "558b7817d6dfbb05d90274dd  {'first_person_level': 1, 'first_person': 1, '...  \n",
       "558ef764d6dfbb3d0e4be955  {'first_person_level': 1, 'first_person': 1, '...  \n",
       "556f6d09d6dfbb5906298eb7  {'first_person_level': 0, 'first_person': 1, '...  "
      ]
     },
     "execution_count": 14,
     "metadata": {},
     "output_type": "execute_result"
    }
   ],
   "source": [
    "double_labeled.sample(5)"
   ]
  },
  {
   "cell_type": "code",
   "execution_count": 18,
   "metadata": {
    "collapsed": false
   },
   "outputs": [],
   "source": [
    "L = LabelGetter(double_labeled)\n",
    "x_old, fpl_old = L.get_first_person_label()\n",
    "x_new, fpl_new = L._get_labels('first_person_level', column_name='new_labels')"
   ]
  },
  {
   "cell_type": "code",
   "execution_count": 19,
   "metadata": {
    "collapsed": false
   },
   "outputs": [],
   "source": [
    "df = pd.DataFrame()\n",
    "df['old'] = fpl_old\n",
    "df['new'] = fpl_new\n",
    "df = df.dropna()"
   ]
  },
  {
   "cell_type": "code",
   "execution_count": 20,
   "metadata": {
    "collapsed": false
   },
   "outputs": [
    {
     "data": {
      "text/plain": [
       "(2907, 2)"
      ]
     },
     "execution_count": 20,
     "metadata": {},
     "output_type": "execute_result"
    }
   ],
   "source": [
    "df.shape"
   ]
  },
  {
   "cell_type": "code",
   "execution_count": 21,
   "metadata": {
    "collapsed": false
   },
   "outputs": [],
   "source": [
    "agreed = double_labeled.ix[df[df['old'] == df['new']].index]"
   ]
  },
  {
   "cell_type": "code",
   "execution_count": 22,
   "metadata": {
    "collapsed": false
   },
   "outputs": [
    {
     "data": {
      "text/html": [
       "<div>\n",
       "<table border=\"1\" class=\"dataframe\">\n",
       "  <thead>\n",
       "    <tr style=\"text-align: right;\">\n",
       "      <th></th>\n",
       "      <th>text</th>\n",
       "      <th>labels</th>\n",
       "    </tr>\n",
       "    <tr>\n",
       "      <th>_id</th>\n",
       "      <th></th>\n",
       "      <th></th>\n",
       "    </tr>\n",
       "  </thead>\n",
       "  <tbody>\n",
       "    <tr>\n",
       "      <th>55790a7dd6dfbb48f1a246d5</th>\n",
       "      <td>Drinking an Ace Pineapple Cider by @AceCider a...</td>\n",
       "      <td>{'first_person_level': 0, 'first_person': 1, '...</td>\n",
       "    </tr>\n",
       "    <tr>\n",
       "      <th>558de885d6dfbb1d49554b1c</th>\n",
       "      <td>Ended the afternoon with a trip to the Black S...</td>\n",
       "      <td>{'first_person_level': 0, 'first_person': 1, '...</td>\n",
       "    </tr>\n",
       "    <tr>\n",
       "      <th>5590eb17d6dfbb739baa2961</th>\n",
       "      <td>Had a beer with a friend and I'm actually buzz...</td>\n",
       "      <td>{'first_person_level': 0, 'first_person': 1, '...</td>\n",
       "    </tr>\n",
       "    <tr>\n",
       "      <th>5585b9b4d6dfbb4e108b016a</th>\n",
       "      <td>drunk &amp;amp; 2 pm</td>\n",
       "      <td>{'first_person_level': 0, 'first_person': 1, '...</td>\n",
       "    </tr>\n",
       "    <tr>\n",
       "      <th>556cef1dd6dfbb27c8868977</th>\n",
       "      <td>Drinking an Emerald Circle by @TowYardBrewing ...</td>\n",
       "      <td>{'first_person_level': 0, 'first_person': 1, '...</td>\n",
       "    </tr>\n",
       "  </tbody>\n",
       "</table>\n",
       "</div>"
      ],
      "text/plain": [
       "                                                                       text  \\\n",
       "_id                                                                           \n",
       "55790a7dd6dfbb48f1a246d5  Drinking an Ace Pineapple Cider by @AceCider a...   \n",
       "558de885d6dfbb1d49554b1c  Ended the afternoon with a trip to the Black S...   \n",
       "5590eb17d6dfbb739baa2961  Had a beer with a friend and I'm actually buzz...   \n",
       "5585b9b4d6dfbb4e108b016a                                   drunk &amp; 2 pm   \n",
       "556cef1dd6dfbb27c8868977  Drinking an Emerald Circle by @TowYardBrewing ...   \n",
       "\n",
       "                                                                     labels  \n",
       "_id                                                                          \n",
       "55790a7dd6dfbb48f1a246d5  {'first_person_level': 0, 'first_person': 1, '...  \n",
       "558de885d6dfbb1d49554b1c  {'first_person_level': 0, 'first_person': 1, '...  \n",
       "5590eb17d6dfbb739baa2961  {'first_person_level': 0, 'first_person': 1, '...  \n",
       "5585b9b4d6dfbb4e108b016a  {'first_person_level': 0, 'first_person': 1, '...  \n",
       "556cef1dd6dfbb27c8868977  {'first_person_level': 0, 'first_person': 1, '...  "
      ]
     },
     "execution_count": 22,
     "metadata": {},
     "output_type": "execute_result"
    }
   ],
   "source": [
    "agreed[['text', 'labels']].sample(5)"
   ]
  },
  {
   "cell_type": "code",
   "execution_count": 23,
   "metadata": {
    "collapsed": true
   },
   "outputs": [],
   "source": [
    "pickle.dump(agreed, open('amt/double_labeled.p', 'wb'))"
   ]
  },
  {
   "cell_type": "markdown",
   "metadata": {},
   "source": [
    "# Cohen Kappa Score"
   ]
  },
  {
   "cell_type": "code",
   "execution_count": 17,
   "metadata": {
    "collapsed": false
   },
   "outputs": [],
   "source": [
    "from sklearn.metrics import cohen_kappa_score"
   ]
  },
  {
   "cell_type": "code",
   "execution_count": 18,
   "metadata": {
    "collapsed": false
   },
   "outputs": [
    {
     "data": {
      "text/plain": [
       "0.44000363291793887"
      ]
     },
     "execution_count": 18,
     "metadata": {},
     "output_type": "execute_result"
    }
   ],
   "source": [
    "cohen_kappa_score(df.old, df.new)"
   ]
  },
  {
   "cell_type": "markdown",
   "metadata": {},
   "source": [
    "This is an ok score."
   ]
  },
  {
   "cell_type": "markdown",
   "metadata": {},
   "source": [
    "# FPL Classifier Performance"
   ]
  },
  {
   "cell_type": "markdown",
   "metadata": {},
   "source": [
    "Lets compare performance of various classifiers using old and new data."
   ]
  },
  {
   "cell_type": "code",
   "execution_count": 39,
   "metadata": {
    "collapsed": true
   },
   "outputs": [],
   "source": [
    "from sklearn.cross_validation import train_test_split\n",
    "from classification.reporting import ClassificationReporting"
   ]
  },
  {
   "cell_type": "markdown",
   "metadata": {},
   "source": [
    "# Log Reg on first set of labels only"
   ]
  },
  {
   "cell_type": "markdown",
   "metadata": {},
   "source": [
    "We train on all 4000 tweets using the labels from the first round of workers."
   ]
  },
  {
   "cell_type": "code",
   "execution_count": 2,
   "metadata": {
    "collapsed": true
   },
   "outputs": [],
   "source": [
    "clf_fpl = pickle.load(open('pickles/clf_fpl_UPDATED.p', 'rb'))"
   ]
  },
  {
   "cell_type": "code",
   "execution_count": 83,
   "metadata": {
    "collapsed": true
   },
   "outputs": [],
   "source": [
    "L = LabelGetter(double_labeled)\n",
    "X, y = L.get_first_person_label()\n",
    "# X, y = L._get_labels('first_person_level', column_name='new_labels')"
   ]
  },
  {
   "cell_type": "code",
   "execution_count": 84,
   "metadata": {
    "collapsed": false
   },
   "outputs": [
    {
     "data": {
      "text/plain": [
       "(4000, 12)"
      ]
     },
     "execution_count": 84,
     "metadata": {},
     "output_type": "execute_result"
    }
   ],
   "source": [
    "X.shape"
   ]
  },
  {
   "cell_type": "code",
   "execution_count": 85,
   "metadata": {
    "collapsed": false
   },
   "outputs": [
    {
     "data": {
      "text/plain": [
       "Pipeline(steps=[('features', FeatureUnion(n_jobs=1,\n",
       "       transformer_list=[('text', Pipeline(steps=[('getter', ItemGetter(key='text')), ('tfidf', TfidfVectorizer(analyzer='word', binary=False, decode_error='strict',\n",
       "        dtype=<class 'numpy.int64'>, encoding='utf-8', input='content',\n",
       "        lowercase=F...one,\n",
       "          solver='liblinear', tol=0.000449897709599141, verbose=0,\n",
       "          warm_start=None))])"
      ]
     },
     "execution_count": 85,
     "metadata": {},
     "output_type": "execute_result"
    }
   ],
   "source": [
    "X_train, X_test, y_train, y_test = train_test_split(X, y, test_size=0.33, random_state=26)\n",
    "clf_fpl.fit(X_train, y_train)"
   ]
  },
  {
   "cell_type": "code",
   "execution_count": 86,
   "metadata": {
    "collapsed": false
   },
   "outputs": [
    {
     "name": "stdout",
     "output_type": "stream",
     "text": [
      "Training Results\n",
      "~~~~~~~~~~~~~~~~\n",
      "accuracy_score\n",
      "1.0\n",
      "\n",
      "\n",
      "classification_report\n",
      "             precision    recall  f1-score   support\n",
      "\n",
      "          0       1.00      1.00      1.00      1391\n",
      "          1       1.00      1.00      1.00       694\n",
      "          2       1.00      1.00      1.00       595\n",
      "\n",
      "avg / total       1.00      1.00      1.00      2680\n",
      "\n",
      "\n",
      "\n",
      "f1_score\n",
      "1.0\n",
      "\n",
      "\n",
      "confusion_matrix\n",
      "[[1391, 0, 0], [0, 694, 0], [0, 0, 595]]\n",
      "\n",
      "\n",
      "\n",
      "\n",
      "Testing Results Results\n",
      "~~~~~~~~~~~~~~~~~~~~~~~\n",
      "accuracy_score\n",
      "0.6113636363636363\n",
      "\n",
      "\n",
      "classification_report\n",
      "             precision    recall  f1-score   support\n",
      "\n",
      "          0       0.67      0.70      0.69       659\n",
      "          1       0.57      0.58      0.58       365\n",
      "          2       0.51      0.45      0.47       296\n",
      "\n",
      "avg / total       0.61      0.61      0.61      1320\n",
      "\n",
      "\n",
      "\n",
      "f1_score\n",
      "0.6088338406205277\n",
      "\n",
      "\n",
      "confusion_matrix\n",
      "[[462, 110, 87], [110, 213, 42], [115, 49, 132]]\n",
      "\n",
      "\n",
      "\n",
      "\n"
     ]
    }
   ],
   "source": [
    "reporting = ClassificationReporting(clf_fpl, X_train, X_test, y_train, y_test, 3)\n",
    "report = reporting.set_name(\"Test Classifier\").set_level('fpl').create_report(1)"
   ]
  },
  {
   "cell_type": "markdown",
   "metadata": {},
   "source": [
    "# Log Reg on second set of labels only"
   ]
  },
  {
   "cell_type": "code",
   "execution_count": 25,
   "metadata": {
    "collapsed": true
   },
   "outputs": [],
   "source": [
    "L = LabelGetter(double_labeled)\n",
    "X, y = L._get_labels('first_person_level', column_name='new_labels')"
   ]
  },
  {
   "cell_type": "code",
   "execution_count": 26,
   "metadata": {
    "collapsed": false
   },
   "outputs": [
    {
     "data": {
      "text/plain": [
       "Pipeline(steps=[('features', FeatureUnion(n_jobs=1,\n",
       "       transformer_list=[('text', Pipeline(steps=[('getter', ItemGetter(key='text')), ('tfidf', TfidfVectorizer(analyzer='word', binary=False, decode_error='strict',\n",
       "        dtype=<class 'numpy.int64'>, encoding='utf-8', input='content',\n",
       "        lowercase=F...one,\n",
       "          solver='liblinear', tol=0.000449897709599141, verbose=0,\n",
       "          warm_start=None))])"
      ]
     },
     "execution_count": 26,
     "metadata": {},
     "output_type": "execute_result"
    }
   ],
   "source": [
    "X_train, X_test, y_train, y_test = train_test_split(X, y, test_size=0.33, random_state=26)\n",
    "clf_fpl.fit(X_train, y_train)"
   ]
  },
  {
   "cell_type": "code",
   "execution_count": 27,
   "metadata": {
    "collapsed": false
   },
   "outputs": [
    {
     "name": "stdout",
     "output_type": "stream",
     "text": [
      "Training Results\n",
      "~~~~~~~~~~~~~~~~\n",
      "accuracy_score\n",
      "0.9994863893168978\n",
      "\n",
      "\n",
      "classification_report\n",
      "             precision    recall  f1-score   support\n",
      "\n",
      "          0       1.00      1.00      1.00       987\n",
      "          1       1.00      1.00      1.00       585\n",
      "          2       1.00      1.00      1.00       375\n",
      "\n",
      "avg / total       1.00      1.00      1.00      1947\n",
      "\n",
      "\n",
      "\n",
      "confusion_matrix\n",
      "[[987, 0, 0], [1, 584, 0], [0, 0, 375]]\n",
      "\n",
      "\n",
      "f1_score\n",
      "0.9994862996654137\n",
      "\n",
      "\n",
      "\n",
      "\n",
      "Testing Results Results\n",
      "~~~~~~~~~~~~~~~~~~~~~~~\n",
      "accuracy_score\n",
      "0.6489583333333333\n",
      "\n",
      "\n",
      "classification_report\n",
      "             precision    recall  f1-score   support\n",
      "\n",
      "          0       0.73      0.71      0.72       504\n",
      "          1       0.59      0.64      0.61       269\n",
      "          2       0.52      0.51      0.51       187\n",
      "\n",
      "avg / total       0.65      0.65      0.65       960\n",
      "\n",
      "\n",
      "\n",
      "confusion_matrix\n",
      "[[357, 83, 64], [73, 171, 25], [58, 34, 95]]\n",
      "\n",
      "\n",
      "f1_score\n",
      "0.6496804421613535\n",
      "\n",
      "\n",
      "\n",
      "\n"
     ]
    }
   ],
   "source": [
    "reporting = ClassificationReporting(clf_fpl, X_train, X_test, y_train, y_test, 3)\n",
    "report = reporting.set_name(\"Test Classifier\").set_level('fpl').create_report(1)"
   ]
  },
  {
   "cell_type": "markdown",
   "metadata": {},
   "source": [
    "# Log Reg on double labeled"
   ]
  },
  {
   "cell_type": "markdown",
   "metadata": {},
   "source": [
    "We take the subset of the above data where the 2 sets of workers agreed and use that to train/test."
   ]
  },
  {
   "cell_type": "code",
   "execution_count": 87,
   "metadata": {
    "collapsed": true
   },
   "outputs": [],
   "source": [
    "clf_fpl = pickle.load(open('pickles/clf_fpl_UPDATED.p', 'rb'))"
   ]
  },
  {
   "cell_type": "code",
   "execution_count": 36,
   "metadata": {
    "collapsed": false
   },
   "outputs": [
    {
     "data": {
      "text/plain": [
       "(1908, 12)"
      ]
     },
     "execution_count": 36,
     "metadata": {},
     "output_type": "execute_result"
    }
   ],
   "source": [
    "agreed.shape"
   ]
  },
  {
   "cell_type": "code",
   "execution_count": 88,
   "metadata": {
    "collapsed": true
   },
   "outputs": [],
   "source": [
    "L = LabelGetter(agreed)\n",
    "X, y = L.get_first_person_label()"
   ]
  },
  {
   "cell_type": "code",
   "execution_count": 89,
   "metadata": {
    "collapsed": false
   },
   "outputs": [
    {
     "data": {
      "text/plain": [
       "Pipeline(steps=[('features', FeatureUnion(n_jobs=1,\n",
       "       transformer_list=[('text', Pipeline(steps=[('getter', ItemGetter(key='text')), ('tfidf', TfidfVectorizer(analyzer='word', binary=False, decode_error='strict',\n",
       "        dtype=<class 'numpy.int64'>, encoding='utf-8', input='content',\n",
       "        lowercase=F...one,\n",
       "          solver='liblinear', tol=0.000449897709599141, verbose=0,\n",
       "          warm_start=None))])"
      ]
     },
     "execution_count": 89,
     "metadata": {},
     "output_type": "execute_result"
    }
   ],
   "source": [
    "X_train, X_test, y_train, y_test = train_test_split(X, y, test_size=0.33, random_state=26)\n",
    "clf_fpl.fit(X_train, y_train)"
   ]
  },
  {
   "cell_type": "code",
   "execution_count": 90,
   "metadata": {
    "collapsed": false
   },
   "outputs": [
    {
     "name": "stdout",
     "output_type": "stream",
     "text": [
      "Training Results\n",
      "~~~~~~~~~~~~~~~~\n",
      "accuracy_score\n",
      "1.0\n",
      "\n",
      "\n",
      "classification_report\n",
      "             precision    recall  f1-score   support\n",
      "\n",
      "          0       1.00      1.00      1.00       714\n",
      "          1       1.00      1.00      1.00       351\n",
      "          2       1.00      1.00      1.00       213\n",
      "\n",
      "avg / total       1.00      1.00      1.00      1278\n",
      "\n",
      "\n",
      "\n",
      "f1_score\n",
      "1.0\n",
      "\n",
      "\n",
      "confusion_matrix\n",
      "[[714, 0, 0], [0, 351, 0], [0, 0, 213]]\n",
      "\n",
      "\n",
      "\n",
      "\n",
      "Testing Results Results\n",
      "~~~~~~~~~~~~~~~~~~~~~~~\n",
      "accuracy_score\n",
      "0.7666666666666667\n",
      "\n",
      "\n",
      "classification_report\n",
      "             precision    recall  f1-score   support\n",
      "\n",
      "          0       0.82      0.83      0.83       367\n",
      "          1       0.73      0.76      0.75       174\n",
      "          2       0.59      0.51      0.55        89\n",
      "\n",
      "avg / total       0.76      0.77      0.76       630\n",
      "\n",
      "\n",
      "\n",
      "f1_score\n",
      "0.7643482489489184\n",
      "\n",
      "\n",
      "confusion_matrix\n",
      "[[305, 37, 25], [35, 133, 6], [31, 13, 45]]\n",
      "\n",
      "\n",
      "\n",
      "\n"
     ]
    }
   ],
   "source": [
    "reporting = ClassificationReporting(clf_fpl, X_train, X_test, y_train, y_test, 3)\n",
    "report = reporting.set_name(\"Test Classifier\").set_level('fpl').create_report(1)"
   ]
  },
  {
   "cell_type": "markdown",
   "metadata": {},
   "source": [
    "Seems like an improvement! However, we should keep in mind that the train and test sets are where two AMT workers agreed, and hence might leave out the more ambiguous cases."
   ]
  },
  {
   "cell_type": "code",
   "execution_count": 64,
   "metadata": {
    "collapsed": true
   },
   "outputs": [],
   "source": [
    "pickle.dump(clf_fpl, open('pickles/clf_fpl_double_labeled', 'wb'))"
   ]
  },
  {
   "cell_type": "markdown",
   "metadata": {},
   "source": [
    "# SVM"
   ]
  },
  {
   "cell_type": "code",
   "execution_count": 29,
   "metadata": {
    "collapsed": true
   },
   "outputs": [],
   "source": [
    "from __private import fs\n",
    "from classification import dao"
   ]
  },
  {
   "cell_type": "code",
   "execution_count": 30,
   "metadata": {
    "collapsed": false
   },
   "outputs": [
    {
     "name": "stdout",
     "output_type": "stream",
     "text": [
      "alcohol|accuracy:0.8143360752056404|f1:0.8192219679633866|type:LogisticRegression\n",
      "alcohol|accuracy:0.8401880141010576|f1:0.8498896247240618|type:SVC\n",
      "alcohol|accuracy:0.8425381903642774|f1:0.8562231759656651|type:RandomForestClassifier\n",
      "first_person_label|accuracy:0.5637860082304527|f1:0.5574430033343769|type:SVC\n",
      "first_person_label|accuracy:0.5637860082304527|f1:0.5643693591852614|type:LogisticRegression\n",
      "first_person|accuracy:0.6951871657754011|f1:0.8034482758620688|type:RandomForestClassifier\n",
      "first_person|accuracy:0.7005347593582888|f1:0.7751004016064257|type:LogisticRegression\n",
      "first_person|accuracy:0.7032085561497327|f1:0.8062827225130889|type:RandomForestClassifier\n",
      "first_person|accuracy:0.7112299465240641|f1:0.8021978021978021|type:SVC\n"
     ]
    }
   ],
   "source": [
    "for _ in fs.list(): print(_)"
   ]
  },
  {
   "cell_type": "code",
   "execution_count": 31,
   "metadata": {
    "collapsed": false
   },
   "outputs": [],
   "source": [
    "clf_fpl_svc = dao.ClassifierAccess.get_byfile('first_person_label|accuracy:0.5637860082304527|f1:0.5574430033343769|type:SVC')"
   ]
  },
  {
   "cell_type": "code",
   "execution_count": 32,
   "metadata": {
    "collapsed": false
   },
   "outputs": [
    {
     "data": {
      "text/plain": [
       "[('text',\n",
       "  Pipeline(steps=[('getter', ItemGetter(key='text')), ('tfidf', TfidfVectorizer(analyzer='word', binary=False, decode_error='strict',\n",
       "          dtype=<class 'numpy.int64'>, encoding='utf-8', input='content',\n",
       "          lowercase=True, max_df=1.0, max_features=71312, min_df=2,\n",
       "          ngram_range=(1, 3), norm='l2', ...       tokenizer=<function tokenize at 0x0000000009A1F268>, use_idf=True,\n",
       "          vocabulary=None))])),\n",
       " ('topic',\n",
       "  Pipeline(steps=[('getter', ItemGetter(key='text')), ('topics', Gensim())]))]"
      ]
     },
     "execution_count": 32,
     "metadata": {},
     "output_type": "execute_result"
    }
   ],
   "source": [
    "clf_fpl_svc.steps[0][1].transformer_list"
   ]
  },
  {
   "cell_type": "markdown",
   "metadata": {},
   "source": [
    "Remove LDA..."
   ]
  },
  {
   "cell_type": "code",
   "execution_count": 33,
   "metadata": {
    "collapsed": false
   },
   "outputs": [],
   "source": [
    "del clf_fpl_svc.steps[0][1].transformer_list[-1]"
   ]
  },
  {
   "cell_type": "markdown",
   "metadata": {},
   "source": [
    "# SVM on first set of labels only"
   ]
  },
  {
   "cell_type": "code",
   "execution_count": 34,
   "metadata": {
    "collapsed": false
   },
   "outputs": [
    {
     "name": "stdout",
     "output_type": "stream",
     "text": [
      "Training Results\n",
      "~~~~~~~~~~~~~~~~\n",
      "accuracy_score\n",
      "0.675\n",
      "\n",
      "\n",
      "classification_report\n",
      "             precision    recall  f1-score   support\n",
      "\n",
      "          0       0.62      0.99      0.77      1391\n",
      "          1       0.91      0.49      0.63       694\n",
      "          2       0.94      0.16      0.27       595\n",
      "\n",
      "avg / total       0.77      0.68      0.62      2680\n",
      "\n",
      "\n",
      "\n",
      "confusion_matrix\n",
      "[[1377, 11, 3], [354, 337, 3], [478, 22, 95]]\n",
      "\n",
      "\n",
      "f1_score\n",
      "0.6217027842057538\n",
      "\n",
      "\n",
      "\n",
      "\n",
      "Testing Results Results\n",
      "~~~~~~~~~~~~~~~~~~~~~~~\n",
      "accuracy_score\n",
      "0.5742424242424242\n",
      "\n",
      "\n",
      "classification_report\n",
      "             precision    recall  f1-score   support\n",
      "\n",
      "          0       0.55      0.94      0.70       659\n",
      "          1       0.71      0.33      0.46       365\n",
      "          2       0.58      0.06      0.12       296\n",
      "\n",
      "avg / total       0.60      0.57      0.50      1320\n",
      "\n",
      "\n",
      "\n",
      "confusion_matrix\n",
      "[[617, 33, 9], [238, 122, 5], [261, 16, 19]]\n",
      "\n",
      "\n",
      "f1_score\n",
      "0.498855599710642\n",
      "\n",
      "\n",
      "\n",
      "\n"
     ]
    }
   ],
   "source": [
    "L = LabelGetter(double_labeled)\n",
    "X, y = L.get_first_person_label()\n",
    "X_train, X_test, y_train, y_test = train_test_split(X, y, test_size=0.33, random_state=26)\n",
    "clf_fpl_svc.fit(X_train, y_train)\n",
    "reporting = ClassificationReporting(clf_fpl_svc, X_train, X_test, y_train, y_test, 3)\n",
    "report = reporting.set_name(\"Test Classifier\").set_level('fpl').create_report(1)"
   ]
  },
  {
   "cell_type": "markdown",
   "metadata": {},
   "source": [
    "# SVM on second set of labels only"
   ]
  },
  {
   "cell_type": "code",
   "execution_count": 35,
   "metadata": {
    "collapsed": false
   },
   "outputs": [
    {
     "name": "stdout",
     "output_type": "stream",
     "text": [
      "Training Results\n",
      "~~~~~~~~~~~~~~~~\n",
      "accuracy_score\n",
      "0.7447354904982023\n",
      "\n",
      "\n",
      "classification_report\n",
      "             precision    recall  f1-score   support\n",
      "\n",
      "          0       0.69      0.97      0.81       987\n",
      "          1       0.85      0.65      0.74       585\n",
      "          2       0.91      0.31      0.47       375\n",
      "\n",
      "avg / total       0.78      0.74      0.72      1947\n",
      "\n",
      "\n",
      "\n",
      "confusion_matrix\n",
      "[[954, 28, 5], [201, 378, 6], [220, 37, 118]]\n",
      "\n",
      "\n",
      "f1_score\n",
      "0.7206461141420974\n",
      "\n",
      "\n",
      "\n",
      "\n",
      "Testing Results Results\n",
      "~~~~~~~~~~~~~~~~~~~~~~~\n",
      "accuracy_score\n",
      "0.6666666666666666\n",
      "\n",
      "\n",
      "classification_report\n",
      "             precision    recall  f1-score   support\n",
      "\n",
      "          0       0.65      0.90      0.76       504\n",
      "          1       0.70      0.52      0.60       269\n",
      "          2       0.72      0.24      0.35       187\n",
      "\n",
      "avg / total       0.68      0.67      0.63       960\n",
      "\n",
      "\n",
      "\n",
      "confusion_matrix\n",
      "[[455, 35, 14], [125, 141, 3], [119, 24, 44]]\n",
      "\n",
      "\n",
      "f1_score\n",
      "0.634735268711718\n",
      "\n",
      "\n",
      "\n",
      "\n"
     ]
    }
   ],
   "source": [
    "L = LabelGetter(double_labeled)\n",
    "X, y = L._get_labels('first_person_level', column_name='new_labels')\n",
    "X_train, X_test, y_train, y_test = train_test_split(X, y, test_size=0.33, random_state=26)\n",
    "clf_fpl_svc.fit(X_train, y_train)\n",
    "reporting = ClassificationReporting(clf_fpl_svc, X_train, X_test, y_train, y_test, 3)\n",
    "report = reporting.set_name(\"Test Classifier\").set_level('fpl').create_report(1)"
   ]
  },
  {
   "cell_type": "markdown",
   "metadata": {},
   "source": [
    "# SVM on double labeled"
   ]
  },
  {
   "cell_type": "code",
   "execution_count": 95,
   "metadata": {
    "collapsed": false
   },
   "outputs": [
    {
     "name": "stdout",
     "output_type": "stream",
     "text": [
      "Training Results\n",
      "~~~~~~~~~~~~~~~~\n",
      "accuracy_score\n",
      "0.9092331768388107\n",
      "\n",
      "\n",
      "classification_report\n",
      "             precision    recall  f1-score   support\n",
      "\n",
      "          0       0.89      0.98      0.93       714\n",
      "          1       0.94      0.88      0.91       351\n",
      "          2       0.96      0.71      0.81       213\n",
      "\n",
      "avg / total       0.91      0.91      0.91      1278\n",
      "\n",
      "\n",
      "\n",
      "f1_score\n",
      "0.9065334430591325\n",
      "\n",
      "\n",
      "confusion_matrix\n",
      "[[701, 9, 4], [38, 310, 3], [52, 10, 151]]\n",
      "\n",
      "\n",
      "\n",
      "\n",
      "Testing Results Results\n",
      "~~~~~~~~~~~~~~~~~~~~~~~\n",
      "accuracy_score\n",
      "0.7698412698412699\n",
      "\n",
      "\n",
      "classification_report\n",
      "             precision    recall  f1-score   support\n",
      "\n",
      "          0       0.77      0.93      0.84       367\n",
      "          1       0.81      0.62      0.70       174\n",
      "          2       0.69      0.42      0.52        89\n",
      "\n",
      "avg / total       0.77      0.77      0.76       630\n",
      "\n",
      "\n",
      "\n",
      "f1_score\n",
      "0.7564732734234484\n",
      "\n",
      "\n",
      "confusion_matrix\n",
      "[[340, 16, 11], [60, 108, 6], [43, 9, 37]]\n",
      "\n",
      "\n",
      "\n",
      "\n"
     ]
    }
   ],
   "source": [
    "L = LabelGetter(agreed)\n",
    "X, y = L.get_first_person_label()\n",
    "X_train, X_test, y_train, y_test = train_test_split(X, y, test_size=0.33, random_state=26)\n",
    "clf_fpl_svc.fit(X_train, y_train)\n",
    "reporting = ClassificationReporting(clf_fpl_svc, X_train, X_test, y_train, y_test, 3)\n",
    "report = reporting.set_name(\"Test Classifier\").set_level('fpl').create_report(1)"
   ]
  },
  {
   "cell_type": "markdown",
   "metadata": {},
   "source": [
    "We use the labels where they disagree as training and the agreed labels as testing to see if the double labeled are just easier to predict correctly (less ambiguous)"
   ]
  },
  {
   "cell_type": "code",
   "execution_count": 24,
   "metadata": {
    "collapsed": false
   },
   "outputs": [],
   "source": [
    "agreed = pickle.load(open('amt/double_labeled.p', 'rb'))"
   ]
  },
  {
   "cell_type": "code",
   "execution_count": 30,
   "metadata": {
    "collapsed": false
   },
   "outputs": [],
   "source": [
    "disagreed = double_labeled[~double_labeled.index.isin(agreed.index)]"
   ]
  },
  {
   "cell_type": "code",
   "execution_count": 31,
   "metadata": {
    "collapsed": false,
    "scrolled": true
   },
   "outputs": [
    {
     "data": {
      "text/plain": [
       "(2092, 12)"
      ]
     },
     "execution_count": 31,
     "metadata": {},
     "output_type": "execute_result"
    }
   ],
   "source": [
    "disagreed.shape"
   ]
  },
  {
   "cell_type": "code",
   "execution_count": 32,
   "metadata": {
    "collapsed": true
   },
   "outputs": [],
   "source": [
    "L = LabelGetter(double_labeled)\n",
    "X, y = L.get_first_person_label()"
   ]
  },
  {
   "cell_type": "code",
   "execution_count": 36,
   "metadata": {
    "collapsed": true
   },
   "outputs": [],
   "source": [
    "y_agreed = y[agreed.index]\n",
    "y_disagreed = y[disagreed.index]"
   ]
  },
  {
   "cell_type": "code",
   "execution_count": 37,
   "metadata": {
    "collapsed": false
   },
   "outputs": [],
   "source": [
    "X_train, X_test, y_train, y_test = disagreed, agreed, y_disagreed, y_agreed"
   ]
  },
  {
   "cell_type": "code",
   "execution_count": 40,
   "metadata": {
    "collapsed": false
   },
   "outputs": [
    {
     "name": "stdout",
     "output_type": "stream",
     "text": [
      "Training Results\n",
      "~~~~~~~~~~~~~~~~\n",
      "confusion_matrix\n",
      "[[969, 0, 0], [0, 534, 0], [1, 0, 588]]\n",
      "\n",
      "\n",
      "classification_report\n",
      "             precision    recall  f1-score   support\n",
      "\n",
      "          0       1.00      1.00      1.00       969\n",
      "          1       1.00      1.00      1.00       534\n",
      "          2       1.00      1.00      1.00       589\n",
      "\n",
      "avg / total       1.00      1.00      1.00      2092\n",
      "\n",
      "\n",
      "\n",
      "f1_score\n",
      "0.999521908726598\n",
      "\n",
      "\n",
      "accuracy_score\n",
      "0.9995219885277247\n",
      "\n",
      "\n",
      "\n",
      "\n",
      "Testing Results Results\n",
      "~~~~~~~~~~~~~~~~~~~~~~~\n",
      "confusion_matrix\n",
      "[[791, 103, 187], [154, 303, 68], [109, 32, 161]]\n",
      "\n",
      "\n",
      "classification_report\n",
      "             precision    recall  f1-score   support\n",
      "\n",
      "          0       0.75      0.73      0.74      1081\n",
      "          1       0.69      0.58      0.63       525\n",
      "          2       0.39      0.53      0.45       302\n",
      "\n",
      "avg / total       0.68      0.66      0.66      1908\n",
      "\n",
      "\n",
      "\n",
      "f1_score\n",
      "0.66394886602176\n",
      "\n",
      "\n",
      "accuracy_score\n",
      "0.6577568134171907\n",
      "\n",
      "\n",
      "\n",
      "\n"
     ]
    }
   ],
   "source": [
    "clf_fpl.fit(X_train, y_train)\n",
    "reporting = ClassificationReporting(clf_fpl, X_train, X_test, y_train, y_test, 3)\n",
    "report = reporting.set_name(\"Test Classifier\").set_level('fpl').create_report(1)"
   ]
  },
  {
   "cell_type": "code",
   "execution_count": null,
   "metadata": {
    "collapsed": true
   },
   "outputs": [],
   "source": []
  }
 ],
 "metadata": {
  "kernelspec": {
   "display_name": "Python 3",
   "language": "python",
   "name": "python3"
  },
  "language_info": {
   "codemirror_mode": {
    "name": "ipython",
    "version": 3
   },
   "file_extension": ".py",
   "mimetype": "text/x-python",
   "name": "python",
   "nbconvert_exporter": "python",
   "pygments_lexer": "ipython3",
   "version": "3.5.1"
  }
 },
 "nbformat": 4,
 "nbformat_minor": 0
}
